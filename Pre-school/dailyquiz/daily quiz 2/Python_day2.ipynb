{
 "cells": [
  {
   "cell_type": "markdown",
   "metadata": {
    "colab_type": "text",
    "id": "7127RDu8yCs8"
   },
   "source": [
    "- 주피터 노트북 설치\n",
    "- 파이썬 기본 문법"
   ]
  },
  {
   "cell_type": "markdown",
   "metadata": {
    "colab_type": "text",
    "id": "z0KV-_bHyCtI"
   },
   "source": [
    "### 퀴즈"
   ]
  },
  {
   "cell_type": "markdown",
   "metadata": {
    "colab_type": "text",
    "id": "NJJqisdjyCtI"
   },
   "source": [
    "### 1. 편집모드에서 명령모드로 바꾸는 단축키는? (2점)"
   ]
  },
  {
   "cell_type": "markdown",
   "metadata": {
    "colab_type": "text",
    "id": "3LJyRi95yCtJ"
   },
   "source": [
    "### 2. 셀을 실수로 삭제 했을때 되돌리기하는 방법은? (2점)\n",
    "- 어떤 모드에서 어떤 단축키를 입력해야 하나요?"
   ]
  },
  {
   "cell_type": "markdown",
   "metadata": {
    "colab_type": "text",
    "id": "cenT_y0CyCtL"
   },
   "source": [
    "### 3. 변수 data1과 data2에 \"python\" 값을 저장하도록 변수를 선언하세요. (2점)"
   ]
  },
  {
   "cell_type": "markdown",
   "metadata": {
    "colab_type": "text",
    "id": "ar71PYCCyCtN"
   },
   "source": [
    "### 4. 아래의 내용을 코드로 작성하세요. (2점)\n",
    "- 변수 data1, data2에는 숫자 3을 저장\n",
    "- 변수 data3 에는 숫자 4를 저장\n",
    "- 변수 data1, data2, data3를 다 더한 결과를 result 변수에 저장\n",
    "- result 변수를 출력"
   ]
  },
  {
   "cell_type": "markdown",
   "metadata": {
    "colab_type": "text",
    "id": "N7qMcVoXyCtR"
   },
   "source": [
    "### 5. 주피터 노트북에서 주석 설정하는 단축키는? (2점)"
   ]
  },
  {
   "cell_type": "code",
   "execution_count": null,
   "metadata": {},
   "outputs": [],
   "source": []
  }
 ],
 "metadata": {
  "colab": {
   "collapsed_sections": [],
   "name": "day2_퀴즈_문제.ipynb",
   "provenance": [],
   "version": "0.3.2"
  },
  "kernelspec": {
   "display_name": "Python 3",
   "language": "python",
   "name": "python3"
  },
  "language_info": {
   "codemirror_mode": {
    "name": "ipython",
    "version": 3
   },
   "file_extension": ".py",
   "mimetype": "text/x-python",
   "name": "python",
   "nbconvert_exporter": "python",
   "pygments_lexer": "ipython3",
   "version": "3.8.3"
  }
 },
 "nbformat": 4,
 "nbformat_minor": 1
}
