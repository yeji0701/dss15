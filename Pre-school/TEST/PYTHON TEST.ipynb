{
 "cells": [
  {
   "cell_type": "markdown",
   "metadata": {},
   "source": [
    "# 테스트"
   ]
  },
  {
   "cell_type": "markdown",
   "metadata": {},
   "source": [
    "### 1. 아래의 내용을 코드로 작성하세요.\n",
    "- data1 변수를 선언하고 python을 값으로 설정\n",
    "- data2 변수를 선언하고 data을 값으로 설정\n",
    "- data3 변수를 선언하고 python을 값으로 설정\n",
    "- data1, data2, data3 출력\n",
    "- 위의 내용을 3줄 코드로 작성"
   ]
  },
  {
   "cell_type": "markdown",
   "metadata": {},
   "source": [
    "### 2. 아래의 문자열을 단어별로 나눠서 거꾸로 출력하는 코드를 만드세요.\n",
    "\n",
    "- 입력\n",
    "\n",
    "```\n",
    "data = \"fastcampus data science\"\n",
    "```\n",
    "\n",
    "- 결과\n",
    "\n",
    "```\n",
    "result = \"science data fastcampus\"\n",
    "```"
   ]
  },
  {
   "cell_type": "markdown",
   "metadata": {},
   "source": [
    "### 3. 리스트 데이터를 합쳐서 딕셔너리 데이터로 만들어 주세요.\n",
    "- zip 함수를 이용하세요.\n",
    "\n",
    "```\n",
    "names = [\"python\", \"data\", \"science\"]\n",
    "points = [89, 75, 97]\n",
    "```\n",
    "\n",
    "- 결과\n",
    "\n",
    "```\n",
    "{'python': 89, 'data': 75, 'science': 97}\n",
    "```\n",
    "\n",
    "- zip 함수 : 여러개의 리스트를 같은 인덱스끼리 묶어 주는 함수\n",
    "\n",
    "```\n",
    "# example\n",
    "idx = [1, 2, 3]\n",
    "datas = [\"one\", \"two\", \"three\"]\n",
    "result = list(zip(idx, datas))\n",
    "result => [(1, 'one'), (2, 'two'), (3, 'three')]\n",
    "```"
   ]
  },
  {
   "cell_type": "markdown",
   "metadata": {},
   "source": [
    "### 4. 아래의 조건을 코드로 작성하세요.\n",
    "- 분기별 수익 평균이 50000이 넘고 분기별 최저 수익이 50000이 넘으면 True를 출력, 그렇지 않으면 False를 출력\n",
    "\n",
    "```\n",
    "data = {\n",
    "    \"1분기\": 50000,\n",
    "    \"2분기\": 60000,\n",
    "    \"3분기\": 70000,\n",
    "    \"4분기\": 30000,\n",
    "}\n",
    "```"
   ]
  },
  {
   "cell_type": "markdown",
   "metadata": {},
   "source": [
    "### 5. 윤년 구하기\n",
    "- 년도를 입력 받아 윤년이면 True 출력, 윤년이 아니면 False 출력\n",
    "- 윤년은 4의 배수이면서 100의 배수가 아닐때 400의 배수일때 윤년입니다."
   ]
  },
  {
   "cell_type": "code",
   "execution_count": null,
   "metadata": {},
   "outputs": [],
   "source": []
  }
 ],
 "metadata": {
  "kernelspec": {
   "display_name": "Python 3",
   "language": "python",
   "name": "python3"
  },
  "language_info": {
   "codemirror_mode": {
    "name": "ipython",
    "version": 3
   },
   "file_extension": ".py",
   "mimetype": "text/x-python",
   "name": "python",
   "nbconvert_exporter": "python",
   "pygments_lexer": "ipython3",
   "version": "3.8.3"
  }
 },
 "nbformat": 4,
 "nbformat_minor": 4
}
