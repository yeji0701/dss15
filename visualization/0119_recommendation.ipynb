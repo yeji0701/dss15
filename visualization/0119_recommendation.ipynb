{
 "metadata": {
  "language_info": {
   "codemirror_mode": {
    "name": "ipython",
    "version": 3
   },
   "file_extension": ".py",
   "mimetype": "text/x-python",
   "name": "python",
   "nbconvert_exporter": "python",
   "pygments_lexer": "ipython3",
   "version": "3.8.3-final"
  },
  "orig_nbformat": 2,
  "kernelspec": {
   "name": "python3",
   "display_name": "Python 3",
   "language": "python"
  }
 },
 "nbformat": 4,
 "nbformat_minor": 2,
 "cells": [
  {
   "cell_type": "code",
   "execution_count": 6,
   "metadata": {},
   "outputs": [
    {
     "output_type": "stream",
     "name": "stdout",
     "text": [
      "(9742, 3)\n(100836, 4)\n"
     ]
    },
    {
     "output_type": "execute_result",
     "data": {
      "text/plain": [
       "   movieId                               title  \\\n",
       "0        1                    Toy Story (1995)   \n",
       "1        2                      Jumanji (1995)   \n",
       "2        3             Grumpier Old Men (1995)   \n",
       "3        4            Waiting to Exhale (1995)   \n",
       "4        5  Father of the Bride Part II (1995)   \n",
       "\n",
       "                                        genres  \n",
       "0  Adventure|Animation|Children|Comedy|Fantasy  \n",
       "1                   Adventure|Children|Fantasy  \n",
       "2                               Comedy|Romance  \n",
       "3                         Comedy|Drama|Romance  \n",
       "4                                       Comedy  "
      ],
      "text/html": "<div>\n<style scoped>\n    .dataframe tbody tr th:only-of-type {\n        vertical-align: middle;\n    }\n\n    .dataframe tbody tr th {\n        vertical-align: top;\n    }\n\n    .dataframe thead th {\n        text-align: right;\n    }\n</style>\n<table border=\"1\" class=\"dataframe\">\n  <thead>\n    <tr style=\"text-align: right;\">\n      <th></th>\n      <th>movieId</th>\n      <th>title</th>\n      <th>genres</th>\n    </tr>\n  </thead>\n  <tbody>\n    <tr>\n      <th>0</th>\n      <td>1</td>\n      <td>Toy Story (1995)</td>\n      <td>Adventure|Animation|Children|Comedy|Fantasy</td>\n    </tr>\n    <tr>\n      <th>1</th>\n      <td>2</td>\n      <td>Jumanji (1995)</td>\n      <td>Adventure|Children|Fantasy</td>\n    </tr>\n    <tr>\n      <th>2</th>\n      <td>3</td>\n      <td>Grumpier Old Men (1995)</td>\n      <td>Comedy|Romance</td>\n    </tr>\n    <tr>\n      <th>3</th>\n      <td>4</td>\n      <td>Waiting to Exhale (1995)</td>\n      <td>Comedy|Drama|Romance</td>\n    </tr>\n    <tr>\n      <th>4</th>\n      <td>5</td>\n      <td>Father of the Bride Part II (1995)</td>\n      <td>Comedy</td>\n    </tr>\n  </tbody>\n</table>\n</div>"
     },
     "metadata": {},
     "execution_count": 6
    }
   ],
   "source": [
    "import pandas as pd\n",
    "import numpy as np\n",
    "\n",
    "movies = pd.read_csv('./datas/ml-latest-small/movies.csv')\n",
    "ratings = pd.read_csv('./datas/ml-latest-small/ratings.csv')\n",
    "print(movies.shape)\n",
    "print(ratings.shape)\n",
    "movies.head()"
   ]
  },
  {
   "cell_type": "code",
   "execution_count": 7,
   "metadata": {},
   "outputs": [
    {
     "output_type": "execute_result",
     "data": {
      "text/plain": [
       "   userId  movieId  rating  timestamp\n",
       "0       1        1     4.0  964982703\n",
       "1       1        3     4.0  964981247\n",
       "2       1        6     4.0  964982224\n",
       "3       1       47     5.0  964983815\n",
       "4       1       50     5.0  964982931"
      ],
      "text/html": "<div>\n<style scoped>\n    .dataframe tbody tr th:only-of-type {\n        vertical-align: middle;\n    }\n\n    .dataframe tbody tr th {\n        vertical-align: top;\n    }\n\n    .dataframe thead th {\n        text-align: right;\n    }\n</style>\n<table border=\"1\" class=\"dataframe\">\n  <thead>\n    <tr style=\"text-align: right;\">\n      <th></th>\n      <th>userId</th>\n      <th>movieId</th>\n      <th>rating</th>\n      <th>timestamp</th>\n    </tr>\n  </thead>\n  <tbody>\n    <tr>\n      <th>0</th>\n      <td>1</td>\n      <td>1</td>\n      <td>4.0</td>\n      <td>964982703</td>\n    </tr>\n    <tr>\n      <th>1</th>\n      <td>1</td>\n      <td>3</td>\n      <td>4.0</td>\n      <td>964981247</td>\n    </tr>\n    <tr>\n      <th>2</th>\n      <td>1</td>\n      <td>6</td>\n      <td>4.0</td>\n      <td>964982224</td>\n    </tr>\n    <tr>\n      <th>3</th>\n      <td>1</td>\n      <td>47</td>\n      <td>5.0</td>\n      <td>964983815</td>\n    </tr>\n    <tr>\n      <th>4</th>\n      <td>1</td>\n      <td>50</td>\n      <td>5.0</td>\n      <td>964982931</td>\n    </tr>\n  </tbody>\n</table>\n</div>"
     },
     "metadata": {},
     "execution_count": 7
    }
   ],
   "source": [
    "ratings.head()"
   ]
  },
  {
   "cell_type": "code",
   "execution_count": 8,
   "metadata": {},
   "outputs": [
    {
     "output_type": "execute_result",
     "data": {
      "text/plain": [
       "movieId  1       2       3       4       5       6       7       8       \\\n",
       "userId                                                                    \n",
       "1           4.0     NaN     4.0     NaN     NaN     4.0     NaN     NaN   \n",
       "2           NaN     NaN     NaN     NaN     NaN     NaN     NaN     NaN   \n",
       "3           NaN     NaN     NaN     NaN     NaN     NaN     NaN     NaN   \n",
       "4           NaN     NaN     NaN     NaN     NaN     NaN     NaN     NaN   \n",
       "5           4.0     NaN     NaN     NaN     NaN     NaN     NaN     NaN   \n",
       "\n",
       "movieId  9       10      ...  193565  193567  193571  193573  193579  193581  \\\n",
       "userId                   ...                                                   \n",
       "1           NaN     NaN  ...     NaN     NaN     NaN     NaN     NaN     NaN   \n",
       "2           NaN     NaN  ...     NaN     NaN     NaN     NaN     NaN     NaN   \n",
       "3           NaN     NaN  ...     NaN     NaN     NaN     NaN     NaN     NaN   \n",
       "4           NaN     NaN  ...     NaN     NaN     NaN     NaN     NaN     NaN   \n",
       "5           NaN     NaN  ...     NaN     NaN     NaN     NaN     NaN     NaN   \n",
       "\n",
       "movieId  193583  193585  193587  193609  \n",
       "userId                                   \n",
       "1           NaN     NaN     NaN     NaN  \n",
       "2           NaN     NaN     NaN     NaN  \n",
       "3           NaN     NaN     NaN     NaN  \n",
       "4           NaN     NaN     NaN     NaN  \n",
       "5           NaN     NaN     NaN     NaN  \n",
       "\n",
       "[5 rows x 9724 columns]"
      ],
      "text/html": "<div>\n<style scoped>\n    .dataframe tbody tr th:only-of-type {\n        vertical-align: middle;\n    }\n\n    .dataframe tbody tr th {\n        vertical-align: top;\n    }\n\n    .dataframe thead th {\n        text-align: right;\n    }\n</style>\n<table border=\"1\" class=\"dataframe\">\n  <thead>\n    <tr style=\"text-align: right;\">\n      <th>movieId</th>\n      <th>1</th>\n      <th>2</th>\n      <th>3</th>\n      <th>4</th>\n      <th>5</th>\n      <th>6</th>\n      <th>7</th>\n      <th>8</th>\n      <th>9</th>\n      <th>10</th>\n      <th>...</th>\n      <th>193565</th>\n      <th>193567</th>\n      <th>193571</th>\n      <th>193573</th>\n      <th>193579</th>\n      <th>193581</th>\n      <th>193583</th>\n      <th>193585</th>\n      <th>193587</th>\n      <th>193609</th>\n    </tr>\n    <tr>\n      <th>userId</th>\n      <th></th>\n      <th></th>\n      <th></th>\n      <th></th>\n      <th></th>\n      <th></th>\n      <th></th>\n      <th></th>\n      <th></th>\n      <th></th>\n      <th></th>\n      <th></th>\n      <th></th>\n      <th></th>\n      <th></th>\n      <th></th>\n      <th></th>\n      <th></th>\n      <th></th>\n      <th></th>\n      <th></th>\n    </tr>\n  </thead>\n  <tbody>\n    <tr>\n      <th>1</th>\n      <td>4.0</td>\n      <td>NaN</td>\n      <td>4.0</td>\n      <td>NaN</td>\n      <td>NaN</td>\n      <td>4.0</td>\n      <td>NaN</td>\n      <td>NaN</td>\n      <td>NaN</td>\n      <td>NaN</td>\n      <td>...</td>\n      <td>NaN</td>\n      <td>NaN</td>\n      <td>NaN</td>\n      <td>NaN</td>\n      <td>NaN</td>\n      <td>NaN</td>\n      <td>NaN</td>\n      <td>NaN</td>\n      <td>NaN</td>\n      <td>NaN</td>\n    </tr>\n    <tr>\n      <th>2</th>\n      <td>NaN</td>\n      <td>NaN</td>\n      <td>NaN</td>\n      <td>NaN</td>\n      <td>NaN</td>\n      <td>NaN</td>\n      <td>NaN</td>\n      <td>NaN</td>\n      <td>NaN</td>\n      <td>NaN</td>\n      <td>...</td>\n      <td>NaN</td>\n      <td>NaN</td>\n      <td>NaN</td>\n      <td>NaN</td>\n      <td>NaN</td>\n      <td>NaN</td>\n      <td>NaN</td>\n      <td>NaN</td>\n      <td>NaN</td>\n      <td>NaN</td>\n    </tr>\n    <tr>\n      <th>3</th>\n      <td>NaN</td>\n      <td>NaN</td>\n      <td>NaN</td>\n      <td>NaN</td>\n      <td>NaN</td>\n      <td>NaN</td>\n      <td>NaN</td>\n      <td>NaN</td>\n      <td>NaN</td>\n      <td>NaN</td>\n      <td>...</td>\n      <td>NaN</td>\n      <td>NaN</td>\n      <td>NaN</td>\n      <td>NaN</td>\n      <td>NaN</td>\n      <td>NaN</td>\n      <td>NaN</td>\n      <td>NaN</td>\n      <td>NaN</td>\n      <td>NaN</td>\n    </tr>\n    <tr>\n      <th>4</th>\n      <td>NaN</td>\n      <td>NaN</td>\n      <td>NaN</td>\n      <td>NaN</td>\n      <td>NaN</td>\n      <td>NaN</td>\n      <td>NaN</td>\n      <td>NaN</td>\n      <td>NaN</td>\n      <td>NaN</td>\n      <td>...</td>\n      <td>NaN</td>\n      <td>NaN</td>\n      <td>NaN</td>\n      <td>NaN</td>\n      <td>NaN</td>\n      <td>NaN</td>\n      <td>NaN</td>\n      <td>NaN</td>\n      <td>NaN</td>\n      <td>NaN</td>\n    </tr>\n    <tr>\n      <th>5</th>\n      <td>4.0</td>\n      <td>NaN</td>\n      <td>NaN</td>\n      <td>NaN</td>\n      <td>NaN</td>\n      <td>NaN</td>\n      <td>NaN</td>\n      <td>NaN</td>\n      <td>NaN</td>\n      <td>NaN</td>\n      <td>...</td>\n      <td>NaN</td>\n      <td>NaN</td>\n      <td>NaN</td>\n      <td>NaN</td>\n      <td>NaN</td>\n      <td>NaN</td>\n      <td>NaN</td>\n      <td>NaN</td>\n      <td>NaN</td>\n      <td>NaN</td>\n    </tr>\n  </tbody>\n</table>\n<p>5 rows × 9724 columns</p>\n</div>"
     },
     "metadata": {},
     "execution_count": 8
    }
   ],
   "source": [
    "ratings = ratings[['userId', 'movieId', 'rating']]\n",
    "ratings_matrix = ratings.pivot_table('rating', index='userId', columns='movieId')\n",
    "ratings_matrix.head()"
   ]
  },
  {
   "cell_type": "code",
   "execution_count": 10,
   "metadata": {},
   "outputs": [
    {
     "output_type": "execute_result",
     "data": {
      "text/plain": [
       "   userId  movieId  rating             title  \\\n",
       "0       1        1     4.0  Toy Story (1995)   \n",
       "1       5        1     4.0  Toy Story (1995)   \n",
       "2       7        1     4.5  Toy Story (1995)   \n",
       "3      15        1     2.5  Toy Story (1995)   \n",
       "4      17        1     4.5  Toy Story (1995)   \n",
       "\n",
       "                                        genres  \n",
       "0  Adventure|Animation|Children|Comedy|Fantasy  \n",
       "1  Adventure|Animation|Children|Comedy|Fantasy  \n",
       "2  Adventure|Animation|Children|Comedy|Fantasy  \n",
       "3  Adventure|Animation|Children|Comedy|Fantasy  \n",
       "4  Adventure|Animation|Children|Comedy|Fantasy  "
      ],
      "text/html": "<div>\n<style scoped>\n    .dataframe tbody tr th:only-of-type {\n        vertical-align: middle;\n    }\n\n    .dataframe tbody tr th {\n        vertical-align: top;\n    }\n\n    .dataframe thead th {\n        text-align: right;\n    }\n</style>\n<table border=\"1\" class=\"dataframe\">\n  <thead>\n    <tr style=\"text-align: right;\">\n      <th></th>\n      <th>userId</th>\n      <th>movieId</th>\n      <th>rating</th>\n      <th>title</th>\n      <th>genres</th>\n    </tr>\n  </thead>\n  <tbody>\n    <tr>\n      <th>0</th>\n      <td>1</td>\n      <td>1</td>\n      <td>4.0</td>\n      <td>Toy Story (1995)</td>\n      <td>Adventure|Animation|Children|Comedy|Fantasy</td>\n    </tr>\n    <tr>\n      <th>1</th>\n      <td>5</td>\n      <td>1</td>\n      <td>4.0</td>\n      <td>Toy Story (1995)</td>\n      <td>Adventure|Animation|Children|Comedy|Fantasy</td>\n    </tr>\n    <tr>\n      <th>2</th>\n      <td>7</td>\n      <td>1</td>\n      <td>4.5</td>\n      <td>Toy Story (1995)</td>\n      <td>Adventure|Animation|Children|Comedy|Fantasy</td>\n    </tr>\n    <tr>\n      <th>3</th>\n      <td>15</td>\n      <td>1</td>\n      <td>2.5</td>\n      <td>Toy Story (1995)</td>\n      <td>Adventure|Animation|Children|Comedy|Fantasy</td>\n    </tr>\n    <tr>\n      <th>4</th>\n      <td>17</td>\n      <td>1</td>\n      <td>4.5</td>\n      <td>Toy Story (1995)</td>\n      <td>Adventure|Animation|Children|Comedy|Fantasy</td>\n    </tr>\n  </tbody>\n</table>\n</div>"
     },
     "metadata": {},
     "execution_count": 10
    }
   ],
   "source": [
    "rating_movies = pd.merge(ratings, movies, on='movieId')\n",
    "rating_movies.head()"
   ]
  },
  {
   "cell_type": "code",
   "execution_count": 11,
   "metadata": {},
   "outputs": [
    {
     "output_type": "execute_result",
     "data": {
      "text/plain": [
       "title   '71 (2014)  'Hellboy': The Seeds of Creation (2004)  \\\n",
       "userId                                                        \n",
       "1              NaN                                      NaN   \n",
       "2              NaN                                      NaN   \n",
       "3              NaN                                      NaN   \n",
       "4              NaN                                      NaN   \n",
       "5              NaN                                      NaN   \n",
       "\n",
       "title   'Round Midnight (1986)  'Salem's Lot (2004)  \\\n",
       "userId                                                \n",
       "1                          NaN                  NaN   \n",
       "2                          NaN                  NaN   \n",
       "3                          NaN                  NaN   \n",
       "4                          NaN                  NaN   \n",
       "5                          NaN                  NaN   \n",
       "\n",
       "title   'Til There Was You (1997)  'Tis the Season for Love (2015)  \\\n",
       "userId                                                               \n",
       "1                             NaN                              NaN   \n",
       "2                             NaN                              NaN   \n",
       "3                             NaN                              NaN   \n",
       "4                             NaN                              NaN   \n",
       "5                             NaN                              NaN   \n",
       "\n",
       "title   'burbs, The (1989)  'night Mother (1986)  (500) Days of Summer (2009)  \\\n",
       "userId                                                                          \n",
       "1                      NaN                   NaN                          NaN   \n",
       "2                      NaN                   NaN                          NaN   \n",
       "3                      NaN                   NaN                          NaN   \n",
       "4                      NaN                   NaN                          NaN   \n",
       "5                      NaN                   NaN                          NaN   \n",
       "\n",
       "title   *batteries not included (1987)  ...  Zulu (2013)  [REC] (2007)  \\\n",
       "userId                                  ...                              \n",
       "1                                  NaN  ...          NaN           NaN   \n",
       "2                                  NaN  ...          NaN           NaN   \n",
       "3                                  NaN  ...          NaN           NaN   \n",
       "4                                  NaN  ...          NaN           NaN   \n",
       "5                                  NaN  ...          NaN           NaN   \n",
       "\n",
       "title   [REC]² (2009)  [REC]³ 3 Génesis (2012)  \\\n",
       "userId                                           \n",
       "1                 NaN                      NaN   \n",
       "2                 NaN                      NaN   \n",
       "3                 NaN                      NaN   \n",
       "4                 NaN                      NaN   \n",
       "5                 NaN                      NaN   \n",
       "\n",
       "title   anohana: The Flower We Saw That Day - The Movie (2013)  \\\n",
       "userId                                                           \n",
       "1                                                     NaN        \n",
       "2                                                     NaN        \n",
       "3                                                     NaN        \n",
       "4                                                     NaN        \n",
       "5                                                     NaN        \n",
       "\n",
       "title   eXistenZ (1999)  xXx (2002)  xXx: State of the Union (2005)  \\\n",
       "userId                                                                \n",
       "1                   NaN         NaN                             NaN   \n",
       "2                   NaN         NaN                             NaN   \n",
       "3                   NaN         NaN                             NaN   \n",
       "4                   NaN         NaN                             NaN   \n",
       "5                   NaN         NaN                             NaN   \n",
       "\n",
       "title   ¡Three Amigos! (1986)  À nous la liberté (Freedom for Us) (1931)  \n",
       "userId                                                                    \n",
       "1                         4.0                                        NaN  \n",
       "2                         NaN                                        NaN  \n",
       "3                         NaN                                        NaN  \n",
       "4                         NaN                                        NaN  \n",
       "5                         NaN                                        NaN  \n",
       "\n",
       "[5 rows x 9719 columns]"
      ],
      "text/html": "<div>\n<style scoped>\n    .dataframe tbody tr th:only-of-type {\n        vertical-align: middle;\n    }\n\n    .dataframe tbody tr th {\n        vertical-align: top;\n    }\n\n    .dataframe thead th {\n        text-align: right;\n    }\n</style>\n<table border=\"1\" class=\"dataframe\">\n  <thead>\n    <tr style=\"text-align: right;\">\n      <th>title</th>\n      <th>'71 (2014)</th>\n      <th>'Hellboy': The Seeds of Creation (2004)</th>\n      <th>'Round Midnight (1986)</th>\n      <th>'Salem's Lot (2004)</th>\n      <th>'Til There Was You (1997)</th>\n      <th>'Tis the Season for Love (2015)</th>\n      <th>'burbs, The (1989)</th>\n      <th>'night Mother (1986)</th>\n      <th>(500) Days of Summer (2009)</th>\n      <th>*batteries not included (1987)</th>\n      <th>...</th>\n      <th>Zulu (2013)</th>\n      <th>[REC] (2007)</th>\n      <th>[REC]² (2009)</th>\n      <th>[REC]³ 3 Génesis (2012)</th>\n      <th>anohana: The Flower We Saw That Day - The Movie (2013)</th>\n      <th>eXistenZ (1999)</th>\n      <th>xXx (2002)</th>\n      <th>xXx: State of the Union (2005)</th>\n      <th>¡Three Amigos! (1986)</th>\n      <th>À nous la liberté (Freedom for Us) (1931)</th>\n    </tr>\n    <tr>\n      <th>userId</th>\n      <th></th>\n      <th></th>\n      <th></th>\n      <th></th>\n      <th></th>\n      <th></th>\n      <th></th>\n      <th></th>\n      <th></th>\n      <th></th>\n      <th></th>\n      <th></th>\n      <th></th>\n      <th></th>\n      <th></th>\n      <th></th>\n      <th></th>\n      <th></th>\n      <th></th>\n      <th></th>\n      <th></th>\n    </tr>\n  </thead>\n  <tbody>\n    <tr>\n      <th>1</th>\n      <td>NaN</td>\n      <td>NaN</td>\n      <td>NaN</td>\n      <td>NaN</td>\n      <td>NaN</td>\n      <td>NaN</td>\n      <td>NaN</td>\n      <td>NaN</td>\n      <td>NaN</td>\n      <td>NaN</td>\n      <td>...</td>\n      <td>NaN</td>\n      <td>NaN</td>\n      <td>NaN</td>\n      <td>NaN</td>\n      <td>NaN</td>\n      <td>NaN</td>\n      <td>NaN</td>\n      <td>NaN</td>\n      <td>4.0</td>\n      <td>NaN</td>\n    </tr>\n    <tr>\n      <th>2</th>\n      <td>NaN</td>\n      <td>NaN</td>\n      <td>NaN</td>\n      <td>NaN</td>\n      <td>NaN</td>\n      <td>NaN</td>\n      <td>NaN</td>\n      <td>NaN</td>\n      <td>NaN</td>\n      <td>NaN</td>\n      <td>...</td>\n      <td>NaN</td>\n      <td>NaN</td>\n      <td>NaN</td>\n      <td>NaN</td>\n      <td>NaN</td>\n      <td>NaN</td>\n      <td>NaN</td>\n      <td>NaN</td>\n      <td>NaN</td>\n      <td>NaN</td>\n    </tr>\n    <tr>\n      <th>3</th>\n      <td>NaN</td>\n      <td>NaN</td>\n      <td>NaN</td>\n      <td>NaN</td>\n      <td>NaN</td>\n      <td>NaN</td>\n      <td>NaN</td>\n      <td>NaN</td>\n      <td>NaN</td>\n      <td>NaN</td>\n      <td>...</td>\n      <td>NaN</td>\n      <td>NaN</td>\n      <td>NaN</td>\n      <td>NaN</td>\n      <td>NaN</td>\n      <td>NaN</td>\n      <td>NaN</td>\n      <td>NaN</td>\n      <td>NaN</td>\n      <td>NaN</td>\n    </tr>\n    <tr>\n      <th>4</th>\n      <td>NaN</td>\n      <td>NaN</td>\n      <td>NaN</td>\n      <td>NaN</td>\n      <td>NaN</td>\n      <td>NaN</td>\n      <td>NaN</td>\n      <td>NaN</td>\n      <td>NaN</td>\n      <td>NaN</td>\n      <td>...</td>\n      <td>NaN</td>\n      <td>NaN</td>\n      <td>NaN</td>\n      <td>NaN</td>\n      <td>NaN</td>\n      <td>NaN</td>\n      <td>NaN</td>\n      <td>NaN</td>\n      <td>NaN</td>\n      <td>NaN</td>\n    </tr>\n    <tr>\n      <th>5</th>\n      <td>NaN</td>\n      <td>NaN</td>\n      <td>NaN</td>\n      <td>NaN</td>\n      <td>NaN</td>\n      <td>NaN</td>\n      <td>NaN</td>\n      <td>NaN</td>\n      <td>NaN</td>\n      <td>NaN</td>\n      <td>...</td>\n      <td>NaN</td>\n      <td>NaN</td>\n      <td>NaN</td>\n      <td>NaN</td>\n      <td>NaN</td>\n      <td>NaN</td>\n      <td>NaN</td>\n      <td>NaN</td>\n      <td>NaN</td>\n      <td>NaN</td>\n    </tr>\n  </tbody>\n</table>\n<p>5 rows × 9719 columns</p>\n</div>"
     },
     "metadata": {},
     "execution_count": 11
    }
   ],
   "source": [
    "ratings_matrix = rating_movies.pivot_table('rating', index='userId', columns='title')\n",
    "ratings_matrix.head()"
   ]
  },
  {
   "cell_type": "code",
   "execution_count": 12,
   "metadata": {},
   "outputs": [
    {
     "output_type": "execute_result",
     "data": {
      "text/plain": [
       "title   '71 (2014)  'Hellboy': The Seeds of Creation (2004)  \\\n",
       "userId                                                        \n",
       "1              0.0                                      0.0   \n",
       "2              0.0                                      0.0   \n",
       "3              0.0                                      0.0   \n",
       "4              0.0                                      0.0   \n",
       "5              0.0                                      0.0   \n",
       "\n",
       "title   'Round Midnight (1986)  'Salem's Lot (2004)  \\\n",
       "userId                                                \n",
       "1                          0.0                  0.0   \n",
       "2                          0.0                  0.0   \n",
       "3                          0.0                  0.0   \n",
       "4                          0.0                  0.0   \n",
       "5                          0.0                  0.0   \n",
       "\n",
       "title   'Til There Was You (1997)  'Tis the Season for Love (2015)  \\\n",
       "userId                                                               \n",
       "1                             0.0                              0.0   \n",
       "2                             0.0                              0.0   \n",
       "3                             0.0                              0.0   \n",
       "4                             0.0                              0.0   \n",
       "5                             0.0                              0.0   \n",
       "\n",
       "title   'burbs, The (1989)  'night Mother (1986)  (500) Days of Summer (2009)  \\\n",
       "userId                                                                          \n",
       "1                      0.0                   0.0                          0.0   \n",
       "2                      0.0                   0.0                          0.0   \n",
       "3                      0.0                   0.0                          0.0   \n",
       "4                      0.0                   0.0                          0.0   \n",
       "5                      0.0                   0.0                          0.0   \n",
       "\n",
       "title   *batteries not included (1987)  ...  Zulu (2013)  [REC] (2007)  \\\n",
       "userId                                  ...                              \n",
       "1                                  0.0  ...          0.0           0.0   \n",
       "2                                  0.0  ...          0.0           0.0   \n",
       "3                                  0.0  ...          0.0           0.0   \n",
       "4                                  0.0  ...          0.0           0.0   \n",
       "5                                  0.0  ...          0.0           0.0   \n",
       "\n",
       "title   [REC]² (2009)  [REC]³ 3 Génesis (2012)  \\\n",
       "userId                                           \n",
       "1                 0.0                      0.0   \n",
       "2                 0.0                      0.0   \n",
       "3                 0.0                      0.0   \n",
       "4                 0.0                      0.0   \n",
       "5                 0.0                      0.0   \n",
       "\n",
       "title   anohana: The Flower We Saw That Day - The Movie (2013)  \\\n",
       "userId                                                           \n",
       "1                                                     0.0        \n",
       "2                                                     0.0        \n",
       "3                                                     0.0        \n",
       "4                                                     0.0        \n",
       "5                                                     0.0        \n",
       "\n",
       "title   eXistenZ (1999)  xXx (2002)  xXx: State of the Union (2005)  \\\n",
       "userId                                                                \n",
       "1                   0.0         0.0                             0.0   \n",
       "2                   0.0         0.0                             0.0   \n",
       "3                   0.0         0.0                             0.0   \n",
       "4                   0.0         0.0                             0.0   \n",
       "5                   0.0         0.0                             0.0   \n",
       "\n",
       "title   ¡Three Amigos! (1986)  À nous la liberté (Freedom for Us) (1931)  \n",
       "userId                                                                    \n",
       "1                         4.0                                        0.0  \n",
       "2                         0.0                                        0.0  \n",
       "3                         0.0                                        0.0  \n",
       "4                         0.0                                        0.0  \n",
       "5                         0.0                                        0.0  \n",
       "\n",
       "[5 rows x 9719 columns]"
      ],
      "text/html": "<div>\n<style scoped>\n    .dataframe tbody tr th:only-of-type {\n        vertical-align: middle;\n    }\n\n    .dataframe tbody tr th {\n        vertical-align: top;\n    }\n\n    .dataframe thead th {\n        text-align: right;\n    }\n</style>\n<table border=\"1\" class=\"dataframe\">\n  <thead>\n    <tr style=\"text-align: right;\">\n      <th>title</th>\n      <th>'71 (2014)</th>\n      <th>'Hellboy': The Seeds of Creation (2004)</th>\n      <th>'Round Midnight (1986)</th>\n      <th>'Salem's Lot (2004)</th>\n      <th>'Til There Was You (1997)</th>\n      <th>'Tis the Season for Love (2015)</th>\n      <th>'burbs, The (1989)</th>\n      <th>'night Mother (1986)</th>\n      <th>(500) Days of Summer (2009)</th>\n      <th>*batteries not included (1987)</th>\n      <th>...</th>\n      <th>Zulu (2013)</th>\n      <th>[REC] (2007)</th>\n      <th>[REC]² (2009)</th>\n      <th>[REC]³ 3 Génesis (2012)</th>\n      <th>anohana: The Flower We Saw That Day - The Movie (2013)</th>\n      <th>eXistenZ (1999)</th>\n      <th>xXx (2002)</th>\n      <th>xXx: State of the Union (2005)</th>\n      <th>¡Three Amigos! (1986)</th>\n      <th>À nous la liberté (Freedom for Us) (1931)</th>\n    </tr>\n    <tr>\n      <th>userId</th>\n      <th></th>\n      <th></th>\n      <th></th>\n      <th></th>\n      <th></th>\n      <th></th>\n      <th></th>\n      <th></th>\n      <th></th>\n      <th></th>\n      <th></th>\n      <th></th>\n      <th></th>\n      <th></th>\n      <th></th>\n      <th></th>\n      <th></th>\n      <th></th>\n      <th></th>\n      <th></th>\n      <th></th>\n    </tr>\n  </thead>\n  <tbody>\n    <tr>\n      <th>1</th>\n      <td>0.0</td>\n      <td>0.0</td>\n      <td>0.0</td>\n      <td>0.0</td>\n      <td>0.0</td>\n      <td>0.0</td>\n      <td>0.0</td>\n      <td>0.0</td>\n      <td>0.0</td>\n      <td>0.0</td>\n      <td>...</td>\n      <td>0.0</td>\n      <td>0.0</td>\n      <td>0.0</td>\n      <td>0.0</td>\n      <td>0.0</td>\n      <td>0.0</td>\n      <td>0.0</td>\n      <td>0.0</td>\n      <td>4.0</td>\n      <td>0.0</td>\n    </tr>\n    <tr>\n      <th>2</th>\n      <td>0.0</td>\n      <td>0.0</td>\n      <td>0.0</td>\n      <td>0.0</td>\n      <td>0.0</td>\n      <td>0.0</td>\n      <td>0.0</td>\n      <td>0.0</td>\n      <td>0.0</td>\n      <td>0.0</td>\n      <td>...</td>\n      <td>0.0</td>\n      <td>0.0</td>\n      <td>0.0</td>\n      <td>0.0</td>\n      <td>0.0</td>\n      <td>0.0</td>\n      <td>0.0</td>\n      <td>0.0</td>\n      <td>0.0</td>\n      <td>0.0</td>\n    </tr>\n    <tr>\n      <th>3</th>\n      <td>0.0</td>\n      <td>0.0</td>\n      <td>0.0</td>\n      <td>0.0</td>\n      <td>0.0</td>\n      <td>0.0</td>\n      <td>0.0</td>\n      <td>0.0</td>\n      <td>0.0</td>\n      <td>0.0</td>\n      <td>...</td>\n      <td>0.0</td>\n      <td>0.0</td>\n      <td>0.0</td>\n      <td>0.0</td>\n      <td>0.0</td>\n      <td>0.0</td>\n      <td>0.0</td>\n      <td>0.0</td>\n      <td>0.0</td>\n      <td>0.0</td>\n    </tr>\n    <tr>\n      <th>4</th>\n      <td>0.0</td>\n      <td>0.0</td>\n      <td>0.0</td>\n      <td>0.0</td>\n      <td>0.0</td>\n      <td>0.0</td>\n      <td>0.0</td>\n      <td>0.0</td>\n      <td>0.0</td>\n      <td>0.0</td>\n      <td>...</td>\n      <td>0.0</td>\n      <td>0.0</td>\n      <td>0.0</td>\n      <td>0.0</td>\n      <td>0.0</td>\n      <td>0.0</td>\n      <td>0.0</td>\n      <td>0.0</td>\n      <td>0.0</td>\n      <td>0.0</td>\n    </tr>\n    <tr>\n      <th>5</th>\n      <td>0.0</td>\n      <td>0.0</td>\n      <td>0.0</td>\n      <td>0.0</td>\n      <td>0.0</td>\n      <td>0.0</td>\n      <td>0.0</td>\n      <td>0.0</td>\n      <td>0.0</td>\n      <td>0.0</td>\n      <td>...</td>\n      <td>0.0</td>\n      <td>0.0</td>\n      <td>0.0</td>\n      <td>0.0</td>\n      <td>0.0</td>\n      <td>0.0</td>\n      <td>0.0</td>\n      <td>0.0</td>\n      <td>0.0</td>\n      <td>0.0</td>\n    </tr>\n  </tbody>\n</table>\n<p>5 rows × 9719 columns</p>\n</div>"
     },
     "metadata": {},
     "execution_count": 12
    }
   ],
   "source": [
    "ratings_matrix = ratings_matrix.fillna(0)\n",
    "ratings_matrix.head()"
   ]
  },
  {
   "cell_type": "code",
   "execution_count": 13,
   "metadata": {},
   "outputs": [],
   "source": [
    "ratings_matrix_T = ratings_matrix.transpose()"
   ]
  },
  {
   "cell_type": "code",
   "execution_count": 15,
   "metadata": {},
   "outputs": [
    {
     "output_type": "stream",
     "name": "stdout",
     "text": [
      "(9719, 9719)\n"
     ]
    },
    {
     "output_type": "execute_result",
     "data": {
      "text/plain": [
       "title                                    '71 (2014)  \\\n",
       "title                                                 \n",
       "'71 (2014)                                      1.0   \n",
       "'Hellboy': The Seeds of Creation (2004)         0.0   \n",
       "'Round Midnight (1986)                          0.0   \n",
       "'Salem's Lot (2004)                             0.0   \n",
       "'Til There Was You (1997)                       0.0   \n",
       "\n",
       "title                                    'Hellboy': The Seeds of Creation (2004)  \\\n",
       "title                                                                              \n",
       "'71 (2014)                                                              0.000000   \n",
       "'Hellboy': The Seeds of Creation (2004)                                 1.000000   \n",
       "'Round Midnight (1986)                                                  0.707107   \n",
       "'Salem's Lot (2004)                                                     0.000000   \n",
       "'Til There Was You (1997)                                               0.000000   \n",
       "\n",
       "title                                    'Round Midnight (1986)  \\\n",
       "title                                                             \n",
       "'71 (2014)                                             0.000000   \n",
       "'Hellboy': The Seeds of Creation (2004)                0.707107   \n",
       "'Round Midnight (1986)                                 1.000000   \n",
       "'Salem's Lot (2004)                                    0.000000   \n",
       "'Til There Was You (1997)                              0.000000   \n",
       "\n",
       "title                                    'Salem's Lot (2004)  \\\n",
       "title                                                          \n",
       "'71 (2014)                                          0.000000   \n",
       "'Hellboy': The Seeds of Creation (2004)             0.000000   \n",
       "'Round Midnight (1986)                              0.000000   \n",
       "'Salem's Lot (2004)                                 1.000000   \n",
       "'Til There Was You (1997)                           0.857493   \n",
       "\n",
       "title                                    'Til There Was You (1997)  \\\n",
       "title                                                                \n",
       "'71 (2014)                                                0.000000   \n",
       "'Hellboy': The Seeds of Creation (2004)                   0.000000   \n",
       "'Round Midnight (1986)                                    0.000000   \n",
       "'Salem's Lot (2004)                                       0.857493   \n",
       "'Til There Was You (1997)                                 1.000000   \n",
       "\n",
       "title                                    'Tis the Season for Love (2015)  \\\n",
       "title                                                                      \n",
       "'71 (2014)                                                           0.0   \n",
       "'Hellboy': The Seeds of Creation (2004)                              0.0   \n",
       "'Round Midnight (1986)                                               0.0   \n",
       "'Salem's Lot (2004)                                                  0.0   \n",
       "'Til There Was You (1997)                                            0.0   \n",
       "\n",
       "title                                    'burbs, The (1989)  \\\n",
       "title                                                         \n",
       "'71 (2014)                                         0.000000   \n",
       "'Hellboy': The Seeds of Creation (2004)            0.000000   \n",
       "'Round Midnight (1986)                             0.176777   \n",
       "'Salem's Lot (2004)                                0.000000   \n",
       "'Til There Was You (1997)                          0.000000   \n",
       "\n",
       "title                                    'night Mother (1986)  \\\n",
       "title                                                           \n",
       "'71 (2014)                                                0.0   \n",
       "'Hellboy': The Seeds of Creation (2004)                   0.0   \n",
       "'Round Midnight (1986)                                    0.0   \n",
       "'Salem's Lot (2004)                                       0.0   \n",
       "'Til There Was You (1997)                                 0.0   \n",
       "\n",
       "title                                    (500) Days of Summer (2009)  \\\n",
       "title                                                                  \n",
       "'71 (2014)                                                  0.141653   \n",
       "'Hellboy': The Seeds of Creation (2004)                     0.000000   \n",
       "'Round Midnight (1986)                                      0.000000   \n",
       "'Salem's Lot (2004)                                         0.000000   \n",
       "'Til There Was You (1997)                                   0.000000   \n",
       "\n",
       "title                                    *batteries not included (1987)  ...  \\\n",
       "title                                                                    ...   \n",
       "'71 (2014)                                                          0.0  ...   \n",
       "'Hellboy': The Seeds of Creation (2004)                             0.0  ...   \n",
       "'Round Midnight (1986)                                              0.0  ...   \n",
       "'Salem's Lot (2004)                                                 0.0  ...   \n",
       "'Til There Was You (1997)                                           0.0  ...   \n",
       "\n",
       "title                                    Zulu (2013)  [REC] (2007)  \\\n",
       "title                                                                \n",
       "'71 (2014)                                       0.0      0.342055   \n",
       "'Hellboy': The Seeds of Creation (2004)          0.0      0.000000   \n",
       "'Round Midnight (1986)                           0.0      0.000000   \n",
       "'Salem's Lot (2004)                              0.0      0.000000   \n",
       "'Til There Was You (1997)                        0.0      0.000000   \n",
       "\n",
       "title                                    [REC]² (2009)  \\\n",
       "title                                                    \n",
       "'71 (2014)                                    0.543305   \n",
       "'Hellboy': The Seeds of Creation (2004)       0.000000   \n",
       "'Round Midnight (1986)                        0.000000   \n",
       "'Salem's Lot (2004)                           0.000000   \n",
       "'Til There Was You (1997)                     0.000000   \n",
       "\n",
       "title                                    [REC]³ 3 Génesis (2012)  \\\n",
       "title                                                              \n",
       "'71 (2014)                                              0.707107   \n",
       "'Hellboy': The Seeds of Creation (2004)                 0.000000   \n",
       "'Round Midnight (1986)                                  0.000000   \n",
       "'Salem's Lot (2004)                                     0.000000   \n",
       "'Til There Was You (1997)                               0.000000   \n",
       "\n",
       "title                                    anohana: The Flower We Saw That Day - The Movie (2013)  \\\n",
       "title                                                                                             \n",
       "'71 (2014)                                                                             0.0        \n",
       "'Hellboy': The Seeds of Creation (2004)                                                0.0        \n",
       "'Round Midnight (1986)                                                                 0.0        \n",
       "'Salem's Lot (2004)                                                                    0.0        \n",
       "'Til There Was You (1997)                                                              0.0        \n",
       "\n",
       "title                                    eXistenZ (1999)  xXx (2002)  \\\n",
       "title                                                                  \n",
       "'71 (2014)                                           0.0    0.139431   \n",
       "'Hellboy': The Seeds of Creation (2004)              0.0    0.000000   \n",
       "'Round Midnight (1986)                               0.0    0.000000   \n",
       "'Salem's Lot (2004)                                  0.0    0.000000   \n",
       "'Til There Was You (1997)                            0.0    0.000000   \n",
       "\n",
       "title                                    xXx: State of the Union (2005)  \\\n",
       "title                                                                     \n",
       "'71 (2014)                                                     0.327327   \n",
       "'Hellboy': The Seeds of Creation (2004)                        0.000000   \n",
       "'Round Midnight (1986)                                         0.000000   \n",
       "'Salem's Lot (2004)                                            0.000000   \n",
       "'Til There Was You (1997)                                      0.000000   \n",
       "\n",
       "title                                    ¡Three Amigos! (1986)  \\\n",
       "title                                                            \n",
       "'71 (2014)                                                 0.0   \n",
       "'Hellboy': The Seeds of Creation (2004)                    0.0   \n",
       "'Round Midnight (1986)                                     0.0   \n",
       "'Salem's Lot (2004)                                        0.0   \n",
       "'Til There Was You (1997)                                  0.0   \n",
       "\n",
       "title                                    À nous la liberté (Freedom for Us) (1931)  \n",
       "title                                                                               \n",
       "'71 (2014)                                                                     0.0  \n",
       "'Hellboy': The Seeds of Creation (2004)                                        0.0  \n",
       "'Round Midnight (1986)                                                         0.0  \n",
       "'Salem's Lot (2004)                                                            0.0  \n",
       "'Til There Was You (1997)                                                      0.0  \n",
       "\n",
       "[5 rows x 9719 columns]"
      ],
      "text/html": "<div>\n<style scoped>\n    .dataframe tbody tr th:only-of-type {\n        vertical-align: middle;\n    }\n\n    .dataframe tbody tr th {\n        vertical-align: top;\n    }\n\n    .dataframe thead th {\n        text-align: right;\n    }\n</style>\n<table border=\"1\" class=\"dataframe\">\n  <thead>\n    <tr style=\"text-align: right;\">\n      <th>title</th>\n      <th>'71 (2014)</th>\n      <th>'Hellboy': The Seeds of Creation (2004)</th>\n      <th>'Round Midnight (1986)</th>\n      <th>'Salem's Lot (2004)</th>\n      <th>'Til There Was You (1997)</th>\n      <th>'Tis the Season for Love (2015)</th>\n      <th>'burbs, The (1989)</th>\n      <th>'night Mother (1986)</th>\n      <th>(500) Days of Summer (2009)</th>\n      <th>*batteries not included (1987)</th>\n      <th>...</th>\n      <th>Zulu (2013)</th>\n      <th>[REC] (2007)</th>\n      <th>[REC]² (2009)</th>\n      <th>[REC]³ 3 Génesis (2012)</th>\n      <th>anohana: The Flower We Saw That Day - The Movie (2013)</th>\n      <th>eXistenZ (1999)</th>\n      <th>xXx (2002)</th>\n      <th>xXx: State of the Union (2005)</th>\n      <th>¡Three Amigos! (1986)</th>\n      <th>À nous la liberté (Freedom for Us) (1931)</th>\n    </tr>\n    <tr>\n      <th>title</th>\n      <th></th>\n      <th></th>\n      <th></th>\n      <th></th>\n      <th></th>\n      <th></th>\n      <th></th>\n      <th></th>\n      <th></th>\n      <th></th>\n      <th></th>\n      <th></th>\n      <th></th>\n      <th></th>\n      <th></th>\n      <th></th>\n      <th></th>\n      <th></th>\n      <th></th>\n      <th></th>\n      <th></th>\n    </tr>\n  </thead>\n  <tbody>\n    <tr>\n      <th>'71 (2014)</th>\n      <td>1.0</td>\n      <td>0.000000</td>\n      <td>0.000000</td>\n      <td>0.000000</td>\n      <td>0.000000</td>\n      <td>0.0</td>\n      <td>0.000000</td>\n      <td>0.0</td>\n      <td>0.141653</td>\n      <td>0.0</td>\n      <td>...</td>\n      <td>0.0</td>\n      <td>0.342055</td>\n      <td>0.543305</td>\n      <td>0.707107</td>\n      <td>0.0</td>\n      <td>0.0</td>\n      <td>0.139431</td>\n      <td>0.327327</td>\n      <td>0.0</td>\n      <td>0.0</td>\n    </tr>\n    <tr>\n      <th>'Hellboy': The Seeds of Creation (2004)</th>\n      <td>0.0</td>\n      <td>1.000000</td>\n      <td>0.707107</td>\n      <td>0.000000</td>\n      <td>0.000000</td>\n      <td>0.0</td>\n      <td>0.000000</td>\n      <td>0.0</td>\n      <td>0.000000</td>\n      <td>0.0</td>\n      <td>...</td>\n      <td>0.0</td>\n      <td>0.000000</td>\n      <td>0.000000</td>\n      <td>0.000000</td>\n      <td>0.0</td>\n      <td>0.0</td>\n      <td>0.000000</td>\n      <td>0.000000</td>\n      <td>0.0</td>\n      <td>0.0</td>\n    </tr>\n    <tr>\n      <th>'Round Midnight (1986)</th>\n      <td>0.0</td>\n      <td>0.707107</td>\n      <td>1.000000</td>\n      <td>0.000000</td>\n      <td>0.000000</td>\n      <td>0.0</td>\n      <td>0.176777</td>\n      <td>0.0</td>\n      <td>0.000000</td>\n      <td>0.0</td>\n      <td>...</td>\n      <td>0.0</td>\n      <td>0.000000</td>\n      <td>0.000000</td>\n      <td>0.000000</td>\n      <td>0.0</td>\n      <td>0.0</td>\n      <td>0.000000</td>\n      <td>0.000000</td>\n      <td>0.0</td>\n      <td>0.0</td>\n    </tr>\n    <tr>\n      <th>'Salem's Lot (2004)</th>\n      <td>0.0</td>\n      <td>0.000000</td>\n      <td>0.000000</td>\n      <td>1.000000</td>\n      <td>0.857493</td>\n      <td>0.0</td>\n      <td>0.000000</td>\n      <td>0.0</td>\n      <td>0.000000</td>\n      <td>0.0</td>\n      <td>...</td>\n      <td>0.0</td>\n      <td>0.000000</td>\n      <td>0.000000</td>\n      <td>0.000000</td>\n      <td>0.0</td>\n      <td>0.0</td>\n      <td>0.000000</td>\n      <td>0.000000</td>\n      <td>0.0</td>\n      <td>0.0</td>\n    </tr>\n    <tr>\n      <th>'Til There Was You (1997)</th>\n      <td>0.0</td>\n      <td>0.000000</td>\n      <td>0.000000</td>\n      <td>0.857493</td>\n      <td>1.000000</td>\n      <td>0.0</td>\n      <td>0.000000</td>\n      <td>0.0</td>\n      <td>0.000000</td>\n      <td>0.0</td>\n      <td>...</td>\n      <td>0.0</td>\n      <td>0.000000</td>\n      <td>0.000000</td>\n      <td>0.000000</td>\n      <td>0.0</td>\n      <td>0.0</td>\n      <td>0.000000</td>\n      <td>0.000000</td>\n      <td>0.0</td>\n      <td>0.0</td>\n    </tr>\n  </tbody>\n</table>\n<p>5 rows × 9719 columns</p>\n</div>"
     },
     "metadata": {},
     "execution_count": 15
    }
   ],
   "source": [
    "from sklearn.metrics.pairwise import cosine_similarity\n",
    "\n",
    "item_sim = cosine_similarity(ratings_matrix_T, ratings_matrix_T)\n",
    "item_sim_df = pd.DataFrame(data=item_sim, index=ratings_matrix.columns, columns=ratings_matrix.columns)\n",
    "print(item_sim_df.shape)\n",
    "item_sim_df.head()"
   ]
  },
  {
   "cell_type": "code",
   "execution_count": 16,
   "metadata": {},
   "outputs": [
    {
     "output_type": "execute_result",
     "data": {
      "text/plain": [
       "title\n",
       "Godfather, The (1972)                        1.000000\n",
       "Godfather: Part II, The (1974)               0.821773\n",
       "Goodfellas (1990)                            0.664841\n",
       "One Flew Over the Cuckoo's Nest (1975)       0.620536\n",
       "Star Wars: Episode IV - A New Hope (1977)    0.595317\n",
       "Fargo (1996)                                 0.588614\n",
       "Name: Godfather, The (1972), dtype: float64"
      ]
     },
     "metadata": {},
     "execution_count": 16
    }
   ],
   "source": [
    "item_sim_df['Godfather, The (1972)'].sort_values(ascending=False)[:6]"
   ]
  },
  {
   "cell_type": "code",
   "execution_count": 18,
   "metadata": {},
   "outputs": [
    {
     "output_type": "execute_result",
     "data": {
      "text/plain": [
       "title\n",
       "Dark Knight, The (2008)          0.727263\n",
       "Inglourious Basterds (2009)      0.646103\n",
       "Shutter Island (2010)            0.617736\n",
       "Dark Knight Rises, The (2012)    0.617504\n",
       "Fight Club (1999)                0.615417\n",
       "Name: Inception (2010), dtype: float64"
      ]
     },
     "metadata": {},
     "execution_count": 18
    }
   ],
   "source": [
    "item_sim_df['Inception (2010)'].sort_values(ascending=False)[1:6]"
   ]
  },
  {
   "cell_type": "code",
   "execution_count": null,
   "metadata": {},
   "outputs": [],
   "source": []
  }
 ]
}