{
 "cells": [
  {
   "cell_type": "code",
   "execution_count": 1,
   "metadata": {},
   "outputs": [],
   "source": [
    "import pandas as pd\n",
    "\n",
    "url = 'https://raw.githubusercontent.com/PinkWink/ML_tutorial/master/dataset/HAR_dataset/features.txt'\n",
    "feature_name_df = pd.read_csv(url, sep='\\s+', header=None, names=['column_index', 'column_name'])\n",
    "feature_name = feature_name_df.iloc[:, 1].values.tolist()"
   ]
  },
  {
   "cell_type": "code",
   "execution_count": 2,
   "metadata": {},
   "outputs": [],
   "source": [
    "X_train_url = 'https://raw.githubusercontent.com/PinkWink/ML_tutorial/master/dataset/HAR_dataset/train/X_train.txt'\n",
    "X_test_url = 'https://raw.githubusercontent.com/PinkWink/ML_tutorial/master/dataset/HAR_dataset/test/X_test.txt'\n",
    "\n",
    "X_train = pd.read_csv(X_train_url, sep='\\s+', header=None)\n",
    "X_test = pd.read_csv(X_test_url, sep='\\s+', header=None)"
   ]
  },
  {
   "cell_type": "code",
   "execution_count": 3,
   "metadata": {},
   "outputs": [],
   "source": [
    "X_train.columns = feature_name\n",
    "X_test.columns = feature_name"
   ]
  },
  {
   "cell_type": "code",
   "execution_count": 4,
   "metadata": {},
   "outputs": [],
   "source": [
    "y_train_url = 'https://raw.githubusercontent.com/PinkWink/ML_tutorial/master/dataset/HAR_dataset/train/y_train.txt'\n",
    "y_test_url = 'https://raw.githubusercontent.com/PinkWink/ML_tutorial/master/dataset/HAR_dataset/test/y_test.txt'\n",
    "\n",
    "y_train = pd.read_csv(y_train_url, sep='\\s+', header=None, names=['action'])\n",
    "y_test = pd.read_csv(y_test_url, sep='\\s+', header=None, names=['action'])"
   ]
  },
  {
   "cell_type": "code",
   "execution_count": 5,
   "metadata": {},
   "outputs": [
    {
     "data": {
      "text/plain": [
       "((7352, 561), (2947, 561), (7352, 1), (2947, 1))"
      ]
     },
     "execution_count": 5,
     "metadata": {},
     "output_type": "execute_result"
    }
   ],
   "source": [
    "X_train.shape, X_test.shape, y_train.shape, y_test.shape"
   ]
  },
  {
   "cell_type": "code",
   "execution_count": 17,
   "metadata": {},
   "outputs": [],
   "source": [
    "from sklearn.decomposition import PCA\n",
    "\n",
    "def get_pca_data(ss_data, n_components=2):\n",
    "    pca = PCA(n_components=n_components)\n",
    "    pca.fit(ss_data)\n",
    "    \n",
    "    return pca.transform(ss_data), pca"
   ]
  },
  {
   "cell_type": "code",
   "execution_count": 18,
   "metadata": {},
   "outputs": [
    {
     "data": {
      "text/plain": [
       "(7352, 2)"
      ]
     },
     "execution_count": 18,
     "metadata": {},
     "output_type": "execute_result"
    }
   ],
   "source": [
    "HAR_pca, pca = get_pca_data(X_train, n_components=2)\n",
    "HAR_pca.shape"
   ]
  },
  {
   "cell_type": "code",
   "execution_count": 19,
   "metadata": {},
   "outputs": [
    {
     "data": {
      "text/plain": [
       "((561,), (2, 561))"
      ]
     },
     "execution_count": 19,
     "metadata": {},
     "output_type": "execute_result"
    }
   ],
   "source": [
    "pca.mean_.shape, pca.components_.shape"
   ]
  },
  {
   "cell_type": "code",
   "execution_count": 20,
   "metadata": {},
   "outputs": [
    {
     "data": {
      "text/plain": [
       "['pca_0', 'pca_1']"
      ]
     },
     "execution_count": 20,
     "metadata": {},
     "output_type": "execute_result"
    }
   ],
   "source": [
    "cols = ['pca_'+str(n) for n in range(pca.components_.shape[0])]\n",
    "cols"
   ]
  },
  {
   "cell_type": "code",
   "execution_count": 21,
   "metadata": {},
   "outputs": [],
   "source": [
    "def get_pd_from_pca(pca_data, col_num):\n",
    "    cols = ['pca_'+str(n) for n in range(col_num)]\n",
    "    \n",
    "    return pd.DataFrame(pca_data, columns=cols)"
   ]
  },
  {
   "cell_type": "code",
   "execution_count": 22,
   "metadata": {},
   "outputs": [
    {
     "data": {
      "text/html": [
       "<div>\n",
       "<style scoped>\n",
       "    .dataframe tbody tr th:only-of-type {\n",
       "        vertical-align: middle;\n",
       "    }\n",
       "\n",
       "    .dataframe tbody tr th {\n",
       "        vertical-align: top;\n",
       "    }\n",
       "\n",
       "    .dataframe thead th {\n",
       "        text-align: right;\n",
       "    }\n",
       "</style>\n",
       "<table border=\"1\" class=\"dataframe\">\n",
       "  <thead>\n",
       "    <tr style=\"text-align: right;\">\n",
       "      <th></th>\n",
       "      <th>pca_0</th>\n",
       "      <th>pca_1</th>\n",
       "      <th>action</th>\n",
       "    </tr>\n",
       "  </thead>\n",
       "  <tbody>\n",
       "    <tr>\n",
       "      <th>0</th>\n",
       "      <td>-5.520280</td>\n",
       "      <td>-0.290278</td>\n",
       "      <td>5</td>\n",
       "    </tr>\n",
       "    <tr>\n",
       "      <th>1</th>\n",
       "      <td>-5.535350</td>\n",
       "      <td>-0.082530</td>\n",
       "      <td>5</td>\n",
       "    </tr>\n",
       "    <tr>\n",
       "      <th>2</th>\n",
       "      <td>-5.474988</td>\n",
       "      <td>0.287387</td>\n",
       "      <td>5</td>\n",
       "    </tr>\n",
       "    <tr>\n",
       "      <th>3</th>\n",
       "      <td>-5.677232</td>\n",
       "      <td>0.897031</td>\n",
       "      <td>5</td>\n",
       "    </tr>\n",
       "    <tr>\n",
       "      <th>4</th>\n",
       "      <td>-5.748749</td>\n",
       "      <td>1.162952</td>\n",
       "      <td>5</td>\n",
       "    </tr>\n",
       "  </tbody>\n",
       "</table>\n",
       "</div>"
      ],
      "text/plain": [
       "      pca_0     pca_1  action\n",
       "0 -5.520280 -0.290278       5\n",
       "1 -5.535350 -0.082530       5\n",
       "2 -5.474988  0.287387       5\n",
       "3 -5.677232  0.897031       5\n",
       "4 -5.748749  1.162952       5"
      ]
     },
     "execution_count": 22,
     "metadata": {},
     "output_type": "execute_result"
    }
   ],
   "source": [
    "HAR_pca, pca = get_pca_data(X_train, n_components=2)\n",
    "HAR_pd_pca = get_pd_from_pca(HAR_pca, pca.components_.shape[0])\n",
    "HAR_pd_pca['action'] = y_train\n",
    "HAR_pd_pca.head()"
   ]
  },
  {
   "cell_type": "code",
   "execution_count": 44,
   "metadata": {},
   "outputs": [
    {
     "data": {
      "image/png": "[encoded data removed]",
      "text/plain": [
       "<Figure size 398.75x360 with 1 Axes>"
      ]
     },
     "metadata": {
      "needs_background": "light"
     },
     "output_type": "display_data"
    }
   ],
   "source": [
    "import seaborn as sns\n",
    "import matplotlib.pyplot as plt\n",
    "%matplotlib inline\n",
    "\n",
    "sns.pairplot(HAR_pd_pca, hue='action', height=5, x_vars=['pca_0'], y_vars=['pca_1'])\n",
    "plt.show()"
   ]
  },
  {
   "cell_type": "code",
   "execution_count": 26,
   "metadata": {},
   "outputs": [
    {
     "name": "stdout",
     "output_type": "stream",
     "text": [
      "variance ratio:  [0.6255444  0.04913023]\n",
      "sum of variance ratio:  0.6746746270487801\n"
     ]
    }
   ],
   "source": [
    "import numpy as np\n",
    "\n",
    "def print_variance_ratio(pca):\n",
    "    print('variance ratio: ', pca.explained_variance_ratio_)\n",
    "    print('sum of variance ratio: ', np.sum(pca.explained_variance_ratio_))\n",
    "print_variance_ratio(pca)"
   ]
  },
  {
   "cell_type": "code",
   "execution_count": 28,
   "metadata": {},
   "outputs": [
    {
     "name": "stdout",
     "output_type": "stream",
     "text": [
      "variance ratio:  [0.6255444  0.04913023 0.04121467]\n",
      "sum of variance ratio:  0.7158893015785958\n"
     ]
    }
   ],
   "source": [
    "HAR_pca, pca = get_pca_data(X_train, n_components=3)\n",
    "HAR_pd_pca = get_pd_from_pca(HAR_pca, pca.components_.shape[0])\n",
    "HAR_pd_pca['action'] = y_train\n",
    "print_variance_ratio(pca)"
   ]
  },
  {
   "cell_type": "code",
   "execution_count": 29,
   "metadata": {},
   "outputs": [
    {
     "name": "stdout",
     "output_type": "stream",
     "text": [
      "variance ratio:  [0.6255444  0.04913023 0.04121467 0.01874956 0.0169486  0.01272069\n",
      " 0.01176685 0.01068973 0.00969378 0.00858012]\n",
      "sum of variance ratio:  0.8050386404542851\n"
     ]
    }
   ],
   "source": [
    "HAR_pca, pca = get_pca_data(X_train, n_components=10)\n",
    "HAR_pd_pca = get_pd_from_pca(HAR_pca, pca.components_.shape[0])\n",
    "HAR_pd_pca['action'] = y_train\n",
    "print_variance_ratio(pca)"
   ]
  },
  {
   "cell_type": "code",
   "execution_count": 31,
   "metadata": {},
   "outputs": [
    {
     "data": {
      "text/plain": [
       "GridSearchCV(cv=2, estimator=RandomForestClassifier(n_jobs=-1, random_state=13),\n",
       "             n_jobs=-1,\n",
       "             param_grid={'max_depth': [6, 8, 10], 'min_samples_leaf': [8, 12],\n",
       "                         'min_samples_split': [8, 12],\n",
       "                         'n_estimators': [50, 100, 200]})"
      ]
     },
     "execution_count": 31,
     "metadata": {},
     "output_type": "execute_result"
    }
   ],
   "source": [
    "from sklearn.model_selection import GridSearchCV\n",
    "from sklearn.ensemble import RandomForestClassifier\n",
    "\n",
    "params = {\n",
    "    'max_depth' : [6, 8, 10],\n",
    "    'n_estimators': [50, 100, 200],\n",
    "    'min_samples_leaf': [8, 12],\n",
    "    'min_samples_split': [8, 12]\n",
    "}\n",
    "\n",
    "rf_clf = RandomForestClassifier(random_state=13, n_jobs=-1)\n",
    "grid_cv = GridSearchCV(rf_clf, param_grid = params, cv=2, n_jobs=-1)\n",
    "grid_cv.fit(HAR_pca, y_train.values.reshape(-1,))"
   ]
  },
  {
   "cell_type": "code",
   "execution_count": 33,
   "metadata": {},
   "outputs": [
    {
     "data": {
      "text/html": [
       "<div>\n",
       "<style scoped>\n",
       "    .dataframe tbody tr th:only-of-type {\n",
       "        vertical-align: middle;\n",
       "    }\n",
       "\n",
       "    .dataframe tbody tr th {\n",
       "        vertical-align: top;\n",
       "    }\n",
       "\n",
       "    .dataframe thead th {\n",
       "        text-align: right;\n",
       "    }\n",
       "</style>\n",
       "<table border=\"1\" class=\"dataframe\">\n",
       "  <thead>\n",
       "    <tr style=\"text-align: right;\">\n",
       "      <th></th>\n",
       "      <th>rank_test_score</th>\n",
       "      <th>mean_test_score</th>\n",
       "      <th>param_n_estimators</th>\n",
       "      <th>param_max_depth</th>\n",
       "    </tr>\n",
       "  </thead>\n",
       "  <tbody>\n",
       "    <tr>\n",
       "      <th>17</th>\n",
       "      <td>1</td>\n",
       "      <td>0.838275</td>\n",
       "      <td>200</td>\n",
       "      <td>8</td>\n",
       "    </tr>\n",
       "    <tr>\n",
       "      <th>14</th>\n",
       "      <td>1</td>\n",
       "      <td>0.838275</td>\n",
       "      <td>200</td>\n",
       "      <td>8</td>\n",
       "    </tr>\n",
       "    <tr>\n",
       "      <th>32</th>\n",
       "      <td>3</td>\n",
       "      <td>0.837595</td>\n",
       "      <td>200</td>\n",
       "      <td>10</td>\n",
       "    </tr>\n",
       "    <tr>\n",
       "      <th>35</th>\n",
       "      <td>3</td>\n",
       "      <td>0.837595</td>\n",
       "      <td>200</td>\n",
       "      <td>10</td>\n",
       "    </tr>\n",
       "    <tr>\n",
       "      <th>26</th>\n",
       "      <td>5</td>\n",
       "      <td>0.837187</td>\n",
       "      <td>200</td>\n",
       "      <td>10</td>\n",
       "    </tr>\n",
       "  </tbody>\n",
       "</table>\n",
       "</div>"
      ],
      "text/plain": [
       "    rank_test_score  mean_test_score param_n_estimators param_max_depth\n",
       "17                1         0.838275                200               8\n",
       "14                1         0.838275                200               8\n",
       "32                3         0.837595                200              10\n",
       "35                3         0.837595                200              10\n",
       "26                5         0.837187                200              10"
      ]
     },
     "execution_count": 33,
     "metadata": {},
     "output_type": "execute_result"
    }
   ],
   "source": [
    "cv_result_df = pd.DataFrame(grid_cv.cv_results_)\n",
    "target_col = ['rank_test_score', 'mean_test_score', 'param_n_estimators', 'param_max_depth']\n",
    "cv_result_df[target_col].sort_values('rank_test_score').head()"
   ]
  },
  {
   "cell_type": "code",
   "execution_count": 34,
   "metadata": {},
   "outputs": [
    {
     "data": {
      "text/plain": [
       "{'max_depth': 8,\n",
       " 'min_samples_leaf': 8,\n",
       " 'min_samples_split': 8,\n",
       " 'n_estimators': 200}"
      ]
     },
     "execution_count": 34,
     "metadata": {},
     "output_type": "execute_result"
    }
   ],
   "source": [
    "grid_cv.best_params_"
   ]
  },
  {
   "cell_type": "code",
   "execution_count": 35,
   "metadata": {},
   "outputs": [
    {
     "data": {
      "text/plain": [
       "0.8382752992383025"
      ]
     },
     "execution_count": 35,
     "metadata": {},
     "output_type": "execute_result"
    }
   ],
   "source": [
    "grid_cv.best_score_"
   ]
  },
  {
   "cell_type": "code",
   "execution_count": 40,
   "metadata": {},
   "outputs": [
    {
     "data": {
      "text/plain": [
       "0.8534102477095351"
      ]
     },
     "execution_count": 40,
     "metadata": {},
     "output_type": "execute_result"
    }
   ],
   "source": [
    "from sklearn.metrics import accuracy_score\n",
    "\n",
    "rf_clf_best = grid_cv.best_estimator_\n",
    "rf_clf_best.fit(HAR_pca, y_train.values.reshape(-1,))\n",
    "\n",
    "pred1 = rf_clf_best.predict(pca.transform(X_test))\n",
    "accuracy_score(y_test, pred1)"
   ]
  },
  {
   "cell_type": "code",
   "execution_count": 41,
   "metadata": {},
   "outputs": [
    {
     "name": "stdout",
     "output_type": "stream",
     "text": [
      "[0]\tvalidation_0-merror:0.22531\n",
      "Will train until validation_0-merror hasn't improved in 10 rounds.\n",
      "[1]\tvalidation_0-merror:0.22192\n",
      "[2]\tvalidation_0-merror:0.20461\n",
      "[3]\tvalidation_0-merror:0.20394\n",
      "[4]\tvalidation_0-merror:0.20122\n",
      "[5]\tvalidation_0-merror:0.20292\n",
      "[6]\tvalidation_0-merror:0.19749\n",
      "[7]\tvalidation_0-merror:0.19715\n"
     ]
    },
    {
     "name": "stderr",
     "output_type": "stream",
     "text": [
      "c:\\users\\luvu1\\anaconda3\\envs\\dss15\\lib\\site-packages\\sklearn\\utils\\validation.py:72: DataConversionWarning: A column-vector y was passed when a 1d array was expected. Please change the shape of y to (n_samples, ), for example using ravel().\n",
      "  return f(**kwargs)\n"
     ]
    },
    {
     "name": "stdout",
     "output_type": "stream",
     "text": [
      "[8]\tvalidation_0-merror:0.19376\n",
      "[9]\tvalidation_0-merror:0.19308\n",
      "[10]\tvalidation_0-merror:0.18968\n",
      "[11]\tvalidation_0-merror:0.18731\n",
      "[12]\tvalidation_0-merror:0.18426\n",
      "[13]\tvalidation_0-merror:0.18426\n",
      "[14]\tvalidation_0-merror:0.18154\n",
      "[15]\tvalidation_0-merror:0.18188\n",
      "[16]\tvalidation_0-merror:0.18052\n",
      "[17]\tvalidation_0-merror:0.17815\n",
      "[18]\tvalidation_0-merror:0.17781\n",
      "[19]\tvalidation_0-merror:0.17441\n",
      "[20]\tvalidation_0-merror:0.17543\n",
      "[21]\tvalidation_0-merror:0.17509\n",
      "[22]\tvalidation_0-merror:0.17509\n",
      "[23]\tvalidation_0-merror:0.17441\n",
      "[24]\tvalidation_0-merror:0.17272\n",
      "[25]\tvalidation_0-merror:0.17068\n",
      "[26]\tvalidation_0-merror:0.17204\n",
      "[27]\tvalidation_0-merror:0.17102\n",
      "[28]\tvalidation_0-merror:0.17068\n",
      "[29]\tvalidation_0-merror:0.17068\n",
      "[30]\tvalidation_0-merror:0.17000\n",
      "[31]\tvalidation_0-merror:0.16695\n",
      "[32]\tvalidation_0-merror:0.16593\n",
      "[33]\tvalidation_0-merror:0.16559\n",
      "[34]\tvalidation_0-merror:0.16559\n",
      "[35]\tvalidation_0-merror:0.16356\n",
      "[36]\tvalidation_0-merror:0.16423\n",
      "[37]\tvalidation_0-merror:0.16457\n",
      "[38]\tvalidation_0-merror:0.16525\n",
      "[39]\tvalidation_0-merror:0.16220\n",
      "[40]\tvalidation_0-merror:0.16322\n",
      "[41]\tvalidation_0-merror:0.16220\n",
      "[42]\tvalidation_0-merror:0.16254\n",
      "[43]\tvalidation_0-merror:0.16220\n",
      "[44]\tvalidation_0-merror:0.16186\n",
      "[45]\tvalidation_0-merror:0.16084\n",
      "[46]\tvalidation_0-merror:0.16016\n",
      "[47]\tvalidation_0-merror:0.16016\n",
      "[48]\tvalidation_0-merror:0.15847\n",
      "[49]\tvalidation_0-merror:0.15982\n",
      "[50]\tvalidation_0-merror:0.15711\n",
      "[51]\tvalidation_0-merror:0.15609\n",
      "[52]\tvalidation_0-merror:0.15541\n",
      "[53]\tvalidation_0-merror:0.15304\n",
      "[54]\tvalidation_0-merror:0.15236\n",
      "[55]\tvalidation_0-merror:0.15338\n",
      "[56]\tvalidation_0-merror:0.15405\n",
      "[57]\tvalidation_0-merror:0.15236\n",
      "[58]\tvalidation_0-merror:0.15270\n",
      "[59]\tvalidation_0-merror:0.15134\n",
      "[60]\tvalidation_0-merror:0.15168\n",
      "[61]\tvalidation_0-merror:0.15100\n",
      "[62]\tvalidation_0-merror:0.15066\n",
      "[63]\tvalidation_0-merror:0.14998\n",
      "[64]\tvalidation_0-merror:0.15032\n",
      "[65]\tvalidation_0-merror:0.14998\n",
      "[66]\tvalidation_0-merror:0.14896\n",
      "[67]\tvalidation_0-merror:0.14964\n",
      "[68]\tvalidation_0-merror:0.14896\n",
      "[69]\tvalidation_0-merror:0.14829\n",
      "[70]\tvalidation_0-merror:0.14829\n",
      "[71]\tvalidation_0-merror:0.14964\n",
      "[72]\tvalidation_0-merror:0.14998\n",
      "[73]\tvalidation_0-merror:0.15032\n",
      "[74]\tvalidation_0-merror:0.14795\n",
      "[75]\tvalidation_0-merror:0.14964\n",
      "[76]\tvalidation_0-merror:0.14964\n",
      "[77]\tvalidation_0-merror:0.14896\n",
      "[78]\tvalidation_0-merror:0.14964\n",
      "[79]\tvalidation_0-merror:0.14964\n",
      "[80]\tvalidation_0-merror:0.14795\n",
      "[81]\tvalidation_0-merror:0.14761\n",
      "[82]\tvalidation_0-merror:0.14795\n",
      "[83]\tvalidation_0-merror:0.14591\n",
      "[84]\tvalidation_0-merror:0.14761\n",
      "[85]\tvalidation_0-merror:0.14795\n",
      "[86]\tvalidation_0-merror:0.14557\n",
      "[87]\tvalidation_0-merror:0.14625\n",
      "[88]\tvalidation_0-merror:0.14693\n",
      "[89]\tvalidation_0-merror:0.14625\n",
      "[90]\tvalidation_0-merror:0.14421\n",
      "[91]\tvalidation_0-merror:0.14388\n",
      "[92]\tvalidation_0-merror:0.14388\n",
      "[93]\tvalidation_0-merror:0.14286\n",
      "[94]\tvalidation_0-merror:0.14388\n",
      "[95]\tvalidation_0-merror:0.14523\n",
      "[96]\tvalidation_0-merror:0.14523\n",
      "[97]\tvalidation_0-merror:0.14354\n",
      "[98]\tvalidation_0-merror:0.14354\n",
      "[99]\tvalidation_0-merror:0.14218\n",
      "[100]\tvalidation_0-merror:0.14252\n",
      "[101]\tvalidation_0-merror:0.14252\n",
      "[102]\tvalidation_0-merror:0.14354\n",
      "[103]\tvalidation_0-merror:0.14116\n",
      "[104]\tvalidation_0-merror:0.14116\n",
      "[105]\tvalidation_0-merror:0.14048\n",
      "[106]\tvalidation_0-merror:0.14082\n",
      "[107]\tvalidation_0-merror:0.14048\n",
      "[108]\tvalidation_0-merror:0.14116\n",
      "[109]\tvalidation_0-merror:0.14048\n",
      "[110]\tvalidation_0-merror:0.14218\n",
      "[111]\tvalidation_0-merror:0.13912\n",
      "[112]\tvalidation_0-merror:0.13811\n",
      "[113]\tvalidation_0-merror:0.13878\n",
      "[114]\tvalidation_0-merror:0.13845\n",
      "[115]\tvalidation_0-merror:0.13878\n",
      "[116]\tvalidation_0-merror:0.13811\n",
      "[117]\tvalidation_0-merror:0.13878\n",
      "[118]\tvalidation_0-merror:0.13980\n",
      "[119]\tvalidation_0-merror:0.13912\n",
      "[120]\tvalidation_0-merror:0.13878\n",
      "[121]\tvalidation_0-merror:0.13946\n",
      "[122]\tvalidation_0-merror:0.13946\n",
      "Stopping. Best iteration:\n",
      "[112]\tvalidation_0-merror:0.13811\n",
      "\n",
      "Fit time :  2.3384597301483154\n"
     ]
    }
   ],
   "source": [
    "import time\n",
    "from xgboost import XGBClassifier\n",
    "\n",
    "evals = [(pca.transform(X_test), y_test)]\n",
    "\n",
    "start_time = time.time()\n",
    "xgb = XGBClassifier(n_estimators=400, learning_rate=0.1, max_depth=3)\n",
    "xgb.fit(HAR_pca, y_train.values.reshape(-1,), early_stopping_rounds=10, eval_set=evals)\n",
    "print('Fit time : ', time.time() - start_time)"
   ]
  },
  {
   "cell_type": "code",
   "execution_count": 42,
   "metadata": {},
   "outputs": [
    {
     "data": {
      "text/plain": [
       "0.8618934509670851"
      ]
     },
     "execution_count": 42,
     "metadata": {},
     "output_type": "execute_result"
    }
   ],
   "source": [
    "accuracy_score(y_test, xgb.predict(pca.transform(X_test)))"
   ]
  },
  {
   "cell_type": "code",
   "execution_count": null,
   "metadata": {},
   "outputs": [],
   "source": []
  }
 ],
 "metadata": {
  "kernelspec": {
   "display_name": "Python 3",
   "language": "python",
   "name": "python3"
  },
  "language_info": {
   "codemirror_mode": {
    "name": "ipython",
    "version": 3
   },
   "file_extension": ".py",
   "mimetype": "text/x-python",
   "name": "python",
   "nbconvert_exporter": "python",
   "pygments_lexer": "ipython3",
   "version": "3.7.9"
  }
 },
 "nbformat": 4,
 "nbformat_minor": 4
}
