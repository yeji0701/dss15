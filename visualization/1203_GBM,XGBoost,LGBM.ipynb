{
 "cells": [
  {
   "cell_type": "code",
   "execution_count": 5,
   "metadata": {},
   "outputs": [],
   "source": [
    "import pandas as pd\n",
    "\n",
    "url = \"https://raw.githubusercontent.com/PinkWink/ML_tutorial/master/dataset/HAR_dataset/features.txt\"\n",
    "feature_name_df = pd.read_csv(url, sep='\\s+', header=None, names=['column_ndex', 'column_name'])\n",
    "feature_name = feature_name_df.iloc[:, 1].values.tolist()\n",
    "X_train = pd.read_csv('https://raw.githubusercontent.com/PinkWink/ML_tutorial/master/dataset/HAR_dataset/train/X_train.txt', sep='\\s+', header=None)\n",
    "X_test = pd.read_csv('https://raw.githubusercontent.com/PinkWink/ML_tutorial/master/dataset/HAR_dataset/test/X_test.txt', sep='\\s+', header=None)\n",
    "X_train.columns = feature_name\n",
    "X_test.columns = feature_name"
   ]
  },
  {
   "cell_type": "code",
   "execution_count": 7,
   "metadata": {},
   "outputs": [],
   "source": [
    "y_train_url = \"https://raw.githubusercontent.com/PinkWink/ML_tutorial/master/dataset/HAR_dataset/train/y_train.txt\"\n",
    "y_test_url = \"https://raw.githubusercontent.com/PinkWink/ML_tutorial/master/dataset/HAR_dataset/test/y_test.txt\"\n",
    "\n",
    "y_train = pd.read_csv(y_train_url, sep='\\s+', header=None, names=['action'])\n",
    "y_test = pd.read_csv(y_test_url, sep='\\s+', header=None, names=['action'])"
   ]
  },
  {
   "cell_type": "code",
   "execution_count": 8,
   "metadata": {},
   "outputs": [],
   "source": [
    "from sklearn.ensemble import GradientBoostingClassifier\n",
    "from sklearn.metrics import accuracy_score\n",
    "import time\n",
    "import warnings\n",
    "\n",
    "warnings.filterwarnings('ignore')"
   ]
  },
  {
   "cell_type": "code",
   "execution_count": 9,
   "metadata": {},
   "outputs": [
    {
     "name": "stdout",
     "output_type": "stream",
     "text": [
      "ACC :  0.9385816084153377\n",
      "Fit time :  593.3393287658691\n"
     ]
    }
   ],
   "source": [
    "start_time = time.time()\n",
    "gb_clf = GradientBoostingClassifier(random_state=13)\n",
    "gb_clf.fit(X_train, y_train)\n",
    "gb_pred = gb_clf.predict(X_test)\n",
    "\n",
    "print('ACC : ', accuracy_score(y_test, gb_pred))\n",
    "print('Fit time : ', time.time() - start_time)"
   ]
  },
  {
   "cell_type": "code",
   "execution_count": 10,
   "metadata": {},
   "outputs": [
    {
     "name": "stdout",
     "output_type": "stream",
     "text": [
      "Fitting 2 folds for each of 4 candidates, totalling 8 fits\n"
     ]
    },
    {
     "name": "stderr",
     "output_type": "stream",
     "text": [
      "[Parallel(n_jobs=-1)]: Using backend LokyBackend with 6 concurrent workers.\n",
      "[Parallel(n_jobs=-1)]: Done   6 out of   8 | elapsed: 25.7min remaining:  8.6min\n",
      "[Parallel(n_jobs=-1)]: Done   8 out of   8 | elapsed: 30.3min finished\n"
     ]
    },
    {
     "name": "stdout",
     "output_type": "stream",
     "text": [
      "Fit time :  4795.241358757019\n"
     ]
    }
   ],
   "source": [
    "from sklearn.model_selection import GridSearchCV\n",
    "\n",
    "params = {\n",
    "    'n_estimators' : [100, 500],\n",
    "    'learning_rate' : [0.05, 0.1]\n",
    "}\n",
    "\n",
    "start_time = time.time()\n",
    "grid = GridSearchCV(gb_clf, param_grid=params, cv=2, verbose=1, n_jobs=-1)\n",
    "grid.fit(X_train, y_train)\n",
    "print('Fit time : ', time.time() - start_time)"
   ]
  },
  {
   "cell_type": "code",
   "execution_count": 11,
   "metadata": {},
   "outputs": [
    {
     "data": {
      "text/plain": [
       "0.9011153427638738"
      ]
     },
     "execution_count": 11,
     "metadata": {},
     "output_type": "execute_result"
    }
   ],
   "source": [
    "grid.best_score_"
   ]
  },
  {
   "cell_type": "code",
   "execution_count": 12,
   "metadata": {},
   "outputs": [
    {
     "data": {
      "text/plain": [
       "{'learning_rate': 0.1, 'n_estimators': 500}"
      ]
     },
     "execution_count": 12,
     "metadata": {},
     "output_type": "execute_result"
    }
   ],
   "source": [
    "grid.best_params_"
   ]
  },
  {
   "cell_type": "code",
   "execution_count": 15,
   "metadata": {},
   "outputs": [
    {
     "data": {
      "text/plain": [
       "0.9419748897183576"
      ]
     },
     "execution_count": 15,
     "metadata": {},
     "output_type": "execute_result"
    }
   ],
   "source": [
    "accuracy_score(y_test, grid.best_estimator_.predict(X_test))"
   ]
  },
  {
   "cell_type": "code",
   "execution_count": 16,
   "metadata": {},
   "outputs": [
    {
     "name": "stdout",
     "output_type": "stream",
     "text": [
      "[10:57:21] WARNING: C:\\Users\\Administrator\\workspace\\xgboost-win64_release_1.2.0\\src\\learner.cc:516: \n",
      "Parameters: { max_depths } might not be used.\n",
      "\n",
      "  This may not be accurate due to some parameters are only used in language bindings but\n",
      "  passed down to XGBoost core.  Or some parameters are not used but slip through this\n",
      "  verification. Please open an issue if you find above cases.\n",
      "\n",
      "\n",
      "Fit time :  65.03522944450378\n"
     ]
    }
   ],
   "source": [
    "from xgboost import XGBClassifier\n",
    "\n",
    "start_time = time.time()\n",
    "xgb = XGBClassifier(n_estimators=400, learning_rate=0.1, max_depths=3)\n",
    "xgb.fit(X_train.values, y_train)\n",
    "print('Fit time : ', time.time() - start_time)"
   ]
  },
  {
   "cell_type": "code",
   "execution_count": 17,
   "metadata": {},
   "outputs": [
    {
     "data": {
      "text/plain": [
       "0.9419748897183576"
      ]
     },
     "execution_count": 17,
     "metadata": {},
     "output_type": "execute_result"
    }
   ],
   "source": [
    "accuracy_score(y_test, grid.best_estimator_.predict(X_test.values))"
   ]
  },
  {
   "cell_type": "code",
   "execution_count": 19,
   "metadata": {
    "scrolled": true
   },
   "outputs": [
    {
     "name": "stdout",
     "output_type": "stream",
     "text": [
      "[0]\tvalidation_0-merror:0.17916\n",
      "Will train until validation_0-merror hasn't improved in 10 rounds.\n",
      "[1]\tvalidation_0-merror:0.16288\n",
      "[2]\tvalidation_0-merror:0.15100\n",
      "[3]\tvalidation_0-merror:0.14388\n",
      "[4]\tvalidation_0-merror:0.14252\n",
      "[5]\tvalidation_0-merror:0.13336\n",
      "[6]\tvalidation_0-merror:0.12521\n",
      "[7]\tvalidation_0-merror:0.12453\n",
      "[8]\tvalidation_0-merror:0.11978\n",
      "[9]\tvalidation_0-merror:0.11707\n",
      "[10]\tvalidation_0-merror:0.11130\n",
      "[11]\tvalidation_0-merror:0.10892\n",
      "[12]\tvalidation_0-merror:0.10960\n",
      "[13]\tvalidation_0-merror:0.10655\n",
      "[14]\tvalidation_0-merror:0.10485\n",
      "[15]\tvalidation_0-merror:0.10248\n",
      "[16]\tvalidation_0-merror:0.10078\n",
      "[17]\tvalidation_0-merror:0.09773\n",
      "[18]\tvalidation_0-merror:0.09841\n",
      "[19]\tvalidation_0-merror:0.09637\n",
      "[20]\tvalidation_0-merror:0.09569\n",
      "[21]\tvalidation_0-merror:0.09603\n",
      "[22]\tvalidation_0-merror:0.09637\n",
      "[23]\tvalidation_0-merror:0.09671\n",
      "[24]\tvalidation_0-merror:0.09399\n",
      "[25]\tvalidation_0-merror:0.09264\n",
      "[26]\tvalidation_0-merror:0.09196\n",
      "[27]\tvalidation_0-merror:0.09230\n",
      "[28]\tvalidation_0-merror:0.09298\n",
      "[29]\tvalidation_0-merror:0.09128\n",
      "[30]\tvalidation_0-merror:0.09162\n",
      "[31]\tvalidation_0-merror:0.08992\n",
      "[32]\tvalidation_0-merror:0.08585\n",
      "[33]\tvalidation_0-merror:0.08585\n",
      "[34]\tvalidation_0-merror:0.08551\n",
      "[35]\tvalidation_0-merror:0.08415\n",
      "[36]\tvalidation_0-merror:0.08314\n",
      "[37]\tvalidation_0-merror:0.08144\n",
      "[38]\tvalidation_0-merror:0.08212\n",
      "[39]\tvalidation_0-merror:0.08144\n",
      "[40]\tvalidation_0-merror:0.08144\n",
      "[41]\tvalidation_0-merror:0.07906\n",
      "[42]\tvalidation_0-merror:0.08008\n",
      "[43]\tvalidation_0-merror:0.07737\n",
      "[44]\tvalidation_0-merror:0.07601\n",
      "[45]\tvalidation_0-merror:0.07635\n",
      "[46]\tvalidation_0-merror:0.07397\n",
      "[47]\tvalidation_0-merror:0.07363\n",
      "[48]\tvalidation_0-merror:0.07296\n",
      "[49]\tvalidation_0-merror:0.07160\n",
      "[50]\tvalidation_0-merror:0.07262\n",
      "[51]\tvalidation_0-merror:0.07024\n",
      "[52]\tvalidation_0-merror:0.07058\n",
      "[53]\tvalidation_0-merror:0.07024\n",
      "[54]\tvalidation_0-merror:0.06922\n",
      "[55]\tvalidation_0-merror:0.06888\n",
      "[56]\tvalidation_0-merror:0.07024\n",
      "[57]\tvalidation_0-merror:0.06888\n",
      "[58]\tvalidation_0-merror:0.06956\n",
      "[59]\tvalidation_0-merror:0.06888\n",
      "[60]\tvalidation_0-merror:0.06787\n",
      "[61]\tvalidation_0-merror:0.06922\n",
      "[62]\tvalidation_0-merror:0.06888\n",
      "[63]\tvalidation_0-merror:0.06888\n",
      "[64]\tvalidation_0-merror:0.06787\n",
      "[65]\tvalidation_0-merror:0.06821\n",
      "[66]\tvalidation_0-merror:0.06821\n",
      "[67]\tvalidation_0-merror:0.06821\n",
      "[68]\tvalidation_0-merror:0.06753\n",
      "[69]\tvalidation_0-merror:0.06617\n",
      "[70]\tvalidation_0-merror:0.06617\n",
      "[71]\tvalidation_0-merror:0.06617\n",
      "[72]\tvalidation_0-merror:0.06481\n",
      "[73]\tvalidation_0-merror:0.06515\n",
      "[74]\tvalidation_0-merror:0.06515\n",
      "[75]\tvalidation_0-merror:0.06583\n",
      "[76]\tvalidation_0-merror:0.06549\n",
      "[77]\tvalidation_0-merror:0.06583\n",
      "[78]\tvalidation_0-merror:0.06549\n",
      "[79]\tvalidation_0-merror:0.06583\n",
      "[80]\tvalidation_0-merror:0.06617\n",
      "[81]\tvalidation_0-merror:0.06549\n",
      "[82]\tvalidation_0-merror:0.06447\n",
      "[83]\tvalidation_0-merror:0.06447\n",
      "[84]\tvalidation_0-merror:0.06379\n",
      "[85]\tvalidation_0-merror:0.06379\n",
      "[86]\tvalidation_0-merror:0.06278\n",
      "[87]\tvalidation_0-merror:0.06244\n",
      "[88]\tvalidation_0-merror:0.06379\n",
      "[89]\tvalidation_0-merror:0.06345\n",
      "[90]\tvalidation_0-merror:0.06312\n",
      "[91]\tvalidation_0-merror:0.06278\n",
      "[92]\tvalidation_0-merror:0.06312\n",
      "[93]\tvalidation_0-merror:0.06176\n",
      "[94]\tvalidation_0-merror:0.06176\n",
      "[95]\tvalidation_0-merror:0.06176\n",
      "[96]\tvalidation_0-merror:0.06108\n",
      "[97]\tvalidation_0-merror:0.06074\n",
      "[98]\tvalidation_0-merror:0.06040\n",
      "[99]\tvalidation_0-merror:0.05938\n",
      "[100]\tvalidation_0-merror:0.06074\n",
      "[101]\tvalidation_0-merror:0.05938\n",
      "[102]\tvalidation_0-merror:0.05938\n",
      "[103]\tvalidation_0-merror:0.05904\n",
      "[104]\tvalidation_0-merror:0.05972\n",
      "[105]\tvalidation_0-merror:0.06108\n",
      "[106]\tvalidation_0-merror:0.05870\n",
      "[107]\tvalidation_0-merror:0.05972\n",
      "[108]\tvalidation_0-merror:0.05803\n",
      "[109]\tvalidation_0-merror:0.05735\n",
      "[110]\tvalidation_0-merror:0.05735\n",
      "[111]\tvalidation_0-merror:0.06006\n",
      "[112]\tvalidation_0-merror:0.05972\n",
      "[113]\tvalidation_0-merror:0.05972\n",
      "[114]\tvalidation_0-merror:0.06006\n",
      "[115]\tvalidation_0-merror:0.05972\n",
      "[116]\tvalidation_0-merror:0.06006\n",
      "[117]\tvalidation_0-merror:0.06006\n",
      "[118]\tvalidation_0-merror:0.06006\n",
      "[119]\tvalidation_0-merror:0.06006\n",
      "Stopping. Best iteration:\n",
      "[109]\tvalidation_0-merror:0.05735\n",
      "\n",
      "Fit time :  26.76306653022766\n"
     ]
    }
   ],
   "source": [
    "from xgboost import XGBClassifier\n",
    "\n",
    "evals = [(X_test.values, y_test)]\n",
    "\n",
    "start_time = time.time()\n",
    "xgb = XGBClassifier(n_estimators=400, learning_rate=0.1, max_depth=3)\n",
    "xgb.fit(X_train.values, y_train, early_stopping_rounds=10, eval_set=evals)\n",
    "print('Fit time : ', time.time() - start_time)"
   ]
  },
  {
   "cell_type": "code",
   "execution_count": 20,
   "metadata": {},
   "outputs": [
    {
     "data": {
      "text/plain": [
       "0.9419748897183576"
      ]
     },
     "execution_count": 20,
     "metadata": {},
     "output_type": "execute_result"
    }
   ],
   "source": [
    "accuracy_score(y_test, grid.best_estimator_.predict(X_test.values))"
   ]
  },
  {
   "cell_type": "code",
   "execution_count": 21,
   "metadata": {
    "scrolled": true
   },
   "outputs": [
    {
     "name": "stdout",
     "output_type": "stream",
     "text": [
      "[1]\tvalid_0's multi_logloss: 1.4404\n",
      "Training until validation scores don't improve for 100 rounds\n",
      "[2]\tvalid_0's multi_logloss: 1.21574\n",
      "[3]\tvalid_0's multi_logloss: 1.04795\n",
      "[4]\tvalid_0's multi_logloss: 0.913299\n",
      "[5]\tvalid_0's multi_logloss: 0.812686\n",
      "[6]\tvalid_0's multi_logloss: 0.725964\n",
      "[7]\tvalid_0's multi_logloss: 0.652995\n",
      "[8]\tvalid_0's multi_logloss: 0.591598\n",
      "[9]\tvalid_0's multi_logloss: 0.539383\n",
      "[10]\tvalid_0's multi_logloss: 0.499944\n",
      "[11]\tvalid_0's multi_logloss: 0.462273\n",
      "[12]\tvalid_0's multi_logloss: 0.429676\n",
      "[13]\tvalid_0's multi_logloss: 0.401908\n",
      "[14]\tvalid_0's multi_logloss: 0.377718\n",
      "[15]\tvalid_0's multi_logloss: 0.357455\n",
      "[16]\tvalid_0's multi_logloss: 0.339918\n",
      "[17]\tvalid_0's multi_logloss: 0.325799\n",
      "[18]\tvalid_0's multi_logloss: 0.314716\n",
      "[19]\tvalid_0's multi_logloss: 0.301914\n",
      "[20]\tvalid_0's multi_logloss: 0.292755\n",
      "[21]\tvalid_0's multi_logloss: 0.284754\n",
      "[22]\tvalid_0's multi_logloss: 0.276745\n",
      "[23]\tvalid_0's multi_logloss: 0.270387\n",
      "[24]\tvalid_0's multi_logloss: 0.265765\n",
      "[25]\tvalid_0's multi_logloss: 0.260089\n",
      "[26]\tvalid_0's multi_logloss: 0.256178\n",
      "[27]\tvalid_0's multi_logloss: 0.251189\n",
      "[28]\tvalid_0's multi_logloss: 0.248143\n",
      "[29]\tvalid_0's multi_logloss: 0.246272\n",
      "[30]\tvalid_0's multi_logloss: 0.24341\n",
      "[31]\tvalid_0's multi_logloss: 0.241248\n",
      "[32]\tvalid_0's multi_logloss: 0.24022\n",
      "[33]\tvalid_0's multi_logloss: 0.239652\n",
      "[34]\tvalid_0's multi_logloss: 0.238179\n",
      "[35]\tvalid_0's multi_logloss: 0.23699\n",
      "[36]\tvalid_0's multi_logloss: 0.2361\n",
      "[37]\tvalid_0's multi_logloss: 0.233816\n",
      "[38]\tvalid_0's multi_logloss: 0.233106\n",
      "[39]\tvalid_0's multi_logloss: 0.233421\n",
      "[40]\tvalid_0's multi_logloss: 0.23376\n",
      "[41]\tvalid_0's multi_logloss: 0.234338\n",
      "[42]\tvalid_0's multi_logloss: 0.234543\n",
      "[43]\tvalid_0's multi_logloss: 0.234652\n",
      "[44]\tvalid_0's multi_logloss: 0.233933\n",
      "[45]\tvalid_0's multi_logloss: 0.234656\n",
      "[46]\tvalid_0's multi_logloss: 0.234617\n",
      "[47]\tvalid_0's multi_logloss: 0.235371\n",
      "[48]\tvalid_0's multi_logloss: 0.236855\n",
      "[49]\tvalid_0's multi_logloss: 0.235197\n",
      "[50]\tvalid_0's multi_logloss: 0.236224\n",
      "[51]\tvalid_0's multi_logloss: 0.236696\n",
      "[52]\tvalid_0's multi_logloss: 0.237868\n",
      "[53]\tvalid_0's multi_logloss: 0.236315\n",
      "[54]\tvalid_0's multi_logloss: 0.239717\n",
      "[55]\tvalid_0's multi_logloss: 0.241621\n",
      "[56]\tvalid_0's multi_logloss: 0.243416\n",
      "[57]\tvalid_0's multi_logloss: 0.244416\n",
      "[58]\tvalid_0's multi_logloss: 0.245904\n",
      "[59]\tvalid_0's multi_logloss: 0.244177\n",
      "[60]\tvalid_0's multi_logloss: 0.249222\n",
      "[61]\tvalid_0's multi_logloss: 0.25041\n",
      "[62]\tvalid_0's multi_logloss: 0.250982\n",
      "[63]\tvalid_0's multi_logloss: 0.249934\n",
      "[64]\tvalid_0's multi_logloss: 0.250107\n",
      "[65]\tvalid_0's multi_logloss: 0.252704\n",
      "[66]\tvalid_0's multi_logloss: 0.253061\n",
      "[67]\tvalid_0's multi_logloss: 0.25403\n",
      "[68]\tvalid_0's multi_logloss: 0.254586\n",
      "[69]\tvalid_0's multi_logloss: 0.257923\n",
      "[70]\tvalid_0's multi_logloss: 0.259529\n",
      "[71]\tvalid_0's multi_logloss: 0.259736\n",
      "[72]\tvalid_0's multi_logloss: 0.260189\n",
      "[73]\tvalid_0's multi_logloss: 0.260231\n",
      "[74]\tvalid_0's multi_logloss: 0.261524\n",
      "[75]\tvalid_0's multi_logloss: 0.261289\n",
      "[76]\tvalid_0's multi_logloss: 0.25997\n",
      "[77]\tvalid_0's multi_logloss: 0.259304\n",
      "[78]\tvalid_0's multi_logloss: 0.26109\n",
      "[79]\tvalid_0's multi_logloss: 0.264029\n",
      "[80]\tvalid_0's multi_logloss: 0.262772\n",
      "[81]\tvalid_0's multi_logloss: 0.263047\n",
      "[82]\tvalid_0's multi_logloss: 0.263413\n",
      "[83]\tvalid_0's multi_logloss: 0.264662\n",
      "[84]\tvalid_0's multi_logloss: 0.264069\n",
      "[85]\tvalid_0's multi_logloss: 0.266621\n",
      "[86]\tvalid_0's multi_logloss: 0.265539\n",
      "[87]\tvalid_0's multi_logloss: 0.265186\n",
      "[88]\tvalid_0's multi_logloss: 0.265143\n",
      "[89]\tvalid_0's multi_logloss: 0.265168\n",
      "[90]\tvalid_0's multi_logloss: 0.267091\n",
      "[91]\tvalid_0's multi_logloss: 0.26738\n",
      "[92]\tvalid_0's multi_logloss: 0.267112\n",
      "[93]\tvalid_0's multi_logloss: 0.267292\n",
      "[94]\tvalid_0's multi_logloss: 0.266334\n",
      "[95]\tvalid_0's multi_logloss: 0.266265\n",
      "[96]\tvalid_0's multi_logloss: 0.26572\n",
      "[97]\tvalid_0's multi_logloss: 0.265671\n",
      "[98]\tvalid_0's multi_logloss: 0.265732\n",
      "[99]\tvalid_0's multi_logloss: 0.265704\n",
      "[100]\tvalid_0's multi_logloss: 0.264742\n",
      "[101]\tvalid_0's multi_logloss: 0.266353\n",
      "[102]\tvalid_0's multi_logloss: 0.265204\n",
      "[103]\tvalid_0's multi_logloss: 0.265003\n",
      "[104]\tvalid_0's multi_logloss: 0.265678\n",
      "[105]\tvalid_0's multi_logloss: 0.266\n",
      "[106]\tvalid_0's multi_logloss: 0.265789\n",
      "[107]\tvalid_0's multi_logloss: 0.265048\n",
      "[108]\tvalid_0's multi_logloss: 0.265532\n",
      "[109]\tvalid_0's multi_logloss: 0.26544\n",
      "[110]\tvalid_0's multi_logloss: 0.265249\n",
      "[111]\tvalid_0's multi_logloss: 0.264829\n",
      "[112]\tvalid_0's multi_logloss: 0.265059\n",
      "[113]\tvalid_0's multi_logloss: 0.264581\n",
      "[114]\tvalid_0's multi_logloss: 0.264096\n",
      "[115]\tvalid_0's multi_logloss: 0.263705\n",
      "[116]\tvalid_0's multi_logloss: 0.264037\n",
      "[117]\tvalid_0's multi_logloss: 0.263718\n",
      "[118]\tvalid_0's multi_logloss: 0.263785\n",
      "[119]\tvalid_0's multi_logloss: 0.263835\n",
      "[120]\tvalid_0's multi_logloss: 0.263076\n",
      "[121]\tvalid_0's multi_logloss: 0.261902\n",
      "[122]\tvalid_0's multi_logloss: 0.262373\n",
      "[123]\tvalid_0's multi_logloss: 0.262332\n",
      "[124]\tvalid_0's multi_logloss: 0.26156\n",
      "[125]\tvalid_0's multi_logloss: 0.261795\n",
      "[126]\tvalid_0's multi_logloss: 0.262118\n",
      "[127]\tvalid_0's multi_logloss: 0.261702\n",
      "[128]\tvalid_0's multi_logloss: 0.261945\n",
      "[129]\tvalid_0's multi_logloss: 0.261303\n",
      "[130]\tvalid_0's multi_logloss: 0.261279\n",
      "[131]\tvalid_0's multi_logloss: 0.261045\n",
      "[132]\tvalid_0's multi_logloss: 0.261628\n",
      "[133]\tvalid_0's multi_logloss: 0.26134\n",
      "[134]\tvalid_0's multi_logloss: 0.260882\n",
      "[135]\tvalid_0's multi_logloss: 0.260979\n",
      "[136]\tvalid_0's multi_logloss: 0.260353\n",
      "[137]\tvalid_0's multi_logloss: 0.260621\n",
      "[138]\tvalid_0's multi_logloss: 0.25998\n",
      "Early stopping, best iteration is:\n",
      "[38]\tvalid_0's multi_logloss: 0.233106\n",
      "Fit time :  13.717236995697021\n"
     ]
    }
   ],
   "source": [
    "from lightgbm import LGBMClassifier\n",
    "\n",
    "start_time = time.time()\n",
    "lgbm = LGBMClassifier(n_estimators=400)\n",
    "lgbm.fit(X_train.values, y_train, early_stopping_rounds=100, eval_set=evals)\n",
    "print('Fit time : ', time.time() - start_time)"
   ]
  },
  {
   "cell_type": "code",
   "execution_count": 22,
   "metadata": {},
   "outputs": [
    {
     "data": {
      "text/plain": [
       "0.9419748897183576"
      ]
     },
     "execution_count": 22,
     "metadata": {},
     "output_type": "execute_result"
    }
   ],
   "source": [
    "accuracy_score(y_test, grid.best_estimator_.predict(X_test.values))"
   ]
  },
  {
   "cell_type": "code",
   "execution_count": null,
   "metadata": {},
   "outputs": [],
   "source": []
  }
 ],
 "metadata": {
  "kernelspec": {
   "display_name": "Python 3",
   "language": "python",
   "name": "python3"
  },
  "language_info": {
   "codemirror_mode": {
    "name": "ipython",
    "version": 3
   },
   "file_extension": ".py",
   "mimetype": "text/x-python",
   "name": "python",
   "nbconvert_exporter": "python",
   "pygments_lexer": "ipython3",
   "version": "3.7.9"
  }
 },
 "nbformat": 4,
 "nbformat_minor": 4
}
