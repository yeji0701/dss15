{
 "cells": [
  {
   "cell_type": "code",
   "execution_count": 74,
   "metadata": {},
   "outputs": [],
   "source": [
    "import pandas as pd\n",
    "import seaborn as sns\n",
    "import matplotlib.pyplot as plt\n",
    "\n",
    "\n",
    "from matplotlib import font_manager\n",
    "f_path = \"C:\\Windows\\Fonts\\malgun.ttf\"\n",
    "font_manager.FontProperties(fname=f_path).get_name()\n",
    "from matplotlib import rc\n",
    "rc('font', family='Malgun Gothic')\n"
   ]
  },
  {
   "cell_type": "code",
   "execution_count": 75,
   "metadata": {
    "collapsed": true
   },
   "outputs": [
    {
     "data": {
      "text/html": [
       "<div>\n",
       "<style scoped>\n",
       "    .dataframe tbody tr th:only-of-type {\n",
       "        vertical-align: middle;\n",
       "    }\n",
       "\n",
       "    .dataframe tbody tr th {\n",
       "        vertical-align: top;\n",
       "    }\n",
       "\n",
       "    .dataframe thead th {\n",
       "        text-align: right;\n",
       "    }\n",
       "</style>\n",
       "<table border=\"1\" class=\"dataframe\">\n",
       "  <thead>\n",
       "    <tr style=\"text-align: right;\">\n",
       "      <th></th>\n",
       "      <th>Code</th>\n",
       "      <th>Movie</th>\n",
       "      <th>Audience</th>\n",
       "      <th>Screen</th>\n",
       "      <th>genres</th>\n",
       "      <th>AgeRate</th>\n",
       "      <th>month</th>\n",
       "      <th>year</th>\n",
       "      <th>four_month</th>\n",
       "      <th>year_cat</th>\n",
       "    </tr>\n",
       "  </thead>\n",
       "  <tbody>\n",
       "    <tr>\n",
       "      <th>0</th>\n",
       "      <td>20192193</td>\n",
       "      <td>도굴</td>\n",
       "      <td>565.469</td>\n",
       "      <td>1634</td>\n",
       "      <td>범죄</td>\n",
       "      <td>청소년관람가</td>\n",
       "      <td>11</td>\n",
       "      <td>2020</td>\n",
       "      <td>4</td>\n",
       "      <td>35</td>\n",
       "    </tr>\n",
       "    <tr>\n",
       "      <th>1</th>\n",
       "      <td>20197121</td>\n",
       "      <td>삼진그룹 영어토익반</td>\n",
       "      <td>1257.444</td>\n",
       "      <td>1080</td>\n",
       "      <td>드라마</td>\n",
       "      <td>청소년관람가</td>\n",
       "      <td>10</td>\n",
       "      <td>2020</td>\n",
       "      <td>4</td>\n",
       "      <td>35</td>\n",
       "    </tr>\n",
       "    <tr>\n",
       "      <th>2</th>\n",
       "      <td>20199816</td>\n",
       "      <td>담보</td>\n",
       "      <td>1702.252</td>\n",
       "      <td>407</td>\n",
       "      <td>드라마</td>\n",
       "      <td>청소년관람가</td>\n",
       "      <td>9</td>\n",
       "      <td>2020</td>\n",
       "      <td>4</td>\n",
       "      <td>35</td>\n",
       "    </tr>\n",
       "    <tr>\n",
       "      <th>3</th>\n",
       "      <td>20208508</td>\n",
       "      <td>미스터트롯: 더 무비</td>\n",
       "      <td>140.594</td>\n",
       "      <td>159</td>\n",
       "      <td>공연</td>\n",
       "      <td>전체관람가</td>\n",
       "      <td>10</td>\n",
       "      <td>2020</td>\n",
       "      <td>4</td>\n",
       "      <td>35</td>\n",
       "    </tr>\n",
       "    <tr>\n",
       "      <th>4</th>\n",
       "      <td>20194424</td>\n",
       "      <td>소리도 없이</td>\n",
       "      <td>401.759</td>\n",
       "      <td>126</td>\n",
       "      <td>범죄</td>\n",
       "      <td>청소년관람가</td>\n",
       "      <td>10</td>\n",
       "      <td>2020</td>\n",
       "      <td>4</td>\n",
       "      <td>35</td>\n",
       "    </tr>\n",
       "    <tr>\n",
       "      <th>...</th>\n",
       "      <td>...</td>\n",
       "      <td>...</td>\n",
       "      <td>...</td>\n",
       "      <td>...</td>\n",
       "      <td>...</td>\n",
       "      <td>...</td>\n",
       "      <td>...</td>\n",
       "      <td>...</td>\n",
       "      <td>...</td>\n",
       "      <td>...</td>\n",
       "    </tr>\n",
       "    <tr>\n",
       "      <th>352</th>\n",
       "      <td>20145501</td>\n",
       "      <td>돌연변이</td>\n",
       "      <td>100.498</td>\n",
       "      <td>7</td>\n",
       "      <td>드라마</td>\n",
       "      <td>청소년관람가</td>\n",
       "      <td>10</td>\n",
       "      <td>2015</td>\n",
       "      <td>4</td>\n",
       "      <td>30</td>\n",
       "    </tr>\n",
       "    <tr>\n",
       "      <th>353</th>\n",
       "      <td>20157465</td>\n",
       "      <td>그놈이다</td>\n",
       "      <td>1045.218</td>\n",
       "      <td>35</td>\n",
       "      <td>스릴러</td>\n",
       "      <td>청소년관람가</td>\n",
       "      <td>10</td>\n",
       "      <td>2015</td>\n",
       "      <td>4</td>\n",
       "      <td>30</td>\n",
       "    </tr>\n",
       "    <tr>\n",
       "      <th>354</th>\n",
       "      <td>20157464</td>\n",
       "      <td>더 폰</td>\n",
       "      <td>1593.592</td>\n",
       "      <td>7</td>\n",
       "      <td>스릴러</td>\n",
       "      <td>청소년관람가</td>\n",
       "      <td>10</td>\n",
       "      <td>2015</td>\n",
       "      <td>4</td>\n",
       "      <td>30</td>\n",
       "    </tr>\n",
       "    <tr>\n",
       "      <th>355</th>\n",
       "      <td>20142855</td>\n",
       "      <td>성난 변호사</td>\n",
       "      <td>1127.747</td>\n",
       "      <td>21</td>\n",
       "      <td>범죄</td>\n",
       "      <td>청소년관람가</td>\n",
       "      <td>10</td>\n",
       "      <td>2015</td>\n",
       "      <td>4</td>\n",
       "      <td>30</td>\n",
       "    </tr>\n",
       "    <tr>\n",
       "      <th>356</th>\n",
       "      <td>20149961</td>\n",
       "      <td>미안해 사랑해 고마워</td>\n",
       "      <td>50.571</td>\n",
       "      <td>5</td>\n",
       "      <td>드라마</td>\n",
       "      <td>청소년관람가</td>\n",
       "      <td>10</td>\n",
       "      <td>2015</td>\n",
       "      <td>4</td>\n",
       "      <td>30</td>\n",
       "    </tr>\n",
       "  </tbody>\n",
       "</table>\n",
       "<p>357 rows × 10 columns</p>\n",
       "</div>"
      ],
      "text/plain": [
       "         Code        Movie  Audience  Screen genres AgeRate  month  year  \\\n",
       "0    20192193           도굴   565.469    1634     범죄  청소년관람가     11  2020   \n",
       "1    20197121   삼진그룹 영어토익반  1257.444    1080    드라마  청소년관람가     10  2020   \n",
       "2    20199816           담보  1702.252     407    드라마  청소년관람가      9  2020   \n",
       "3    20208508  미스터트롯: 더 무비   140.594     159     공연   전체관람가     10  2020   \n",
       "4    20194424       소리도 없이   401.759     126     범죄  청소년관람가     10  2020   \n",
       "..        ...          ...       ...     ...    ...     ...    ...   ...   \n",
       "352  20145501         돌연변이   100.498       7    드라마  청소년관람가     10  2015   \n",
       "353  20157465         그놈이다  1045.218      35    스릴러  청소년관람가     10  2015   \n",
       "354  20157464          더 폰  1593.592       7    스릴러  청소년관람가     10  2015   \n",
       "355  20142855       성난 변호사  1127.747      21     범죄  청소년관람가     10  2015   \n",
       "356  20149961  미안해 사랑해 고마워    50.571       5    드라마  청소년관람가     10  2015   \n",
       "\n",
       "     four_month  year_cat  \n",
       "0             4        35  \n",
       "1             4        35  \n",
       "2             4        35  \n",
       "3             4        35  \n",
       "4             4        35  \n",
       "..          ...       ...  \n",
       "352           4        30  \n",
       "353           4        30  \n",
       "354           4        30  \n",
       "355           4        30  \n",
       "356           4        30  \n",
       "\n",
       "[357 rows x 10 columns]"
      ]
     },
     "execution_count": 75,
     "metadata": {},
     "output_type": "execute_result"
    }
   ],
   "source": [
    "movie = pd.read_csv(\"./datas/movie2015~2020.csv\", index_col=[0])\n",
    "movie.reset_index(drop=True)"
   ]
  },
  {
   "cell_type": "markdown",
   "metadata": {},
   "source": [
    "## 1. 연도별 총 영화 개봉 수\n",
    "### - 코로나 여파로 인해 2020년에는 영화가 많이 개봉하지 않았을 것으로 예상\n",
    "### - 2015~2020년 기간 중 가장 적진 않지만 지난 해에 비해 개봉 수가 21 감소하였음.\n"
   ]
  },
  {
   "cell_type": "code",
   "execution_count": 134,
   "metadata": {},
   "outputs": [
    {
     "data": {
      "text/html": [
       "<div>\n",
       "<style scoped>\n",
       "    .dataframe tbody tr th:only-of-type {\n",
       "        vertical-align: middle;\n",
       "    }\n",
       "\n",
       "    .dataframe tbody tr th {\n",
       "        vertical-align: top;\n",
       "    }\n",
       "\n",
       "    .dataframe thead th {\n",
       "        text-align: right;\n",
       "    }\n",
       "</style>\n",
       "<table border=\"1\" class=\"dataframe\">\n",
       "  <thead>\n",
       "    <tr style=\"text-align: right;\">\n",
       "      <th></th>\n",
       "      <th>0</th>\n",
       "    </tr>\n",
       "    <tr>\n",
       "      <th>year</th>\n",
       "      <th></th>\n",
       "    </tr>\n",
       "  </thead>\n",
       "  <tbody>\n",
       "    <tr>\n",
       "      <th>2015</th>\n",
       "      <td>27</td>\n",
       "    </tr>\n",
       "    <tr>\n",
       "      <th>2016</th>\n",
       "      <td>64</td>\n",
       "    </tr>\n",
       "    <tr>\n",
       "      <th>2017</th>\n",
       "      <td>64</td>\n",
       "    </tr>\n",
       "    <tr>\n",
       "      <th>2018</th>\n",
       "      <td>77</td>\n",
       "    </tr>\n",
       "    <tr>\n",
       "      <th>2019</th>\n",
       "      <td>73</td>\n",
       "    </tr>\n",
       "    <tr>\n",
       "      <th>2020</th>\n",
       "      <td>52</td>\n",
       "    </tr>\n",
       "  </tbody>\n",
       "</table>\n",
       "</div>"
      ],
      "text/plain": [
       "       0\n",
       "year    \n",
       "2015  27\n",
       "2016  64\n",
       "2017  64\n",
       "2018  77\n",
       "2019  73\n",
       "2020  52"
      ]
     },
     "execution_count": 134,
     "metadata": {},
     "output_type": "execute_result"
    }
   ],
   "source": [
    "# 연도별 총 영화 개봉 수\n",
    "year_c = movie.groupby('year').size().to_frame()\n",
    "year_c"
   ]
  },
  {
   "cell_type": "code",
   "execution_count": 96,
   "metadata": {},
   "outputs": [
    {
     "data": {
      "image/png": "[encoded data removed]",
      "text/plain": [
       "<Figure size 720x432 with 1 Axes>"
      ]
     },
     "metadata": {},
     "output_type": "display_data"
    }
   ],
   "source": [
    "# 2018년에 77개로 가장 많았음\n",
    "sns.set_style('darkgrid')\n",
    "plt.figure(figsize=(10,6))\n",
    "plt.plot(year_c);"
   ]
  },
  {
   "cell_type": "code",
   "execution_count": 101,
   "metadata": {},
   "outputs": [],
   "source": [
    "### 2. 연도 관계 없이 월별 총 영화 개봉 수\n",
    "# month_c = movie.groupby('month').size().to_frame()\n",
    "# month_c"
   ]
  },
  {
   "cell_type": "code",
   "execution_count": 99,
   "metadata": {
    "scrolled": false
   },
   "outputs": [],
   "source": [
    "# sns.set_style('darkgrid')\n",
    "# plt.figure(figsize=(10,6))\n",
    "# plt.plot(month_c);"
   ]
  },
  {
   "cell_type": "markdown",
   "metadata": {},
   "source": [
    "## 2. 월별 총 영화 개봉 수\n",
    "### - 명절(1월, 9월), 크리스마스 시즌(12월) 등 연휴가 있는 달에는 외출과 만남이 더 자주 있어서 영화 개봉 수가 많을 것으로 예상\n",
    "### - 지난해에 비해 2020년 영화 개봉 수는 감소하였으나, 2020년 9월에 수가 전체에서 가장 많았음.\n",
    "### - 9월에 많다면 가족이 함께 관람할 수 있는 장르의 영화가 많을 것으로 예상하여 확인한 결과 드라마(2), 코미디(3) 장르의 영화가 많았음.\n",
    "### (담보, 오!문희, 국제수사, 죽지않는 인간들의 밤, 강철비2)"
   ]
  },
  {
   "cell_type": "code",
   "execution_count": 102,
   "metadata": {},
   "outputs": [],
   "source": [
    "# my_c = movie.groupby(['month', 'year']).size().to_frame()\n",
    "# my_c"
   ]
  },
  {
   "cell_type": "code",
   "execution_count": 81,
   "metadata": {
    "scrolled": false
   },
   "outputs": [
    {
     "data": {
      "image/png": "[encoded data removed]",
      "text/plain": [
       "<Figure size 720x432 with 1 Axes>"
      ]
     },
     "metadata": {},
     "output_type": "display_data"
    }
   ],
   "source": [
    "# 2020년 9월에 13개로 가장 많았음\n",
    "sns.set_style('whitegrid')\n",
    "plt.figure(figsize=(10,6))\n",
    "sns.countplot(x='year', hue='month', data=movie, palette='Spectral');"
   ]
  },
  {
   "cell_type": "code",
   "execution_count": 86,
   "metadata": {
    "scrolled": false
   },
   "outputs": [
    {
     "data": {
      "text/html": [
       "<div>\n",
       "<style scoped>\n",
       "    .dataframe tbody tr th:only-of-type {\n",
       "        vertical-align: middle;\n",
       "    }\n",
       "\n",
       "    .dataframe tbody tr th {\n",
       "        vertical-align: top;\n",
       "    }\n",
       "\n",
       "    .dataframe thead th {\n",
       "        text-align: right;\n",
       "    }\n",
       "</style>\n",
       "<table border=\"1\" class=\"dataframe\">\n",
       "  <thead>\n",
       "    <tr style=\"text-align: right;\">\n",
       "      <th></th>\n",
       "      <th>0</th>\n",
       "    </tr>\n",
       "    <tr>\n",
       "      <th>genres</th>\n",
       "      <th></th>\n",
       "    </tr>\n",
       "  </thead>\n",
       "  <tbody>\n",
       "    <tr>\n",
       "      <th>공연</th>\n",
       "      <td>1</td>\n",
       "    </tr>\n",
       "    <tr>\n",
       "      <th>공포(호러)</th>\n",
       "      <td>1</td>\n",
       "    </tr>\n",
       "    <tr>\n",
       "      <th>다큐멘터리</th>\n",
       "      <td>1</td>\n",
       "    </tr>\n",
       "    <tr>\n",
       "      <th>드라마</th>\n",
       "      <td>2</td>\n",
       "    </tr>\n",
       "    <tr>\n",
       "      <th>뮤지컬</th>\n",
       "      <td>1</td>\n",
       "    </tr>\n",
       "    <tr>\n",
       "      <th>스릴러</th>\n",
       "      <td>1</td>\n",
       "    </tr>\n",
       "    <tr>\n",
       "      <th>애니메이션</th>\n",
       "      <td>2</td>\n",
       "    </tr>\n",
       "    <tr>\n",
       "      <th>액션</th>\n",
       "      <td>1</td>\n",
       "    </tr>\n",
       "    <tr>\n",
       "      <th>코미디</th>\n",
       "      <td>3</td>\n",
       "    </tr>\n",
       "  </tbody>\n",
       "</table>\n",
       "</div>"
      ],
      "text/plain": [
       "        0\n",
       "genres   \n",
       "공연      1\n",
       "공포(호러)  1\n",
       "다큐멘터리   1\n",
       "드라마     2\n",
       "뮤지컬     1\n",
       "스릴러     1\n",
       "애니메이션   2\n",
       "액션      1\n",
       "코미디     3"
      ]
     },
     "execution_count": 86,
     "metadata": {},
     "output_type": "execute_result"
    }
   ],
   "source": [
    "# 가장 많이 개봉했던 2020년 9월 영화 장르\n",
    "m_20 = movie[movie['year'] == 2020]\n",
    "m_20_9 = m_20[m_20['month'] == 9]\n",
    "m_20_9.groupby('genres').size().to_frame()"
   ]
  },
  {
   "cell_type": "code",
   "execution_count": 106,
   "metadata": {},
   "outputs": [
    {
     "data": {
      "text/html": [
       "<div>\n",
       "<style scoped>\n",
       "    .dataframe tbody tr th:only-of-type {\n",
       "        vertical-align: middle;\n",
       "    }\n",
       "\n",
       "    .dataframe tbody tr th {\n",
       "        vertical-align: top;\n",
       "    }\n",
       "\n",
       "    .dataframe thead th {\n",
       "        text-align: right;\n",
       "    }\n",
       "</style>\n",
       "<table border=\"1\" class=\"dataframe\">\n",
       "  <thead>\n",
       "    <tr style=\"text-align: right;\">\n",
       "      <th></th>\n",
       "      <th>Code</th>\n",
       "      <th>Movie</th>\n",
       "      <th>Audience</th>\n",
       "      <th>Screen</th>\n",
       "      <th>genres</th>\n",
       "      <th>AgeRate</th>\n",
       "      <th>month</th>\n",
       "      <th>year</th>\n",
       "      <th>four_month</th>\n",
       "      <th>year_cat</th>\n",
       "    </tr>\n",
       "  </thead>\n",
       "  <tbody>\n",
       "    <tr>\n",
       "      <th>2</th>\n",
       "      <td>20199816</td>\n",
       "      <td>담보</td>\n",
       "      <td>1702.252</td>\n",
       "      <td>407</td>\n",
       "      <td>드라마</td>\n",
       "      <td>청소년관람가</td>\n",
       "      <td>9</td>\n",
       "      <td>2020</td>\n",
       "      <td>4</td>\n",
       "      <td>35</td>\n",
       "    </tr>\n",
       "    <tr>\n",
       "      <th>6</th>\n",
       "      <td>20178401</td>\n",
       "      <td>검객</td>\n",
       "      <td>188.990</td>\n",
       "      <td>23</td>\n",
       "      <td>액션</td>\n",
       "      <td>청소년관람가</td>\n",
       "      <td>9</td>\n",
       "      <td>2020</td>\n",
       "      <td>4</td>\n",
       "      <td>35</td>\n",
       "    </tr>\n",
       "    <tr>\n",
       "      <th>7</th>\n",
       "      <td>20206588</td>\n",
       "      <td>극장판 미니특공대: 햄버거괴물의 습격</td>\n",
       "      <td>55.468</td>\n",
       "      <td>38</td>\n",
       "      <td>애니메이션</td>\n",
       "      <td>전체관람가</td>\n",
       "      <td>9</td>\n",
       "      <td>2020</td>\n",
       "      <td>4</td>\n",
       "      <td>35</td>\n",
       "    </tr>\n",
       "    <tr>\n",
       "      <th>9</th>\n",
       "      <td>20206826</td>\n",
       "      <td>그대, 고맙소 : 김호중 생애 첫 팬미팅 무비</td>\n",
       "      <td>100.725</td>\n",
       "      <td>53</td>\n",
       "      <td>공연</td>\n",
       "      <td>전체관람가</td>\n",
       "      <td>9</td>\n",
       "      <td>2020</td>\n",
       "      <td>4</td>\n",
       "      <td>35</td>\n",
       "    </tr>\n",
       "    <tr>\n",
       "      <th>10</th>\n",
       "      <td>20193666</td>\n",
       "      <td>오! 문희</td>\n",
       "      <td>350.993</td>\n",
       "      <td>20</td>\n",
       "      <td>코미디</td>\n",
       "      <td>청소년관람가</td>\n",
       "      <td>9</td>\n",
       "      <td>2020</td>\n",
       "      <td>4</td>\n",
       "      <td>35</td>\n",
       "    </tr>\n",
       "    <tr>\n",
       "      <th>11</th>\n",
       "      <td>20204684</td>\n",
       "      <td>브레이크 더 사일런스: 더 무비</td>\n",
       "      <td>131.693</td>\n",
       "      <td>66</td>\n",
       "      <td>다큐멘터리</td>\n",
       "      <td>전체관람가</td>\n",
       "      <td>9</td>\n",
       "      <td>2020</td>\n",
       "      <td>4</td>\n",
       "      <td>35</td>\n",
       "    </tr>\n",
       "    <tr>\n",
       "      <th>12</th>\n",
       "      <td>20190601</td>\n",
       "      <td>디바</td>\n",
       "      <td>107.480</td>\n",
       "      <td>6</td>\n",
       "      <td>스릴러</td>\n",
       "      <td>청소년관람가</td>\n",
       "      <td>9</td>\n",
       "      <td>2020</td>\n",
       "      <td>4</td>\n",
       "      <td>35</td>\n",
       "    </tr>\n",
       "    <tr>\n",
       "      <th>14</th>\n",
       "      <td>20184482</td>\n",
       "      <td>국제수사</td>\n",
       "      <td>534.629</td>\n",
       "      <td>11</td>\n",
       "      <td>코미디</td>\n",
       "      <td>청소년관람가</td>\n",
       "      <td>9</td>\n",
       "      <td>2020</td>\n",
       "      <td>4</td>\n",
       "      <td>35</td>\n",
       "    </tr>\n",
       "    <tr>\n",
       "      <th>15</th>\n",
       "      <td>20190621</td>\n",
       "      <td>죽지않는 인간들의 밤</td>\n",
       "      <td>101.663</td>\n",
       "      <td>7</td>\n",
       "      <td>코미디</td>\n",
       "      <td>청소년관람가</td>\n",
       "      <td>9</td>\n",
       "      <td>2020</td>\n",
       "      <td>4</td>\n",
       "      <td>35</td>\n",
       "    </tr>\n",
       "    <tr>\n",
       "      <th>17</th>\n",
       "      <td>20208045</td>\n",
       "      <td>강철비2 : 정상회담 확장판</td>\n",
       "      <td>17.918</td>\n",
       "      <td>48</td>\n",
       "      <td>드라마</td>\n",
       "      <td>청소년관람가</td>\n",
       "      <td>9</td>\n",
       "      <td>2020</td>\n",
       "      <td>4</td>\n",
       "      <td>35</td>\n",
       "    </tr>\n",
       "    <tr>\n",
       "      <th>19</th>\n",
       "      <td>20204643</td>\n",
       "      <td>다시 만난 날들</td>\n",
       "      <td>2.143</td>\n",
       "      <td>105</td>\n",
       "      <td>뮤지컬</td>\n",
       "      <td>청소년관람가</td>\n",
       "      <td>9</td>\n",
       "      <td>2020</td>\n",
       "      <td>4</td>\n",
       "      <td>35</td>\n",
       "    </tr>\n",
       "    <tr>\n",
       "      <th>22</th>\n",
       "      <td>20205284</td>\n",
       "      <td>매지컬: 공주를 웃겨라</td>\n",
       "      <td>3.901</td>\n",
       "      <td>22</td>\n",
       "      <td>애니메이션</td>\n",
       "      <td>전체관람가</td>\n",
       "      <td>9</td>\n",
       "      <td>2020</td>\n",
       "      <td>4</td>\n",
       "      <td>35</td>\n",
       "    </tr>\n",
       "    <tr>\n",
       "      <th>25</th>\n",
       "      <td>20206679</td>\n",
       "      <td>공포체험라디오 4DX</td>\n",
       "      <td>1.468</td>\n",
       "      <td>36</td>\n",
       "      <td>공포(호러)</td>\n",
       "      <td>청소년관람가</td>\n",
       "      <td>9</td>\n",
       "      <td>2020</td>\n",
       "      <td>4</td>\n",
       "      <td>35</td>\n",
       "    </tr>\n",
       "  </tbody>\n",
       "</table>\n",
       "</div>"
      ],
      "text/plain": [
       "        Code                      Movie  Audience  Screen  genres AgeRate  \\\n",
       "2   20199816                         담보  1702.252     407     드라마  청소년관람가   \n",
       "6   20178401                         검객   188.990      23      액션  청소년관람가   \n",
       "7   20206588       극장판 미니특공대: 햄버거괴물의 습격    55.468      38   애니메이션   전체관람가   \n",
       "9   20206826  그대, 고맙소 : 김호중 생애 첫 팬미팅 무비   100.725      53      공연   전체관람가   \n",
       "10  20193666                      오! 문희   350.993      20     코미디  청소년관람가   \n",
       "11  20204684          브레이크 더 사일런스: 더 무비   131.693      66   다큐멘터리   전체관람가   \n",
       "12  20190601                         디바   107.480       6     스릴러  청소년관람가   \n",
       "14  20184482                       국제수사   534.629      11     코미디  청소년관람가   \n",
       "15  20190621                죽지않는 인간들의 밤   101.663       7     코미디  청소년관람가   \n",
       "17  20208045            강철비2 : 정상회담 확장판    17.918      48     드라마  청소년관람가   \n",
       "19  20204643                   다시 만난 날들     2.143     105     뮤지컬  청소년관람가   \n",
       "22  20205284               매지컬: 공주를 웃겨라     3.901      22   애니메이션   전체관람가   \n",
       "25  20206679                공포체험라디오 4DX     1.468      36  공포(호러)  청소년관람가   \n",
       "\n",
       "    month  year  four_month  year_cat  \n",
       "2       9  2020           4        35  \n",
       "6       9  2020           4        35  \n",
       "7       9  2020           4        35  \n",
       "9       9  2020           4        35  \n",
       "10      9  2020           4        35  \n",
       "11      9  2020           4        35  \n",
       "12      9  2020           4        35  \n",
       "14      9  2020           4        35  \n",
       "15      9  2020           4        35  \n",
       "17      9  2020           4        35  \n",
       "19      9  2020           4        35  \n",
       "22      9  2020           4        35  \n",
       "25      9  2020           4        35  "
      ]
     },
     "execution_count": 106,
     "metadata": {},
     "output_type": "execute_result"
    }
   ],
   "source": [
    "m_20_9"
   ]
  },
  {
   "cell_type": "code",
   "execution_count": 104,
   "metadata": {},
   "outputs": [
    {
     "data": {
      "image/png": "[encoded data removed]",
      "text/plain": [
       "<Figure size 720x432 with 1 Axes>"
      ]
     },
     "metadata": {},
     "output_type": "display_data"
    }
   ],
   "source": [
    "# 가장 많이 개봉했던 2020년 9월 영화 장르 그래프\n",
    "from matplotlib import font_manager\n",
    "f_path = \"C:\\Windows\\Fonts\\malgun.ttf\"\n",
    "font_manager.FontProperties(fname=f_path).get_name()\n",
    "from matplotlib import rc\n",
    "rc('font', family='Malgun Gothic')\n",
    "\n",
    "plt.figure(figsize=(10,6))\n",
    "m_20_9['genres'].value_counts().plot.pie();"
   ]
  },
  {
   "cell_type": "markdown",
   "metadata": {},
   "source": [
    "## 3. 각 계절별 총 영화 개봉 수\n",
    "### - 월을 사계절로 묶은 후 월별 영화 개봉 수에 변화가 있는지 확인\n",
    "### - 전체 년도 합해서 각 계절을 살폈을 때 가을이 가장 많았음.\n",
    "### - 년도별로 각 계절을 확인했을 땐 2018년 겨울이 가장 많음.\n",
    "### - 겨울에는 로맨스 영화가 많을 것으로 예상했으나, 드라마와 범죄 영화가 가장 많았음.\n",
    "## - 전체적으로 추운 계절인 가을과 겨울에 영화가 가장 많이 개봉하는 것으로 보인다.\n",
    "\n",
    "```\n",
    "four_month\n",
    "4 : 9~11월\n",
    "3 : 6~8월\n",
    "2 : 3~5월\n",
    "1 : 12~2월\n",
    "```"
   ]
  },
  {
   "cell_type": "code",
   "execution_count": 125,
   "metadata": {},
   "outputs": [
    {
     "data": {
      "application/vnd.plotly.v1+json": {
       "config": {
        "plotlyServerURL": "https://plot.ly"
       },
       "data": [
        {
         "alignmentgroup": "True",
         "bingroup": "x",
         "histfunc": "sum",
         "hovertemplate": "four_month=%{x}<br>sum of Audience=%{y}<extra></extra>",
         "legendgroup": "",
         "marker": {
          "color": "#636efa"
         },
         "name": "",
         "offsetgroup": "",
         "orientation": "v",
         "showlegend": false,
         "type": "histogram",
         "x": [
          4,
          4,
          4,
          4,
          4,
          4,
          4,
          4,
          4,
          4,
          4,
          4,
          4,
          4,
          4,
          4,
          4,
          3,
          4,
          3,
          3,
          4,
          3,
          3,
          4,
          1,
          4,
          3,
          3,
          3,
          3,
          3,
          3,
          3,
          3,
          3,
          3,
          1,
          2,
          3,
          3,
          2,
          1,
          1,
          2,
          1,
          1,
          2,
          1,
          2,
          1,
          3,
          2,
          3,
          2,
          4,
          2,
          2,
          1,
          1,
          1,
          1,
          1,
          1,
          2,
          2,
          4,
          2,
          2,
          3,
          4,
          1,
          1,
          1,
          4,
          4,
          4,
          4,
          4,
          4,
          1,
          4,
          4,
          1,
          3,
          1,
          4,
          4,
          4,
          3,
          4,
          2,
          4,
          4,
          4,
          1,
          4,
          4,
          2,
          4,
          3,
          3,
          3,
          3,
          3,
          3,
          3,
          3,
          3,
          3,
          3,
          3,
          3,
          2,
          2,
          3,
          2,
          2,
          1,
          2,
          3,
          2,
          2,
          1,
          2,
          2,
          2,
          2,
          3,
          4,
          2,
          2,
          1,
          1,
          1,
          1,
          1,
          3,
          1,
          1,
          1,
          1,
          1,
          1,
          1,
          1,
          1,
          4,
          1,
          1,
          4,
          1,
          1,
          4,
          2,
          4,
          2,
          4,
          4,
          4,
          4,
          4,
          4,
          4,
          3,
          4,
          3,
          4,
          4,
          3,
          3,
          4,
          3,
          3,
          3,
          2,
          3,
          3,
          3,
          3,
          3,
          3,
          3,
          3,
          3,
          2,
          3,
          3,
          2,
          2,
          2,
          2,
          3,
          2,
          2,
          2,
          2,
          2,
          2,
          2,
          2,
          1,
          2,
          1,
          1,
          2,
          2,
          1,
          1,
          1,
          1,
          1,
          1,
          2,
          1,
          1,
          1,
          1,
          1,
          4,
          1,
          1,
          4,
          4,
          1,
          4,
          4,
          4,
          4,
          4,
          4,
          4,
          4,
          4,
          4,
          4,
          4,
          4,
          4,
          2,
          1,
          3,
          4,
          3,
          3,
          3,
          4,
          3,
          3,
          3,
          2,
          2,
          3,
          3,
          2,
          2,
          2,
          3,
          2,
          2,
          2,
          2,
          2,
          1,
          2,
          2,
          1,
          2,
          1,
          2,
          2,
          1,
          1,
          1,
          1,
          1,
          1,
          4,
          1,
          1,
          4,
          1,
          4,
          4,
          3,
          3,
          4,
          4,
          4,
          4,
          3,
          4,
          4,
          4,
          1,
          4,
          4,
          4,
          2,
          4,
          4,
          3,
          3,
          4,
          3,
          3,
          3,
          1,
          2,
          3,
          2,
          3,
          3,
          3,
          1,
          3,
          2,
          1,
          2,
          2,
          2,
          2,
          2,
          1,
          2,
          2,
          1,
          3,
          2,
          2,
          1,
          1,
          1,
          2,
          1,
          1,
          1,
          1,
          1,
          1,
          1,
          4,
          1,
          2,
          1,
          4,
          4,
          4,
          4,
          4,
          3,
          3,
          4,
          4,
          4,
          4,
          4
         ],
         "xaxis": "x",
         "y": [
          565.469,
          1257.444,
          1702.2520000000006,
          140.594,
          401.759,
          34.205,
          188.99,
          55.468,
          100.725,
          350.99300000000005,
          131.69299999999998,
          107.48,
          0.71,
          534.629,
          101.663,
          1.912,
          17.918,
          1789.78,
          2.143,
          4354.335999999998,
          3811.81,
          3.901,
          894.025,
          1228.5510000000004,
          1.4680000000000002,
          1176.644,
          6247.739000000001,
          2359.775,
          1903.703,
          337.593,
          1.476,
          14.356,
          80.984,
          1.621,
          185.783,
          4.098,
          531.969,
          1508.063,
          2.886,
          37.743,
          2.088,
          103.412,
          17.597,
          2534.853,
          10313.062,
          627.247,
          1536.652,
          1.472,
          16266.337,
          0.084,
          604.143,
          820.74,
          767.737,
          880.7760000000003,
          0.038,
          590.7080000000002,
          0.908,
          963.239,
          1270.288,
          3318.429,
          894.3560000000001,
          8252.669,
          2406.232,
          79.723,
          2.795,
          1197.685,
          7073.543000000002,
          12.82,
          2676.423,
          5.073,
          1599.61,
          4750.078,
          1224.546,
          2000.393,
          3678.292,
          2479.464,
          1181.96,
          68.339,
          1240.022,
          12.82,
          469.015,
          1140.708,
          642.367,
          1917.999,
          9425.492,
          1.216,
          2155.013,
          23.451,
          1.661,
          4784.703,
          2923.009,
          1166.729,
          3283.073,
          4573.353,
          175.567,
          2866.453,
          1.114,
          552.187,
          1476.777,
          2227.543,
          1803.112,
          203.042,
          1240.975,
          632.384,
          954.88,
          29.091,
          101.366,
          1602.046,
          3.282,
          284.283,
          15.703,
          166.838,
          1092.611,
          3364.1,
          287.902,
          0.5429999999999999,
          1627.524,
          199.375,
          5317.959,
          136.939,
          2.287,
          102.374,
          292.14,
          1472.7020000000002,
          55.083,
          1430.96,
          3388.756,
          183.74400000000003,
          11567.318,
          3755.133,
          260.98900000000003,
          31.283,
          2398.348,
          193.837,
          168.884,
          574.302,
          262.92,
          12276.115,
          86.838,
          1826.154,
          342.366,
          408.822,
          1670.859,
          548.661,
          197.211,
          1863.283,
          1560.352,
          5292.712,
          186.064,
          49.367,
          1590.591,
          17.823,
          2.322,
          312.584,
          315.164,
          24.827,
          528.372,
          459.918,
          5439.308000000001,
          40.892,
          66.455,
          721.183,
          3786.412,
          1967.721,
          335.54,
          40.208,
          4974.34,
          2084.319,
          448.316,
          2820.486,
          767.5889999999997,
          719.9680000000003,
          2522.729,
          1.992,
          677.788,
          5063.62,
          897.255,
          3188.969,
          3152.568,
          489.619,
          5653.444,
          136.885,
          4.434,
          217.326,
          96.893,
          2601.857,
          470.135,
          0.7709999999999999,
          770.6310000000003,
          1128.693,
          99.971,
          48.13399999999999,
          12189.025,
          435.09,
          140.7,
          1855.489,
          35.43199999999999,
          1194.157,
          60.535,
          1.4469999999999998,
          53.51600000000001,
          14410.754,
          526.88,
          990.102,
          1339.68,
          1314.308,
          228.413,
          50.038,
          99.731,
          1386.882,
          45.779,
          416.137,
          2443.282,
          0.595,
          3415.953,
          7229.281,
          21.22,
          826.003,
          217.956,
          239.987,
          4449.854,
          5.824,
          6880.351,
          1387.499,
          2.681,
          4018.035,
          177.428,
          446.764,
          346.986,
          1492.049,
          62.65,
          21.657,
          410.569,
          493.673,
          3846.769,
          4.974,
          377.071,
          322.207,
          2657.557,
          647.305,
          2515.315,
          1306.387,
          10.747,
          1373.2979999999998,
          6591.193,
          134.577,
          4.052,
          56.2,
          1207.119,
          1129.233,
          837.31,
          2587.648,
          23.136,
          5.041,
          351.342,
          1362.434,
          1634.0379999999998,
          4288.53,
          98.02,
          141.57299999999995,
          2931.897,
          234.586,
          128.764,
          2420.9770000000008,
          1204.384,
          94.825,
          117.291,
          382.202,
          351.276,
          4.188,
          146.80200000000005,
          40.989,
          4583.645,
          102.047,
          7816.521,
          46.378,
          7150.142,
          5442.915,
          340.766,
          1168.597,
          2980.397,
          47.805,
          1153.109,
          510.728,
          250.829,
          5599.229,
          95.393,
          59.788,
          6974.991,
          757.863,
          7049.5369999999975,
          2594.028,
          0.847,
          286.147,
          134.658,
          152.634,
          7499.738,
          973.951,
          280.197,
          32.278,
          26.95,
          7120.241,
          709.24,
          0.557,
          66.127,
          0.965,
          2049.396,
          445.36,
          482.259,
          2103.766,
          6879.769,
          37.76300000000001,
          645.58,
          1237.897,
          1069.864,
          96.662,
          55.56800000000001,
          3586.442,
          74.581,
          484.735,
          307.332,
          1202.05,
          1062.288,
          7759.635,
          165.40099999999995,
          633.2080000000002,
          9706.777,
          13414.136,
          523.494,
          21.501,
          847.9119999999997,
          239.366,
          1762.569,
          12.952,
          68.734,
          475.622,
          2082.913,
          651.612,
          427.19,
          627.379,
          54.27,
          654.4069999999998,
          1.286,
          1472.102,
          11.866,
          2625.686,
          0.862,
          316.31,
          5.3610000000000015,
          6.7360000000000015,
          988.391,
          12704.656,
          100.498,
          1045.218,
          1593.592,
          1127.747,
          50.57100000000001
         ],
         "yaxis": "y"
        }
       ],
       "layout": {
        "barmode": "relative",
        "legend": {
         "tracegroupgap": 0
        },
        "margin": {
         "t": 60
        },
        "template": {
         "data": {
          "bar": [
           {
            "error_x": {
             "color": "#2a3f5f"
            },
            "error_y": {
             "color": "#2a3f5f"
            },
            "marker": {
             "line": {
              "color": "#E5ECF6",
              "width": 0.5
             }
            },
            "type": "bar"
           }
          ],
          "barpolar": [
           {
            "marker": {
             "line": {
              "color": "#E5ECF6",
              "width": 0.5
             }
            },
            "type": "barpolar"
           }
          ],
          "carpet": [
           {
            "aaxis": {
             "endlinecolor": "#2a3f5f",
             "gridcolor": "white",
             "linecolor": "white",
             "minorgridcolor": "white",
             "startlinecolor": "#2a3f5f"
            },
            "baxis": {
             "endlinecolor": "#2a3f5f",
             "gridcolor": "white",
             "linecolor": "white",
             "minorgridcolor": "white",
             "startlinecolor": "#2a3f5f"
            },
            "type": "carpet"
           }
          ],
          "choropleth": [
           {
            "colorbar": {
             "outlinewidth": 0,
             "ticks": ""
            },
            "type": "choropleth"
           }
          ],
          "contour": [
           {
            "colorbar": {
             "outlinewidth": 0,
             "ticks": ""
            },
            "colorscale": [
             [
              0,
              "#0d0887"
             ],
             [
              0.1111111111111111,
              "#46039f"
             ],
             [
              0.2222222222222222,
              "#7201a8"
             ],
             [
              0.3333333333333333,
              "#9c179e"
             ],
             [
              0.4444444444444444,
              "#bd3786"
             ],
             [
              0.5555555555555556,
              "#d8576b"
             ],
             [
              0.6666666666666666,
              "#ed7953"
             ],
             [
              0.7777777777777778,
              "#fb9f3a"
             ],
             [
              0.8888888888888888,
              "#fdca26"
             ],
             [
              1,
              "#f0f921"
             ]
            ],
            "type": "contour"
           }
          ],
          "contourcarpet": [
           {
            "colorbar": {
             "outlinewidth": 0,
             "ticks": ""
            },
            "type": "contourcarpet"
           }
          ],
          "heatmap": [
           {
            "colorbar": {
             "outlinewidth": 0,
             "ticks": ""
            },
            "colorscale": [
             [
              0,
              "#0d0887"
             ],
             [
              0.1111111111111111,
              "#46039f"
             ],
             [
              0.2222222222222222,
              "#7201a8"
             ],
             [
              0.3333333333333333,
              "#9c179e"
             ],
             [
              0.4444444444444444,
              "#bd3786"
             ],
             [
              0.5555555555555556,
              "#d8576b"
             ],
             [
              0.6666666666666666,
              "#ed7953"
             ],
             [
              0.7777777777777778,
              "#fb9f3a"
             ],
             [
              0.8888888888888888,
              "#fdca26"
             ],
             [
              1,
              "#f0f921"
             ]
            ],
            "type": "heatmap"
           }
          ],
          "heatmapgl": [
           {
            "colorbar": {
             "outlinewidth": 0,
             "ticks": ""
            },
            "colorscale": [
             [
              0,
              "#0d0887"
             ],
             [
              0.1111111111111111,
              "#46039f"
             ],
             [
              0.2222222222222222,
              "#7201a8"
             ],
             [
              0.3333333333333333,
              "#9c179e"
             ],
             [
              0.4444444444444444,
              "#bd3786"
             ],
             [
              0.5555555555555556,
              "#d8576b"
             ],
             [
              0.6666666666666666,
              "#ed7953"
             ],
             [
              0.7777777777777778,
              "#fb9f3a"
             ],
             [
              0.8888888888888888,
              "#fdca26"
             ],
             [
              1,
              "#f0f921"
             ]
            ],
            "type": "heatmapgl"
           }
          ],
          "histogram": [
           {
            "marker": {
             "colorbar": {
              "outlinewidth": 0,
              "ticks": ""
             }
            },
            "type": "histogram"
           }
          ],
          "histogram2d": [
           {
            "colorbar": {
             "outlinewidth": 0,
             "ticks": ""
            },
            "colorscale": [
             [
              0,
              "#0d0887"
             ],
             [
              0.1111111111111111,
              "#46039f"
             ],
             [
              0.2222222222222222,
              "#7201a8"
             ],
             [
              0.3333333333333333,
              "#9c179e"
             ],
             [
              0.4444444444444444,
              "#bd3786"
             ],
             [
              0.5555555555555556,
              "#d8576b"
             ],
             [
              0.6666666666666666,
              "#ed7953"
             ],
             [
              0.7777777777777778,
              "#fb9f3a"
             ],
             [
              0.8888888888888888,
              "#fdca26"
             ],
             [
              1,
              "#f0f921"
             ]
            ],
            "type": "histogram2d"
           }
          ],
          "histogram2dcontour": [
           {
            "colorbar": {
             "outlinewidth": 0,
             "ticks": ""
            },
            "colorscale": [
             [
              0,
              "#0d0887"
             ],
             [
              0.1111111111111111,
              "#46039f"
             ],
             [
              0.2222222222222222,
              "#7201a8"
             ],
             [
              0.3333333333333333,
              "#9c179e"
             ],
             [
              0.4444444444444444,
              "#bd3786"
             ],
             [
              0.5555555555555556,
              "#d8576b"
             ],
             [
              0.6666666666666666,
              "#ed7953"
             ],
             [
              0.7777777777777778,
              "#fb9f3a"
             ],
             [
              0.8888888888888888,
              "#fdca26"
             ],
             [
              1,
              "#f0f921"
             ]
            ],
            "type": "histogram2dcontour"
           }
          ],
          "mesh3d": [
           {
            "colorbar": {
             "outlinewidth": 0,
             "ticks": ""
            },
            "type": "mesh3d"
           }
          ],
          "parcoords": [
           {
            "line": {
             "colorbar": {
              "outlinewidth": 0,
              "ticks": ""
             }
            },
            "type": "parcoords"
           }
          ],
          "pie": [
           {
            "automargin": true,
            "type": "pie"
           }
          ],
          "scatter": [
           {
            "marker": {
             "colorbar": {
              "outlinewidth": 0,
              "ticks": ""
             }
            },
            "type": "scatter"
           }
          ],
          "scatter3d": [
           {
            "line": {
             "colorbar": {
              "outlinewidth": 0,
              "ticks": ""
             }
            },
            "marker": {
             "colorbar": {
              "outlinewidth": 0,
              "ticks": ""
             }
            },
            "type": "scatter3d"
           }
          ],
          "scattercarpet": [
           {
            "marker": {
             "colorbar": {
              "outlinewidth": 0,
              "ticks": ""
             }
            },
            "type": "scattercarpet"
           }
          ],
          "scattergeo": [
           {
            "marker": {
             "colorbar": {
              "outlinewidth": 0,
              "ticks": ""
             }
            },
            "type": "scattergeo"
           }
          ],
          "scattergl": [
           {
            "marker": {
             "colorbar": {
              "outlinewidth": 0,
              "ticks": ""
             }
            },
            "type": "scattergl"
           }
          ],
          "scattermapbox": [
           {
            "marker": {
             "colorbar": {
              "outlinewidth": 0,
              "ticks": ""
             }
            },
            "type": "scattermapbox"
           }
          ],
          "scatterpolar": [
           {
            "marker": {
             "colorbar": {
              "outlinewidth": 0,
              "ticks": ""
             }
            },
            "type": "scatterpolar"
           }
          ],
          "scatterpolargl": [
           {
            "marker": {
             "colorbar": {
              "outlinewidth": 0,
              "ticks": ""
             }
            },
            "type": "scatterpolargl"
           }
          ],
          "scatterternary": [
           {
            "marker": {
             "colorbar": {
              "outlinewidth": 0,
              "ticks": ""
             }
            },
            "type": "scatterternary"
           }
          ],
          "surface": [
           {
            "colorbar": {
             "outlinewidth": 0,
             "ticks": ""
            },
            "colorscale": [
             [
              0,
              "#0d0887"
             ],
             [
              0.1111111111111111,
              "#46039f"
             ],
             [
              0.2222222222222222,
              "#7201a8"
             ],
             [
              0.3333333333333333,
              "#9c179e"
             ],
             [
              0.4444444444444444,
              "#bd3786"
             ],
             [
              0.5555555555555556,
              "#d8576b"
             ],
             [
              0.6666666666666666,
              "#ed7953"
             ],
             [
              0.7777777777777778,
              "#fb9f3a"
             ],
             [
              0.8888888888888888,
              "#fdca26"
             ],
             [
              1,
              "#f0f921"
             ]
            ],
            "type": "surface"
           }
          ],
          "table": [
           {
            "cells": {
             "fill": {
              "color": "#EBF0F8"
             },
             "line": {
              "color": "white"
             }
            },
            "header": {
             "fill": {
              "color": "#C8D4E3"
             },
             "line": {
              "color": "white"
             }
            },
            "type": "table"
           }
          ]
         },
         "layout": {
          "annotationdefaults": {
           "arrowcolor": "#2a3f5f",
           "arrowhead": 0,
           "arrowwidth": 1
          },
          "coloraxis": {
           "colorbar": {
            "outlinewidth": 0,
            "ticks": ""
           }
          },
          "colorscale": {
           "diverging": [
            [
             0,
             "#8e0152"
            ],
            [
             0.1,
             "#c51b7d"
            ],
            [
             0.2,
             "#de77ae"
            ],
            [
             0.3,
             "#f1b6da"
            ],
            [
             0.4,
             "#fde0ef"
            ],
            [
             0.5,
             "#f7f7f7"
            ],
            [
             0.6,
             "#e6f5d0"
            ],
            [
             0.7,
             "#b8e186"
            ],
            [
             0.8,
             "#7fbc41"
            ],
            [
             0.9,
             "#4d9221"
            ],
            [
             1,
             "#276419"
            ]
           ],
           "sequential": [
            [
             0,
             "#0d0887"
            ],
            [
             0.1111111111111111,
             "#46039f"
            ],
            [
             0.2222222222222222,
             "#7201a8"
            ],
            [
             0.3333333333333333,
             "#9c179e"
            ],
            [
             0.4444444444444444,
             "#bd3786"
            ],
            [
             0.5555555555555556,
             "#d8576b"
            ],
            [
             0.6666666666666666,
             "#ed7953"
            ],
            [
             0.7777777777777778,
             "#fb9f3a"
            ],
            [
             0.8888888888888888,
             "#fdca26"
            ],
            [
             1,
             "#f0f921"
            ]
           ],
           "sequentialminus": [
            [
             0,
             "#0d0887"
            ],
            [
             0.1111111111111111,
             "#46039f"
            ],
            [
             0.2222222222222222,
             "#7201a8"
            ],
            [
             0.3333333333333333,
             "#9c179e"
            ],
            [
             0.4444444444444444,
             "#bd3786"
            ],
            [
             0.5555555555555556,
             "#d8576b"
            ],
            [
             0.6666666666666666,
             "#ed7953"
            ],
            [
             0.7777777777777778,
             "#fb9f3a"
            ],
            [
             0.8888888888888888,
             "#fdca26"
            ],
            [
             1,
             "#f0f921"
            ]
           ]
          },
          "colorway": [
           "#636efa",
           "#EF553B",
           "#00cc96",
           "#ab63fa",
           "#FFA15A",
           "#19d3f3",
           "#FF6692",
           "#B6E880",
           "#FF97FF",
           "#FECB52"
          ],
          "font": {
           "color": "#2a3f5f"
          },
          "geo": {
           "bgcolor": "white",
           "lakecolor": "white",
           "landcolor": "#E5ECF6",
           "showlakes": true,
           "showland": true,
           "subunitcolor": "white"
          },
          "hoverlabel": {
           "align": "left"
          },
          "hovermode": "closest",
          "mapbox": {
           "style": "light"
          },
          "paper_bgcolor": "white",
          "plot_bgcolor": "#E5ECF6",
          "polar": {
           "angularaxis": {
            "gridcolor": "white",
            "linecolor": "white",
            "ticks": ""
           },
           "bgcolor": "#E5ECF6",
           "radialaxis": {
            "gridcolor": "white",
            "linecolor": "white",
            "ticks": ""
           }
          },
          "scene": {
           "xaxis": {
            "backgroundcolor": "#E5ECF6",
            "gridcolor": "white",
            "gridwidth": 2,
            "linecolor": "white",
            "showbackground": true,
            "ticks": "",
            "zerolinecolor": "white"
           },
           "yaxis": {
            "backgroundcolor": "#E5ECF6",
            "gridcolor": "white",
            "gridwidth": 2,
            "linecolor": "white",
            "showbackground": true,
            "ticks": "",
            "zerolinecolor": "white"
           },
           "zaxis": {
            "backgroundcolor": "#E5ECF6",
            "gridcolor": "white",
            "gridwidth": 2,
            "linecolor": "white",
            "showbackground": true,
            "ticks": "",
            "zerolinecolor": "white"
           }
          },
          "shapedefaults": {
           "line": {
            "color": "#2a3f5f"
           }
          },
          "ternary": {
           "aaxis": {
            "gridcolor": "white",
            "linecolor": "white",
            "ticks": ""
           },
           "baxis": {
            "gridcolor": "white",
            "linecolor": "white",
            "ticks": ""
           },
           "bgcolor": "#E5ECF6",
           "caxis": {
            "gridcolor": "white",
            "linecolor": "white",
            "ticks": ""
           }
          },
          "title": {
           "x": 0.05
          },
          "xaxis": {
           "automargin": true,
           "gridcolor": "white",
           "linecolor": "white",
           "ticks": "",
           "title": {
            "standoff": 15
           },
           "zerolinecolor": "white",
           "zerolinewidth": 2
          },
          "yaxis": {
           "automargin": true,
           "gridcolor": "white",
           "linecolor": "white",
           "ticks": "",
           "title": {
            "standoff": 15
           },
           "zerolinecolor": "white",
           "zerolinewidth": 2
          }
         }
        },
        "xaxis": {
         "anchor": "y",
         "categoryorder": "total ascending",
         "domain": [
          0,
          1
         ],
         "title": {
          "text": "four_month"
         }
        },
        "yaxis": {
         "anchor": "x",
         "domain": [
          0,
          1
         ],
         "title": {
          "text": "sum of Audience"
         }
        }
       }
      },
      "text/html": [
       "<div>                            <div id=\"328eba9e-13ac-486e-904c-1b3d2f238926\" class=\"plotly-graph-div\" style=\"height:525px; width:100%;\"></div>            <script type=\"text/javascript\">                require([\"plotly\"], function(Plotly) {                    window.PLOTLYENV=window.PLOTLYENV || {};                                    if (document.getElementById(\"328eba9e-13ac-486e-904c-1b3d2f238926\")) {                    Plotly.newPlot(                        \"328eba9e-13ac-486e-904c-1b3d2f238926\",                        [{\"alignmentgroup\": \"True\", \"bingroup\": \"x\", \"histfunc\": \"sum\", \"hovertemplate\": \"four_month=%{x}<br>sum of Audience=%{y}<extra></extra>\", \"legendgroup\": \"\", \"marker\": {\"color\": \"#636efa\"}, \"name\": \"\", \"offsetgroup\": \"\", \"orientation\": \"v\", \"showlegend\": false, \"type\": \"histogram\", \"x\": [4, 4, 4, 4, 4, 4, 4, 4, 4, 4, 4, 4, 4, 4, 4, 4, 4, 3, 4, 3, 3, 4, 3, 3, 4, 1, 4, 3, 3, 3, 3, 3, 3, 3, 3, 3, 3, 1, 2, 3, 3, 2, 1, 1, 2, 1, 1, 2, 1, 2, 1, 3, 2, 3, 2, 4, 2, 2, 1, 1, 1, 1, 1, 1, 2, 2, 4, 2, 2, 3, 4, 1, 1, 1, 4, 4, 4, 4, 4, 4, 1, 4, 4, 1, 3, 1, 4, 4, 4, 3, 4, 2, 4, 4, 4, 1, 4, 4, 2, 4, 3, 3, 3, 3, 3, 3, 3, 3, 3, 3, 3, 3, 3, 2, 2, 3, 2, 2, 1, 2, 3, 2, 2, 1, 2, 2, 2, 2, 3, 4, 2, 2, 1, 1, 1, 1, 1, 3, 1, 1, 1, 1, 1, 1, 1, 1, 1, 4, 1, 1, 4, 1, 1, 4, 2, 4, 2, 4, 4, 4, 4, 4, 4, 4, 3, 4, 3, 4, 4, 3, 3, 4, 3, 3, 3, 2, 3, 3, 3, 3, 3, 3, 3, 3, 3, 2, 3, 3, 2, 2, 2, 2, 3, 2, 2, 2, 2, 2, 2, 2, 2, 1, 2, 1, 1, 2, 2, 1, 1, 1, 1, 1, 1, 2, 1, 1, 1, 1, 1, 4, 1, 1, 4, 4, 1, 4, 4, 4, 4, 4, 4, 4, 4, 4, 4, 4, 4, 4, 4, 2, 1, 3, 4, 3, 3, 3, 4, 3, 3, 3, 2, 2, 3, 3, 2, 2, 2, 3, 2, 2, 2, 2, 2, 1, 2, 2, 1, 2, 1, 2, 2, 1, 1, 1, 1, 1, 1, 4, 1, 1, 4, 1, 4, 4, 3, 3, 4, 4, 4, 4, 3, 4, 4, 4, 1, 4, 4, 4, 2, 4, 4, 3, 3, 4, 3, 3, 3, 1, 2, 3, 2, 3, 3, 3, 1, 3, 2, 1, 2, 2, 2, 2, 2, 1, 2, 2, 1, 3, 2, 2, 1, 1, 1, 2, 1, 1, 1, 1, 1, 1, 1, 4, 1, 2, 1, 4, 4, 4, 4, 4, 3, 3, 4, 4, 4, 4, 4], \"xaxis\": \"x\", \"y\": [565.469, 1257.444, 1702.2520000000006, 140.594, 401.759, 34.205, 188.99, 55.468, 100.725, 350.99300000000005, 131.69299999999998, 107.48, 0.71, 534.629, 101.663, 1.912, 17.918, 1789.78, 2.143, 4354.335999999998, 3811.81, 3.901, 894.025, 1228.5510000000004, 1.4680000000000002, 1176.644, 6247.739000000001, 2359.775, 1903.703, 337.593, 1.476, 14.356, 80.984, 1.621, 185.783, 4.098, 531.969, 1508.063, 2.886, 37.743, 2.088, 103.412, 17.597, 2534.853, 10313.062, 627.247, 1536.652, 1.472, 16266.337, 0.084, 604.143, 820.74, 767.737, 880.7760000000003, 0.038, 590.7080000000002, 0.908, 963.239, 1270.288, 3318.429, 894.3560000000001, 8252.669, 2406.232, 79.723, 2.795, 1197.685, 7073.543000000002, 12.82, 2676.423, 5.073, 1599.61, 4750.078, 1224.546, 2000.393, 3678.292, 2479.464, 1181.96, 68.339, 1240.022, 12.82, 469.015, 1140.708, 642.367, 1917.999, 9425.492, 1.216, 2155.013, 23.451, 1.661, 4784.703, 2923.009, 1166.729, 3283.073, 4573.353, 175.567, 2866.453, 1.114, 552.187, 1476.777, 2227.543, 1803.112, 203.042, 1240.975, 632.384, 954.88, 29.091, 101.366, 1602.046, 3.282, 284.283, 15.703, 166.838, 1092.611, 3364.1, 287.902, 0.5429999999999999, 1627.524, 199.375, 5317.959, 136.939, 2.287, 102.374, 292.14, 1472.7020000000002, 55.083, 1430.96, 3388.756, 183.74400000000003, 11567.318, 3755.133, 260.98900000000003, 31.283, 2398.348, 193.837, 168.884, 574.302, 262.92, 12276.115, 86.838, 1826.154, 342.366, 408.822, 1670.859, 548.661, 197.211, 1863.283, 1560.352, 5292.712, 186.064, 49.367, 1590.591, 17.823, 2.322, 312.584, 315.164, 24.827, 528.372, 459.918, 5439.308000000001, 40.892, 66.455, 721.183, 3786.412, 1967.721, 335.54, 40.208, 4974.34, 2084.319, 448.316, 2820.486, 767.5889999999997, 719.9680000000003, 2522.729, 1.992, 677.788, 5063.62, 897.255, 3188.969, 3152.568, 489.619, 5653.444, 136.885, 4.434, 217.326, 96.893, 2601.857, 470.135, 0.7709999999999999, 770.6310000000003, 1128.693, 99.971, 48.13399999999999, 12189.025, 435.09, 140.7, 1855.489, 35.43199999999999, 1194.157, 60.535, 1.4469999999999998, 53.51600000000001, 14410.754, 526.88, 990.102, 1339.68, 1314.308, 228.413, 50.038, 99.731, 1386.882, 45.779, 416.137, 2443.282, 0.595, 3415.953, 7229.281, 21.22, 826.003, 217.956, 239.987, 4449.854, 5.824, 6880.351, 1387.499, 2.681, 4018.035, 177.428, 446.764, 346.986, 1492.049, 62.65, 21.657, 410.569, 493.673, 3846.769, 4.974, 377.071, 322.207, 2657.557, 647.305, 2515.315, 1306.387, 10.747, 1373.2979999999998, 6591.193, 134.577, 4.052, 56.2, 1207.119, 1129.233, 837.31, 2587.648, 23.136, 5.041, 351.342, 1362.434, 1634.0379999999998, 4288.53, 98.02, 141.57299999999995, 2931.897, 234.586, 128.764, 2420.9770000000008, 1204.384, 94.825, 117.291, 382.202, 351.276, 4.188, 146.80200000000005, 40.989, 4583.645, 102.047, 7816.521, 46.378, 7150.142, 5442.915, 340.766, 1168.597, 2980.397, 47.805, 1153.109, 510.728, 250.829, 5599.229, 95.393, 59.788, 6974.991, 757.863, 7049.5369999999975, 2594.028, 0.847, 286.147, 134.658, 152.634, 7499.738, 973.951, 280.197, 32.278, 26.95, 7120.241, 709.24, 0.557, 66.127, 0.965, 2049.396, 445.36, 482.259, 2103.766, 6879.769, 37.76300000000001, 645.58, 1237.897, 1069.864, 96.662, 55.56800000000001, 3586.442, 74.581, 484.735, 307.332, 1202.05, 1062.288, 7759.635, 165.40099999999995, 633.2080000000002, 9706.777, 13414.136, 523.494, 21.501, 847.9119999999997, 239.366, 1762.569, 12.952, 68.734, 475.622, 2082.913, 651.612, 427.19, 627.379, 54.27, 654.4069999999998, 1.286, 1472.102, 11.866, 2625.686, 0.862, 316.31, 5.3610000000000015, 6.7360000000000015, 988.391, 12704.656, 100.498, 1045.218, 1593.592, 1127.747, 50.57100000000001], \"yaxis\": \"y\"}],                        {\"barmode\": \"relative\", \"legend\": {\"tracegroupgap\": 0}, \"margin\": {\"t\": 60}, \"template\": {\"data\": {\"bar\": [{\"error_x\": {\"color\": \"#2a3f5f\"}, \"error_y\": {\"color\": \"#2a3f5f\"}, \"marker\": {\"line\": {\"color\": \"#E5ECF6\", \"width\": 0.5}}, \"type\": \"bar\"}], \"barpolar\": [{\"marker\": {\"line\": {\"color\": \"#E5ECF6\", \"width\": 0.5}}, \"type\": \"barpolar\"}], \"carpet\": [{\"aaxis\": {\"endlinecolor\": \"#2a3f5f\", \"gridcolor\": \"white\", \"linecolor\": \"white\", \"minorgridcolor\": \"white\", \"startlinecolor\": \"#2a3f5f\"}, \"baxis\": {\"endlinecolor\": \"#2a3f5f\", \"gridcolor\": \"white\", \"linecolor\": \"white\", \"minorgridcolor\": \"white\", \"startlinecolor\": \"#2a3f5f\"}, \"type\": \"carpet\"}], \"choropleth\": [{\"colorbar\": {\"outlinewidth\": 0, \"ticks\": \"\"}, \"type\": \"choropleth\"}], \"contour\": [{\"colorbar\": {\"outlinewidth\": 0, \"ticks\": \"\"}, \"colorscale\": [[0.0, \"#0d0887\"], [0.1111111111111111, \"#46039f\"], [0.2222222222222222, \"#7201a8\"], [0.3333333333333333, \"#9c179e\"], [0.4444444444444444, \"#bd3786\"], [0.5555555555555556, \"#d8576b\"], [0.6666666666666666, \"#ed7953\"], [0.7777777777777778, \"#fb9f3a\"], [0.8888888888888888, \"#fdca26\"], [1.0, \"#f0f921\"]], \"type\": \"contour\"}], \"contourcarpet\": [{\"colorbar\": {\"outlinewidth\": 0, \"ticks\": \"\"}, \"type\": \"contourcarpet\"}], \"heatmap\": [{\"colorbar\": {\"outlinewidth\": 0, \"ticks\": \"\"}, \"colorscale\": [[0.0, \"#0d0887\"], [0.1111111111111111, \"#46039f\"], [0.2222222222222222, \"#7201a8\"], [0.3333333333333333, \"#9c179e\"], [0.4444444444444444, \"#bd3786\"], [0.5555555555555556, \"#d8576b\"], [0.6666666666666666, \"#ed7953\"], [0.7777777777777778, \"#fb9f3a\"], [0.8888888888888888, \"#fdca26\"], [1.0, \"#f0f921\"]], \"type\": \"heatmap\"}], \"heatmapgl\": [{\"colorbar\": {\"outlinewidth\": 0, \"ticks\": \"\"}, \"colorscale\": [[0.0, \"#0d0887\"], [0.1111111111111111, \"#46039f\"], [0.2222222222222222, \"#7201a8\"], [0.3333333333333333, \"#9c179e\"], [0.4444444444444444, \"#bd3786\"], [0.5555555555555556, \"#d8576b\"], [0.6666666666666666, \"#ed7953\"], [0.7777777777777778, \"#fb9f3a\"], [0.8888888888888888, \"#fdca26\"], [1.0, \"#f0f921\"]], \"type\": \"heatmapgl\"}], \"histogram\": [{\"marker\": {\"colorbar\": {\"outlinewidth\": 0, \"ticks\": \"\"}}, \"type\": \"histogram\"}], \"histogram2d\": [{\"colorbar\": {\"outlinewidth\": 0, \"ticks\": \"\"}, \"colorscale\": [[0.0, \"#0d0887\"], [0.1111111111111111, \"#46039f\"], [0.2222222222222222, \"#7201a8\"], [0.3333333333333333, \"#9c179e\"], [0.4444444444444444, \"#bd3786\"], [0.5555555555555556, \"#d8576b\"], [0.6666666666666666, \"#ed7953\"], [0.7777777777777778, \"#fb9f3a\"], [0.8888888888888888, \"#fdca26\"], [1.0, \"#f0f921\"]], \"type\": \"histogram2d\"}], \"histogram2dcontour\": [{\"colorbar\": {\"outlinewidth\": 0, \"ticks\": \"\"}, \"colorscale\": [[0.0, \"#0d0887\"], [0.1111111111111111, \"#46039f\"], [0.2222222222222222, \"#7201a8\"], [0.3333333333333333, \"#9c179e\"], [0.4444444444444444, \"#bd3786\"], [0.5555555555555556, \"#d8576b\"], [0.6666666666666666, \"#ed7953\"], [0.7777777777777778, \"#fb9f3a\"], [0.8888888888888888, \"#fdca26\"], [1.0, \"#f0f921\"]], \"type\": \"histogram2dcontour\"}], \"mesh3d\": [{\"colorbar\": {\"outlinewidth\": 0, \"ticks\": \"\"}, \"type\": \"mesh3d\"}], \"parcoords\": [{\"line\": {\"colorbar\": {\"outlinewidth\": 0, \"ticks\": \"\"}}, \"type\": \"parcoords\"}], \"pie\": [{\"automargin\": true, \"type\": \"pie\"}], \"scatter\": [{\"marker\": {\"colorbar\": {\"outlinewidth\": 0, \"ticks\": \"\"}}, \"type\": \"scatter\"}], \"scatter3d\": [{\"line\": {\"colorbar\": {\"outlinewidth\": 0, \"ticks\": \"\"}}, \"marker\": {\"colorbar\": {\"outlinewidth\": 0, \"ticks\": \"\"}}, \"type\": \"scatter3d\"}], \"scattercarpet\": [{\"marker\": {\"colorbar\": {\"outlinewidth\": 0, \"ticks\": \"\"}}, \"type\": \"scattercarpet\"}], \"scattergeo\": [{\"marker\": {\"colorbar\": {\"outlinewidth\": 0, \"ticks\": \"\"}}, \"type\": \"scattergeo\"}], \"scattergl\": [{\"marker\": {\"colorbar\": {\"outlinewidth\": 0, \"ticks\": \"\"}}, \"type\": \"scattergl\"}], \"scattermapbox\": [{\"marker\": {\"colorbar\": {\"outlinewidth\": 0, \"ticks\": \"\"}}, \"type\": \"scattermapbox\"}], \"scatterpolar\": [{\"marker\": {\"colorbar\": {\"outlinewidth\": 0, \"ticks\": \"\"}}, \"type\": \"scatterpolar\"}], \"scatterpolargl\": [{\"marker\": {\"colorbar\": {\"outlinewidth\": 0, \"ticks\": \"\"}}, \"type\": \"scatterpolargl\"}], \"scatterternary\": [{\"marker\": {\"colorbar\": {\"outlinewidth\": 0, \"ticks\": \"\"}}, \"type\": \"scatterternary\"}], \"surface\": [{\"colorbar\": {\"outlinewidth\": 0, \"ticks\": \"\"}, \"colorscale\": [[0.0, \"#0d0887\"], [0.1111111111111111, \"#46039f\"], [0.2222222222222222, \"#7201a8\"], [0.3333333333333333, \"#9c179e\"], [0.4444444444444444, \"#bd3786\"], [0.5555555555555556, \"#d8576b\"], [0.6666666666666666, \"#ed7953\"], [0.7777777777777778, \"#fb9f3a\"], [0.8888888888888888, \"#fdca26\"], [1.0, \"#f0f921\"]], \"type\": \"surface\"}], \"table\": [{\"cells\": {\"fill\": {\"color\": \"#EBF0F8\"}, \"line\": {\"color\": \"white\"}}, \"header\": {\"fill\": {\"color\": \"#C8D4E3\"}, \"line\": {\"color\": \"white\"}}, \"type\": \"table\"}]}, \"layout\": {\"annotationdefaults\": {\"arrowcolor\": \"#2a3f5f\", \"arrowhead\": 0, \"arrowwidth\": 1}, \"coloraxis\": {\"colorbar\": {\"outlinewidth\": 0, \"ticks\": \"\"}}, \"colorscale\": {\"diverging\": [[0, \"#8e0152\"], [0.1, \"#c51b7d\"], [0.2, \"#de77ae\"], [0.3, \"#f1b6da\"], [0.4, \"#fde0ef\"], [0.5, \"#f7f7f7\"], [0.6, \"#e6f5d0\"], [0.7, \"#b8e186\"], [0.8, \"#7fbc41\"], [0.9, \"#4d9221\"], [1, \"#276419\"]], \"sequential\": [[0.0, \"#0d0887\"], [0.1111111111111111, \"#46039f\"], [0.2222222222222222, \"#7201a8\"], [0.3333333333333333, \"#9c179e\"], [0.4444444444444444, \"#bd3786\"], [0.5555555555555556, \"#d8576b\"], [0.6666666666666666, \"#ed7953\"], [0.7777777777777778, \"#fb9f3a\"], [0.8888888888888888, \"#fdca26\"], [1.0, \"#f0f921\"]], \"sequentialminus\": [[0.0, \"#0d0887\"], [0.1111111111111111, \"#46039f\"], [0.2222222222222222, \"#7201a8\"], [0.3333333333333333, \"#9c179e\"], [0.4444444444444444, \"#bd3786\"], [0.5555555555555556, \"#d8576b\"], [0.6666666666666666, \"#ed7953\"], [0.7777777777777778, \"#fb9f3a\"], [0.8888888888888888, \"#fdca26\"], [1.0, \"#f0f921\"]]}, \"colorway\": [\"#636efa\", \"#EF553B\", \"#00cc96\", \"#ab63fa\", \"#FFA15A\", \"#19d3f3\", \"#FF6692\", \"#B6E880\", \"#FF97FF\", \"#FECB52\"], \"font\": {\"color\": \"#2a3f5f\"}, \"geo\": {\"bgcolor\": \"white\", \"lakecolor\": \"white\", \"landcolor\": \"#E5ECF6\", \"showlakes\": true, \"showland\": true, \"subunitcolor\": \"white\"}, \"hoverlabel\": {\"align\": \"left\"}, \"hovermode\": \"closest\", \"mapbox\": {\"style\": \"light\"}, \"paper_bgcolor\": \"white\", \"plot_bgcolor\": \"#E5ECF6\", \"polar\": {\"angularaxis\": {\"gridcolor\": \"white\", \"linecolor\": \"white\", \"ticks\": \"\"}, \"bgcolor\": \"#E5ECF6\", \"radialaxis\": {\"gridcolor\": \"white\", \"linecolor\": \"white\", \"ticks\": \"\"}}, \"scene\": {\"xaxis\": {\"backgroundcolor\": \"#E5ECF6\", \"gridcolor\": \"white\", \"gridwidth\": 2, \"linecolor\": \"white\", \"showbackground\": true, \"ticks\": \"\", \"zerolinecolor\": \"white\"}, \"yaxis\": {\"backgroundcolor\": \"#E5ECF6\", \"gridcolor\": \"white\", \"gridwidth\": 2, \"linecolor\": \"white\", \"showbackground\": true, \"ticks\": \"\", \"zerolinecolor\": \"white\"}, \"zaxis\": {\"backgroundcolor\": \"#E5ECF6\", \"gridcolor\": \"white\", \"gridwidth\": 2, \"linecolor\": \"white\", \"showbackground\": true, \"ticks\": \"\", \"zerolinecolor\": \"white\"}}, \"shapedefaults\": {\"line\": {\"color\": \"#2a3f5f\"}}, \"ternary\": {\"aaxis\": {\"gridcolor\": \"white\", \"linecolor\": \"white\", \"ticks\": \"\"}, \"baxis\": {\"gridcolor\": \"white\", \"linecolor\": \"white\", \"ticks\": \"\"}, \"bgcolor\": \"#E5ECF6\", \"caxis\": {\"gridcolor\": \"white\", \"linecolor\": \"white\", \"ticks\": \"\"}}, \"title\": {\"x\": 0.05}, \"xaxis\": {\"automargin\": true, \"gridcolor\": \"white\", \"linecolor\": \"white\", \"ticks\": \"\", \"title\": {\"standoff\": 15}, \"zerolinecolor\": \"white\", \"zerolinewidth\": 2}, \"yaxis\": {\"automargin\": true, \"gridcolor\": \"white\", \"linecolor\": \"white\", \"ticks\": \"\", \"title\": {\"standoff\": 15}, \"zerolinecolor\": \"white\", \"zerolinewidth\": 2}}}, \"xaxis\": {\"anchor\": \"y\", \"categoryorder\": \"total ascending\", \"domain\": [0.0, 1.0], \"title\": {\"text\": \"four_month\"}}, \"yaxis\": {\"anchor\": \"x\", \"domain\": [0.0, 1.0], \"title\": {\"text\": \"sum of Audience\"}}},                        {\"responsive\": true}                    ).then(function(){\n",
       "                            \n",
       "var gd = document.getElementById('328eba9e-13ac-486e-904c-1b3d2f238926');\n",
       "var x = new MutationObserver(function (mutations, observer) {{\n",
       "        var display = window.getComputedStyle(gd).display;\n",
       "        if (!display || display === 'none') {{\n",
       "            console.log([gd, 'removed!']);\n",
       "            Plotly.purge(gd);\n",
       "            observer.disconnect();\n",
       "        }}\n",
       "}});\n",
       "\n",
       "// Listen for the removal of the full notebook cells\n",
       "var notebookContainer = gd.closest('#notebook-container');\n",
       "if (notebookContainer) {{\n",
       "    x.observe(notebookContainer, {childList: true});\n",
       "}}\n",
       "\n",
       "// Listen for the clearing of the current output cell\n",
       "var outputEl = gd.closest('.output');\n",
       "if (outputEl) {{\n",
       "    x.observe(outputEl, {childList: true});\n",
       "}}\n",
       "\n",
       "                        })                };                });            </script>        </div>"
      ]
     },
     "metadata": {},
     "output_type": "display_data"
    }
   ],
   "source": [
    "# 봄에 영화를 보러 가는 사람이 가장 작다! 영화가 적은 것일까? 볼만한 영화가 별로 없는것일까?\n",
    "# 계절별 총관객수\n",
    "import plotly.express as px\n",
    "fig = px.histogram(movie, x=\"four_month\", y=\"Audience\").update_xaxes(categoryorder=\"total ascending\")\n",
    "fig.show()"
   ]
  },
  {
   "cell_type": "code",
   "execution_count": 48,
   "metadata": {
    "scrolled": false
   },
   "outputs": [
    {
     "data": {
      "text/html": [
       "<div>\n",
       "<style scoped>\n",
       "    .dataframe tbody tr th:only-of-type {\n",
       "        vertical-align: middle;\n",
       "    }\n",
       "\n",
       "    .dataframe tbody tr th {\n",
       "        vertical-align: top;\n",
       "    }\n",
       "\n",
       "    .dataframe thead th {\n",
       "        text-align: right;\n",
       "    }\n",
       "</style>\n",
       "<table border=\"1\" class=\"dataframe\">\n",
       "  <thead>\n",
       "    <tr style=\"text-align: right;\">\n",
       "      <th></th>\n",
       "      <th>0</th>\n",
       "    </tr>\n",
       "    <tr>\n",
       "      <th>four_month</th>\n",
       "      <th></th>\n",
       "    </tr>\n",
       "  </thead>\n",
       "  <tbody>\n",
       "    <tr>\n",
       "      <th>1</th>\n",
       "      <td>89</td>\n",
       "    </tr>\n",
       "    <tr>\n",
       "      <th>2</th>\n",
       "      <td>79</td>\n",
       "    </tr>\n",
       "    <tr>\n",
       "      <th>3</th>\n",
       "      <td>84</td>\n",
       "    </tr>\n",
       "    <tr>\n",
       "      <th>4</th>\n",
       "      <td>105</td>\n",
       "    </tr>\n",
       "  </tbody>\n",
       "</table>\n",
       "</div>"
      ],
      "text/plain": [
       "              0\n",
       "four_month     \n",
       "1            89\n",
       "2            79\n",
       "3            84\n",
       "4           105"
      ]
     },
     "execution_count": 48,
     "metadata": {},
     "output_type": "execute_result"
    }
   ],
   "source": [
    "# 전체 년도 합해서 각 계절에 개봉한 총 영화\n",
    "movie.groupby('four_month').size().to_frame()"
   ]
  },
  {
   "cell_type": "code",
   "execution_count": 126,
   "metadata": {},
   "outputs": [
    {
     "data": {
      "image/png": "[encoded data removed]",
      "text/plain": [
       "<Figure size 720x432 with 1 Axes>"
      ]
     },
     "metadata": {},
     "output_type": "display_data"
    }
   ],
   "source": [
    "# 전체 년도 합해서 각 계절에 개봉한 총 영화 그래프\n",
    "sns.set_style('whitegrid')\n",
    "plt.figure(figsize=(10,6))\n",
    "sns.countplot(x='four_month', data=movie, palette='Spectral');"
   ]
  },
  {
   "cell_type": "code",
   "execution_count": 51,
   "metadata": {},
   "outputs": [
    {
     "data": {
      "text/html": [
       "<div>\n",
       "<style scoped>\n",
       "    .dataframe tbody tr th:only-of-type {\n",
       "        vertical-align: middle;\n",
       "    }\n",
       "\n",
       "    .dataframe tbody tr th {\n",
       "        vertical-align: top;\n",
       "    }\n",
       "\n",
       "    .dataframe thead th {\n",
       "        text-align: right;\n",
       "    }\n",
       "</style>\n",
       "<table border=\"1\" class=\"dataframe\">\n",
       "  <thead>\n",
       "    <tr style=\"text-align: right;\">\n",
       "      <th></th>\n",
       "      <th></th>\n",
       "      <th>0</th>\n",
       "    </tr>\n",
       "    <tr>\n",
       "      <th>year</th>\n",
       "      <th>four_month</th>\n",
       "      <th></th>\n",
       "    </tr>\n",
       "  </thead>\n",
       "  <tbody>\n",
       "    <tr>\n",
       "      <th rowspan=\"4\" valign=\"top\">2015</th>\n",
       "      <th>1</th>\n",
       "      <td>7</td>\n",
       "    </tr>\n",
       "    <tr>\n",
       "      <th>2</th>\n",
       "      <td>3</td>\n",
       "    </tr>\n",
       "    <tr>\n",
       "      <th>3</th>\n",
       "      <td>3</td>\n",
       "    </tr>\n",
       "    <tr>\n",
       "      <th>4</th>\n",
       "      <td>14</td>\n",
       "    </tr>\n",
       "    <tr>\n",
       "      <th rowspan=\"4\" valign=\"top\">2016</th>\n",
       "      <th>1</th>\n",
       "      <td>17</td>\n",
       "    </tr>\n",
       "    <tr>\n",
       "      <th>2</th>\n",
       "      <td>15</td>\n",
       "    </tr>\n",
       "    <tr>\n",
       "      <th>3</th>\n",
       "      <td>16</td>\n",
       "    </tr>\n",
       "    <tr>\n",
       "      <th>4</th>\n",
       "      <td>16</td>\n",
       "    </tr>\n",
       "    <tr>\n",
       "      <th rowspan=\"4\" valign=\"top\">2017</th>\n",
       "      <th>1</th>\n",
       "      <td>14</td>\n",
       "    </tr>\n",
       "    <tr>\n",
       "      <th>2</th>\n",
       "      <td>18</td>\n",
       "    </tr>\n",
       "    <tr>\n",
       "      <th>3</th>\n",
       "      <td>12</td>\n",
       "    </tr>\n",
       "    <tr>\n",
       "      <th>4</th>\n",
       "      <td>20</td>\n",
       "    </tr>\n",
       "    <tr>\n",
       "      <th rowspan=\"4\" valign=\"top\">2018</th>\n",
       "      <th>1</th>\n",
       "      <td>22</td>\n",
       "    </tr>\n",
       "    <tr>\n",
       "      <th>2</th>\n",
       "      <td>19</td>\n",
       "    </tr>\n",
       "    <tr>\n",
       "      <th>3</th>\n",
       "      <td>19</td>\n",
       "    </tr>\n",
       "    <tr>\n",
       "      <th>4</th>\n",
       "      <td>17</td>\n",
       "    </tr>\n",
       "    <tr>\n",
       "      <th rowspan=\"4\" valign=\"top\">2019</th>\n",
       "      <th>1</th>\n",
       "      <td>20</td>\n",
       "    </tr>\n",
       "    <tr>\n",
       "      <th>2</th>\n",
       "      <td>16</td>\n",
       "    </tr>\n",
       "    <tr>\n",
       "      <th>3</th>\n",
       "      <td>19</td>\n",
       "    </tr>\n",
       "    <tr>\n",
       "      <th>4</th>\n",
       "      <td>18</td>\n",
       "    </tr>\n",
       "    <tr>\n",
       "      <th rowspan=\"4\" valign=\"top\">2020</th>\n",
       "      <th>1</th>\n",
       "      <td>9</td>\n",
       "    </tr>\n",
       "    <tr>\n",
       "      <th>2</th>\n",
       "      <td>8</td>\n",
       "    </tr>\n",
       "    <tr>\n",
       "      <th>3</th>\n",
       "      <td>15</td>\n",
       "    </tr>\n",
       "    <tr>\n",
       "      <th>4</th>\n",
       "      <td>20</td>\n",
       "    </tr>\n",
       "  </tbody>\n",
       "</table>\n",
       "</div>"
      ],
      "text/plain": [
       "                  0\n",
       "year four_month    \n",
       "2015 1            7\n",
       "     2            3\n",
       "     3            3\n",
       "     4           14\n",
       "2016 1           17\n",
       "     2           15\n",
       "     3           16\n",
       "     4           16\n",
       "2017 1           14\n",
       "     2           18\n",
       "     3           12\n",
       "     4           20\n",
       "2018 1           22\n",
       "     2           19\n",
       "     3           19\n",
       "     4           17\n",
       "2019 1           20\n",
       "     2           16\n",
       "     3           19\n",
       "     4           18\n",
       "2020 1            9\n",
       "     2            8\n",
       "     3           15\n",
       "     4           20"
      ]
     },
     "execution_count": 51,
     "metadata": {},
     "output_type": "execute_result"
    }
   ],
   "source": [
    "# 년도별 각 계절의 총 영화 개봉 수\n",
    "movie.groupby(['year', 'four_month']).size().to_frame()"
   ]
  },
  {
   "cell_type": "code",
   "execution_count": 52,
   "metadata": {},
   "outputs": [
    {
     "data": {
      "image/png": "[encoded data removed]",
      "text/plain": [
       "<Figure size 720x432 with 1 Axes>"
      ]
     },
     "metadata": {},
     "output_type": "display_data"
    }
   ],
   "source": [
    "# 년도별 각 계절의 총 영화 개봉 수 그래프\n",
    "sns.set_style('whitegrid')\n",
    "plt.figure(figsize=(10,6))\n",
    "sns.countplot(x='year', hue='four_month', data=movie, palette='Spectral');"
   ]
  },
  {
   "cell_type": "code",
   "execution_count": 105,
   "metadata": {},
   "outputs": [
    {
     "data": {
      "text/html": [
       "<div>\n",
       "<style scoped>\n",
       "    .dataframe tbody tr th:only-of-type {\n",
       "        vertical-align: middle;\n",
       "    }\n",
       "\n",
       "    .dataframe tbody tr th {\n",
       "        vertical-align: top;\n",
       "    }\n",
       "\n",
       "    .dataframe thead th {\n",
       "        text-align: right;\n",
       "    }\n",
       "</style>\n",
       "<table border=\"1\" class=\"dataframe\">\n",
       "  <thead>\n",
       "    <tr style=\"text-align: right;\">\n",
       "      <th></th>\n",
       "      <th>0</th>\n",
       "    </tr>\n",
       "    <tr>\n",
       "      <th>genres</th>\n",
       "      <th></th>\n",
       "    </tr>\n",
       "  </thead>\n",
       "  <tbody>\n",
       "    <tr>\n",
       "      <th>가족</th>\n",
       "      <td>1</td>\n",
       "    </tr>\n",
       "    <tr>\n",
       "      <th>다큐멘터리</th>\n",
       "      <td>2</td>\n",
       "    </tr>\n",
       "    <tr>\n",
       "      <th>드라마</th>\n",
       "      <td>4</td>\n",
       "    </tr>\n",
       "    <tr>\n",
       "      <th>범죄</th>\n",
       "      <td>4</td>\n",
       "    </tr>\n",
       "    <tr>\n",
       "      <th>사극</th>\n",
       "      <td>2</td>\n",
       "    </tr>\n",
       "    <tr>\n",
       "      <th>스릴러</th>\n",
       "      <td>1</td>\n",
       "    </tr>\n",
       "    <tr>\n",
       "      <th>애니메이션</th>\n",
       "      <td>3</td>\n",
       "    </tr>\n",
       "    <tr>\n",
       "      <th>액션</th>\n",
       "      <td>2</td>\n",
       "    </tr>\n",
       "    <tr>\n",
       "      <th>코미디</th>\n",
       "      <td>3</td>\n",
       "    </tr>\n",
       "  </tbody>\n",
       "</table>\n",
       "</div>"
      ],
      "text/plain": [
       "        0\n",
       "genres   \n",
       "가족      1\n",
       "다큐멘터리   2\n",
       "드라마     4\n",
       "범죄      4\n",
       "사극      2\n",
       "스릴러     1\n",
       "애니메이션   3\n",
       "액션      2\n",
       "코미디     3"
      ]
     },
     "execution_count": 105,
     "metadata": {},
     "output_type": "execute_result"
    }
   ],
   "source": [
    "# 가장 많이 개봉했던 2018년 겨울 영화 장르 그래프\n",
    "m_18 = movie[movie['year'] == 2018]\n",
    "m_18_1 = m_18[m_18['four_month'] == 1]\n",
    "m_18_1.groupby('genres').size().to_frame()\n",
    "# len(m_18_1)"
   ]
  },
  {
   "cell_type": "markdown",
   "metadata": {},
   "source": [
    "## 4. 장르별 총 영화 개봉 수\n",
    "### - 모든 영화 중 범죄, 액션, 스릴러 장르의 영화 가장 많이 개봉하는 것으로 예상\n",
    "### - 2015~2020년 개봉한 한국 영화에는 드라마(75)가 가장 많았고, 다음으로는 코미디(48), 범죄(43), 애니메이션(35)이었음."
   ]
  },
  {
   "cell_type": "code",
   "execution_count": 112,
   "metadata": {
    "scrolled": false
   },
   "outputs": [
    {
     "data": {
      "image/png": "[encoded data removed]",
      "text/plain": [
       "<Figure size 720x432 with 1 Axes>"
      ]
     },
     "metadata": {},
     "output_type": "display_data"
    }
   ],
   "source": [
    "# 장르별 개봉한 총 영화 수 그래프\n",
    "from matplotlib import font_manager\n",
    "f_path = \"C:\\Windows\\Fonts\\malgun.ttf\"\n",
    "font_manager.FontProperties(fname=f_path).get_name()\n",
    "from matplotlib import rc\n",
    "rc('font', family='Malgun Gothic')\n",
    "\n",
    "plt.figure(figsize=(10,6))\n",
    "sns.countplot(x='genres', data=movie, palette='Spectral');"
   ]
  },
  {
   "cell_type": "code",
   "execution_count": 107,
   "metadata": {},
   "outputs": [
    {
     "data": {
      "text/html": [
       "<div>\n",
       "<style scoped>\n",
       "    .dataframe tbody tr th:only-of-type {\n",
       "        vertical-align: middle;\n",
       "    }\n",
       "\n",
       "    .dataframe tbody tr th {\n",
       "        vertical-align: top;\n",
       "    }\n",
       "\n",
       "    .dataframe thead th {\n",
       "        text-align: right;\n",
       "    }\n",
       "</style>\n",
       "<table border=\"1\" class=\"dataframe\">\n",
       "  <thead>\n",
       "    <tr style=\"text-align: right;\">\n",
       "      <th></th>\n",
       "      <th>0</th>\n",
       "    </tr>\n",
       "    <tr>\n",
       "      <th>genres</th>\n",
       "      <th></th>\n",
       "    </tr>\n",
       "  </thead>\n",
       "  <tbody>\n",
       "    <tr>\n",
       "      <th>SF</th>\n",
       "      <td>2</td>\n",
       "    </tr>\n",
       "    <tr>\n",
       "      <th>가족</th>\n",
       "      <td>4</td>\n",
       "    </tr>\n",
       "    <tr>\n",
       "      <th>공연</th>\n",
       "      <td>12</td>\n",
       "    </tr>\n",
       "    <tr>\n",
       "      <th>공포(호러)</th>\n",
       "      <td>11</td>\n",
       "    </tr>\n",
       "    <tr>\n",
       "      <th>기타</th>\n",
       "      <td>2</td>\n",
       "    </tr>\n",
       "    <tr>\n",
       "      <th>다큐멘터리</th>\n",
       "      <td>11</td>\n",
       "    </tr>\n",
       "    <tr>\n",
       "      <th>드라마</th>\n",
       "      <td>75</td>\n",
       "    </tr>\n",
       "    <tr>\n",
       "      <th>멜로/로맨스</th>\n",
       "      <td>12</td>\n",
       "    </tr>\n",
       "    <tr>\n",
       "      <th>뮤지컬</th>\n",
       "      <td>4</td>\n",
       "    </tr>\n",
       "    <tr>\n",
       "      <th>미스터리</th>\n",
       "      <td>21</td>\n",
       "    </tr>\n",
       "    <tr>\n",
       "      <th>범죄</th>\n",
       "      <td>43</td>\n",
       "    </tr>\n",
       "    <tr>\n",
       "      <th>사극</th>\n",
       "      <td>19</td>\n",
       "    </tr>\n",
       "    <tr>\n",
       "      <th>스릴러</th>\n",
       "      <td>21</td>\n",
       "    </tr>\n",
       "    <tr>\n",
       "      <th>애니메이션</th>\n",
       "      <td>35</td>\n",
       "    </tr>\n",
       "    <tr>\n",
       "      <th>액션</th>\n",
       "      <td>27</td>\n",
       "    </tr>\n",
       "    <tr>\n",
       "      <th>어드벤처</th>\n",
       "      <td>1</td>\n",
       "    </tr>\n",
       "    <tr>\n",
       "      <th>전쟁</th>\n",
       "      <td>3</td>\n",
       "    </tr>\n",
       "    <tr>\n",
       "      <th>코미디</th>\n",
       "      <td>48</td>\n",
       "    </tr>\n",
       "    <tr>\n",
       "      <th>판타지</th>\n",
       "      <td>6</td>\n",
       "    </tr>\n",
       "  </tbody>\n",
       "</table>\n",
       "</div>"
      ],
      "text/plain": [
       "         0\n",
       "genres    \n",
       "SF       2\n",
       "가족       4\n",
       "공연      12\n",
       "공포(호러)  11\n",
       "기타       2\n",
       "다큐멘터리   11\n",
       "드라마     75\n",
       "멜로/로맨스  12\n",
       "뮤지컬      4\n",
       "미스터리    21\n",
       "범죄      43\n",
       "사극      19\n",
       "스릴러     21\n",
       "애니메이션   35\n",
       "액션      27\n",
       "어드벤처     1\n",
       "전쟁       3\n",
       "코미디     48\n",
       "판타지      6"
      ]
     },
     "execution_count": 107,
     "metadata": {},
     "output_type": "execute_result"
    }
   ],
   "source": [
    "# 장르별 개봉한 총 영화 수\n",
    "movie.groupby('genres').size().to_frame()"
   ]
  },
  {
   "cell_type": "markdown",
   "metadata": {},
   "source": [
    "## 5. 계절별 각 장르의 총 영화 개봉 수\n",
    "### - 공포, 스릴러, 범죄, 액션은 여름에, 사극, 로맨스는 겨을에 가장 많이 개봉할 것으로 예상\n",
    "### - 년도를 나누지 않고 각 장르가 어느 계절에 많이 개봉했는지 확인한 결과 범죄: 가을, 드라마: 겨울, 액션: 여름, 코미디: 가을, 스릴러: 봄, 공포: 여름, 사극: 가을, 미스터리: 봄 으로 확인\n",
    "### - 전체적으로 드라마 장르의 영화가 가장 많이 개봉한 것으로 확인 했으며 각 계절로 확인해 보아도 언제나 드라마가 가장 많은 것으로 확인. 관람등급이 대부분 '청소년 관람가'로 분류되어 있으며 관람객들을 가장 많이 끌어드릴 수 있기 때문으로 보임.\n",
    "```\n",
    "four_month\n",
    "4 : 9~11월\n",
    "3 : 6~8월\n",
    "2 : 3~5월\n",
    "1 : 12~2월\n",
    "```"
   ]
  },
  {
   "cell_type": "code",
   "execution_count": 121,
   "metadata": {},
   "outputs": [
    {
     "data": {
      "text/html": [
       "<div>\n",
       "<style scoped>\n",
       "    .dataframe tbody tr th:only-of-type {\n",
       "        vertical-align: middle;\n",
       "    }\n",
       "\n",
       "    .dataframe tbody tr th {\n",
       "        vertical-align: top;\n",
       "    }\n",
       "\n",
       "    .dataframe thead th {\n",
       "        text-align: right;\n",
       "    }\n",
       "</style>\n",
       "<table border=\"1\" class=\"dataframe\">\n",
       "  <thead>\n",
       "    <tr style=\"text-align: right;\">\n",
       "      <th></th>\n",
       "      <th>Code</th>\n",
       "      <th>Movie</th>\n",
       "      <th>Audience</th>\n",
       "      <th>Screen</th>\n",
       "      <th>genres</th>\n",
       "      <th>AgeRate</th>\n",
       "      <th>month</th>\n",
       "      <th>year</th>\n",
       "      <th>four_month</th>\n",
       "      <th>year_cat</th>\n",
       "    </tr>\n",
       "  </thead>\n",
       "  <tbody>\n",
       "    <tr>\n",
       "      <th>1</th>\n",
       "      <td>20197121</td>\n",
       "      <td>삼진그룹 영어토익반</td>\n",
       "      <td>1257.444</td>\n",
       "      <td>1080</td>\n",
       "      <td>드라마</td>\n",
       "      <td>청소년관람가</td>\n",
       "      <td>10</td>\n",
       "      <td>2020</td>\n",
       "      <td>4</td>\n",
       "      <td>35</td>\n",
       "    </tr>\n",
       "    <tr>\n",
       "      <th>2</th>\n",
       "      <td>20199816</td>\n",
       "      <td>담보</td>\n",
       "      <td>1702.252</td>\n",
       "      <td>407</td>\n",
       "      <td>드라마</td>\n",
       "      <td>청소년관람가</td>\n",
       "      <td>9</td>\n",
       "      <td>2020</td>\n",
       "      <td>4</td>\n",
       "      <td>35</td>\n",
       "    </tr>\n",
       "    <tr>\n",
       "      <th>16</th>\n",
       "      <td>20206291</td>\n",
       "      <td>피원에이치 : 새로운 세계의 시작</td>\n",
       "      <td>1.912</td>\n",
       "      <td>21</td>\n",
       "      <td>드라마</td>\n",
       "      <td>청소년관람가</td>\n",
       "      <td>10</td>\n",
       "      <td>2020</td>\n",
       "      <td>4</td>\n",
       "      <td>35</td>\n",
       "    </tr>\n",
       "    <tr>\n",
       "      <th>17</th>\n",
       "      <td>20208045</td>\n",
       "      <td>강철비2 : 정상회담 확장판</td>\n",
       "      <td>17.918</td>\n",
       "      <td>48</td>\n",
       "      <td>드라마</td>\n",
       "      <td>청소년관람가</td>\n",
       "      <td>9</td>\n",
       "      <td>2020</td>\n",
       "      <td>4</td>\n",
       "      <td>35</td>\n",
       "    </tr>\n",
       "    <tr>\n",
       "      <th>18</th>\n",
       "      <td>20196271</td>\n",
       "      <td>강철비2: 정상회담</td>\n",
       "      <td>1789.780</td>\n",
       "      <td>9</td>\n",
       "      <td>드라마</td>\n",
       "      <td>청소년관람가</td>\n",
       "      <td>7</td>\n",
       "      <td>2020</td>\n",
       "      <td>3</td>\n",
       "      <td>35</td>\n",
       "    </tr>\n",
       "    <tr>\n",
       "      <th>...</th>\n",
       "      <td>...</td>\n",
       "      <td>...</td>\n",
       "      <td>...</td>\n",
       "      <td>...</td>\n",
       "      <td>...</td>\n",
       "      <td>...</td>\n",
       "      <td>...</td>\n",
       "      <td>...</td>\n",
       "      <td>...</td>\n",
       "      <td>...</td>\n",
       "    </tr>\n",
       "    <tr>\n",
       "      <th>392</th>\n",
       "      <td>20157466</td>\n",
       "      <td>로봇, 소리</td>\n",
       "      <td>475.622</td>\n",
       "      <td>49</td>\n",
       "      <td>드라마</td>\n",
       "      <td>청소년관람가</td>\n",
       "      <td>1</td>\n",
       "      <td>2016</td>\n",
       "      <td>1</td>\n",
       "      <td>31</td>\n",
       "    </tr>\n",
       "    <tr>\n",
       "      <th>396</th>\n",
       "      <td>20144442</td>\n",
       "      <td>조선마술사</td>\n",
       "      <td>627.379</td>\n",
       "      <td>53</td>\n",
       "      <td>드라마</td>\n",
       "      <td>청소년관람가</td>\n",
       "      <td>12</td>\n",
       "      <td>2015</td>\n",
       "      <td>1</td>\n",
       "      <td>30</td>\n",
       "    </tr>\n",
       "    <tr>\n",
       "      <th>399</th>\n",
       "      <td>20156748</td>\n",
       "      <td>열정같은소리하고있네</td>\n",
       "      <td>654.407</td>\n",
       "      <td>1</td>\n",
       "      <td>드라마</td>\n",
       "      <td>청소년관람가</td>\n",
       "      <td>11</td>\n",
       "      <td>2015</td>\n",
       "      <td>4</td>\n",
       "      <td>30</td>\n",
       "    </tr>\n",
       "    <tr>\n",
       "      <th>411</th>\n",
       "      <td>20145501</td>\n",
       "      <td>돌연변이</td>\n",
       "      <td>100.498</td>\n",
       "      <td>7</td>\n",
       "      <td>드라마</td>\n",
       "      <td>청소년관람가</td>\n",
       "      <td>10</td>\n",
       "      <td>2015</td>\n",
       "      <td>4</td>\n",
       "      <td>30</td>\n",
       "    </tr>\n",
       "    <tr>\n",
       "      <th>415</th>\n",
       "      <td>20149961</td>\n",
       "      <td>미안해 사랑해 고마워</td>\n",
       "      <td>50.571</td>\n",
       "      <td>5</td>\n",
       "      <td>드라마</td>\n",
       "      <td>청소년관람가</td>\n",
       "      <td>10</td>\n",
       "      <td>2015</td>\n",
       "      <td>4</td>\n",
       "      <td>30</td>\n",
       "    </tr>\n",
       "  </tbody>\n",
       "</table>\n",
       "<p>75 rows × 10 columns</p>\n",
       "</div>"
      ],
      "text/plain": [
       "         Code                Movie  Audience  Screen genres AgeRate  month  \\\n",
       "1    20197121           삼진그룹 영어토익반  1257.444    1080    드라마  청소년관람가     10   \n",
       "2    20199816                   담보  1702.252     407    드라마  청소년관람가      9   \n",
       "16   20206291  피원에이치 : 새로운 세계의 시작      1.912      21    드라마  청소년관람가     10   \n",
       "17   20208045      강철비2 : 정상회담 확장판    17.918      48    드라마  청소년관람가      9   \n",
       "18   20196271           강철비2: 정상회담  1789.780       9    드라마  청소년관람가      7   \n",
       "..        ...                  ...       ...     ...    ...     ...    ...   \n",
       "392  20157466               로봇, 소리   475.622      49    드라마  청소년관람가      1   \n",
       "396  20144442                조선마술사   627.379      53    드라마  청소년관람가     12   \n",
       "399  20156748           열정같은소리하고있네   654.407       1    드라마  청소년관람가     11   \n",
       "411  20145501                 돌연변이   100.498       7    드라마  청소년관람가     10   \n",
       "415  20149961          미안해 사랑해 고마워    50.571       5    드라마  청소년관람가     10   \n",
       "\n",
       "     year  four_month  year_cat  \n",
       "1    2020           4        35  \n",
       "2    2020           4        35  \n",
       "16   2020           4        35  \n",
       "17   2020           4        35  \n",
       "18   2020           3        35  \n",
       "..    ...         ...       ...  \n",
       "392  2016           1        31  \n",
       "396  2015           1        30  \n",
       "399  2015           4        30  \n",
       "411  2015           4        30  \n",
       "415  2015           4        30  \n",
       "\n",
       "[75 rows x 10 columns]"
      ]
     },
     "execution_count": 121,
     "metadata": {},
     "output_type": "execute_result"
    }
   ],
   "source": [
    "movie[movie['genres'] == '드라마']"
   ]
  },
  {
   "cell_type": "code",
   "execution_count": 127,
   "metadata": {
    "scrolled": false
   },
   "outputs": [
    {
     "data": {
      "text/plain": [
       "<Figure size 720x432 with 0 Axes>"
      ]
     },
     "metadata": {},
     "output_type": "display_data"
    },
    {
     "data": {
      "image/png": "[encoded data removed]",
      "text/plain": [
       "<Figure size 1080x720 with 4 Axes>"
      ]
     },
     "metadata": {},
     "output_type": "display_data"
    }
   ],
   "source": [
    "# 계절별 각 장르의 영화 수\n",
    "plt.figure(figsize=(10,6))\n",
    "sns.catplot(data=movie, x='genres', col='four_month', kind='count', \n",
    "            col_wrap=3, palette='Spectral', legend=False);"
   ]
  },
  {
   "cell_type": "markdown",
   "metadata": {},
   "source": [
    "## 6. 년도별 각 장르의 영화 개봉 수\n",
    "### - 계절별로 확인했을 때는 매년 드라마가 가장 많지만 2020년에는 드라마와 코미디 개봉 수(10)가 같았다. 코로나로 힘들 때 코미디 영화로 위로를 얻을 수 있을 것이다."
   ]
  },
  {
   "cell_type": "code",
   "execution_count": 170,
   "metadata": {
    "scrolled": true
   },
   "outputs": [
    {
     "data": {
      "text/html": [
       "<div>\n",
       "<style scoped>\n",
       "    .dataframe tbody tr th:only-of-type {\n",
       "        vertical-align: middle;\n",
       "    }\n",
       "\n",
       "    .dataframe tbody tr th {\n",
       "        vertical-align: top;\n",
       "    }\n",
       "\n",
       "    .dataframe thead th {\n",
       "        text-align: right;\n",
       "    }\n",
       "</style>\n",
       "<table border=\"1\" class=\"dataframe\">\n",
       "  <thead>\n",
       "    <tr style=\"text-align: right;\">\n",
       "      <th></th>\n",
       "      <th>Code</th>\n",
       "      <th>Movie</th>\n",
       "      <th>Audience</th>\n",
       "      <th>Screen</th>\n",
       "      <th>genres</th>\n",
       "      <th>AgeRate</th>\n",
       "      <th>month</th>\n",
       "      <th>year</th>\n",
       "      <th>four_month</th>\n",
       "      <th>year_cat</th>\n",
       "    </tr>\n",
       "  </thead>\n",
       "  <tbody>\n",
       "    <tr>\n",
       "      <th>0</th>\n",
       "      <td>20192193</td>\n",
       "      <td>도굴</td>\n",
       "      <td>565.469</td>\n",
       "      <td>1634</td>\n",
       "      <td>범죄</td>\n",
       "      <td>청소년관람가</td>\n",
       "      <td>11</td>\n",
       "      <td>2020</td>\n",
       "      <td>4</td>\n",
       "      <td>35</td>\n",
       "    </tr>\n",
       "    <tr>\n",
       "      <th>1</th>\n",
       "      <td>20197121</td>\n",
       "      <td>삼진그룹 영어토익반</td>\n",
       "      <td>1257.444</td>\n",
       "      <td>1080</td>\n",
       "      <td>드라마</td>\n",
       "      <td>청소년관람가</td>\n",
       "      <td>10</td>\n",
       "      <td>2020</td>\n",
       "      <td>4</td>\n",
       "      <td>35</td>\n",
       "    </tr>\n",
       "    <tr>\n",
       "      <th>2</th>\n",
       "      <td>20199816</td>\n",
       "      <td>담보</td>\n",
       "      <td>1702.252</td>\n",
       "      <td>407</td>\n",
       "      <td>드라마</td>\n",
       "      <td>청소년관람가</td>\n",
       "      <td>9</td>\n",
       "      <td>2020</td>\n",
       "      <td>4</td>\n",
       "      <td>35</td>\n",
       "    </tr>\n",
       "    <tr>\n",
       "      <th>3</th>\n",
       "      <td>20208508</td>\n",
       "      <td>미스터트롯: 더 무비</td>\n",
       "      <td>140.594</td>\n",
       "      <td>159</td>\n",
       "      <td>공연</td>\n",
       "      <td>전체관람가</td>\n",
       "      <td>10</td>\n",
       "      <td>2020</td>\n",
       "      <td>4</td>\n",
       "      <td>35</td>\n",
       "    </tr>\n",
       "    <tr>\n",
       "      <th>4</th>\n",
       "      <td>20194424</td>\n",
       "      <td>소리도 없이</td>\n",
       "      <td>401.759</td>\n",
       "      <td>126</td>\n",
       "      <td>범죄</td>\n",
       "      <td>청소년관람가</td>\n",
       "      <td>10</td>\n",
       "      <td>2020</td>\n",
       "      <td>4</td>\n",
       "      <td>35</td>\n",
       "    </tr>\n",
       "    <tr>\n",
       "      <th>...</th>\n",
       "      <td>...</td>\n",
       "      <td>...</td>\n",
       "      <td>...</td>\n",
       "      <td>...</td>\n",
       "      <td>...</td>\n",
       "      <td>...</td>\n",
       "      <td>...</td>\n",
       "      <td>...</td>\n",
       "      <td>...</td>\n",
       "      <td>...</td>\n",
       "    </tr>\n",
       "    <tr>\n",
       "      <th>411</th>\n",
       "      <td>20145501</td>\n",
       "      <td>돌연변이</td>\n",
       "      <td>100.498</td>\n",
       "      <td>7</td>\n",
       "      <td>드라마</td>\n",
       "      <td>청소년관람가</td>\n",
       "      <td>10</td>\n",
       "      <td>2015</td>\n",
       "      <td>4</td>\n",
       "      <td>30</td>\n",
       "    </tr>\n",
       "    <tr>\n",
       "      <th>412</th>\n",
       "      <td>20157465</td>\n",
       "      <td>그놈이다</td>\n",
       "      <td>1045.218</td>\n",
       "      <td>35</td>\n",
       "      <td>스릴러</td>\n",
       "      <td>청소년관람가</td>\n",
       "      <td>10</td>\n",
       "      <td>2015</td>\n",
       "      <td>4</td>\n",
       "      <td>30</td>\n",
       "    </tr>\n",
       "    <tr>\n",
       "      <th>413</th>\n",
       "      <td>20157464</td>\n",
       "      <td>더 폰</td>\n",
       "      <td>1593.592</td>\n",
       "      <td>7</td>\n",
       "      <td>스릴러</td>\n",
       "      <td>청소년관람가</td>\n",
       "      <td>10</td>\n",
       "      <td>2015</td>\n",
       "      <td>4</td>\n",
       "      <td>30</td>\n",
       "    </tr>\n",
       "    <tr>\n",
       "      <th>414</th>\n",
       "      <td>20142855</td>\n",
       "      <td>성난 변호사</td>\n",
       "      <td>1127.747</td>\n",
       "      <td>21</td>\n",
       "      <td>범죄</td>\n",
       "      <td>청소년관람가</td>\n",
       "      <td>10</td>\n",
       "      <td>2015</td>\n",
       "      <td>4</td>\n",
       "      <td>30</td>\n",
       "    </tr>\n",
       "    <tr>\n",
       "      <th>415</th>\n",
       "      <td>20149961</td>\n",
       "      <td>미안해 사랑해 고마워</td>\n",
       "      <td>50.571</td>\n",
       "      <td>5</td>\n",
       "      <td>드라마</td>\n",
       "      <td>청소년관람가</td>\n",
       "      <td>10</td>\n",
       "      <td>2015</td>\n",
       "      <td>4</td>\n",
       "      <td>30</td>\n",
       "    </tr>\n",
       "  </tbody>\n",
       "</table>\n",
       "<p>357 rows × 10 columns</p>\n",
       "</div>"
      ],
      "text/plain": [
       "         Code        Movie  Audience  Screen genres AgeRate  month  year  \\\n",
       "0    20192193           도굴   565.469    1634     범죄  청소년관람가     11  2020   \n",
       "1    20197121   삼진그룹 영어토익반  1257.444    1080    드라마  청소년관람가     10  2020   \n",
       "2    20199816           담보  1702.252     407    드라마  청소년관람가      9  2020   \n",
       "3    20208508  미스터트롯: 더 무비   140.594     159     공연   전체관람가     10  2020   \n",
       "4    20194424       소리도 없이   401.759     126     범죄  청소년관람가     10  2020   \n",
       "..        ...          ...       ...     ...    ...     ...    ...   ...   \n",
       "411  20145501         돌연변이   100.498       7    드라마  청소년관람가     10  2015   \n",
       "412  20157465         그놈이다  1045.218      35    스릴러  청소년관람가     10  2015   \n",
       "413  20157464          더 폰  1593.592       7    스릴러  청소년관람가     10  2015   \n",
       "414  20142855       성난 변호사  1127.747      21     범죄  청소년관람가     10  2015   \n",
       "415  20149961  미안해 사랑해 고마워    50.571       5    드라마  청소년관람가     10  2015   \n",
       "\n",
       "     four_month  year_cat  \n",
       "0             4        35  \n",
       "1             4        35  \n",
       "2             4        35  \n",
       "3             4        35  \n",
       "4             4        35  \n",
       "..          ...       ...  \n",
       "411           4        30  \n",
       "412           4        30  \n",
       "413           4        30  \n",
       "414           4        30  \n",
       "415           4        30  \n",
       "\n",
       "[357 rows x 10 columns]"
      ]
     },
     "execution_count": 170,
     "metadata": {},
     "output_type": "execute_result"
    }
   ],
   "source": [
    "movie"
   ]
  },
  {
   "cell_type": "code",
   "execution_count": 131,
   "metadata": {
    "scrolled": false
   },
   "outputs": [
    {
     "data": {
      "text/html": [
       "<div>\n",
       "<style scoped>\n",
       "    .dataframe tbody tr th:only-of-type {\n",
       "        vertical-align: middle;\n",
       "    }\n",
       "\n",
       "    .dataframe tbody tr th {\n",
       "        vertical-align: top;\n",
       "    }\n",
       "\n",
       "    .dataframe thead th {\n",
       "        text-align: right;\n",
       "    }\n",
       "</style>\n",
       "<table border=\"1\" class=\"dataframe\">\n",
       "  <thead>\n",
       "    <tr style=\"text-align: right;\">\n",
       "      <th></th>\n",
       "      <th></th>\n",
       "      <th>0</th>\n",
       "    </tr>\n",
       "    <tr>\n",
       "      <th>year</th>\n",
       "      <th>genres</th>\n",
       "      <th></th>\n",
       "    </tr>\n",
       "  </thead>\n",
       "  <tbody>\n",
       "    <tr>\n",
       "      <th rowspan=\"5\" valign=\"top\">2015</th>\n",
       "      <th>공연</th>\n",
       "      <td>2</td>\n",
       "    </tr>\n",
       "    <tr>\n",
       "      <th>드라마</th>\n",
       "      <td>5</td>\n",
       "    </tr>\n",
       "    <tr>\n",
       "      <th>멜로/로맨스</th>\n",
       "      <td>1</td>\n",
       "    </tr>\n",
       "    <tr>\n",
       "      <th>미스터리</th>\n",
       "      <td>2</td>\n",
       "    </tr>\n",
       "    <tr>\n",
       "      <th>범죄</th>\n",
       "      <td>4</td>\n",
       "    </tr>\n",
       "    <tr>\n",
       "      <th>...</th>\n",
       "      <th>...</th>\n",
       "      <td>...</td>\n",
       "    </tr>\n",
       "    <tr>\n",
       "      <th rowspan=\"5\" valign=\"top\">2020</th>\n",
       "      <th>스릴러</th>\n",
       "      <td>2</td>\n",
       "    </tr>\n",
       "    <tr>\n",
       "      <th>애니메이션</th>\n",
       "      <td>4</td>\n",
       "    </tr>\n",
       "    <tr>\n",
       "      <th>액션</th>\n",
       "      <td>6</td>\n",
       "    </tr>\n",
       "    <tr>\n",
       "      <th>코미디</th>\n",
       "      <td>10</td>\n",
       "    </tr>\n",
       "    <tr>\n",
       "      <th>판타지</th>\n",
       "      <td>1</td>\n",
       "    </tr>\n",
       "  </tbody>\n",
       "</table>\n",
       "<p>84 rows × 1 columns</p>\n",
       "</div>"
      ],
      "text/plain": [
       "              0\n",
       "year genres    \n",
       "2015 공연       2\n",
       "     드라마      5\n",
       "     멜로/로맨스   1\n",
       "     미스터리     2\n",
       "     범죄       4\n",
       "...          ..\n",
       "2020 스릴러      2\n",
       "     애니메이션    4\n",
       "     액션       6\n",
       "     코미디     10\n",
       "     판타지      1\n",
       "\n",
       "[84 rows x 1 columns]"
      ]
     },
     "execution_count": 131,
     "metadata": {},
     "output_type": "execute_result"
    }
   ],
   "source": [
    "# 년도별 각 장르 개봉 수\n",
    "movie.groupby(['year', 'genres']).size().to_frame()"
   ]
  },
  {
   "cell_type": "code",
   "execution_count": 130,
   "metadata": {},
   "outputs": [
    {
     "data": {
      "text/plain": [
       "genres\n",
       "공연         6\n",
       "공포(호러)     1\n",
       "다큐멘터리      3\n",
       "드라마       10\n",
       "뮤지컬        1\n",
       "미스터리       3\n",
       "범죄         4\n",
       "사극         1\n",
       "스릴러        2\n",
       "애니메이션      4\n",
       "액션         6\n",
       "코미디       10\n",
       "판타지        1\n",
       "dtype: int64"
      ]
     },
     "execution_count": 130,
     "metadata": {},
     "output_type": "execute_result"
    }
   ],
   "source": [
    "# 2020년 장르별 영화 개봉 수\n",
    "movie[movie['year'] == 2020].groupby('genres').size()"
   ]
  },
  {
   "cell_type": "code",
   "execution_count": 117,
   "metadata": {
    "scrolled": true
   },
   "outputs": [
    {
     "name": "stderr",
     "output_type": "stream",
     "text": [
      "c:\\users\\luvu1\\anaconda3\\envs\\dss15\\lib\\site-packages\\matplotlib\\backends\\backend_agg.py:238: RuntimeWarning: Glyph 48276 missing from current font.\n",
      "  font.set_text(s, 0.0, flags=flags)\n",
      "c:\\users\\luvu1\\anaconda3\\envs\\dss15\\lib\\site-packages\\matplotlib\\backends\\backend_agg.py:238: RuntimeWarning: Glyph 51396 missing from current font.\n",
      "  font.set_text(s, 0.0, flags=flags)\n",
      "c:\\users\\luvu1\\anaconda3\\envs\\dss15\\lib\\site-packages\\matplotlib\\backends\\backend_agg.py:238: RuntimeWarning: Glyph 46300 missing from current font.\n",
      "  font.set_text(s, 0.0, flags=flags)\n",
      "c:\\users\\luvu1\\anaconda3\\envs\\dss15\\lib\\site-packages\\matplotlib\\backends\\backend_agg.py:238: RuntimeWarning: Glyph 46972 missing from current font.\n",
      "  font.set_text(s, 0.0, flags=flags)\n",
      "c:\\users\\luvu1\\anaconda3\\envs\\dss15\\lib\\site-packages\\matplotlib\\backends\\backend_agg.py:238: RuntimeWarning: Glyph 47560 missing from current font.\n",
      "  font.set_text(s, 0.0, flags=flags)\n",
      "c:\\users\\luvu1\\anaconda3\\envs\\dss15\\lib\\site-packages\\matplotlib\\backends\\backend_agg.py:238: RuntimeWarning: Glyph 44277 missing from current font.\n",
      "  font.set_text(s, 0.0, flags=flags)\n",
      "c:\\users\\luvu1\\anaconda3\\envs\\dss15\\lib\\site-packages\\matplotlib\\backends\\backend_agg.py:238: RuntimeWarning: Glyph 50672 missing from current font.\n",
      "  font.set_text(s, 0.0, flags=flags)\n",
      "c:\\users\\luvu1\\anaconda3\\envs\\dss15\\lib\\site-packages\\matplotlib\\backends\\backend_agg.py:238: RuntimeWarning: Glyph 50529 missing from current font.\n",
      "  font.set_text(s, 0.0, flags=flags)\n",
      "c:\\users\\luvu1\\anaconda3\\envs\\dss15\\lib\\site-packages\\matplotlib\\backends\\backend_agg.py:238: RuntimeWarning: Glyph 49496 missing from current font.\n",
      "  font.set_text(s, 0.0, flags=flags)\n",
      "c:\\users\\luvu1\\anaconda3\\envs\\dss15\\lib\\site-packages\\matplotlib\\backends\\backend_agg.py:238: RuntimeWarning: Glyph 50528 missing from current font.\n",
      "  font.set_text(s, 0.0, flags=flags)\n",
      "c:\\users\\luvu1\\anaconda3\\envs\\dss15\\lib\\site-packages\\matplotlib\\backends\\backend_agg.py:238: RuntimeWarning: Glyph 45768 missing from current font.\n",
      "  font.set_text(s, 0.0, flags=flags)\n",
      "c:\\users\\luvu1\\anaconda3\\envs\\dss15\\lib\\site-packages\\matplotlib\\backends\\backend_agg.py:238: RuntimeWarning: Glyph 47700 missing from current font.\n",
      "  font.set_text(s, 0.0, flags=flags)\n",
      "c:\\users\\luvu1\\anaconda3\\envs\\dss15\\lib\\site-packages\\matplotlib\\backends\\backend_agg.py:238: RuntimeWarning: Glyph 51060 missing from current font.\n",
      "  font.set_text(s, 0.0, flags=flags)\n",
      "c:\\users\\luvu1\\anaconda3\\envs\\dss15\\lib\\site-packages\\matplotlib\\backends\\backend_agg.py:238: RuntimeWarning: Glyph 53076 missing from current font.\n",
      "  font.set_text(s, 0.0, flags=flags)\n",
      "c:\\users\\luvu1\\anaconda3\\envs\\dss15\\lib\\site-packages\\matplotlib\\backends\\backend_agg.py:238: RuntimeWarning: Glyph 48120 missing from current font.\n",
      "  font.set_text(s, 0.0, flags=flags)\n",
      "c:\\users\\luvu1\\anaconda3\\envs\\dss15\\lib\\site-packages\\matplotlib\\backends\\backend_agg.py:238: RuntimeWarning: Glyph 46356 missing from current font.\n",
      "  font.set_text(s, 0.0, flags=flags)\n",
      "c:\\users\\luvu1\\anaconda3\\envs\\dss15\\lib\\site-packages\\matplotlib\\backends\\backend_agg.py:238: RuntimeWarning: Glyph 45796 missing from current font.\n",
      "  font.set_text(s, 0.0, flags=flags)\n",
      "c:\\users\\luvu1\\anaconda3\\envs\\dss15\\lib\\site-packages\\matplotlib\\backends\\backend_agg.py:238: RuntimeWarning: Glyph 53328 missing from current font.\n",
      "  font.set_text(s, 0.0, flags=flags)\n",
      "c:\\users\\luvu1\\anaconda3\\envs\\dss15\\lib\\site-packages\\matplotlib\\backends\\backend_agg.py:238: RuntimeWarning: Glyph 47704 missing from current font.\n",
      "  font.set_text(s, 0.0, flags=flags)\n",
      "c:\\users\\luvu1\\anaconda3\\envs\\dss15\\lib\\site-packages\\matplotlib\\backends\\backend_agg.py:238: RuntimeWarning: Glyph 53552 missing from current font.\n",
      "  font.set_text(s, 0.0, flags=flags)\n",
      "c:\\users\\luvu1\\anaconda3\\envs\\dss15\\lib\\site-packages\\matplotlib\\backends\\backend_agg.py:238: RuntimeWarning: Glyph 47532 missing from current font.\n",
      "  font.set_text(s, 0.0, flags=flags)\n",
      "c:\\users\\luvu1\\anaconda3\\envs\\dss15\\lib\\site-packages\\matplotlib\\backends\\backend_agg.py:238: RuntimeWarning: Glyph 49828 missing from current font.\n",
      "  font.set_text(s, 0.0, flags=flags)\n",
      "c:\\users\\luvu1\\anaconda3\\envs\\dss15\\lib\\site-packages\\matplotlib\\backends\\backend_agg.py:238: RuntimeWarning: Glyph 47540 missing from current font.\n",
      "  font.set_text(s, 0.0, flags=flags)\n",
      "c:\\users\\luvu1\\anaconda3\\envs\\dss15\\lib\\site-packages\\matplotlib\\backends\\backend_agg.py:238: RuntimeWarning: Glyph 47084 missing from current font.\n",
      "  font.set_text(s, 0.0, flags=flags)\n",
      "c:\\users\\luvu1\\anaconda3\\envs\\dss15\\lib\\site-packages\\matplotlib\\backends\\backend_agg.py:238: RuntimeWarning: Glyph 48036 missing from current font.\n",
      "  font.set_text(s, 0.0, flags=flags)\n",
      "c:\\users\\luvu1\\anaconda3\\envs\\dss15\\lib\\site-packages\\matplotlib\\backends\\backend_agg.py:238: RuntimeWarning: Glyph 51648 missing from current font.\n",
      "  font.set_text(s, 0.0, flags=flags)\n",
      "c:\\users\\luvu1\\anaconda3\\envs\\dss15\\lib\\site-packages\\matplotlib\\backends\\backend_agg.py:238: RuntimeWarning: Glyph 52972 missing from current font.\n",
      "  font.set_text(s, 0.0, flags=flags)\n",
      "c:\\users\\luvu1\\anaconda3\\envs\\dss15\\lib\\site-packages\\matplotlib\\backends\\backend_agg.py:238: RuntimeWarning: Glyph 54252 missing from current font.\n",
      "  font.set_text(s, 0.0, flags=flags)\n",
      "c:\\users\\luvu1\\anaconda3\\envs\\dss15\\lib\\site-packages\\matplotlib\\backends\\backend_agg.py:238: RuntimeWarning: Glyph 54840 missing from current font.\n",
      "  font.set_text(s, 0.0, flags=flags)\n",
      "c:\\users\\luvu1\\anaconda3\\envs\\dss15\\lib\\site-packages\\matplotlib\\backends\\backend_agg.py:238: RuntimeWarning: Glyph 49324 missing from current font.\n",
      "  font.set_text(s, 0.0, flags=flags)\n",
      "c:\\users\\luvu1\\anaconda3\\envs\\dss15\\lib\\site-packages\\matplotlib\\backends\\backend_agg.py:238: RuntimeWarning: Glyph 44537 missing from current font.\n",
      "  font.set_text(s, 0.0, flags=flags)\n",
      "c:\\users\\luvu1\\anaconda3\\envs\\dss15\\lib\\site-packages\\matplotlib\\backends\\backend_agg.py:238: RuntimeWarning: Glyph 44592 missing from current font.\n",
      "  font.set_text(s, 0.0, flags=flags)\n",
      "c:\\users\\luvu1\\anaconda3\\envs\\dss15\\lib\\site-packages\\matplotlib\\backends\\backend_agg.py:238: RuntimeWarning: Glyph 53440 missing from current font.\n",
      "  font.set_text(s, 0.0, flags=flags)\n",
      "c:\\users\\luvu1\\anaconda3\\envs\\dss15\\lib\\site-packages\\matplotlib\\backends\\backend_agg.py:238: RuntimeWarning: Glyph 50612 missing from current font.\n",
      "  font.set_text(s, 0.0, flags=flags)\n",
      "c:\\users\\luvu1\\anaconda3\\envs\\dss15\\lib\\site-packages\\matplotlib\\backends\\backend_agg.py:238: RuntimeWarning: Glyph 48292 missing from current font.\n",
      "  font.set_text(s, 0.0, flags=flags)\n",
      "c:\\users\\luvu1\\anaconda3\\envs\\dss15\\lib\\site-packages\\matplotlib\\backends\\backend_agg.py:238: RuntimeWarning: Glyph 52376 missing from current font.\n",
      "  font.set_text(s, 0.0, flags=flags)\n",
      "c:\\users\\luvu1\\anaconda3\\envs\\dss15\\lib\\site-packages\\matplotlib\\backends\\backend_agg.py:238: RuntimeWarning: Glyph 54032 missing from current font.\n",
      "  font.set_text(s, 0.0, flags=flags)\n",
      "c:\\users\\luvu1\\anaconda3\\envs\\dss15\\lib\\site-packages\\matplotlib\\backends\\backend_agg.py:238: RuntimeWarning: Glyph 51204 missing from current font.\n",
      "  font.set_text(s, 0.0, flags=flags)\n",
      "c:\\users\\luvu1\\anaconda3\\envs\\dss15\\lib\\site-packages\\matplotlib\\backends\\backend_agg.py:238: RuntimeWarning: Glyph 51137 missing from current font.\n",
      "  font.set_text(s, 0.0, flags=flags)\n",
      "c:\\users\\luvu1\\anaconda3\\envs\\dss15\\lib\\site-packages\\matplotlib\\backends\\backend_agg.py:238: RuntimeWarning: Glyph 47708 missing from current font.\n",
      "  font.set_text(s, 0.0, flags=flags)\n",
      "c:\\users\\luvu1\\anaconda3\\envs\\dss15\\lib\\site-packages\\matplotlib\\backends\\backend_agg.py:238: RuntimeWarning: Glyph 47196 missing from current font.\n",
      "  font.set_text(s, 0.0, flags=flags)\n",
      "c:\\users\\luvu1\\anaconda3\\envs\\dss15\\lib\\site-packages\\matplotlib\\backends\\backend_agg.py:238: RuntimeWarning: Glyph 47592 missing from current font.\n",
      "  font.set_text(s, 0.0, flags=flags)\n",
      "c:\\users\\luvu1\\anaconda3\\envs\\dss15\\lib\\site-packages\\matplotlib\\backends\\backend_agg.py:238: RuntimeWarning: Glyph 44032 missing from current font.\n",
      "  font.set_text(s, 0.0, flags=flags)\n",
      "c:\\users\\luvu1\\anaconda3\\envs\\dss15\\lib\\site-packages\\matplotlib\\backends\\backend_agg.py:238: RuntimeWarning: Glyph 51313 missing from current font.\n",
      "  font.set_text(s, 0.0, flags=flags)\n"
     ]
    },
    {
     "data": {
      "text/plain": [
       "<Figure size 720x432 with 0 Axes>"
      ]
     },
     "metadata": {},
     "output_type": "display_data"
    },
    {
     "name": "stderr",
     "output_type": "stream",
     "text": [
      "c:\\users\\luvu1\\anaconda3\\envs\\dss15\\lib\\site-packages\\matplotlib\\backends\\backend_agg.py:201: RuntimeWarning: Glyph 48276 missing from current font.\n",
      "  font.set_text(s, 0, flags=flags)\n",
      "c:\\users\\luvu1\\anaconda3\\envs\\dss15\\lib\\site-packages\\matplotlib\\backends\\backend_agg.py:201: RuntimeWarning: Glyph 51396 missing from current font.\n",
      "  font.set_text(s, 0, flags=flags)\n",
      "c:\\users\\luvu1\\anaconda3\\envs\\dss15\\lib\\site-packages\\matplotlib\\backends\\backend_agg.py:201: RuntimeWarning: Glyph 46300 missing from current font.\n",
      "  font.set_text(s, 0, flags=flags)\n",
      "c:\\users\\luvu1\\anaconda3\\envs\\dss15\\lib\\site-packages\\matplotlib\\backends\\backend_agg.py:201: RuntimeWarning: Glyph 46972 missing from current font.\n",
      "  font.set_text(s, 0, flags=flags)\n",
      "c:\\users\\luvu1\\anaconda3\\envs\\dss15\\lib\\site-packages\\matplotlib\\backends\\backend_agg.py:201: RuntimeWarning: Glyph 47560 missing from current font.\n",
      "  font.set_text(s, 0, flags=flags)\n",
      "c:\\users\\luvu1\\anaconda3\\envs\\dss15\\lib\\site-packages\\matplotlib\\backends\\backend_agg.py:201: RuntimeWarning: Glyph 44277 missing from current font.\n",
      "  font.set_text(s, 0, flags=flags)\n",
      "c:\\users\\luvu1\\anaconda3\\envs\\dss15\\lib\\site-packages\\matplotlib\\backends\\backend_agg.py:201: RuntimeWarning: Glyph 50672 missing from current font.\n",
      "  font.set_text(s, 0, flags=flags)\n",
      "c:\\users\\luvu1\\anaconda3\\envs\\dss15\\lib\\site-packages\\matplotlib\\backends\\backend_agg.py:201: RuntimeWarning: Glyph 50529 missing from current font.\n",
      "  font.set_text(s, 0, flags=flags)\n",
      "c:\\users\\luvu1\\anaconda3\\envs\\dss15\\lib\\site-packages\\matplotlib\\backends\\backend_agg.py:201: RuntimeWarning: Glyph 49496 missing from current font.\n",
      "  font.set_text(s, 0, flags=flags)\n",
      "c:\\users\\luvu1\\anaconda3\\envs\\dss15\\lib\\site-packages\\matplotlib\\backends\\backend_agg.py:201: RuntimeWarning: Glyph 50528 missing from current font.\n",
      "  font.set_text(s, 0, flags=flags)\n",
      "c:\\users\\luvu1\\anaconda3\\envs\\dss15\\lib\\site-packages\\matplotlib\\backends\\backend_agg.py:201: RuntimeWarning: Glyph 45768 missing from current font.\n",
      "  font.set_text(s, 0, flags=flags)\n",
      "c:\\users\\luvu1\\anaconda3\\envs\\dss15\\lib\\site-packages\\matplotlib\\backends\\backend_agg.py:201: RuntimeWarning: Glyph 47700 missing from current font.\n",
      "  font.set_text(s, 0, flags=flags)\n",
      "c:\\users\\luvu1\\anaconda3\\envs\\dss15\\lib\\site-packages\\matplotlib\\backends\\backend_agg.py:201: RuntimeWarning: Glyph 51060 missing from current font.\n",
      "  font.set_text(s, 0, flags=flags)\n",
      "c:\\users\\luvu1\\anaconda3\\envs\\dss15\\lib\\site-packages\\matplotlib\\backends\\backend_agg.py:201: RuntimeWarning: Glyph 53076 missing from current font.\n",
      "  font.set_text(s, 0, flags=flags)\n",
      "c:\\users\\luvu1\\anaconda3\\envs\\dss15\\lib\\site-packages\\matplotlib\\backends\\backend_agg.py:201: RuntimeWarning: Glyph 48120 missing from current font.\n",
      "  font.set_text(s, 0, flags=flags)\n",
      "c:\\users\\luvu1\\anaconda3\\envs\\dss15\\lib\\site-packages\\matplotlib\\backends\\backend_agg.py:201: RuntimeWarning: Glyph 46356 missing from current font.\n",
      "  font.set_text(s, 0, flags=flags)\n",
      "c:\\users\\luvu1\\anaconda3\\envs\\dss15\\lib\\site-packages\\matplotlib\\backends\\backend_agg.py:201: RuntimeWarning: Glyph 45796 missing from current font.\n",
      "  font.set_text(s, 0, flags=flags)\n",
      "c:\\users\\luvu1\\anaconda3\\envs\\dss15\\lib\\site-packages\\matplotlib\\backends\\backend_agg.py:201: RuntimeWarning: Glyph 53328 missing from current font.\n",
      "  font.set_text(s, 0, flags=flags)\n",
      "c:\\users\\luvu1\\anaconda3\\envs\\dss15\\lib\\site-packages\\matplotlib\\backends\\backend_agg.py:201: RuntimeWarning: Glyph 47704 missing from current font.\n",
      "  font.set_text(s, 0, flags=flags)\n",
      "c:\\users\\luvu1\\anaconda3\\envs\\dss15\\lib\\site-packages\\matplotlib\\backends\\backend_agg.py:201: RuntimeWarning: Glyph 53552 missing from current font.\n",
      "  font.set_text(s, 0, flags=flags)\n",
      "c:\\users\\luvu1\\anaconda3\\envs\\dss15\\lib\\site-packages\\matplotlib\\backends\\backend_agg.py:201: RuntimeWarning: Glyph 47532 missing from current font.\n",
      "  font.set_text(s, 0, flags=flags)\n",
      "c:\\users\\luvu1\\anaconda3\\envs\\dss15\\lib\\site-packages\\matplotlib\\backends\\backend_agg.py:201: RuntimeWarning: Glyph 49828 missing from current font.\n",
      "  font.set_text(s, 0, flags=flags)\n",
      "c:\\users\\luvu1\\anaconda3\\envs\\dss15\\lib\\site-packages\\matplotlib\\backends\\backend_agg.py:201: RuntimeWarning: Glyph 47540 missing from current font.\n",
      "  font.set_text(s, 0, flags=flags)\n",
      "c:\\users\\luvu1\\anaconda3\\envs\\dss15\\lib\\site-packages\\matplotlib\\backends\\backend_agg.py:201: RuntimeWarning: Glyph 47084 missing from current font.\n",
      "  font.set_text(s, 0, flags=flags)\n",
      "c:\\users\\luvu1\\anaconda3\\envs\\dss15\\lib\\site-packages\\matplotlib\\backends\\backend_agg.py:201: RuntimeWarning: Glyph 48036 missing from current font.\n",
      "  font.set_text(s, 0, flags=flags)\n",
      "c:\\users\\luvu1\\anaconda3\\envs\\dss15\\lib\\site-packages\\matplotlib\\backends\\backend_agg.py:201: RuntimeWarning: Glyph 51648 missing from current font.\n",
      "  font.set_text(s, 0, flags=flags)\n",
      "c:\\users\\luvu1\\anaconda3\\envs\\dss15\\lib\\site-packages\\matplotlib\\backends\\backend_agg.py:201: RuntimeWarning: Glyph 52972 missing from current font.\n",
      "  font.set_text(s, 0, flags=flags)\n",
      "c:\\users\\luvu1\\anaconda3\\envs\\dss15\\lib\\site-packages\\matplotlib\\backends\\backend_agg.py:201: RuntimeWarning: Glyph 54252 missing from current font.\n",
      "  font.set_text(s, 0, flags=flags)\n",
      "c:\\users\\luvu1\\anaconda3\\envs\\dss15\\lib\\site-packages\\matplotlib\\backends\\backend_agg.py:201: RuntimeWarning: Glyph 54840 missing from current font.\n",
      "  font.set_text(s, 0, flags=flags)\n",
      "c:\\users\\luvu1\\anaconda3\\envs\\dss15\\lib\\site-packages\\matplotlib\\backends\\backend_agg.py:201: RuntimeWarning: Glyph 49324 missing from current font.\n",
      "  font.set_text(s, 0, flags=flags)\n",
      "c:\\users\\luvu1\\anaconda3\\envs\\dss15\\lib\\site-packages\\matplotlib\\backends\\backend_agg.py:201: RuntimeWarning: Glyph 44537 missing from current font.\n",
      "  font.set_text(s, 0, flags=flags)\n",
      "c:\\users\\luvu1\\anaconda3\\envs\\dss15\\lib\\site-packages\\matplotlib\\backends\\backend_agg.py:201: RuntimeWarning: Glyph 44592 missing from current font.\n",
      "  font.set_text(s, 0, flags=flags)\n",
      "c:\\users\\luvu1\\anaconda3\\envs\\dss15\\lib\\site-packages\\matplotlib\\backends\\backend_agg.py:201: RuntimeWarning: Glyph 53440 missing from current font.\n",
      "  font.set_text(s, 0, flags=flags)\n",
      "c:\\users\\luvu1\\anaconda3\\envs\\dss15\\lib\\site-packages\\matplotlib\\backends\\backend_agg.py:201: RuntimeWarning: Glyph 50612 missing from current font.\n",
      "  font.set_text(s, 0, flags=flags)\n",
      "c:\\users\\luvu1\\anaconda3\\envs\\dss15\\lib\\site-packages\\matplotlib\\backends\\backend_agg.py:201: RuntimeWarning: Glyph 48292 missing from current font.\n",
      "  font.set_text(s, 0, flags=flags)\n",
      "c:\\users\\luvu1\\anaconda3\\envs\\dss15\\lib\\site-packages\\matplotlib\\backends\\backend_agg.py:201: RuntimeWarning: Glyph 52376 missing from current font.\n",
      "  font.set_text(s, 0, flags=flags)\n",
      "c:\\users\\luvu1\\anaconda3\\envs\\dss15\\lib\\site-packages\\matplotlib\\backends\\backend_agg.py:201: RuntimeWarning: Glyph 54032 missing from current font.\n",
      "  font.set_text(s, 0, flags=flags)\n",
      "c:\\users\\luvu1\\anaconda3\\envs\\dss15\\lib\\site-packages\\matplotlib\\backends\\backend_agg.py:201: RuntimeWarning: Glyph 51204 missing from current font.\n",
      "  font.set_text(s, 0, flags=flags)\n",
      "c:\\users\\luvu1\\anaconda3\\envs\\dss15\\lib\\site-packages\\matplotlib\\backends\\backend_agg.py:201: RuntimeWarning: Glyph 51137 missing from current font.\n",
      "  font.set_text(s, 0, flags=flags)\n",
      "c:\\users\\luvu1\\anaconda3\\envs\\dss15\\lib\\site-packages\\matplotlib\\backends\\backend_agg.py:201: RuntimeWarning: Glyph 47708 missing from current font.\n",
      "  font.set_text(s, 0, flags=flags)\n",
      "c:\\users\\luvu1\\anaconda3\\envs\\dss15\\lib\\site-packages\\matplotlib\\backends\\backend_agg.py:201: RuntimeWarning: Glyph 47196 missing from current font.\n",
      "  font.set_text(s, 0, flags=flags)\n",
      "c:\\users\\luvu1\\anaconda3\\envs\\dss15\\lib\\site-packages\\matplotlib\\backends\\backend_agg.py:201: RuntimeWarning: Glyph 47592 missing from current font.\n",
      "  font.set_text(s, 0, flags=flags)\n",
      "c:\\users\\luvu1\\anaconda3\\envs\\dss15\\lib\\site-packages\\matplotlib\\backends\\backend_agg.py:201: RuntimeWarning: Glyph 44032 missing from current font.\n",
      "  font.set_text(s, 0, flags=flags)\n",
      "c:\\users\\luvu1\\anaconda3\\envs\\dss15\\lib\\site-packages\\matplotlib\\backends\\backend_agg.py:201: RuntimeWarning: Glyph 51313 missing from current font.\n",
      "  font.set_text(s, 0, flags=flags)\n"
     ]
    },
    {
     "data": {
      "image/png": "[encoded data removed]",
      "text/plain": [
       "<Figure size 1080x720 with 6 Axes>"
      ]
     },
     "metadata": {},
     "output_type": "display_data"
    }
   ],
   "source": [
    "# 년도별 각 장르의 개봉 수 그래프\n",
    "sns.set_style('whitegrid')\n",
    "plt.figure(figsize=(10,6))\n",
    "sns.catplot(data=movie, x='genres', col='year', kind='count', \n",
    "            col_wrap=3, palette='Spectral');"
   ]
  },
  {
   "cell_type": "code",
   "execution_count": 111,
   "metadata": {},
   "outputs": [],
   "source": [
    "movie.to_csv('./datas/movie2015~2020.csv', sep=',', encoding='utf-8')"
   ]
  },
  {
   "cell_type": "code",
   "execution_count": null,
   "metadata": {},
   "outputs": [],
   "source": []
  }
 ],
 "metadata": {
  "kernelspec": {
   "display_name": "Python 3",
   "language": "python",
   "name": "python3"
  },
  "language_info": {
   "codemirror_mode": {
    "name": "ipython",
    "version": 3
   },
   "file_extension": ".py",
   "mimetype": "text/x-python",
   "name": "python",
   "nbconvert_exporter": "python",
   "pygments_lexer": "ipython3",
   "version": "3.7.9"
  }
 },
 "nbformat": 4,
 "nbformat_minor": 4
}
