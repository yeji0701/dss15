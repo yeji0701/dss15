{
 "cells": [
  {
   "cell_type": "code",
   "execution_count": 54,
   "metadata": {},
   "outputs": [],
   "source": [
    "from sklearn.feature_extraction.text import CountVectorizer\n",
    "vectorizer = CountVectorizer(min_df = 1)    "
   ]
  },
  {
   "cell_type": "code",
   "execution_count": 56,
   "metadata": {},
   "outputs": [],
   "source": [
    "contents = ['상처받은 아이들은 너무 일찍 커버려',\n",
    "           '내가 상처받은 거 아는 사람 불편해',\n",
    "           '잘 사는 사람들은 좋은 사람 되기 쉬워',\n",
    "           '아무 일도 아니야 괜찮아']"
   ]
  },
  {
   "cell_type": "code",
   "execution_count": 57,
   "metadata": {},
   "outputs": [],
   "source": [
    "from konlpy.tag import Okt\n",
    "t = Okt()"
   ]
  },
  {
   "cell_type": "code",
   "execution_count": 58,
   "metadata": {},
   "outputs": [
    {
     "data": {
      "text/plain": [
       "[['상처', '받은', '아이', '들', '은', '너무', '일찍', '커버', '려'],\n",
       " ['내', '가', '상처', '받은', '거', '아는', '사람', '불편해'],\n",
       " ['잘', '사는', '사람', '들', '은', '좋은', '사람', '되기', '쉬워'],\n",
       " ['아무', '일도', '아니야', '괜찮아']]"
      ]
     },
     "execution_count": 58,
     "metadata": {},
     "output_type": "execute_result"
    }
   ],
   "source": [
    "contents_tokens = [t.morphs(row) for row in contents]\n",
    "contents_tokens"
   ]
  },
  {
   "cell_type": "code",
   "execution_count": 59,
   "metadata": {},
   "outputs": [
    {
     "data": {
      "text/plain": [
       "[' 상처 받은 아이 들 은 너무 일찍 커버 려',\n",
       " ' 내 가 상처 받은 거 아는 사람 불편해',\n",
       " ' 잘 사는 사람 들 은 좋은 사람 되기 쉬워',\n",
       " ' 아무 일도 아니야 괜찮아']"
      ]
     },
     "execution_count": 59,
     "metadata": {},
     "output_type": "execute_result"
    }
   ],
   "source": [
    "contents_for_vectorize = []\n",
    "\n",
    "for content in contents_tokens:\n",
    "    sentence = ''\n",
    "    for word in content:\n",
    "        sentence = sentence + ' ' + word\n",
    "        \n",
    "    contents_for_vectorize.append(sentence)\n",
    "    \n",
    "contents_for_vectorize"
   ]
  },
  {
   "cell_type": "code",
   "execution_count": 60,
   "metadata": {},
   "outputs": [
    {
     "data": {
      "text/plain": [
       "<4x17 sparse matrix of type '<class 'numpy.int64'>'\n",
       "\twith 20 stored elements in Compressed Sparse Row format>"
      ]
     },
     "execution_count": 60,
     "metadata": {},
     "output_type": "execute_result"
    }
   ],
   "source": [
    "X = vectorizer.fit_transform(contents_for_vectorize)\n",
    "X"
   ]
  },
  {
   "cell_type": "code",
   "execution_count": 61,
   "metadata": {},
   "outputs": [
    {
     "data": {
      "text/plain": [
       "(4, 17)"
      ]
     },
     "execution_count": 61,
     "metadata": {},
     "output_type": "execute_result"
    }
   ],
   "source": [
    "num_samples, num_features = X.shape\n",
    "num_samples, num_features"
   ]
  },
  {
   "cell_type": "code",
   "execution_count": 62,
   "metadata": {},
   "outputs": [
    {
     "data": {
      "text/plain": [
       "['괜찮아',\n",
       " '너무',\n",
       " '되기',\n",
       " '받은',\n",
       " '불편해',\n",
       " '사는',\n",
       " '사람',\n",
       " '상처',\n",
       " '쉬워',\n",
       " '아는',\n",
       " '아니야',\n",
       " '아무',\n",
       " '아이',\n",
       " '일도',\n",
       " '일찍',\n",
       " '좋은',\n",
       " '커버']"
      ]
     },
     "execution_count": 62,
     "metadata": {},
     "output_type": "execute_result"
    }
   ],
   "source": [
    "vectorizer.get_feature_names()"
   ]
  },
  {
   "cell_type": "code",
   "execution_count": 63,
   "metadata": {},
   "outputs": [
    {
     "data": {
      "text/plain": [
       "array([[0, 0, 0, 1],\n",
       "       [1, 0, 0, 0],\n",
       "       [0, 0, 1, 0],\n",
       "       [1, 1, 0, 0],\n",
       "       [0, 1, 0, 0],\n",
       "       [0, 0, 1, 0],\n",
       "       [0, 1, 2, 0],\n",
       "       [1, 1, 0, 0],\n",
       "       [0, 0, 1, 0],\n",
       "       [0, 1, 0, 0],\n",
       "       [0, 0, 0, 1],\n",
       "       [0, 0, 0, 1],\n",
       "       [1, 0, 0, 0],\n",
       "       [0, 0, 0, 1],\n",
       "       [1, 0, 0, 0],\n",
       "       [0, 0, 1, 0],\n",
       "       [1, 0, 0, 0]], dtype=int64)"
      ]
     },
     "execution_count": 63,
     "metadata": {},
     "output_type": "execute_result"
    }
   ],
   "source": [
    "X.toarray().transpose()"
   ]
  },
  {
   "cell_type": "code",
   "execution_count": 64,
   "metadata": {},
   "outputs": [
    {
     "data": {
      "text/plain": [
       "[' 상처 받기 싫어 괜찮아']"
      ]
     },
     "execution_count": 64,
     "metadata": {},
     "output_type": "execute_result"
    }
   ],
   "source": [
    "new_post = ['상처받기 싫어 괜찮아']\n",
    "new_post_tokens = [t.morphs(row) for row in new_post]\n",
    "\n",
    "new_post_for_vectorize = []\n",
    "\n",
    "for content in new_post_tokens:\n",
    "    sentence = ''\n",
    "    for word in content:\n",
    "        sentence = sentence + ' ' + word\n",
    "        \n",
    "    new_post_for_vectorize.append(sentence)\n",
    "    \n",
    "new_post_for_vectorize"
   ]
  },
  {
   "cell_type": "code",
   "execution_count": 65,
   "metadata": {},
   "outputs": [
    {
     "data": {
      "text/plain": [
       "<1x17 sparse matrix of type '<class 'numpy.int64'>'\n",
       "\twith 2 stored elements in Compressed Sparse Row format>"
      ]
     },
     "execution_count": 65,
     "metadata": {},
     "output_type": "execute_result"
    }
   ],
   "source": [
    "new_post_vec = vectorizer.transform(new_post_for_vectorize)\n",
    "new_post_vec"
   ]
  },
  {
   "cell_type": "code",
   "execution_count": 12,
   "metadata": {},
   "outputs": [
    {
     "data": {
      "text/plain": [
       "array([[1, 0, 0, 0, 0, 0, 0, 1, 0, 0, 0, 0, 0, 0, 0, 0, 0]], dtype=int64)"
      ]
     },
     "execution_count": 12,
     "metadata": {},
     "output_type": "execute_result"
    }
   ],
   "source": [
    "new_post_vec.toarray()"
   ]
  },
  {
   "cell_type": "code",
   "execution_count": 13,
   "metadata": {},
   "outputs": [],
   "source": [
    "import scipy as sp\n",
    "\n",
    "def dist_raw(v1, v2):\n",
    "    delta = v1 - v2\n",
    "    return sp.linalg.norm(delta.toarray())"
   ]
  },
  {
   "cell_type": "code",
   "execution_count": 14,
   "metadata": {},
   "outputs": [
    {
     "data": {
      "text/plain": [
       "[2.449489742783178, 2.23606797749979, 3.1622776601683795, 2.0]"
      ]
     },
     "execution_count": 14,
     "metadata": {},
     "output_type": "execute_result"
    }
   ],
   "source": [
    "dist = [dist_raw(each, new_post_vec) for each in X]\n",
    "dist"
   ]
  },
  {
   "cell_type": "code",
   "execution_count": 15,
   "metadata": {},
   "outputs": [
    {
     "name": "stdout",
     "output_type": "stream",
     "text": [
      "Best post is 3 dist =  2.0\n",
      "test post is --> ['상처받기 싫어 괜찮아']\n",
      "best dist post is --> 아무 일도 아니야 괜찮아\n"
     ]
    }
   ],
   "source": [
    "print('Best post is', dist.index(min(dist)), 'dist = ', min(dist))\n",
    "print('test post is -->', new_post)\n",
    "print('best dist post is -->', contents[dist.index(min(dist))])"
   ]
  },
  {
   "cell_type": "code",
   "execution_count": 16,
   "metadata": {},
   "outputs": [
    {
     "name": "stdout",
     "output_type": "stream",
     "text": [
      "[[0 1 0 1 0 0 0 1 0 0 0 0 1 0 1 0 1]]\n",
      "[[0 0 0 1 1 0 1 1 0 1 0 0 0 0 0 0 0]]\n",
      "[[0 0 1 0 0 1 2 0 1 0 0 0 0 0 0 1 0]]\n",
      "[[1 0 0 0 0 0 0 0 0 0 1 1 0 1 0 0 0]]\n",
      "-----------------------\n",
      "[[1 0 0 0 0 0 0 1 0 0 0 0 0 0 0 0 0]]\n"
     ]
    }
   ],
   "source": [
    "for i in range(0, len(contents)):\n",
    "    print(X.getrow(i).toarray())\n",
    "    \n",
    "print('-----------------------')\n",
    "print(new_post_vec.toarray())"
   ]
  },
  {
   "cell_type": "code",
   "execution_count": 17,
   "metadata": {},
   "outputs": [],
   "source": [
    "from sklearn.feature_extraction.text import TfidfVectorizer\n",
    "vectorizer = TfidfVectorizer(min_df=1, decode_error='ignore')"
   ]
  },
  {
   "cell_type": "code",
   "execution_count": 18,
   "metadata": {},
   "outputs": [
    {
     "data": {
      "text/plain": [
       "(4, 17)"
      ]
     },
     "execution_count": 18,
     "metadata": {},
     "output_type": "execute_result"
    }
   ],
   "source": [
    "X = vectorizer.fit_transform(contents_for_vectorize)\n",
    "num_samples, num_features = X.shape\n",
    "num_samples, num_features"
   ]
  },
  {
   "cell_type": "code",
   "execution_count": 19,
   "metadata": {},
   "outputs": [
    {
     "data": {
      "text/plain": [
       "array([[0.        , 0.        , 0.        , 0.5       ],\n",
       "       [0.43671931, 0.        , 0.        , 0.        ],\n",
       "       [0.        , 0.        , 0.39264414, 0.        ],\n",
       "       [0.34431452, 0.40104275, 0.        , 0.        ],\n",
       "       [0.        , 0.50867187, 0.        , 0.        ],\n",
       "       [0.        , 0.        , 0.39264414, 0.        ],\n",
       "       [0.        , 0.40104275, 0.6191303 , 0.        ],\n",
       "       [0.34431452, 0.40104275, 0.        , 0.        ],\n",
       "       [0.        , 0.        , 0.39264414, 0.        ],\n",
       "       [0.        , 0.50867187, 0.        , 0.        ],\n",
       "       [0.        , 0.        , 0.        , 0.5       ],\n",
       "       [0.        , 0.        , 0.        , 0.5       ],\n",
       "       [0.43671931, 0.        , 0.        , 0.        ],\n",
       "       [0.        , 0.        , 0.        , 0.5       ],\n",
       "       [0.43671931, 0.        , 0.        , 0.        ],\n",
       "       [0.        , 0.        , 0.39264414, 0.        ],\n",
       "       [0.43671931, 0.        , 0.        , 0.        ]])"
      ]
     },
     "execution_count": 19,
     "metadata": {},
     "output_type": "execute_result"
    }
   ],
   "source": [
    "X.toarray().transpose()"
   ]
  },
  {
   "cell_type": "code",
   "execution_count": 20,
   "metadata": {},
   "outputs": [
    {
     "data": {
      "text/plain": [
       "array([[0.78528828, 0.        , 0.        , 0.        , 0.        ,\n",
       "        0.        , 0.        , 0.6191303 , 0.        , 0.        ,\n",
       "        0.        , 0.        , 0.        , 0.        , 0.        ,\n",
       "        0.        , 0.        ]])"
      ]
     },
     "execution_count": 20,
     "metadata": {},
     "output_type": "execute_result"
    }
   ],
   "source": [
    "new_post_vec = vectorizer.transform(new_post_for_vectorize)\n",
    "new_post_vec.toarray()"
   ]
  },
  {
   "cell_type": "code",
   "execution_count": 21,
   "metadata": {},
   "outputs": [],
   "source": [
    "def dist_norm(v1, v2):\n",
    "    v1_normalized = v1 / sp.linalg.norm(v1.toarray())\n",
    "    v2_normalized = v2 / sp.linalg.norm(v2.toarray())\n",
    "    \n",
    "    delta = v1_normalized - v2_normalized\n",
    "    \n",
    "    return sp.linalg.norm(delta.toarray())"
   ]
  },
  {
   "cell_type": "code",
   "execution_count": 22,
   "metadata": {},
   "outputs": [
    {
     "name": "stdout",
     "output_type": "stream",
     "text": [
      "Best post is 3 dist =  1.1021396119773588\n",
      "test post is --> ['상처받기 싫어 괜찮아']\n",
      "best dist post is --> 아무 일도 아니야 괜찮아\n"
     ]
    }
   ],
   "source": [
    "dist = [dist_norm(each, new_post_vec) for each in X]\n",
    "\n",
    "print('Best post is', dist.index(min(dist)), 'dist = ', min(dist))\n",
    "print('test post is -->', new_post)\n",
    "print('best dist post is -->', contents[dist.index(min(dist))])"
   ]
  },
  {
   "cell_type": "code",
   "execution_count": 23,
   "metadata": {},
   "outputs": [],
   "source": [
    "import urllib.request\n",
    "import json\n",
    "import datetime"
   ]
  },
  {
   "cell_type": "code",
   "execution_count": 24,
   "metadata": {},
   "outputs": [],
   "source": [
    "def gen_search_url(api_node, search_text, start_num, disp_num):\n",
    "    base = 'https://openapi.naver.com/v1/search'\n",
    "    node = '/' + api_node + '.json'\n",
    "    param_query = '?query=' + urllib.parse.quote(search_text)\n",
    "    param_start = '&start=' + str(start_num)\n",
    "    param_disp = '&display=' + str(disp_num)\n",
    "    \n",
    "    return base + node + param_query + param_start + param_disp"
   ]
  },
  {
   "cell_type": "code",
   "execution_count": 25,
   "metadata": {},
   "outputs": [],
   "source": [
    "def get_result_onpage(url):\n",
    "    request = urllib.request.Request(url)\n",
    "    request.add_header(\"X-Naver-Client-Id\", client_id)\n",
    "    request.add_header(\"X-Naver-Client-Secret\", client_secret)\n",
    "\n",
    "    response = urllib.request.urlopen(request)\n",
    "    \n",
    "    print('[%s] Url Request Success' % datetime.datetime.now())\n",
    "    \n",
    "    return json.loads(response.read().decode('utf-8'))"
   ]
  },
  {
   "cell_type": "code",
   "execution_count": 26,
   "metadata": {},
   "outputs": [
    {
     "name": "stdout",
     "output_type": "stream",
     "text": [
      "[2020-12-24 15:22:11.653172] Url Request Success\n"
     ]
    },
    {
     "data": {
      "text/plain": [
       "{'lastBuildDate': 'Thu, 24 Dec 2020 15:22:11 +0900',\n",
       " 'total': 161435,\n",
       " 'start': 10,\n",
       " 'display': 10,\n",
       " 'items': [{'title': '<b>파이썬</b>인강 추천해주세요.',\n",
       "   'link': 'https://kin.naver.com/qna/detail.nhn?d1id=1&dirId=10402&docId=376128989&qb=7YyM7J207I2s&enc=utf8&section=kin.qna&rank=10&search_sort=0&spq=0',\n",
       "   'description': '<b>파이썬</b>인강 보면서 방학때 공부하려 하는데요 유튭은 보다가 답답해서 포기했어요 ㅜ 괜찮은 <b>파이썬</b>인강 사이트 아는것 있으면 추천좀 해주세요!!! 안녕하세요~ <b>파이썬</b>인강을... 아무래도 <b>파이썬</b>을 공부하고 싶으신데 처음 접한다면... '},\n",
       "  {'title': '<b>파이썬</b> 과제좀 알려주세요ㅠㅠ',\n",
       "   'link': 'https://kin.naver.com/qna/detail.nhn?d1id=1&dirId=10402&docId=375864197&qb=7YyM7J207I2s&enc=utf8&section=kin.qna&rank=11&search_sort=0&spq=0',\n",
       "   'description': '<b>파이썬</b> 과제좀 알려주세요ㅠㅠ  안녕하세요. 지식인에서도 과제풀이를 해주시는 분이 계시긴 하지만... C언어, <b>파이썬</b>, 자바 등의 코딩이나 프로그래밍 작업에 대해 문의줘보실 수 있는데요. 관련하여 사이트... '},\n",
       "  {'title': '<b>파이썬</b>기초학원 라이브 화상강의 퀄리티 좋은곳이 어디죠?',\n",
       "   'link': 'https://kin.naver.com/qna/detail.nhn?d1id=1&dirId=10402&docId=376486231&qb=7YyM7J207I2s&enc=utf8&section=kin.qna&rank=12&search_sort=0&spq=0',\n",
       "   'description': '<b>파이썬</b>기초학원을 찾고 있습니다 전에 독학으로 <b>파이썬</b>기초를 공부해봤는데 바쁘기도 했고 제대로 공부를 못하고 시간이 꽤 지났거든요 <b>파이썬</b>기초학원을 다녀서 전문적으로... 알려주는 <b>파이썬</b>기초학원을 알려주세요 안녕하세요... '},\n",
       "  {'title': '<b>파이썬</b>강의 추천부탁드립니다',\n",
       "   'link': 'https://kin.naver.com/qna/detail.nhn?d1id=1&dirId=10402&docId=371739050&qb=7YyM7J207I2s&enc=utf8&section=kin.qna&rank=13&search_sort=0&spq=0',\n",
       "   'description': '<b>파이썬</b> 공부해보려고하는 초보자입니다 인강 추천해주시면 감사드리겠습니다 <b>파이썬</b>강의를 찾으시나요? <b>파이썬</b>이 다른 언어들에 비해 비교적 배우기 쉽다고 해도... 위해 <b>파이썬</b>강의 중에 KG에듀원 비대면 라이브 강의를... '},\n",
       "  {'title': '<b>파이썬</b> 소수 판별',\n",
       "   'link': 'https://kin.naver.com/qna/detail.nhn?d1id=1&dirId=10402&docId=376706968&qb=7YyM7J207I2s&enc=utf8&section=kin.qna&rank=14&search_sort=0&spq=0',\n",
       "   'description': '<b>파이썬</b>에서 받은 숫자가 소수인지 아닌지 판별 코드를 어떻게 적어야 하나요?? 아래와 같이 소수인지 아닌지 판별하는 함수를 하나 만들어서 사용하시면 됩니다 # 소수이면 True 아니면 False 를... '},\n",
       "  {'title': '<b>파이썬</b>과 c언어 연동',\n",
       "   'link': 'https://kin.naver.com/qna/detail.nhn?d1id=1&dirId=104&docId=372676381&qb=7YyM7J207I2s&enc=utf8&section=kin.qna&rank=15&search_sort=0&spq=0',\n",
       "   'description': 'c언어에서 시뮬레이션을 돌린 수치를 가지고 <b>파이썬</b>으로 그래프를 그리는... 수치를 <b>파이썬</b>으로 옮기는 방안도 알려주십시요. 수치를 텍스트 파일로 만들고 <b>파이썬</b>에서... '},\n",
       "  {'title': '<b>파이썬</b> 비대면교육 가능할까요?',\n",
       "   'link': 'https://kin.naver.com/qna/detail.nhn?d1id=4&dirId=40613&docId=373648431&qb=7YyM7J207I2s&enc=utf8&section=kin.qna&rank=16&search_sort=0&spq=0',\n",
       "   'description': '주말에 시간이 남아서 개인발전을 할려고 하다가 <b>파이썬</b>이 요즘 많이 사용... 지거든요 <b>파이썬</b>비대면수업좀 추천해 주세요 IT분야는 실습 부분 때문에... c언어,<b>파이썬</b>,리눅스,ccna정도 비대면으로 교육을 진행 하고 있습니다... '},\n",
       "  {'title': '<b>파이썬</b>학원 찾고 있어요.',\n",
       "   'link': 'https://kin.naver.com/qna/detail.nhn?d1id=4&dirId=40202&docId=376100925&qb=7YyM7J207I2s&enc=utf8&section=kin.qna&rank=17&search_sort=0&spq=0',\n",
       "   'description': '기초자식이 없는데 <b>파이썬</b>학원 다니면서 차근차근 배워보려고요. 아는 곳 있으면 알려주세요.  <b>파이썬</b>학원 포함... 하지만 모든 <b>파이썬</b> 학원이 다 같은 내용으로 진행되지는... 그래서 이 부분은 <b>파이썬</b>학원에 직접 방문해서... '},\n",
       "  {'title': 'VSCode <b>파이썬</b> 한국어 오류',\n",
       "   'link': 'https://kin.naver.com/qna/detail.nhn?d1id=1&dirId=104&docId=376114851&qb=7YyM7J207I2s&enc=utf8&section=kin.qna&rank=18&search_sort=0&spq=0',\n",
       "   'description': 'VSCode로 <b>파이썬</b>을 사용하려고 하는데요 print(&quot;안녕하세요&quot;) 라고 입력해서 실행을 눌렀는데 SyntaxError... 진짜로 이 오류를 아시는분만 답변주세요 <b>파이썬</b>은 UTF-8 로 저장해야 한글이 에러가 안납니다.... '},\n",
       "  {'title': '<b>파이썬</b> 인강 어디서 들어야 하나요?',\n",
       "   'link': 'https://kin.naver.com/qna/detail.nhn?d1id=1&dirId=10402&docId=376134694&qb=7YyM7J207I2s&enc=utf8&section=kin.qna&rank=19&search_sort=0&spq=0',\n",
       "   'description': '<b>파이썬</b> 인강 어디서 들어야 하나요? 지금 고 1인데 <b>파이썬</b> 인강으로 공부하고 싶어요.  아래 게시물의 강의... <b>파이썬</b>을 공부하고 계시면 <b>파이썬</b> 카페에서 같이 공부해요. 카페에 책과 강의 소개가 많습니다. 직접 정리한 강의나 책도... '}]}"
      ]
     },
     "execution_count": 26,
     "metadata": {},
     "output_type": "execute_result"
    }
   ],
   "source": [
    "client_id = 'a2CX1cdZ6h5Ho4D4boOD'\n",
    "client_secret = 'BwGKb34Tvs'\n",
    "\n",
    "url = gen_search_url('kin', '파이썬', 10, 10)\n",
    "one_result = get_result_onpage(url)\n",
    "one_result"
   ]
  },
  {
   "cell_type": "code",
   "execution_count": 27,
   "metadata": {},
   "outputs": [
    {
     "data": {
      "text/plain": [
       "'<b>파이썬</b>인강 보면서 방학때 공부하려 하는데요 유튭은 보다가 답답해서 포기했어요 ㅜ 괜찮은 <b>파이썬</b>인강 사이트 아는것 있으면 추천좀 해주세요!!! 안녕하세요~ <b>파이썬</b>인강을... 아무래도 <b>파이썬</b>을 공부하고 싶으신데 처음 접한다면... '"
      ]
     },
     "execution_count": 27,
     "metadata": {},
     "output_type": "execute_result"
    }
   ],
   "source": [
    "one_result['items'][0]['description']"
   ]
  },
  {
   "cell_type": "code",
   "execution_count": 28,
   "metadata": {},
   "outputs": [],
   "source": [
    "def delete_tag(input_str):\n",
    "    input_str = input_str.replace('<b>', \"\")\n",
    "    input_str = input_str.replace('</b>', \"\")\n",
    "    \n",
    "    return input_str"
   ]
  },
  {
   "cell_type": "code",
   "execution_count": 31,
   "metadata": {},
   "outputs": [],
   "source": [
    "def get_description(pages):\n",
    "    contents = []\n",
    "    for sentences in pages['items']:\n",
    "        contents.append(delete_tag(sentences['description']))\n",
    "        \n",
    "    return contents"
   ]
  },
  {
   "cell_type": "code",
   "execution_count": 32,
   "metadata": {},
   "outputs": [
    {
     "data": {
      "text/plain": [
       "['파이썬인강 보면서 방학때 공부하려 하는데요 유튭은 보다가 답답해서 포기했어요 ㅜ 괜찮은 파이썬인강 사이트 아는것 있으면 추천좀 해주세요!!! 안녕하세요~ 파이썬인강을... 아무래도 파이썬을 공부하고 싶으신데 처음 접한다면... ',\n",
       " '파이썬 과제좀 알려주세요ㅠㅠ  안녕하세요. 지식인에서도 과제풀이를 해주시는 분이 계시긴 하지만... C언어, 파이썬, 자바 등의 코딩이나 프로그래밍 작업에 대해 문의줘보실 수 있는데요. 관련하여 사이트... ',\n",
       " '파이썬기초학원을 찾고 있습니다 전에 독학으로 파이썬기초를 공부해봤는데 바쁘기도 했고 제대로 공부를 못하고 시간이 꽤 지났거든요 파이썬기초학원을 다녀서 전문적으로... 알려주는 파이썬기초학원을 알려주세요 안녕하세요... ',\n",
       " '파이썬 공부해보려고하는 초보자입니다 인강 추천해주시면 감사드리겠습니다 파이썬강의를 찾으시나요? 파이썬이 다른 언어들에 비해 비교적 배우기 쉽다고 해도... 위해 파이썬강의 중에 KG에듀원 비대면 라이브 강의를... ',\n",
       " '파이썬에서 받은 숫자가 소수인지 아닌지 판별 코드를 어떻게 적어야 하나요?? 아래와 같이 소수인지 아닌지 판별하는 함수를 하나 만들어서 사용하시면 됩니다 # 소수이면 True 아니면 False 를... ',\n",
       " 'c언어에서 시뮬레이션을 돌린 수치를 가지고 파이썬으로 그래프를 그리는... 수치를 파이썬으로 옮기는 방안도 알려주십시요. 수치를 텍스트 파일로 만들고 파이썬에서... ',\n",
       " '주말에 시간이 남아서 개인발전을 할려고 하다가 파이썬이 요즘 많이 사용... 지거든요 파이썬비대면수업좀 추천해 주세요 IT분야는 실습 부분 때문에... c언어,파이썬,리눅스,ccna정도 비대면으로 교육을 진행 하고 있습니다... ',\n",
       " '기초자식이 없는데 파이썬학원 다니면서 차근차근 배워보려고요. 아는 곳 있으면 알려주세요.  파이썬학원 포함... 하지만 모든 파이썬 학원이 다 같은 내용으로 진행되지는... 그래서 이 부분은 파이썬학원에 직접 방문해서... ',\n",
       " 'VSCode로 파이썬을 사용하려고 하는데요 print(&quot;안녕하세요&quot;) 라고 입력해서 실행을 눌렀는데 SyntaxError... 진짜로 이 오류를 아시는분만 답변주세요 파이썬은 UTF-8 로 저장해야 한글이 에러가 안납니다.... ',\n",
       " '파이썬 인강 어디서 들어야 하나요? 지금 고 1인데 파이썬 인강으로 공부하고 싶어요.  아래 게시물의 강의... 파이썬을 공부하고 계시면 파이썬 카페에서 같이 공부해요. 카페에 책과 강의 소개가 많습니다. 직접 정리한 강의나 책도... ']"
      ]
     },
     "execution_count": 32,
     "metadata": {},
     "output_type": "execute_result"
    }
   ],
   "source": [
    "contents = get_description(one_result)\n",
    "contents"
   ]
  },
  {
   "cell_type": "code",
   "execution_count": 33,
   "metadata": {},
   "outputs": [],
   "source": [
    "from sklearn.feature_extraction.text import CountVectorizer\n",
    "from konlpy.tag import Okt\n",
    "t = Okt()\n",
    "vectorizer = CountVectorizer(min_df=1)"
   ]
  },
  {
   "cell_type": "code",
   "execution_count": 35,
   "metadata": {},
   "outputs": [
    {
     "data": {
      "text/plain": [
       "[['파이썬',\n",
       "  '인강',\n",
       "  '보면서',\n",
       "  '방학',\n",
       "  '때',\n",
       "  '공부',\n",
       "  '하려',\n",
       "  '하는데요',\n",
       "  '유튭',\n",
       "  '은',\n",
       "  '보다가',\n",
       "  '답답해서',\n",
       "  '포기',\n",
       "  '했어요',\n",
       "  'ㅜ',\n",
       "  '괜찮은',\n",
       "  '파이썬',\n",
       "  '인강',\n",
       "  '사이트',\n",
       "  '아는것',\n",
       "  '있으면',\n",
       "  '추천',\n",
       "  '좀',\n",
       "  '해주세요',\n",
       "  '!!!',\n",
       "  '안녕하세요',\n",
       "  '~',\n",
       "  '파이썬',\n",
       "  '인강',\n",
       "  '을',\n",
       "  '...',\n",
       "  '아무래도',\n",
       "  '파이썬',\n",
       "  '을',\n",
       "  '공부',\n",
       "  '하고',\n",
       "  '싶으신',\n",
       "  '데',\n",
       "  '처음',\n",
       "  '접',\n",
       "  '한',\n",
       "  '다',\n",
       "  '면',\n",
       "  '...'],\n",
       " ['파이썬',\n",
       "  '과제',\n",
       "  '좀',\n",
       "  '알려주세요',\n",
       "  'ㅠㅠ',\n",
       "  '안녕하세요',\n",
       "  '.',\n",
       "  '지식인',\n",
       "  '에서도',\n",
       "  '과제',\n",
       "  '풀이',\n",
       "  '를',\n",
       "  '해주시',\n",
       "  '는',\n",
       "  '분',\n",
       "  '이',\n",
       "  '계시긴',\n",
       "  '하지만',\n",
       "  '...',\n",
       "  'C',\n",
       "  '언어',\n",
       "  ',',\n",
       "  '파이썬',\n",
       "  ',',\n",
       "  '자바',\n",
       "  '등',\n",
       "  '의',\n",
       "  '코딩',\n",
       "  '이나',\n",
       "  '프로그래밍',\n",
       "  '작업',\n",
       "  '에',\n",
       "  '대해',\n",
       "  '문의',\n",
       "  '줘',\n",
       "  '보실',\n",
       "  '수',\n",
       "  '있는데요',\n",
       "  '.',\n",
       "  '관련',\n",
       "  '하여',\n",
       "  '사이트',\n",
       "  '...'],\n",
       " ['파이썬',\n",
       "  '기초',\n",
       "  '학원',\n",
       "  '을',\n",
       "  '찾고',\n",
       "  '있습니다',\n",
       "  '전',\n",
       "  '에',\n",
       "  '독학',\n",
       "  '으로',\n",
       "  '파이썬',\n",
       "  '기초',\n",
       "  '를',\n",
       "  '공부',\n",
       "  '해봤는데',\n",
       "  '바쁘',\n",
       "  '기도',\n",
       "  '했고',\n",
       "  '제대로',\n",
       "  '공부',\n",
       "  '를',\n",
       "  '못',\n",
       "  '하고',\n",
       "  '시간',\n",
       "  '이',\n",
       "  '꽤',\n",
       "  '지났거든요',\n",
       "  '파이썬',\n",
       "  '기초',\n",
       "  '학원',\n",
       "  '을',\n",
       "  '다녀서',\n",
       "  '전문',\n",
       "  '적',\n",
       "  '으로',\n",
       "  '...',\n",
       "  '알려주는',\n",
       "  '파이썬',\n",
       "  '기초',\n",
       "  '학원',\n",
       "  '을',\n",
       "  '알려주세요',\n",
       "  '안녕하세요',\n",
       "  '...'],\n",
       " ['파이썬',\n",
       "  '공부',\n",
       "  '해보려고하는',\n",
       "  '초보자',\n",
       "  '입니다',\n",
       "  '인강',\n",
       "  '추천',\n",
       "  '해주시면',\n",
       "  '감사',\n",
       "  '드리겠습니다',\n",
       "  '파이썬',\n",
       "  '강의',\n",
       "  '를',\n",
       "  '찾으시나요',\n",
       "  '?',\n",
       "  '파이썬',\n",
       "  '이',\n",
       "  '다른',\n",
       "  '언어',\n",
       "  '들',\n",
       "  '에',\n",
       "  '비해',\n",
       "  '비교',\n",
       "  '적',\n",
       "  '배우기',\n",
       "  '쉽다고',\n",
       "  '해도',\n",
       "  '...',\n",
       "  '위해',\n",
       "  '파이썬',\n",
       "  '강의',\n",
       "  '중',\n",
       "  '에',\n",
       "  'KG',\n",
       "  '에듀',\n",
       "  '원',\n",
       "  '비대',\n",
       "  '면',\n",
       "  '라이브',\n",
       "  '강의',\n",
       "  '를',\n",
       "  '...'],\n",
       " ['파이썬',\n",
       "  '에서',\n",
       "  '받은',\n",
       "  '숫자',\n",
       "  '가',\n",
       "  '소수',\n",
       "  '인지',\n",
       "  '아닌지',\n",
       "  '판별',\n",
       "  '코드',\n",
       "  '를',\n",
       "  '어떻게',\n",
       "  '적어야',\n",
       "  '하나요',\n",
       "  '??',\n",
       "  '아래',\n",
       "  '와',\n",
       "  '같이',\n",
       "  '소수',\n",
       "  '인지',\n",
       "  '아닌지',\n",
       "  '판별',\n",
       "  '하는',\n",
       "  '함수',\n",
       "  '를',\n",
       "  '하나',\n",
       "  '만들어서',\n",
       "  '사용',\n",
       "  '하시면',\n",
       "  '됩니다',\n",
       "  '#',\n",
       "  '소수',\n",
       "  '이',\n",
       "  '면',\n",
       "  'True',\n",
       "  '아니면',\n",
       "  'False',\n",
       "  '를',\n",
       "  '...'],\n",
       " ['c',\n",
       "  '언어',\n",
       "  '에서',\n",
       "  '시뮬레이션',\n",
       "  '을',\n",
       "  '돌린',\n",
       "  '수치',\n",
       "  '를',\n",
       "  '가지',\n",
       "  '고',\n",
       "  '파이썬',\n",
       "  '으로',\n",
       "  '그래프',\n",
       "  '를',\n",
       "  '그리는',\n",
       "  '...',\n",
       "  '수치',\n",
       "  '를',\n",
       "  '파이썬',\n",
       "  '으로',\n",
       "  '옮기는',\n",
       "  '방안',\n",
       "  '도',\n",
       "  '알려주십시요',\n",
       "  '.',\n",
       "  '수치',\n",
       "  '를',\n",
       "  '텍스트',\n",
       "  '파일',\n",
       "  '로',\n",
       "  '만들고',\n",
       "  '파이썬',\n",
       "  '에서',\n",
       "  '...'],\n",
       " ['주말',\n",
       "  '에',\n",
       "  '시간',\n",
       "  '이',\n",
       "  '남아',\n",
       "  '서',\n",
       "  '개인',\n",
       "  '발전',\n",
       "  '을',\n",
       "  '할려고',\n",
       "  '하다가',\n",
       "  '파이썬',\n",
       "  '이',\n",
       "  '요즘',\n",
       "  '많이',\n",
       "  '사용',\n",
       "  '...',\n",
       "  '지거든요',\n",
       "  '파이썬',\n",
       "  '비대',\n",
       "  '면',\n",
       "  '수업',\n",
       "  '좀',\n",
       "  '추천',\n",
       "  '해',\n",
       "  '주세요',\n",
       "  'IT',\n",
       "  '분야',\n",
       "  '는',\n",
       "  '실습',\n",
       "  '부분',\n",
       "  '때문',\n",
       "  '에',\n",
       "  '...',\n",
       "  'c',\n",
       "  '언어',\n",
       "  ',',\n",
       "  '파이썬',\n",
       "  ',',\n",
       "  '리눅스',\n",
       "  ',',\n",
       "  'ccna',\n",
       "  '정도',\n",
       "  '비',\n",
       "  '대면',\n",
       "  '으로',\n",
       "  '교육',\n",
       "  '을',\n",
       "  '진행',\n",
       "  '하고',\n",
       "  '있습니다',\n",
       "  '...'],\n",
       " ['기초',\n",
       "  '자식',\n",
       "  '이',\n",
       "  '없는데',\n",
       "  '파이썬',\n",
       "  '학원',\n",
       "  '다니면서',\n",
       "  '차근차근',\n",
       "  '배워',\n",
       "  '보려고요',\n",
       "  '.',\n",
       "  '아는',\n",
       "  '곳',\n",
       "  '있으면',\n",
       "  '알려주세요',\n",
       "  '.',\n",
       "  '파이썬',\n",
       "  '학원',\n",
       "  '포함',\n",
       "  '...',\n",
       "  '하지만',\n",
       "  '모든',\n",
       "  '파이썬',\n",
       "  '학원',\n",
       "  '이',\n",
       "  '다',\n",
       "  '같은',\n",
       "  '내용',\n",
       "  '으로',\n",
       "  '진행',\n",
       "  '되지는',\n",
       "  '...',\n",
       "  '그래서',\n",
       "  '이',\n",
       "  '부분',\n",
       "  '은',\n",
       "  '파이썬',\n",
       "  '학원',\n",
       "  '에',\n",
       "  '직접',\n",
       "  '방문',\n",
       "  '해서',\n",
       "  '...'],\n",
       " ['VSCode',\n",
       "  '로',\n",
       "  '파이썬',\n",
       "  '을',\n",
       "  '사용',\n",
       "  '하려고',\n",
       "  '하는데요',\n",
       "  'print',\n",
       "  '(&',\n",
       "  'quot',\n",
       "  ';',\n",
       "  '안녕하세요',\n",
       "  '&',\n",
       "  'quot',\n",
       "  ';)',\n",
       "  '라고',\n",
       "  '입력',\n",
       "  '해서',\n",
       "  '실행',\n",
       "  '을',\n",
       "  '눌렀는데',\n",
       "  'SyntaxError',\n",
       "  '...',\n",
       "  '진짜',\n",
       "  '로',\n",
       "  '이',\n",
       "  '오류',\n",
       "  '를',\n",
       "  '아시',\n",
       "  '는',\n",
       "  '분만',\n",
       "  '답변',\n",
       "  '주세요',\n",
       "  '파이썬',\n",
       "  '은',\n",
       "  'UTF',\n",
       "  '-',\n",
       "  '8',\n",
       "  '로',\n",
       "  '저장',\n",
       "  '해야',\n",
       "  '한글',\n",
       "  '이',\n",
       "  '에러',\n",
       "  '가',\n",
       "  '안',\n",
       "  '납니다',\n",
       "  '....'],\n",
       " ['파이썬',\n",
       "  '인강',\n",
       "  '어디서',\n",
       "  '들어야',\n",
       "  '하나요',\n",
       "  '?',\n",
       "  '지금',\n",
       "  '고',\n",
       "  '1',\n",
       "  '인데',\n",
       "  '파이썬',\n",
       "  '인강',\n",
       "  '으로',\n",
       "  '공부',\n",
       "  '하고',\n",
       "  '싶어요',\n",
       "  '.',\n",
       "  '아래',\n",
       "  '게시',\n",
       "  '물의',\n",
       "  '강의',\n",
       "  '...',\n",
       "  '파이썬',\n",
       "  '을',\n",
       "  '공부',\n",
       "  '하고',\n",
       "  '계시',\n",
       "  '면',\n",
       "  '파이썬',\n",
       "  '카페',\n",
       "  '에서',\n",
       "  '같이',\n",
       "  '공부',\n",
       "  '해요',\n",
       "  '.',\n",
       "  '카페',\n",
       "  '에',\n",
       "  '책',\n",
       "  '과',\n",
       "  '강의',\n",
       "  '소개',\n",
       "  '가',\n",
       "  '많습니다',\n",
       "  '.',\n",
       "  '직접',\n",
       "  '정리',\n",
       "  '한',\n",
       "  '강의',\n",
       "  '나',\n",
       "  '책',\n",
       "  '도',\n",
       "  '...']]"
      ]
     },
     "execution_count": 35,
     "metadata": {},
     "output_type": "execute_result"
    }
   ],
   "source": [
    "contents_tokens = [t.morphs(row) for row in contents]\n",
    "contents_tokens"
   ]
  },
  {
   "cell_type": "code",
   "execution_count": 36,
   "metadata": {},
   "outputs": [
    {
     "data": {
      "text/plain": [
       "[' 파이썬 인강 보면서 방학 때 공부 하려 하는데요 유튭 은 보다가 답답해서 포기 했어요 ㅜ 괜찮은 파이썬 인강 사이트 아는것 있으면 추천 좀 해주세요 !!! 안녕하세요 ~ 파이썬 인강 을 ... 아무래도 파이썬 을 공부 하고 싶으신 데 처음 접 한 다 면 ...',\n",
       " ' 파이썬 과제 좀 알려주세요 ㅠㅠ 안녕하세요 . 지식인 에서도 과제 풀이 를 해주시 는 분 이 계시긴 하지만 ... C 언어 , 파이썬 , 자바 등 의 코딩 이나 프로그래밍 작업 에 대해 문의 줘 보실 수 있는데요 . 관련 하여 사이트 ...',\n",
       " ' 파이썬 기초 학원 을 찾고 있습니다 전 에 독학 으로 파이썬 기초 를 공부 해봤는데 바쁘 기도 했고 제대로 공부 를 못 하고 시간 이 꽤 지났거든요 파이썬 기초 학원 을 다녀서 전문 적 으로 ... 알려주는 파이썬 기초 학원 을 알려주세요 안녕하세요 ...',\n",
       " ' 파이썬 공부 해보려고하는 초보자 입니다 인강 추천 해주시면 감사 드리겠습니다 파이썬 강의 를 찾으시나요 ? 파이썬 이 다른 언어 들 에 비해 비교 적 배우기 쉽다고 해도 ... 위해 파이썬 강의 중 에 KG 에듀 원 비대 면 라이브 강의 를 ...',\n",
       " ' 파이썬 에서 받은 숫자 가 소수 인지 아닌지 판별 코드 를 어떻게 적어야 하나요 ?? 아래 와 같이 소수 인지 아닌지 판별 하는 함수 를 하나 만들어서 사용 하시면 됩니다 # 소수 이 면 True 아니면 False 를 ...',\n",
       " ' c 언어 에서 시뮬레이션 을 돌린 수치 를 가지 고 파이썬 으로 그래프 를 그리는 ... 수치 를 파이썬 으로 옮기는 방안 도 알려주십시요 . 수치 를 텍스트 파일 로 만들고 파이썬 에서 ...',\n",
       " ' 주말 에 시간 이 남아 서 개인 발전 을 할려고 하다가 파이썬 이 요즘 많이 사용 ... 지거든요 파이썬 비대 면 수업 좀 추천 해 주세요 IT 분야 는 실습 부분 때문 에 ... c 언어 , 파이썬 , 리눅스 , ccna 정도 비 대면 으로 교육 을 진행 하고 있습니다 ...',\n",
       " ' 기초 자식 이 없는데 파이썬 학원 다니면서 차근차근 배워 보려고요 . 아는 곳 있으면 알려주세요 . 파이썬 학원 포함 ... 하지만 모든 파이썬 학원 이 다 같은 내용 으로 진행 되지는 ... 그래서 이 부분 은 파이썬 학원 에 직접 방문 해서 ...',\n",
       " ' VSCode 로 파이썬 을 사용 하려고 하는데요 print (& quot ; 안녕하세요 & quot ;) 라고 입력 해서 실행 을 눌렀는데 SyntaxError ... 진짜 로 이 오류 를 아시 는 분만 답변 주세요 파이썬 은 UTF - 8 로 저장 해야 한글 이 에러 가 안 납니다 ....',\n",
       " ' 파이썬 인강 어디서 들어야 하나요 ? 지금 고 1 인데 파이썬 인강 으로 공부 하고 싶어요 . 아래 게시 물의 강의 ... 파이썬 을 공부 하고 계시 면 파이썬 카페 에서 같이 공부 해요 . 카페 에 책 과 강의 소개 가 많습니다 . 직접 정리 한 강의 나 책 도 ...']"
      ]
     },
     "execution_count": 36,
     "metadata": {},
     "output_type": "execute_result"
    }
   ],
   "source": [
    "contents_for_vectorize = []\n",
    "\n",
    "for content in contents_tokens:\n",
    "    sentence = ''\n",
    "    for word in content:\n",
    "        sentence = sentence + ' ' + word\n",
    "        \n",
    "    contents_for_vectorize.append(sentence)\n",
    "    \n",
    "contents_for_vectorize"
   ]
  },
  {
   "cell_type": "code",
   "execution_count": 37,
   "metadata": {},
   "outputs": [
    {
     "data": {
      "text/plain": [
       "<10x185 sparse matrix of type '<class 'numpy.int64'>'\n",
       "\twith 238 stored elements in Compressed Sparse Row format>"
      ]
     },
     "execution_count": 37,
     "metadata": {},
     "output_type": "execute_result"
    }
   ],
   "source": [
    "X = vectorizer.fit_transform(contents_for_vectorize)\n",
    "X"
   ]
  },
  {
   "cell_type": "code",
   "execution_count": 38,
   "metadata": {},
   "outputs": [
    {
     "data": {
      "text/plain": [
       "(10, 185)"
      ]
     },
     "execution_count": 38,
     "metadata": {},
     "output_type": "execute_result"
    }
   ],
   "source": [
    "num_samples, num_features = X.shape\n",
    "num_samples, num_features"
   ]
  },
  {
   "cell_type": "code",
   "execution_count": 39,
   "metadata": {},
   "outputs": [
    {
     "data": {
      "text/plain": [
       "['ccna',\n",
       " 'false',\n",
       " 'it',\n",
       " 'kg',\n",
       " 'print',\n",
       " 'quot',\n",
       " 'syntaxerror',\n",
       " 'true',\n",
       " 'utf',\n",
       " 'vscode',\n",
       " 'ㅠㅠ',\n",
       " '가지',\n",
       " '감사',\n",
       " '강의',\n",
       " '같은',\n",
       " '같이',\n",
       " '개인',\n",
       " '게시',\n",
       " '계시',\n",
       " '계시긴',\n",
       " '공부',\n",
       " '과제',\n",
       " '관련',\n",
       " '괜찮은',\n",
       " '교육',\n",
       " '그래서',\n",
       " '그래프',\n",
       " '그리는',\n",
       " '기도',\n",
       " '기초',\n",
       " '남아',\n",
       " '납니다',\n",
       " '내용',\n",
       " '눌렀는데',\n",
       " '다녀서',\n",
       " '다니면서',\n",
       " '다른',\n",
       " '답답해서',\n",
       " '답변',\n",
       " '대면',\n",
       " '대해',\n",
       " '독학',\n",
       " '돌린',\n",
       " '되지는',\n",
       " '됩니다',\n",
       " '드리겠습니다',\n",
       " '들어야',\n",
       " '때문',\n",
       " '라고',\n",
       " '라이브',\n",
       " '리눅스',\n",
       " '만들고',\n",
       " '만들어서',\n",
       " '많습니다',\n",
       " '많이',\n",
       " '모든',\n",
       " '문의',\n",
       " '물의',\n",
       " '바쁘',\n",
       " '받은',\n",
       " '발전',\n",
       " '방문',\n",
       " '방안',\n",
       " '방학',\n",
       " '배우기',\n",
       " '배워',\n",
       " '보다가',\n",
       " '보려고요',\n",
       " '보면서',\n",
       " '보실',\n",
       " '부분',\n",
       " '분만',\n",
       " '분야',\n",
       " '비교',\n",
       " '비대',\n",
       " '비해',\n",
       " '사용',\n",
       " '사이트',\n",
       " '소개',\n",
       " '소수',\n",
       " '수업',\n",
       " '수치',\n",
       " '숫자',\n",
       " '쉽다고',\n",
       " '시간',\n",
       " '시뮬레이션',\n",
       " '실습',\n",
       " '실행',\n",
       " '싶어요',\n",
       " '싶으신',\n",
       " '아는',\n",
       " '아는것',\n",
       " '아니면',\n",
       " '아닌지',\n",
       " '아래',\n",
       " '아무래도',\n",
       " '아시',\n",
       " '안녕하세요',\n",
       " '알려주는',\n",
       " '알려주세요',\n",
       " '알려주십시요',\n",
       " '어디서',\n",
       " '어떻게',\n",
       " '언어',\n",
       " '없는데',\n",
       " '에듀',\n",
       " '에러',\n",
       " '에서',\n",
       " '에서도',\n",
       " '오류',\n",
       " '옮기는',\n",
       " '요즘',\n",
       " '위해',\n",
       " '유튭',\n",
       " '으로',\n",
       " '이나',\n",
       " '인강',\n",
       " '인데',\n",
       " '인지',\n",
       " '입니다',\n",
       " '입력',\n",
       " '있는데요',\n",
       " '있습니다',\n",
       " '있으면',\n",
       " '자바',\n",
       " '자식',\n",
       " '작업',\n",
       " '저장',\n",
       " '적어야',\n",
       " '전문',\n",
       " '정도',\n",
       " '정리',\n",
       " '제대로',\n",
       " '주말',\n",
       " '주세요',\n",
       " '지거든요',\n",
       " '지금',\n",
       " '지났거든요',\n",
       " '지식인',\n",
       " '직접',\n",
       " '진짜',\n",
       " '진행',\n",
       " '차근차근',\n",
       " '찾고',\n",
       " '찾으시나요',\n",
       " '처음',\n",
       " '초보자',\n",
       " '추천',\n",
       " '카페',\n",
       " '코드',\n",
       " '코딩',\n",
       " '텍스트',\n",
       " '파이썬',\n",
       " '파일',\n",
       " '판별',\n",
       " '포기',\n",
       " '포함',\n",
       " '풀이',\n",
       " '프로그래밍',\n",
       " '하고',\n",
       " '하나',\n",
       " '하나요',\n",
       " '하는',\n",
       " '하는데요',\n",
       " '하다가',\n",
       " '하려',\n",
       " '하려고',\n",
       " '하시면',\n",
       " '하여',\n",
       " '하지만',\n",
       " '학원',\n",
       " '한글',\n",
       " '할려고',\n",
       " '함수',\n",
       " '해도',\n",
       " '해보려고하는',\n",
       " '해봤는데',\n",
       " '해서',\n",
       " '해야',\n",
       " '해요',\n",
       " '해주세요',\n",
       " '해주시',\n",
       " '해주시면',\n",
       " '했고',\n",
       " '했어요']"
      ]
     },
     "execution_count": 39,
     "metadata": {},
     "output_type": "execute_result"
    }
   ],
   "source": [
    "vectorizer.get_feature_names()"
   ]
  },
  {
   "cell_type": "code",
   "execution_count": 40,
   "metadata": {},
   "outputs": [
    {
     "data": {
      "text/plain": [
       "[' 파이썬 을 배우는데 좋은 방법 이 어떤 것 인지 추천 해주세요']"
      ]
     },
     "execution_count": 40,
     "metadata": {},
     "output_type": "execute_result"
    }
   ],
   "source": [
    "new_post = ['파이썬을 배우는데 좋은 방법이 어떤 것인지 추천해주세요']\n",
    "new_post_tokens = [t.morphs(row) for row in new_post]\n",
    "\n",
    "new_post_for_vectorize = []\n",
    "\n",
    "for content in new_post_tokens:\n",
    "    sentence = ''\n",
    "    for word in content:\n",
    "        sentence = sentence + ' ' + word\n",
    "        \n",
    "    new_post_for_vectorize.append(sentence)\n",
    "    \n",
    "new_post_for_vectorize"
   ]
  },
  {
   "cell_type": "code",
   "execution_count": 41,
   "metadata": {},
   "outputs": [
    {
     "data": {
      "text/plain": [
       "array([[0, 0, 0, 0, 0, 0, 0, 0, 0, 0, 0, 0, 0, 0, 0, 0, 0, 0, 0, 0, 0, 0,\n",
       "        0, 0, 0, 0, 0, 0, 0, 0, 0, 0, 0, 0, 0, 0, 0, 0, 0, 0, 0, 0, 0, 0,\n",
       "        0, 0, 0, 0, 0, 0, 0, 0, 0, 0, 0, 0, 0, 0, 0, 0, 0, 0, 0, 0, 0, 0,\n",
       "        0, 0, 0, 0, 0, 0, 0, 0, 0, 0, 0, 0, 0, 0, 0, 0, 0, 0, 0, 0, 0, 0,\n",
       "        0, 0, 0, 0, 0, 0, 0, 0, 0, 0, 0, 0, 0, 0, 0, 0, 0, 0, 0, 0, 0, 0,\n",
       "        0, 0, 0, 0, 0, 0, 0, 0, 1, 0, 0, 0, 0, 0, 0, 0, 0, 0, 0, 0, 0, 0,\n",
       "        0, 0, 0, 0, 0, 0, 0, 0, 0, 0, 0, 0, 0, 0, 0, 1, 0, 0, 0, 0, 1, 0,\n",
       "        0, 0, 0, 0, 0, 0, 0, 0, 0, 0, 0, 0, 0, 0, 0, 0, 0, 0, 0, 0, 0, 0,\n",
       "        0, 0, 0, 0, 1, 0, 0, 0, 0]], dtype=int64)"
      ]
     },
     "execution_count": 41,
     "metadata": {},
     "output_type": "execute_result"
    }
   ],
   "source": [
    "new_post_vec = vectorizer.transform(new_post_for_vectorize)\n",
    "new_post_vec.toarray()"
   ]
  },
  {
   "cell_type": "code",
   "execution_count": 42,
   "metadata": {},
   "outputs": [],
   "source": [
    "import scipy as sp\n",
    "\n",
    "def dist_raw(v1, v2):\n",
    "    delta = v1 - v2\n",
    "    return sp.linalg.norm(delta.toarray())"
   ]
  },
  {
   "cell_type": "code",
   "execution_count": 43,
   "metadata": {},
   "outputs": [
    {
     "data": {
      "text/plain": [
       "[6.4031242374328485,\n",
       " 5.477225575051661,\n",
       " 7.810249675906654,\n",
       " 6.4031242374328485,\n",
       " 6.244997998398398,\n",
       " 6.0,\n",
       " 5.916079783099616,\n",
       " 7.14142842854285,\n",
       " 5.656854249492381,\n",
       " 7.745966692414834]"
      ]
     },
     "execution_count": 43,
     "metadata": {},
     "output_type": "execute_result"
    }
   ],
   "source": [
    "dist = [dist_raw(each, new_post_vec) for each in X]\n",
    "dist"
   ]
  },
  {
   "cell_type": "code",
   "execution_count": 44,
   "metadata": {},
   "outputs": [
    {
     "name": "stdout",
     "output_type": "stream",
     "text": [
      "Best post is 1 dist =  5.477225575051661\n",
      "test post is --> ['파이썬을 배우는데 좋은 방법이 어떤 것인지 추천해주세요']\n",
      "best dist post is --> 파이썬 과제좀 알려주세요ㅠㅠ  안녕하세요. 지식인에서도 과제풀이를 해주시는 분이 계시긴 하지만... C언어, 파이썬, 자바 등의 코딩이나 프로그래밍 작업에 대해 문의줘보실 수 있는데요. 관련하여 사이트... \n"
     ]
    }
   ],
   "source": [
    "print('Best post is', dist.index(min(dist)), 'dist = ', min(dist))\n",
    "print('test post is -->', new_post)\n",
    "print('best dist post is -->', contents[dist.index(min(dist))])"
   ]
  },
  {
   "cell_type": "code",
   "execution_count": 45,
   "metadata": {},
   "outputs": [],
   "source": [
    "def dist_norm(v1, v2):\n",
    "    v1_normalized = v1 / sp.linalg.norm(v1.toarray())\n",
    "    v2_normalized = v2 / sp.linalg.norm(v2.toarray())\n",
    "    \n",
    "    delta = v1_normalized - v2_normalized\n",
    "    \n",
    "    return sp.linalg.norm(delta.toarray())"
   ]
  },
  {
   "cell_type": "code",
   "execution_count": 47,
   "metadata": {},
   "outputs": [
    {
     "name": "stdout",
     "output_type": "stream",
     "text": [
      "Best post is 0 dist =  1.0690449676496976\n",
      "test post is --> ['파이썬을 배우는데 좋은 방법이 어떤 것인지 추천해주세요']\n",
      "best dist post is --> 파이썬인강 보면서 방학때 공부하려 하는데요 유튭은 보다가 답답해서 포기했어요 ㅜ 괜찮은 파이썬인강 사이트 아는것 있으면 추천좀 해주세요!!! 안녕하세요~ 파이썬인강을... 아무래도 파이썬을 공부하고 싶으신데 처음 접한다면... \n"
     ]
    }
   ],
   "source": [
    "dist = [dist_norm(each, new_post_vec) for each in X]\n",
    "\n",
    "print('Best post is', dist.index(min(dist)), 'dist = ', min(dist))\n",
    "print('test post is -->', new_post)\n",
    "print('best dist post is -->', contents[dist.index(min(dist))])"
   ]
  },
  {
   "cell_type": "code",
   "execution_count": 48,
   "metadata": {},
   "outputs": [],
   "source": [
    "def tfidf(t, d, D):\n",
    "    tf = float(d.count(t)) / sum(d.count(w) for w in set(d))\n",
    "    idf = sp.log(float(len(D)) / len([doc for doc in D if t in doc]))\n",
    "    return tf * idf"
   ]
  },
  {
   "cell_type": "code",
   "execution_count": 49,
   "metadata": {},
   "outputs": [],
   "source": [
    "from sklearn.feature_extraction.text import TfidfVectorizer\n",
    "vectorizer = TfidfVectorizer(min_df=1, decode_error='ignore')"
   ]
  },
  {
   "cell_type": "code",
   "execution_count": 51,
   "metadata": {},
   "outputs": [
    {
     "data": {
      "text/plain": [
       "(10, 185)"
      ]
     },
     "execution_count": 51,
     "metadata": {},
     "output_type": "execute_result"
    }
   ],
   "source": [
    "X = vectorizer.fit_transform(contents_for_vectorize)\n",
    "num_samples, num_features = X.shape\n",
    "num_samples, num_features"
   ]
  },
  {
   "cell_type": "code",
   "execution_count": 52,
   "metadata": {},
   "outputs": [
    {
     "data": {
      "text/plain": [
       "array([[0.        , 0.        , 0.        , 0.        , 0.        ,\n",
       "        0.        , 0.        , 0.        , 0.        , 0.        ,\n",
       "        0.        , 0.        , 0.        , 0.        , 0.        ,\n",
       "        0.        , 0.        , 0.        , 0.        , 0.        ,\n",
       "        0.        , 0.        , 0.        , 0.        , 0.        ,\n",
       "        0.        , 0.        , 0.        , 0.        , 0.        ,\n",
       "        0.        , 0.        , 0.        , 0.        , 0.        ,\n",
       "        0.        , 0.        , 0.        , 0.        , 0.        ,\n",
       "        0.        , 0.        , 0.        , 0.        , 0.        ,\n",
       "        0.        , 0.        , 0.        , 0.        , 0.        ,\n",
       "        0.        , 0.        , 0.        , 0.        , 0.        ,\n",
       "        0.        , 0.        , 0.        , 0.        , 0.        ,\n",
       "        0.        , 0.        , 0.        , 0.        , 0.        ,\n",
       "        0.        , 0.        , 0.        , 0.        , 0.        ,\n",
       "        0.        , 0.        , 0.        , 0.        , 0.        ,\n",
       "        0.        , 0.        , 0.        , 0.        , 0.        ,\n",
       "        0.        , 0.        , 0.        , 0.        , 0.        ,\n",
       "        0.        , 0.        , 0.        , 0.        , 0.        ,\n",
       "        0.        , 0.        , 0.        , 0.        , 0.        ,\n",
       "        0.        , 0.        , 0.        , 0.        , 0.        ,\n",
       "        0.        , 0.        , 0.        , 0.        , 0.        ,\n",
       "        0.        , 0.        , 0.        , 0.        , 0.        ,\n",
       "        0.        , 0.        , 0.        , 0.        , 0.        ,\n",
       "        0.        , 0.        , 0.        , 0.60973042, 0.        ,\n",
       "        0.        , 0.        , 0.        , 0.        , 0.        ,\n",
       "        0.        , 0.        , 0.        , 0.        , 0.        ,\n",
       "        0.        , 0.        , 0.        , 0.        , 0.        ,\n",
       "        0.        , 0.        , 0.        , 0.        , 0.        ,\n",
       "        0.        , 0.        , 0.        , 0.        , 0.        ,\n",
       "        0.        , 0.        , 0.45347449, 0.        , 0.        ,\n",
       "        0.        , 0.        , 0.22542965, 0.        , 0.        ,\n",
       "        0.        , 0.        , 0.        , 0.        , 0.        ,\n",
       "        0.        , 0.        , 0.        , 0.        , 0.        ,\n",
       "        0.        , 0.        , 0.        , 0.        , 0.        ,\n",
       "        0.        , 0.        , 0.        , 0.        , 0.        ,\n",
       "        0.        , 0.        , 0.        , 0.        , 0.        ,\n",
       "        0.60973042, 0.        , 0.        , 0.        , 0.        ]])"
      ]
     },
     "execution_count": 52,
     "metadata": {},
     "output_type": "execute_result"
    }
   ],
   "source": [
    "new_post_vec = vectorizer.transform(new_post_for_vectorize)\n",
    "new_post_vec.toarray()"
   ]
  },
  {
   "cell_type": "code",
   "execution_count": 53,
   "metadata": {},
   "outputs": [
    {
     "name": "stdout",
     "output_type": "stream",
     "text": [
      "Best post is 0 dist =  1.2258249187699364\n",
      "test post is --> ['파이썬을 배우는데 좋은 방법이 어떤 것인지 추천해주세요']\n",
      "best dist post is --> 파이썬인강 보면서 방학때 공부하려 하는데요 유튭은 보다가 답답해서 포기했어요 ㅜ 괜찮은 파이썬인강 사이트 아는것 있으면 추천좀 해주세요!!! 안녕하세요~ 파이썬인강을... 아무래도 파이썬을 공부하고 싶으신데 처음 접한다면... \n"
     ]
    }
   ],
   "source": [
    "dist = [dist_norm(each, new_post_vec) for each in X]\n",
    "\n",
    "print('Best post is', dist.index(min(dist)), 'dist = ', min(dist))\n",
    "print('test post is -->', new_post)\n",
    "print('best dist post is -->', contents[dist.index(min(dist))])"
   ]
  },
  {
   "cell_type": "code",
   "execution_count": null,
   "metadata": {},
   "outputs": [],
   "source": []
  }
 ],
 "metadata": {
  "kernelspec": {
   "display_name": "Python 3",
   "language": "python",
   "name": "python3"
  },
  "language_info": {
   "codemirror_mode": {
    "name": "ipython",
    "version": 3
   },
   "file_extension": ".py",
   "mimetype": "text/x-python",
   "name": "python",
   "nbconvert_exporter": "python",
   "pygments_lexer": "ipython3",
   "version": "3.7.9"
  }
 },
 "nbformat": 4,
 "nbformat_minor": 4
}
