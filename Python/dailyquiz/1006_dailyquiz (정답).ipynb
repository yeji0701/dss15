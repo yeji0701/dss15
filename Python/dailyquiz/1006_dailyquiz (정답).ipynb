{
 "cells": [
  {
   "cell_type": "markdown",
   "metadata": {},
   "source": [
    "### 1  (if,else)"
   ]
  },
  {
   "cell_type": "code",
   "execution_count": 8,
   "metadata": {},
   "outputs": [],
   "source": [
    "# (1<=  n <=100) 사이에 있는 양의 정수 n을 입력 받아서 \n",
    "\n",
    "# n이 홀수 일 때 WEIRD 라고 출력하고 \n",
    "# n이 짝수이면서 n의 숫자가  2~ 5 사이일 때는 NOT WEIRD 라고 출력하고\n",
    "# n이 짝수이면서 n의 숫자가  6~20 사이일 때는 WEIRD를 출력하고\n",
    "# n이 짝수이면서 n의 숫자가 20보다 클 때는  NOT WEIRD 출력하여라"
   ]
  },
  {
   "cell_type": "code",
   "execution_count": 16,
   "metadata": {},
   "outputs": [
    {
     "name": "stdout",
     "output_type": "stream",
     "text": [
      "1\n",
      "Weird\n"
     ]
    }
   ],
   "source": [
    "n = int(input())\n",
    "if n % 2 == 1:\n",
    "    print (\"Weird\")\n",
    "elif n % 2 == 0 and 2 <= n <= 5:\n",
    "    print (\"Not Weird\")\n",
    "elif n % 2 == 0 and 6 <= n <= 20:\n",
    "    print (\"Weird\")\n",
    "else:\n",
    "    print (\"Not Weird\")\n"
   ]
  },
  {
   "cell_type": "markdown",
   "metadata": {},
   "source": [
    "### 2 (while)"
   ]
  },
  {
   "cell_type": "code",
   "execution_count": 8,
   "metadata": {},
   "outputs": [],
   "source": [
    "# while 문을 이용하여서 양의 정수 1 부터 100까지의 숫자 합을 구하시요!\n"
   ]
  },
  {
   "cell_type": "code",
   "execution_count": 9,
   "metadata": {},
   "outputs": [
    {
     "name": "stdout",
     "output_type": "stream",
     "text": [
      "5050\n"
     ]
    }
   ],
   "source": [
    "num = 1\n",
    "_sum = 0 \n",
    "\n",
    "while num <=100:\n",
    "    _sum += num\n",
    "    num += 1 \n",
    "print(_sum)\n"
   ]
  },
  {
   "cell_type": "markdown",
   "metadata": {},
   "source": [
    "### 3 (while)"
   ]
  },
  {
   "cell_type": "code",
   "execution_count": 10,
   "metadata": {},
   "outputs": [],
   "source": [
    "# 0에서 6까지의 숫자중에서 \n",
    "# while 문을 이용하여서 \n",
    "# 0 1 2 4 5 만 출력하여라\n"
   ]
  },
  {
   "cell_type": "code",
   "execution_count": 20,
   "metadata": {},
   "outputs": [
    {
     "name": "stdout",
     "output_type": "stream",
     "text": [
      "0 1 2 4 5 "
     ]
    }
   ],
   "source": [
    "for x in range(6):\n",
    "    if (x == 3 or x==6):\n",
    "        continue\n",
    "    print(x,end=' ')\n"
   ]
  },
  {
   "cell_type": "markdown",
   "metadata": {},
   "source": [
    "### 4 (function)"
   ]
  },
  {
   "cell_type": "code",
   "execution_count": 12,
   "metadata": {},
   "outputs": [],
   "source": [
    "# 함수(def)를 이용하여서 \n",
    "# (8,2,3,-1,7)의 곱을 구하여라"
   ]
  },
  {
   "cell_type": "code",
   "execution_count": 13,
   "metadata": {},
   "outputs": [
    {
     "name": "stdout",
     "output_type": "stream",
     "text": [
      "-336\n"
     ]
    }
   ],
   "source": [
    "\n",
    "def multiply(numbers):  \n",
    "    total = 1\n",
    "    for x in numbers:\n",
    "        total *= x  \n",
    "    return total  \n",
    "print(multiply((8, 2, 3, -1, 7)))"
   ]
  },
  {
   "cell_type": "markdown",
   "metadata": {},
   "source": [
    "### 5 (lambda) "
   ]
  },
  {
   "cell_type": "code",
   "execution_count": 14,
   "metadata": {},
   "outputs": [],
   "source": [
    "# 다음 리스트의 주어진 숫자들을 양의 정수와 음의 정수로 구분하여라 !\n",
    "# array_nums = [-1, 2, -3, 5, 7, 8, 9, -10]\n",
    "# [-1, -3, -10, 2, 5, 7, 8, 9] 이렇게 분리 되어야 함"
   ]
  },
  {
   "cell_type": "code",
   "execution_count": 15,
   "metadata": {},
   "outputs": [
    {
     "name": "stdout",
     "output_type": "stream",
     "text": [
      "[-1, -3, -10, 2, 5, 7, 8, 9]\n"
     ]
    }
   ],
   "source": [
    "array_nums = [-1, 2, -3, 5, 7, 8, 9, -10]\n",
    "result = [x for x in array_nums if x < 0] + [x for x in array_nums if x >= 0]\n",
    "print(result)"
   ]
  },
  {
   "cell_type": "code",
   "execution_count": null,
   "metadata": {},
   "outputs": [],
   "source": []
  },
  {
   "cell_type": "code",
   "execution_count": null,
   "metadata": {},
   "outputs": [],
   "source": []
  }
 ],
 "metadata": {
  "kernelspec": {
   "display_name": "Python 3",
   "language": "python",
   "name": "python3"
  },
  "language_info": {
   "codemirror_mode": {
    "name": "ipython",
    "version": 3
   },
   "file_extension": ".py",
   "mimetype": "text/x-python",
   "name": "python",
   "nbconvert_exporter": "python",
   "pygments_lexer": "ipython3",
   "version": "3.8.3"
  }
 },
 "nbformat": 4,
 "nbformat_minor": 4
}
