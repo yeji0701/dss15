{
 "cells": [
  {
   "cell_type": "markdown",
   "metadata": {},
   "source": [
    "### 꿀리뷰\n",
    "- 꿀리뷰 사이트에서 카테고리별 상품의 제품명, 전체평점, 최저가 데이터를 수집하세요.\n",
    "- https://www.ggulreview.com/"
   ]
  },
  {
   "cell_type": "code",
   "execution_count": 72,
   "metadata": {},
   "outputs": [],
   "source": [
    "class Ggulreview:\n",
    "    \n",
    "    # 생성자 함수\n",
    "    def __init__(self, category=\"laptops\"):\n",
    "        pass\n",
    "\n",
    "    # 카테고리 리스트 출력 메서드\n",
    "    def category_list(self):\n",
    "        pass\n",
    "    \n",
    "    # 카테고리 변경 메서드\n",
    "    def change_category(self, category):\n",
    "        pass\n",
    "    \n",
    "    # 더보기 이벤트 실행 메서드\n",
    "    def __more(self):\n",
    "        pass\n",
    "    \n",
    "    # 상품 데이터 크롤링 메서드\n",
    "    def crawling(self):\n",
    "        pass\n",
    "    \n",
    "    # 브라우져 종료 메서드\n",
    "    def close(self):\n",
    "        pass\n",
    "        "
   ]
  },
  {
   "cell_type": "code",
   "execution_count": 73,
   "metadata": {},
   "outputs": [],
   "source": [
    "# 객체 생성\n",
    "gr = Ggulreview()"
   ]
  },
  {
   "cell_type": "code",
   "execution_count": 74,
   "metadata": {},
   "outputs": [
    {
     "data": {
      "text/plain": [
       "'laptops'"
      ]
     },
     "execution_count": 74,
     "metadata": {},
     "output_type": "execute_result"
    }
   ],
   "source": [
    "# 현재 카테고리\n",
    "gr.category"
   ]
  },
  {
   "cell_type": "code",
   "execution_count": 75,
   "metadata": {},
   "outputs": [],
   "source": [
    "# 카테고리 리스트 출력"
   ]
  },
  {
   "cell_type": "code",
   "execution_count": 76,
   "metadata": {},
   "outputs": [
    {
     "data": {
      "text/plain": [
       "{'노트북': 'laptops',\n",
       " '무선 청소기': 'cordless-vacuums',\n",
       " '로봇 청소기': 'robotic-vacuums',\n",
       " 'TV': 'televisions',\n",
       " '에어컨': 'air-conditioners',\n",
       " '선풍기': 'fans',\n",
       " '제습기': 'dehumidifiers',\n",
       " '믹서기': 'blenders',\n",
       " '전기밥솥': 'rice-cookers',\n",
       " '공기청정기': 'air-purifiers',\n",
       " '에어프라이어': 'air-fryers',\n",
       " '건조기': 'dryers',\n",
       " '식기 세척기': 'dishwashers',\n",
       " '냉장고': 'refrigerators',\n",
       " '모니터': 'monitors',\n",
       " '가습기': 'humidifiers',\n",
       " '빔 프로젝터': 'projectors'}"
      ]
     },
     "execution_count": 76,
     "metadata": {},
     "output_type": "execute_result"
    }
   ],
   "source": [
    "gr.category_list()"
   ]
  },
  {
   "cell_type": "code",
   "execution_count": 77,
   "metadata": {},
   "outputs": [],
   "source": [
    "# 선풍기로 카테고리 변경"
   ]
  },
  {
   "cell_type": "code",
   "execution_count": 78,
   "metadata": {},
   "outputs": [],
   "source": [
    "gr.change_category(\"fans\")"
   ]
  },
  {
   "cell_type": "code",
   "execution_count": 79,
   "metadata": {},
   "outputs": [
    {
     "data": {
      "text/plain": [
       "'fans'"
      ]
     },
     "execution_count": 79,
     "metadata": {},
     "output_type": "execute_result"
    }
   ],
   "source": [
    "gr.category"
   ]
  },
  {
   "cell_type": "code",
   "execution_count": 80,
   "metadata": {},
   "outputs": [],
   "source": [
    "# 데이터 수집"
   ]
  },
  {
   "cell_type": "code",
   "execution_count": 81,
   "metadata": {},
   "outputs": [],
   "source": [
    "gr.crawling()"
   ]
  },
  {
   "cell_type": "code",
   "execution_count": 82,
   "metadata": {},
   "outputs": [],
   "source": [
    "# 수집된 데이터 확인"
   ]
  },
  {
   "cell_type": "code",
   "execution_count": 84,
   "metadata": {},
   "outputs": [
    {
     "data": {
      "text/html": [
       "<div>\n",
       "<style scoped>\n",
       "    .dataframe tbody tr th:only-of-type {\n",
       "        vertical-align: middle;\n",
       "    }\n",
       "\n",
       "    .dataframe tbody tr th {\n",
       "        vertical-align: top;\n",
       "    }\n",
       "\n",
       "    .dataframe thead th {\n",
       "        text-align: right;\n",
       "    }\n",
       "</style>\n",
       "<table border=\"1\" class=\"dataframe\">\n",
       "  <thead>\n",
       "    <tr style=\"text-align: right;\">\n",
       "      <th></th>\n",
       "      <th>제품명</th>\n",
       "      <th>전체평점</th>\n",
       "      <th>최저가</th>\n",
       "    </tr>\n",
       "  </thead>\n",
       "  <tbody>\n",
       "    <tr>\n",
       "      <th>0</th>\n",
       "      <td>발뮤다 그린팬S 무선</td>\n",
       "      <td>4.6</td>\n",
       "      <td>360,000원</td>\n",
       "    </tr>\n",
       "    <tr>\n",
       "      <th>1</th>\n",
       "      <td>한일전기 아기바람 ABFL-1470RTDC</td>\n",
       "      <td>4.2</td>\n",
       "      <td>140,000원</td>\n",
       "    </tr>\n",
       "    <tr>\n",
       "      <th>2</th>\n",
       "      <td>한일전기 아기바람 ABFL-1460RDC</td>\n",
       "      <td>4.2</td>\n",
       "      <td>120,000원</td>\n",
       "    </tr>\n",
       "    <tr>\n",
       "      <th>3</th>\n",
       "      <td>르젠 TR 입체회전</td>\n",
       "      <td>4.2</td>\n",
       "      <td>60,000원</td>\n",
       "    </tr>\n",
       "    <tr>\n",
       "      <th>4</th>\n",
       "      <td>샤오미 스마트미 3세대 무선</td>\n",
       "      <td>4.0</td>\n",
       "      <td>70,000원</td>\n",
       "    </tr>\n",
       "  </tbody>\n",
       "</table>\n",
       "</div>"
      ],
      "text/plain": [
       "                       제품명 전체평점       최저가\n",
       "0              발뮤다 그린팬S 무선  4.6  360,000원\n",
       "1  한일전기 아기바람 ABFL-1470RTDC  4.2  140,000원\n",
       "2   한일전기 아기바람 ABFL-1460RDC  4.2  120,000원\n",
       "3               르젠 TR 입체회전  4.2   60,000원\n",
       "4          샤오미 스마트미 3세대 무선  4.0   70,000원"
      ]
     },
     "execution_count": 84,
     "metadata": {},
     "output_type": "execute_result"
    }
   ],
   "source": [
    "gr.df.head()"
   ]
  },
  {
   "cell_type": "code",
   "execution_count": null,
   "metadata": {},
   "outputs": [],
   "source": [
    "# 브라우져 닫기"
   ]
  },
  {
   "cell_type": "code",
   "execution_count": 71,
   "metadata": {},
   "outputs": [],
   "source": [
    "gr.close()"
   ]
  }
 ],
 "metadata": {
  "kernelspec": {
   "display_name": "Python 3",
   "language": "python",
   "name": "python3"
  },
  "language_info": {
   "codemirror_mode": {
    "name": "ipython",
    "version": 3
   },
   "file_extension": ".py",
   "mimetype": "text/x-python",
   "name": "python",
   "nbconvert_exporter": "python",
   "pygments_lexer": "ipython3",
   "version": "3.7.6"
  }
 },
 "nbformat": 4,
 "nbformat_minor": 4
}
