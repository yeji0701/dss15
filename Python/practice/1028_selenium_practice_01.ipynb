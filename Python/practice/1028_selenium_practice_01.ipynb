{
 "cells": [
  {
   "cell_type": "markdown",
   "metadata": {},
   "source": [
    "### Selenium"
   ]
  },
  {
   "cell_type": "code",
   "execution_count": 2,
   "metadata": {},
   "outputs": [
    {
     "name": "stdout",
     "output_type": "stream",
     "text": [
      "Collecting selenium\n",
      "  Downloading selenium-3.141.0-py2.py3-none-any.whl (904 kB)\n",
      "Requirement already satisfied: urllib3 in c:\\users\\luvu1\\anaconda3\\lib\\site-packages (from selenium) (1.25.9)\n",
      "Installing collected packages: selenium\n",
      "Successfully installed selenium-3.141.0\n"
     ]
    }
   ],
   "source": [
    "!pip install selenium"
   ]
  },
  {
   "cell_type": "code",
   "execution_count": 3,
   "metadata": {},
   "outputs": [],
   "source": [
    "from selenium import webdriver"
   ]
  },
  {
   "cell_type": "code",
   "execution_count": 6,
   "metadata": {},
   "outputs": [],
   "source": [
    "driver = webdriver.Chrome()"
   ]
  },
  {
   "cell_type": "code",
   "execution_count": 7,
   "metadata": {},
   "outputs": [],
   "source": [
    "# 페이지 이동 : get\n",
    "driver.get('https://daum.net')"
   ]
  },
  {
   "cell_type": "code",
   "execution_count": 8,
   "metadata": {},
   "outputs": [],
   "source": [
    "# 윈도우 사이즈 조절\n",
    "driver.set_window_size(200, 600)"
   ]
  },
  {
   "cell_type": "code",
   "execution_count": 10,
   "metadata": {},
   "outputs": [],
   "source": [
    "# 스크롤 위치 조절\n",
    "driver.execute_script('window.scrollTo(200, 300);')"
   ]
  },
  {
   "cell_type": "code",
   "execution_count": 16,
   "metadata": {},
   "outputs": [],
   "source": [
    "# alert 창 다루기\n",
    "driver.execute_script(\"alert('FastCampus!');\")"
   ]
  },
  {
   "cell_type": "code",
   "execution_count": 17,
   "metadata": {},
   "outputs": [],
   "source": [
    "alert = driver.switch_to.alert\n",
    "alert.accept()"
   ]
  },
  {
   "cell_type": "code",
   "execution_count": 20,
   "metadata": {},
   "outputs": [],
   "source": [
    "# input 태그에 문자열 입력\n",
    "# select_one = find_element_by_css_selector\n",
    "# select = find_elements_by_css_selector\n",
    "driver.find_element_by_css_selector('#q').send_keys('패스트 캠퍼스')"
   ]
  },
  {
   "cell_type": "code",
   "execution_count": 23,
   "metadata": {},
   "outputs": [],
   "source": [
    "driver.find_element_by_css_selector('#q').clear()\n",
    "driver.find_element_by_css_selector('#q').send_keys('파이썬')"
   ]
  },
  {
   "cell_type": "code",
   "execution_count": 24,
   "metadata": {},
   "outputs": [],
   "source": [
    "# button 클릭\n",
    "driver.find_element_by_css_selector('.inner_search > .btn_search').click()"
   ]
  },
  {
   "cell_type": "code",
   "execution_count": 25,
   "metadata": {},
   "outputs": [],
   "source": [
    "# 브라우저 종료\n",
    "driver.quit()"
   ]
  },
  {
   "cell_type": "code",
   "execution_count": null,
   "metadata": {},
   "outputs": [],
   "source": []
  },
  {
   "cell_type": "markdown",
   "metadata": {},
   "source": [
    "### 네이버 기사 제목 데이터 크롤링"
   ]
  },
  {
   "cell_type": "code",
   "execution_count": 26,
   "metadata": {},
   "outputs": [],
   "source": [
    "page = 2\n",
    "url = 'https://news.naver.com/main/main.nhn?mode=LSD&mid=shm&sid1=105#&date=%2000:00:00&page={}'.format(page)"
   ]
  },
  {
   "cell_type": "code",
   "execution_count": 27,
   "metadata": {},
   "outputs": [],
   "source": [
    "driver = webdriver.Chrome()\n",
    "driver.get(url)"
   ]
  },
  {
   "cell_type": "code",
   "execution_count": 30,
   "metadata": {},
   "outputs": [
    {
     "data": {
      "text/plain": [
       "20"
      ]
     },
     "execution_count": 30,
     "metadata": {},
     "output_type": "execute_result"
    }
   ],
   "source": [
    "articles = driver.find_elements_by_css_selector('#section_body li')\n",
    "len(articles)"
   ]
  },
  {
   "cell_type": "code",
   "execution_count": 31,
   "metadata": {},
   "outputs": [
    {
     "data": {
      "text/plain": [
       "'[영상] 文이 왜 여기서 나와?…청와대, 中 틱톡 계정 개설'"
      ]
     },
     "execution_count": 31,
     "metadata": {},
     "output_type": "execute_result"
    }
   ],
   "source": [
    "articles[0].find_element_by_css_selector('dt:not(.photo) > a').text"
   ]
  },
  {
   "cell_type": "code",
   "execution_count": 34,
   "metadata": {},
   "outputs": [
    {
     "data": {
      "text/plain": [
       "['[영상] 文이 왜 여기서 나와?…청와대, 中 틱톡 계정 개설',\n",
       " '239만원→199만원→170만원 몸값 또 낮춘 ‘귀족폰’ [IT선빵!]',\n",
       " \"[단독] '극비리' 삼성기술전 열린다…'돌돌 마는 폰' 나올까\",\n",
       " '애플, 보호막 한 겹 더 입힌 폴더블 만드나',\n",
       " '“인텔 마음대로 안될걸”… AMD, 39조원 쓰며 경쟁사 자일링스 샀다',\n",
       " '\"골든타임 잡는다\"…대형재난 구조 선봉에 선 \\'국가 재난망\\' 완공 목전',\n",
       " '삼성, 갤럭시S21에서 충전기·이어폰 뺀다?',\n",
       " '[이건희 별세] 이해진·김범수 조문 \"삼성 DNA 물려받았다\"',\n",
       " '中 AI연구 활기…논문 인용순위 美이어 2위',\n",
       " \"비트코인, 국내 거래가 1500만원 돌파…올해 들어 83% '껑충'\",\n",
       " \"타다의 부활…'대리운전·가맹택시' 28일 스타트\",\n",
       " '갤럭시폴드 출고가 또 내렸다…170만5000원',\n",
       " \"'스톡옵션 갑부' 여민수 카카오 대표…일부 행사해 39억원 차익\",\n",
       " '[사이언스카페] ‘북극의 방귀’ 메탄가스 뿜뿜, 온난화 비상',\n",
       " '‘타다 대리’·‘타다 라이트(가맹택시)’ 28일부터 서비스',\n",
       " \"스페이스X, 월 11만원에 '위성인터넷' 제공\",\n",
       " \"[글로벌포스트] JP모건 스테이블코인 'JPM' 상용화 개시\",\n",
       " '변방 기술에서 ‘대세’된 블록체인…美 대선 투표에도 쓰인다',\n",
       " '세계 게임 1위 ‘롤’도 모바일로…“이젠 PC·콘솔보다 폰이 대세”',\n",
       " '다시 찾아온 미세먼지…공기청정기도 반등?']"
      ]
     },
     "execution_count": 34,
     "metadata": {},
     "output_type": "execute_result"
    }
   ],
   "source": [
    "article_list = []\n",
    "for article in articles:\n",
    "    title = article.find_element_by_css_selector('dt:not(.photo) > a').text\n",
    "    article_list.append(title)\n",
    "\n",
    "article_list"
   ]
  },
  {
   "cell_type": "code",
   "execution_count": 36,
   "metadata": {},
   "outputs": [],
   "source": [
    "driver.quit()"
   ]
  },
  {
   "cell_type": "code",
   "execution_count": 37,
   "metadata": {},
   "outputs": [],
   "source": [
    "# 함수로 만들기\n",
    "def get_articles(page):\n",
    "    driver = webdriver.Chrome()\n",
    "    url = 'https://news.naver.com/main/main.nhn?\\\n",
    "    mode=LSD&mid=shm&sid1=105#&date=%2000:00:00&page={}'.format(page)\n",
    "    driver.get(url)\n",
    "    articles = driver.find_elements_by_css_selector('#section_body li')\n",
    "    for article in articles:\n",
    "        title = article.find_element_by_css_selector('dt:not(.photo) > a').text\n",
    "        article_list.append(title)\n",
    "    print('crawling : {}'.format(page))\n",
    "    driver.quit()"
   ]
  },
  {
   "cell_type": "code",
   "execution_count": 38,
   "metadata": {},
   "outputs": [
    {
     "name": "stdout",
     "output_type": "stream",
     "text": [
      "crawling : 1\n",
      "crawling : 2\n",
      "crawling : 3\n",
      "crawling : 4\n",
      "Wall time: 25.4 s\n"
     ]
    }
   ],
   "source": [
    "%%time\n",
    "for page in range(1,5):\n",
    "    get_articles(page)"
   ]
  },
  {
   "cell_type": "code",
   "execution_count": 39,
   "metadata": {},
   "outputs": [
    {
     "data": {
      "text/plain": [
       "['[영상] 文이 왜 여기서 나와?…청와대, 中 틱톡 계정 개설',\n",
       " '239만원→199만원→170만원 몸값 또 낮춘 ‘귀족폰’ [IT선빵!]']"
      ]
     },
     "execution_count": 39,
     "metadata": {},
     "output_type": "execute_result"
    }
   ],
   "source": [
    "article_list[:2]"
   ]
  },
  {
   "cell_type": "code",
   "execution_count": 40,
   "metadata": {},
   "outputs": [],
   "source": [
    "### thread 사용"
   ]
  },
  {
   "cell_type": "code",
   "execution_count": 41,
   "metadata": {},
   "outputs": [],
   "source": [
    "import threading"
   ]
  },
  {
   "cell_type": "code",
   "execution_count": 44,
   "metadata": {},
   "outputs": [],
   "source": [
    "article_list = []\n",
    "\n",
    "for page in range(1, 5):\n",
    "    th = threading.Thread(target=get_articles, args=(page,))\n",
    "    th.start()"
   ]
  },
  {
   "cell_type": "code",
   "execution_count": 45,
   "metadata": {},
   "outputs": [
    {
     "name": "stdout",
     "output_type": "stream",
     "text": [
      "1 2 3 4 5 crawling : 4\n",
      "crawling : 1\n",
      "crawling : 3\n",
      "crawling : 2\n",
      "6 "
     ]
    }
   ],
   "source": [
    "import time\n",
    "sec = 0\n",
    "while len(article_list) < 80:\n",
    "          time.sleep(1)\n",
    "          sec += 1\n",
    "          print(sec, end=\" \")"
   ]
  },
  {
   "cell_type": "code",
   "execution_count": null,
   "metadata": {},
   "outputs": [],
   "source": []
  }
 ],
 "metadata": {
  "kernelspec": {
   "display_name": "Python 3",
   "language": "python",
   "name": "python3"
  },
  "language_info": {
   "codemirror_mode": {
    "name": "ipython",
    "version": 3
   },
   "file_extension": ".py",
   "mimetype": "text/x-python",
   "name": "python",
   "nbconvert_exporter": "python",
   "pygments_lexer": "ipython3",
   "version": "3.8.3"
  }
 },
 "nbformat": 4,
 "nbformat_minor": 4
}
