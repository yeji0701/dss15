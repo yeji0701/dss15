{
 "cells": [
  {
   "cell_type": "markdown",
   "metadata": {},
   "source": [
    "#### 1. 프로젝트 생성"
   ]
  },
  {
   "cell_type": "code",
   "execution_count": 82,
   "metadata": {},
   "outputs": [
    {
     "name": "stdout",
     "output_type": "stream",
     "text": [
      "New Scrapy project 'naver_movie', using template directory '/home/ubuntu/.pyenv/versions/3.6.9/envs/python3/lib/python3.6/site-packages/scrapy/templates/project', created in:\r\n",
      "    /home/ubuntu/python3/notebook/Scrapy/naver_movie\r\n",
      "\r\n",
      "You can start your first spider with:\r\n",
      "    cd naver_movie\r\n",
      "    scrapy genspider example example.com\r\n"
     ]
    }
   ],
   "source": [
    "!scrapy startproject naver_movie"
   ]
  },
  {
   "cell_type": "markdown",
   "metadata": {},
   "source": [
    "#### 2. Items 설정\n",
    "- 제목, 관객수, 평점"
   ]
  },
  {
   "cell_type": "code",
   "execution_count": 83,
   "metadata": {},
   "outputs": [
    {
     "name": "stdout",
     "output_type": "stream",
     "text": [
      "# Define here the models for your scraped items\r\n",
      "#\r\n",
      "# See documentation in:\r\n",
      "# https://docs.scrapy.org/en/latest/topics/items.html\r\n",
      "\r\n",
      "import scrapy\r\n",
      "\r\n",
      "\r\n",
      "class NaverMovieItem(scrapy.Item):\r\n",
      "    # define the fields for your item here like:\r\n",
      "    # name = scrapy.Field()\r\n",
      "    pass\r\n"
     ]
    }
   ],
   "source": [
    "!cat naver_movie/naver_movie/items.py"
   ]
  },
  {
   "cell_type": "code",
   "execution_count": 84,
   "metadata": {},
   "outputs": [
    {
     "name": "stdout",
     "output_type": "stream",
     "text": [
      "Overwriting naver_movie/naver_movie/items.py\n"
     ]
    }
   ],
   "source": [
    "%%writefile naver_movie/naver_movie/items.py\n",
    "import scrapy\n",
    "\n",
    "class NaverMovieItem(scrapy.Item):\n",
    "    title = scrapy.Field()\n",
    "    count = scrapy.Field()\n",
    "    star = scrapy.Field()"
   ]
  },
  {
   "cell_type": "markdown",
   "metadata": {},
   "source": [
    "#### 3. Xpath 확임"
   ]
  },
  {
   "cell_type": "code",
   "execution_count": 72,
   "metadata": {},
   "outputs": [],
   "source": [
    "import requests\n",
    "import scrapy\n",
    "from scrapy.http import TextResponse"
   ]
  },
  {
   "cell_type": "code",
   "execution_count": 73,
   "metadata": {},
   "outputs": [],
   "source": [
    "req = requests.get(\"https://movie.naver.com/movie/running/current.nhn#\")\n",
    "response = TextResponse(req.url, body=req.text, encoding='utf-8')"
   ]
  },
  {
   "cell_type": "code",
   "execution_count": 74,
   "metadata": {},
   "outputs": [
    {
     "data": {
      "text/plain": [
       "(129, '/movie/bi/mi/basic.nhn?code=189141')"
      ]
     },
     "execution_count": 74,
     "metadata": {},
     "output_type": "execute_result"
    }
   ],
   "source": [
    "links = response.xpath('//*[@id=\"content\"]/div[1]/div[1]/div[3]/ul/li/dl/dt/a/@href').extract()\n",
    "len(links), links[1]"
   ]
  },
  {
   "cell_type": "code",
   "execution_count": 75,
   "metadata": {},
   "outputs": [
    {
     "data": {
      "text/plain": [
       "'https://movie.naver.com/movie/bi/mi/basic.nhn?code=189141'"
      ]
     },
     "execution_count": 75,
     "metadata": {},
     "output_type": "execute_result"
    }
   ],
   "source": [
    "link = response.urljoin(links[1])\n",
    "link"
   ]
  },
  {
   "cell_type": "code",
   "execution_count": 76,
   "metadata": {},
   "outputs": [],
   "source": [
    "# 상세 데이터 수집"
   ]
  },
  {
   "cell_type": "code",
   "execution_count": 77,
   "metadata": {},
   "outputs": [],
   "source": [
    "req = requests.get(link)\n",
    "response = TextResponse(req.url, body=req.text, encoding='utf-8')"
   ]
  },
  {
   "cell_type": "code",
   "execution_count": 78,
   "metadata": {},
   "outputs": [
    {
     "data": {
      "text/plain": [
       "('삼진그룹 영어토익반', '1,011,155명', '9.20')"
      ]
     },
     "execution_count": 78,
     "metadata": {},
     "output_type": "execute_result"
    }
   ],
   "source": [
    "title = response.xpath('//*[@id=\"content\"]/div[1]/div[2]/div[1]/h3/a[1]/text()').extract()[0]\n",
    "count = response.xpath('//*[@id=\"content\"]/div[1]/div[2]/div[1]/dl/dd[5]/div/p[2]/text()').extract()[0]\n",
    "star = response.xpath('//*[@id=\"actualPointPersentBasic\"]/div/em/text()').extract()\n",
    "star = \"\".join(star)\n",
    "title, count, star"
   ]
  },
  {
   "cell_type": "markdown",
   "metadata": {},
   "source": [
    "#### 4. spider 작성"
   ]
  },
  {
   "cell_type": "code",
   "execution_count": 91,
   "metadata": {},
   "outputs": [
    {
     "name": "stdout",
     "output_type": "stream",
     "text": [
      "Overwriting naver_movie/naver_movie/spiders/spider.py\n"
     ]
    }
   ],
   "source": [
    "%%writefile naver_movie/naver_movie/spiders/spider.py\n",
    "import scrapy\n",
    "from naver_movie.items import NaverMovieItem\n",
    "\n",
    "\n",
    "class MovieSpider(scrapy.Spider):\n",
    "    name = \"NaverMovie\"\n",
    "    allow_domain = [\"https://movie.naver.com\"]\n",
    "    start_urls = [\"https://movie.naver.com/movie/running/current.nhn\"]\n",
    "\n",
    "    def parse(self, response):\n",
    "        links = response.xpath('//*[@id=\"content\"]/div[1]/div[1]/div[3]/ul/li/dl/dt/a/@href').extract()\n",
    "        for link in links:\n",
    "            link = response.urljoin(link)\n",
    "            yield scrapy.Request(link, callback=self.parse_page_contents)\n",
    "\n",
    "    def parse_page_contents(self, response):\n",
    "        item = NaverMovieItem()\n",
    "        item[\"title\"] = response.xpath('//*[@id=\"content\"]/div[1]/div[2]/div[1]/h3/a[1]/text()').extract()[0]\n",
    "        try:\n",
    "            item[\"count\"] = response.xpath('//*[@id=\"content\"]/div[1]/div[2]/div[1]/dl/dd[5]/div/p[2]/text()').extract()[0]\n",
    "        except:\n",
    "            item[\"count\"] = \"0명\"\n",
    "        star = response.xpath('//*[@id=\"actualPointPersentBasic\"]/div/em/text()').extract()\n",
    "        item[\"star\"] = \"\".join(star)\n",
    "        yield item"
   ]
  },
  {
   "cell_type": "markdown",
   "metadata": {},
   "source": [
    "#### 5. scrapy 실행"
   ]
  },
  {
   "cell_type": "code",
   "execution_count": 92,
   "metadata": {},
   "outputs": [
    {
     "name": "stdout",
     "output_type": "stream",
     "text": [
      "Overwriting run.sh\n"
     ]
    }
   ],
   "source": [
    "%%writefile run.sh\n",
    "cd naver_movie\n",
    "scrapy crawl NaverMovie -o naver_movie.csv"
   ]
  },
  {
   "cell_type": "code",
   "execution_count": 93,
   "metadata": {},
   "outputs": [
    {
     "name": "stdout",
     "output_type": "stream",
     "text": [
      "2020-11-04 11:10:34 [scrapy.utils.log] INFO: Scrapy 2.4.0 started (bot: naver_movie)\n",
      "2020-11-04 11:10:34 [scrapy.utils.log] INFO: Versions: lxml 4.6.1.0, libxml2 2.9.10, cssselect 1.1.0, parsel 1.6.0, w3lib 1.22.0, Twisted 20.3.0, Python 3.6.9 (default, Oct 16 2020, 03:09:48) - [GCC 7.5.0], pyOpenSSL 19.1.0 (OpenSSL 1.1.1h  22 Sep 2020), cryptography 3.2.1, Platform Linux-5.4.0-1029-aws-x86_64-with-debian-buster-sid\n",
      "2020-11-04 11:10:34 [scrapy.utils.log] DEBUG: Using reactor: twisted.internet.epollreactor.EPollReactor\n",
      "2020-11-04 11:10:34 [scrapy.crawler] INFO: Overridden settings:\n",
      "{'BOT_NAME': 'naver_movie',\n",
      " 'NEWSPIDER_MODULE': 'naver_movie.spiders',\n",
      " 'ROBOTSTXT_OBEY': True,\n",
      " 'SPIDER_MODULES': ['naver_movie.spiders']}\n",
      "2020-11-04 11:10:34 [scrapy.extensions.telnet] INFO: Telnet Password: 63900e09b2fb5fc4\n",
      "2020-11-04 11:10:34 [scrapy.middleware] INFO: Enabled extensions:\n",
      "['scrapy.extensions.corestats.CoreStats',\n",
      " 'scrapy.extensions.telnet.TelnetConsole',\n",
      " 'scrapy.extensions.memusage.MemoryUsage',\n",
      " 'scrapy.extensions.feedexport.FeedExporter',\n",
      " 'scrapy.extensions.logstats.LogStats']\n",
      "2020-11-04 11:10:34 [scrapy.middleware] INFO: Enabled downloader middlewares:\n",
      "['scrapy.downloadermiddlewares.robotstxt.RobotsTxtMiddleware',\n",
      " 'scrapy.downloadermiddlewares.httpauth.HttpAuthMiddleware',\n",
      " 'scrapy.downloadermiddlewares.downloadtimeout.DownloadTimeoutMiddleware',\n",
      " 'scrapy.downloadermiddlewares.defaultheaders.DefaultHeadersMiddleware',\n",
      " 'scrapy.downloadermiddlewares.useragent.UserAgentMiddleware',\n",
      " 'scrapy.downloadermiddlewares.retry.RetryMiddleware',\n",
      " 'scrapy.downloadermiddlewares.redirect.MetaRefreshMiddleware',\n",
      " 'scrapy.downloadermiddlewares.httpcompression.HttpCompressionMiddleware',\n",
      " 'scrapy.downloadermiddlewares.redirect.RedirectMiddleware',\n",
      " 'scrapy.downloadermiddlewares.cookies.CookiesMiddleware',\n",
      " 'scrapy.downloadermiddlewares.httpproxy.HttpProxyMiddleware',\n",
      " 'scrapy.downloadermiddlewares.stats.DownloaderStats']\n",
      "2020-11-04 11:10:34 [scrapy.middleware] INFO: Enabled spider middlewares:\n",
      "['scrapy.spidermiddlewares.httperror.HttpErrorMiddleware',\n",
      " 'scrapy.spidermiddlewares.offsite.OffsiteMiddleware',\n",
      " 'scrapy.spidermiddlewares.referer.RefererMiddleware',\n",
      " 'scrapy.spidermiddlewares.urllength.UrlLengthMiddleware',\n",
      " 'scrapy.spidermiddlewares.depth.DepthMiddleware']\n",
      "2020-11-04 11:10:34 [scrapy.middleware] INFO: Enabled item pipelines:\n",
      "[]\n",
      "2020-11-04 11:10:34 [scrapy.core.engine] INFO: Spider opened\n",
      "2020-11-04 11:10:34 [scrapy.extensions.logstats] INFO: Crawled 0 pages (at 0 pages/min), scraped 0 items (at 0 items/min)\n",
      "2020-11-04 11:10:34 [scrapy.extensions.telnet] INFO: Telnet console listening on 127.0.0.1:6023\n",
      "2020-11-04 11:10:35 [scrapy.core.engine] DEBUG: Crawled (200) <GET https://movie.naver.com/robots.txt> (referer: None)\n",
      "2020-11-04 11:10:35 [scrapy.downloadermiddlewares.robotstxt] DEBUG: Forbidden by robots.txt: <GET https://movie.naver.com/movie/running/current.nhn>\n",
      "2020-11-04 11:10:35 [scrapy.core.engine] INFO: Closing spider (finished)\n",
      "2020-11-04 11:10:35 [scrapy.statscollectors] INFO: Dumping Scrapy stats:\n",
      "{'downloader/exception_count': 1,\n",
      " 'downloader/exception_type_count/scrapy.exceptions.IgnoreRequest': 1,\n",
      " 'downloader/request_bytes': 225,\n",
      " 'downloader/request_count': 1,\n",
      " 'downloader/request_method_count/GET': 1,\n",
      " 'downloader/response_bytes': 441,\n",
      " 'downloader/response_count': 1,\n",
      " 'downloader/response_status_count/200': 1,\n",
      " 'elapsed_time_seconds': 0.274922,\n",
      " 'finish_reason': 'finished',\n",
      " 'finish_time': datetime.datetime(2020, 11, 4, 2, 10, 35, 272821),\n",
      " 'log_count/DEBUG': 2,\n",
      " 'log_count/INFO': 10,\n",
      " 'memusage/max': 55304192,\n",
      " 'memusage/startup': 55304192,\n",
      " 'response_received_count': 1,\n",
      " 'robotstxt/forbidden': 1,\n",
      " 'robotstxt/request_count': 1,\n",
      " 'robotstxt/response_count': 1,\n",
      " 'robotstxt/response_status_count/200': 1,\n",
      " 'scheduler/dequeued': 1,\n",
      " 'scheduler/dequeued/memory': 1,\n",
      " 'scheduler/enqueued': 1,\n",
      " 'scheduler/enqueued/memory': 1,\n",
      " 'start_time': datetime.datetime(2020, 11, 4, 2, 10, 34, 997899)}\n",
      "2020-11-04 11:10:35 [scrapy.core.engine] INFO: Spider closed (finished)\n"
     ]
    }
   ],
   "source": [
    "!./run.sh"
   ]
  },
  {
   "cell_type": "code",
   "execution_count": 88,
   "metadata": {},
   "outputs": [],
   "source": [
    "!chmod +x run.sh"
   ]
  },
  {
   "cell_type": "markdown",
   "metadata": {},
   "source": [
    "#### 6. settings.py 파일 변경\n",
    "- forbidden robots.txt"
   ]
  },
  {
   "cell_type": "code",
   "execution_count": 95,
   "metadata": {},
   "outputs": [
    {
     "name": "stdout",
     "output_type": "stream",
     "text": [
      "\r\n",
      "# Configure maximum concurrent requests performed by Scrapy (default: 16)\r\n",
      "#CONCURRENT_REQUESTS = 32\r\n",
      "\r\n",
      "# Configure a delay for requests for the same website (default: 0)\r\n"
     ]
    }
   ],
   "source": [
    "!head -n 25 naver_movie/naver_movie/settings.py | tail -n 5"
   ]
  },
  {
   "cell_type": "code",
   "execution_count": 96,
   "metadata": {},
   "outputs": [],
   "source": [
    "!sed -i 's/ROBOTSTXT_OBEY = True/ROBOTSTXT_OBEY = False/' naver_movie/naver_movie/settings.py"
   ]
  },
  {
   "cell_type": "code",
   "execution_count": 97,
   "metadata": {},
   "outputs": [
    {
     "name": "stdout",
     "output_type": "stream",
     "text": [
      "2020-11-04 11:11:47 [scrapy.utils.log] INFO: Scrapy 2.4.0 started (bot: naver_movie)\n",
      "2020-11-04 11:11:47 [scrapy.utils.log] INFO: Versions: lxml 4.6.1.0, libxml2 2.9.10, cssselect 1.1.0, parsel 1.6.0, w3lib 1.22.0, Twisted 20.3.0, Python 3.6.9 (default, Oct 16 2020, 03:09:48) - [GCC 7.5.0], pyOpenSSL 19.1.0 (OpenSSL 1.1.1h  22 Sep 2020), cryptography 3.2.1, Platform Linux-5.4.0-1029-aws-x86_64-with-debian-buster-sid\n",
      "2020-11-04 11:11:47 [scrapy.utils.log] DEBUG: Using reactor: twisted.internet.epollreactor.EPollReactor\n",
      "2020-11-04 11:11:47 [scrapy.crawler] INFO: Overridden settings:\n",
      "{'BOT_NAME': 'naver_movie',\n",
      " 'NEWSPIDER_MODULE': 'naver_movie.spiders',\n",
      " 'SPIDER_MODULES': ['naver_movie.spiders']}\n",
      "2020-11-04 11:11:47 [scrapy.extensions.telnet] INFO: Telnet Password: a3b02f9828506b56\n",
      "2020-11-04 11:11:47 [scrapy.middleware] INFO: Enabled extensions:\n",
      "['scrapy.extensions.corestats.CoreStats',\n",
      " 'scrapy.extensions.telnet.TelnetConsole',\n",
      " 'scrapy.extensions.memusage.MemoryUsage',\n",
      " 'scrapy.extensions.feedexport.FeedExporter',\n",
      " 'scrapy.extensions.logstats.LogStats']\n",
      "2020-11-04 11:11:47 [scrapy.middleware] INFO: Enabled downloader middlewares:\n",
      "['scrapy.downloadermiddlewares.httpauth.HttpAuthMiddleware',\n",
      " 'scrapy.downloadermiddlewares.downloadtimeout.DownloadTimeoutMiddleware',\n",
      " 'scrapy.downloadermiddlewares.defaultheaders.DefaultHeadersMiddleware',\n",
      " 'scrapy.downloadermiddlewares.useragent.UserAgentMiddleware',\n",
      " 'scrapy.downloadermiddlewares.retry.RetryMiddleware',\n",
      " 'scrapy.downloadermiddlewares.redirect.MetaRefreshMiddleware',\n",
      " 'scrapy.downloadermiddlewares.httpcompression.HttpCompressionMiddleware',\n",
      " 'scrapy.downloadermiddlewares.redirect.RedirectMiddleware',\n",
      " 'scrapy.downloadermiddlewares.cookies.CookiesMiddleware',\n",
      " 'scrapy.downloadermiddlewares.httpproxy.HttpProxyMiddleware',\n",
      " 'scrapy.downloadermiddlewares.stats.DownloaderStats']\n",
      "2020-11-04 11:11:47 [scrapy.middleware] INFO: Enabled spider middlewares:\n",
      "['scrapy.spidermiddlewares.httperror.HttpErrorMiddleware',\n",
      " 'scrapy.spidermiddlewares.offsite.OffsiteMiddleware',\n",
      " 'scrapy.spidermiddlewares.referer.RefererMiddleware',\n",
      " 'scrapy.spidermiddlewares.urllength.UrlLengthMiddleware',\n",
      " 'scrapy.spidermiddlewares.depth.DepthMiddleware']\n",
      "2020-11-04 11:11:47 [scrapy.middleware] INFO: Enabled item pipelines:\n",
      "[]\n",
      "2020-11-04 11:11:47 [scrapy.core.engine] INFO: Spider opened\n",
      "2020-11-04 11:11:47 [scrapy.extensions.logstats] INFO: Crawled 0 pages (at 0 pages/min), scraped 0 items (at 0 items/min)\n",
      "2020-11-04 11:11:47 [scrapy.extensions.telnet] INFO: Telnet console listening on 127.0.0.1:6023\n",
      "2020-11-04 11:11:47 [scrapy.core.engine] DEBUG: Crawled (200) <GET https://movie.naver.com/movie/running/current.nhn> (referer: None)\n",
      "2020-11-04 11:11:47 [scrapy.core.engine] DEBUG: Crawled (200) <GET https://movie.naver.com/movie/bi/mi/basic.nhn?code=193194> (referer: https://movie.naver.com/movie/running/current.nhn)\n",
      "2020-11-04 11:11:47 [scrapy.core.engine] DEBUG: Crawled (200) <GET https://movie.naver.com/movie/bi/mi/basic.nhn?code=192066> (referer: https://movie.naver.com/movie/running/current.nhn)\n",
      "2020-11-04 11:11:47 [scrapy.core.engine] DEBUG: Crawled (200) <GET https://movie.naver.com/movie/bi/mi/basic.nhn?code=196839> (referer: https://movie.naver.com/movie/running/current.nhn)\n",
      "2020-11-04 11:11:47 [scrapy.core.engine] DEBUG: Crawled (200) <GET https://movie.naver.com/movie/bi/mi/basic.nhn?code=195681> (referer: https://movie.naver.com/movie/running/current.nhn)\n",
      "2020-11-04 11:11:47 [scrapy.core.engine] DEBUG: Crawled (200) <GET https://movie.naver.com/movie/bi/mi/basic.nhn?code=188053> (referer: https://movie.naver.com/movie/running/current.nhn)\n",
      "2020-11-04 11:11:47 [scrapy.core.engine] DEBUG: Crawled (200) <GET https://movie.naver.com/movie/bi/mi/basic.nhn?code=59845> (referer: https://movie.naver.com/movie/running/current.nhn)\n",
      "2020-11-04 11:11:47 [scrapy.core.engine] DEBUG: Crawled (200) <GET https://movie.naver.com/movie/bi/mi/basic.nhn?code=191031> (referer: https://movie.naver.com/movie/running/current.nhn)\n",
      "2020-11-04 11:11:47 [scrapy.core.engine] DEBUG: Crawled (200) <GET https://movie.naver.com/movie/bi/mi/basic.nhn?code=57675> (referer: https://movie.naver.com/movie/running/current.nhn)\n",
      "2020-11-04 11:11:47 [scrapy.core.scraper] DEBUG: Scraped from <200 https://movie.naver.com/movie/bi/mi/basic.nhn?code=193194>\n",
      "{'count': '0명', 'star': '', 'title': '도굴'}\n",
      "2020-11-04 11:11:47 [scrapy.core.engine] DEBUG: Crawled (200) <GET https://movie.naver.com/movie/bi/mi/basic.nhn?code=123519> (referer: https://movie.naver.com/movie/running/current.nhn)\n",
      "2020-11-04 11:11:47 [scrapy.core.engine] DEBUG: Crawled (200) <GET https://movie.naver.com/movie/bi/mi/basic.nhn?code=195607> (referer: https://movie.naver.com/movie/running/current.nhn)\n",
      "2020-11-04 11:11:47 [scrapy.core.scraper] DEBUG: Scraped from <200 https://movie.naver.com/movie/bi/mi/basic.nhn?code=192066>\n",
      "{'count': '0명', 'star': '9.22', 'title': '소년시절의 너'}\n",
      "2020-11-04 11:11:47 [scrapy.core.scraper] DEBUG: Scraped from <200 https://movie.naver.com/movie/bi/mi/basic.nhn?code=196839>\n",
      "{'count': '0명', 'star': '8.88', 'title': '극장판 미니특공대: 햄버거괴물의 습격'}\n",
      "2020-11-04 11:11:48 [scrapy.core.scraper] DEBUG: Scraped from <200 https://movie.naver.com/movie/bi/mi/basic.nhn?code=195681>\n",
      "{'count': '0명', 'star': '9.00', 'title': '팔로우 미'}\n",
      "2020-11-04 11:11:48 [scrapy.core.scraper] DEBUG: Scraped from <200 https://movie.naver.com/movie/bi/mi/basic.nhn?code=188053>\n",
      "{'count': '0명', 'star': '', 'title': '글로리아를 위하여'}\n",
      "2020-11-04 11:11:48 [scrapy.core.scraper] DEBUG: Scraped from <200 https://movie.naver.com/movie/bi/mi/basic.nhn?code=59845>\n",
      "{'count': '0명', 'star': '', 'title': '박쥐'}\n",
      "2020-11-04 11:11:48 [scrapy.core.engine] DEBUG: Crawled (200) <GET https://movie.naver.com/movie/bi/mi/basic.nhn?code=179520> (referer: https://movie.naver.com/movie/running/current.nhn)\n",
      "2020-11-04 11:11:48 [scrapy.core.scraper] DEBUG: Scraped from <200 https://movie.naver.com/movie/bi/mi/basic.nhn?code=191031>\n",
      "{'count': '0명', 'star': '', 'title': '부니베어: 원시시대 대모험'}\n",
      "2020-11-04 11:11:48 [scrapy.core.scraper] DEBUG: Scraped from <200 https://movie.naver.com/movie/bi/mi/basic.nhn?code=57675>\n",
      "{'count': '0명', 'star': '', 'title': '싸이보그지만 괜찮아'}\n",
      "2020-11-04 11:11:48 [scrapy.core.engine] DEBUG: Crawled (200) <GET https://movie.naver.com/movie/bi/mi/basic.nhn?code=181406> (referer: https://movie.naver.com/movie/running/current.nhn)\n",
      "2020-11-04 11:11:48 [scrapy.core.engine] DEBUG: Crawled (200) <GET https://movie.naver.com/movie/bi/mi/basic.nhn?code=194086> (referer: https://movie.naver.com/movie/running/current.nhn)\n",
      "2020-11-04 11:11:48 [scrapy.core.scraper] DEBUG: Scraped from <200 https://movie.naver.com/movie/bi/mi/basic.nhn?code=123519>\n",
      "{'count': '0명', 'star': '7.69', 'title': '아가씨'}\n",
      "2020-11-04 11:11:48 [scrapy.core.scraper] DEBUG: Scraped from <200 https://movie.naver.com/movie/bi/mi/basic.nhn?code=195607>\n",
      "{'count': '0명', 'star': '', 'title': '나인스 게이트: 아홉 번째 살인'}\n",
      "2020-11-04 11:11:48 [scrapy.core.engine] DEBUG: Crawled (200) <GET https://movie.naver.com/movie/bi/mi/basic.nhn?code=189568> (referer: https://movie.naver.com/movie/running/current.nhn)\n",
      "2020-11-04 11:11:48 [scrapy.core.engine] DEBUG: Crawled (200) <GET https://movie.naver.com/movie/bi/mi/basic.nhn?code=189628> (referer: https://movie.naver.com/movie/running/current.nhn)\n",
      "2020-11-04 11:11:48 [scrapy.core.engine] DEBUG: Crawled (200) <GET https://movie.naver.com/movie/bi/mi/basic.nhn?code=189393> (referer: https://movie.naver.com/movie/running/current.nhn)\n",
      "2020-11-04 11:11:48 [scrapy.core.engine] DEBUG: Crawled (200) <GET https://movie.naver.com/movie/bi/mi/basic.nhn?code=18763> (referer: https://movie.naver.com/movie/running/current.nhn)\n",
      "2020-11-04 11:11:48 [scrapy.core.scraper] DEBUG: Scraped from <200 https://movie.naver.com/movie/bi/mi/basic.nhn?code=179520>\n",
      "{'count': '0명', 'star': '10.0', 'title': '디어 마이 지니어스'}\n",
      "2020-11-04 11:11:48 [scrapy.core.scraper] DEBUG: Scraped from <200 https://movie.naver.com/movie/bi/mi/basic.nhn?code=181406>\n",
      "{'count': '0명', 'star': '8.50', 'title': '극장판 요괴워치: 포에버 프렌즈'}\n",
      "2020-11-04 11:11:48 [scrapy.core.engine] DEBUG: Crawled (200) <GET https://movie.naver.com/movie/bi/mi/basic.nhn?code=69689> (referer: https://movie.naver.com/movie/running/current.nhn)\n",
      "2020-11-04 11:11:48 [scrapy.core.scraper] DEBUG: Scraped from <200 https://movie.naver.com/movie/bi/mi/basic.nhn?code=194086>\n",
      "{'count': '0명', 'star': '9.74', 'title': '담쟁이'}\n",
      "2020-11-04 11:11:48 [scrapy.core.scraper] DEBUG: Scraped from <200 https://movie.naver.com/movie/bi/mi/basic.nhn?code=189568>\n",
      "{'count': '0명', 'star': '10.0', 'title': '웰컴 투 X-월드'}\n"
     ]
    },
    {
     "name": "stdout",
     "output_type": "stream",
     "text": [
      "2020-11-04 11:11:48 [scrapy.core.scraper] DEBUG: Scraped from <200 https://movie.naver.com/movie/bi/mi/basic.nhn?code=189628>\n",
      "{'count': '0명', 'star': '9.94', 'title': '젊은이의 양지'}\n",
      "2020-11-04 11:11:48 [scrapy.core.engine] DEBUG: Crawled (200) <GET https://movie.naver.com/movie/bi/mi/basic.nhn?code=17875> (referer: https://movie.naver.com/movie/running/current.nhn)\n",
      "2020-11-04 11:11:48 [scrapy.core.engine] DEBUG: Crawled (200) <GET https://movie.naver.com/movie/bi/mi/basic.nhn?code=155123> (referer: https://movie.naver.com/movie/running/current.nhn)\n",
      "2020-11-04 11:11:48 [scrapy.core.scraper] DEBUG: Scraped from <200 https://movie.naver.com/movie/bi/mi/basic.nhn?code=189393>\n",
      "{'count': '0명', 'star': '9.07', 'title': '교실 안의 야크'}\n",
      "2020-11-04 11:11:48 [scrapy.core.scraper] DEBUG: Scraped from <200 https://movie.naver.com/movie/bi/mi/basic.nhn?code=18763>\n",
      "{'count': '0명', 'star': '', 'title': '바스켓볼 다이어리'}\n",
      "2020-11-04 11:11:48 [scrapy.core.engine] DEBUG: Crawled (200) <GET https://movie.naver.com/movie/bi/mi/basic.nhn?code=66584> (referer: https://movie.naver.com/movie/running/current.nhn)\n",
      "2020-11-04 11:11:48 [scrapy.core.scraper] DEBUG: Scraped from <200 https://movie.naver.com/movie/bi/mi/basic.nhn?code=69689>\n",
      "{'count': '0명', 'star': '', 'title': '셔터 아일랜드'}\n",
      "2020-11-04 11:11:48 [scrapy.core.engine] DEBUG: Crawled (200) <GET https://movie.naver.com/movie/bi/mi/basic.nhn?code=186347> (referer: https://movie.naver.com/movie/running/current.nhn)\n",
      "2020-11-04 11:11:48 [scrapy.core.engine] DEBUG: Crawled (200) <GET https://movie.naver.com/movie/bi/mi/basic.nhn?code=186110> (referer: https://movie.naver.com/movie/running/current.nhn)\n",
      "2020-11-04 11:11:48 [scrapy.core.scraper] DEBUG: Scraped from <200 https://movie.naver.com/movie/bi/mi/basic.nhn?code=17875>\n",
      "{'count': '0명', 'star': '8.34', 'title': '로미오와 줄리엣'}\n",
      "2020-11-04 11:11:48 [scrapy.core.engine] DEBUG: Crawled (200) <GET https://movie.naver.com/movie/bi/mi/basic.nhn?code=124212> (referer: https://movie.naver.com/movie/running/current.nhn)\n",
      "2020-11-04 11:11:48 [scrapy.core.engine] DEBUG: Crawled (200) <GET https://movie.naver.com/movie/bi/mi/basic.nhn?code=185838> (referer: https://movie.naver.com/movie/running/current.nhn)\n",
      "2020-11-04 11:11:48 [scrapy.core.scraper] DEBUG: Scraped from <200 https://movie.naver.com/movie/bi/mi/basic.nhn?code=155123>\n",
      "{'count': '0명', 'star': '9.33', 'title': '미스 사이공: 25주년 특별 공연'}\n",
      "2020-11-04 11:11:48 [scrapy.core.scraper] DEBUG: Scraped from <200 https://movie.naver.com/movie/bi/mi/basic.nhn?code=66584>\n",
      "{'count': '0명', 'star': '', 'title': '레볼루셔너리 로드'}\n",
      "2020-11-04 11:11:48 [scrapy.core.engine] DEBUG: Crawled (200) <GET https://movie.naver.com/movie/bi/mi/basic.nhn?code=29059> (referer: https://movie.naver.com/movie/running/current.nhn)\n",
      "2020-11-04 11:11:48 [scrapy.core.engine] DEBUG: Crawled (200) <GET https://movie.naver.com/movie/bi/mi/basic.nhn?code=14448> (referer: https://movie.naver.com/movie/running/current.nhn)\n",
      "2020-11-04 11:11:48 [scrapy.core.scraper] DEBUG: Scraped from <200 https://movie.naver.com/movie/bi/mi/basic.nhn?code=186347>\n",
      "{'count': '0명', 'star': '8.73', 'title': '환상의 마로나'}\n",
      "2020-11-04 11:11:48 [scrapy.core.engine] DEBUG: Crawled (200) <GET https://movie.naver.com/movie/bi/mi/basic.nhn?code=195663> (referer: https://movie.naver.com/movie/running/current.nhn)\n",
      "2020-11-04 11:11:48 [scrapy.core.scraper] DEBUG: Scraped from <200 https://movie.naver.com/movie/bi/mi/basic.nhn?code=186110>\n",
      "{'count': '0명', 'star': '6.69', 'title': '해수의 아이'}\n",
      "2020-11-04 11:11:48 [scrapy.core.engine] DEBUG: Crawled (200) <GET https://movie.naver.com/movie/bi/mi/basic.nhn?code=85825> (referer: https://movie.naver.com/movie/running/current.nhn)\n",
      "2020-11-04 11:11:48 [scrapy.core.scraper] DEBUG: Scraped from <200 https://movie.naver.com/movie/bi/mi/basic.nhn?code=124212>\n",
      "{'count': '0명', 'star': '7.96', 'title': '레버넌트: 죽음에서 돌아온 자'}\n",
      "2020-11-04 11:11:48 [scrapy.core.engine] DEBUG: Crawled (200) <GET https://movie.naver.com/movie/bi/mi/basic.nhn?code=179181> (referer: https://movie.naver.com/movie/running/current.nhn)\n",
      "2020-11-04 11:11:48 [scrapy.core.scraper] DEBUG: Scraped from <200 https://movie.naver.com/movie/bi/mi/basic.nhn?code=185838>\n",
      "{'count': '0명', 'star': '7.99', 'title': '히트맨'}\n",
      "2020-11-04 11:11:48 [scrapy.core.scraper] DEBUG: Scraped from <200 https://movie.naver.com/movie/bi/mi/basic.nhn?code=29059>\n",
      "{'count': '0명', 'star': '9.24', 'title': '피아니스트의 전설'}\n",
      "2020-11-04 11:11:48 [scrapy.core.engine] DEBUG: Crawled (200) <GET https://movie.naver.com/movie/bi/mi/basic.nhn?code=173753> (referer: https://movie.naver.com/movie/running/current.nhn)\n",
      "2020-11-04 11:11:48 [scrapy.core.engine] DEBUG: Crawled (200) <GET https://movie.naver.com/movie/bi/mi/basic.nhn?code=195180> (referer: https://movie.naver.com/movie/running/current.nhn)\n",
      "2020-11-04 11:11:48 [scrapy.core.scraper] DEBUG: Scraped from <200 https://movie.naver.com/movie/bi/mi/basic.nhn?code=14448>\n",
      "{'count': '0명', 'star': '9.62', 'title': '패왕별희 디 오리지널'}\n",
      "2020-11-04 11:11:48 [scrapy.core.engine] DEBUG: Crawled (200) <GET https://movie.naver.com/movie/bi/mi/basic.nhn?code=187308> (referer: https://movie.naver.com/movie/running/current.nhn)\n",
      "2020-11-04 11:11:48 [scrapy.core.scraper] DEBUG: Scraped from <200 https://movie.naver.com/movie/bi/mi/basic.nhn?code=195663>\n",
      "{'count': '0명', 'star': '6.00', 'title': '트롤킹'}\n",
      "2020-11-04 11:11:48 [scrapy.core.scraper] DEBUG: Scraped from <200 https://movie.naver.com/movie/bi/mi/basic.nhn?code=85825>\n",
      "{'count': '0명', 'star': '8.91', 'title': '톰보이'}\n",
      "2020-11-04 11:11:48 [scrapy.core.engine] DEBUG: Crawled (200) <GET https://movie.naver.com/movie/bi/mi/basic.nhn?code=159794> (referer: https://movie.naver.com/movie/running/current.nhn)\n",
      "2020-11-04 11:11:48 [scrapy.core.engine] DEBUG: Crawled (200) <GET https://movie.naver.com/movie/bi/mi/basic.nhn?code=186613> (referer: https://movie.naver.com/movie/running/current.nhn)\n",
      "2020-11-04 11:11:48 [scrapy.core.scraper] DEBUG: Scraped from <200 https://movie.naver.com/movie/bi/mi/basic.nhn?code=179181>\n",
      "{'count': '0명', 'star': '8.01', 'title': '지푸라기라도 잡고 싶은 짐승들'}\n",
      "2020-11-04 11:11:48 [scrapy.core.engine] DEBUG: Crawled (200) <GET https://movie.naver.com/movie/bi/mi/basic.nhn?code=186821> (referer: https://movie.naver.com/movie/running/current.nhn)\n",
      "2020-11-04 11:11:48 [scrapy.core.engine] DEBUG: Crawled (200) <GET https://movie.naver.com/movie/bi/mi/basic.nhn?code=180851> (referer: https://movie.naver.com/movie/running/current.nhn)\n",
      "2020-11-04 11:11:48 [scrapy.core.engine] DEBUG: Crawled (200) <GET https://movie.naver.com/movie/bi/mi/basic.nhn?code=190458> (referer: https://movie.naver.com/movie/running/current.nhn)\n",
      "2020-11-04 11:11:48 [scrapy.core.scraper] DEBUG: Scraped from <200 https://movie.naver.com/movie/bi/mi/basic.nhn?code=173753>\n",
      "{'count': '0명', 'star': '8.50', 'title': '졸업'}\n",
      "2020-11-04 11:11:48 [scrapy.core.scraper] DEBUG: Scraped from <200 https://movie.naver.com/movie/bi/mi/basic.nhn?code=195180>\n",
      "{'count': '0명', 'star': '8.38', 'title': '주식회사 스페셜액터스'}\n",
      "2020-11-04 11:11:48 [scrapy.core.scraper] DEBUG: Scraped from <200 https://movie.naver.com/movie/bi/mi/basic.nhn?code=187308>\n",
      "{'count': '0명', 'star': '9.03', 'title': '조조 래빗'}\n",
      "2020-11-04 11:11:48 [scrapy.core.engine] DEBUG: Crawled (200) <GET https://movie.naver.com/movie/bi/mi/basic.nhn?code=167105> (referer: https://movie.naver.com/movie/running/current.nhn)\n",
      "2020-11-04 11:11:48 [scrapy.core.engine] DEBUG: Crawled (200) <GET https://movie.naver.com/movie/bi/mi/basic.nhn?code=195450> (referer: https://movie.naver.com/movie/running/current.nhn)\n",
      "2020-11-04 11:11:48 [scrapy.core.scraper] DEBUG: Scraped from <200 https://movie.naver.com/movie/bi/mi/basic.nhn?code=159794>\n",
      "{'count': '0명', 'star': '8.60', 'title': '작가 미상'}\n",
      "2020-11-04 11:11:48 [scrapy.core.scraper] DEBUG: Scraped from <200 https://movie.naver.com/movie/bi/mi/basic.nhn?code=186613>\n",
      "{'count': '0명', 'star': '9.13', 'title': '작은 아씨들'}\n",
      "2020-11-04 11:11:48 [scrapy.core.engine] DEBUG: Crawled (200) <GET https://movie.naver.com/movie/bi/mi/basic.nhn?code=189633> (referer: https://movie.naver.com/movie/running/current.nhn)\n",
      "2020-11-04 11:11:48 [scrapy.core.engine] DEBUG: Crawled (200) <GET https://movie.naver.com/movie/bi/mi/basic.nhn?code=176625> (referer: https://movie.naver.com/movie/running/current.nhn)\n",
      "2020-11-04 11:11:48 [scrapy.core.engine] DEBUG: Crawled (200) <GET https://movie.naver.com/movie/bi/mi/basic.nhn?code=32588> (referer: https://movie.naver.com/movie/running/current.nhn)\n",
      "2020-11-04 11:11:49 [scrapy.core.scraper] DEBUG: Scraped from <200 https://movie.naver.com/movie/bi/mi/basic.nhn?code=186821>\n",
      "{'count': '0명', 'star': '8.37', 'title': '정직한 후보'}\n"
     ]
    },
    {
     "name": "stdout",
     "output_type": "stream",
     "text": [
      "2020-11-04 11:11:49 [scrapy.core.scraper] DEBUG: Scraped from <200 https://movie.naver.com/movie/bi/mi/basic.nhn?code=180851>\n",
      "{'count': '0명', 'star': '8.83', 'title': '작은 빛'}\n",
      "2020-11-04 11:11:49 [scrapy.core.scraper] DEBUG: Scraped from <200 https://movie.naver.com/movie/bi/mi/basic.nhn?code=190458>\n",
      "{'count': '0명', 'star': '9.00', 'title': '여름날'}\n",
      "2020-11-04 11:11:49 [scrapy.core.engine] DEBUG: Crawled (200) <GET https://movie.naver.com/movie/bi/mi/basic.nhn?code=146560> (referer: https://movie.naver.com/movie/running/current.nhn)\n",
      "2020-11-04 11:11:49 [scrapy.core.engine] DEBUG: Crawled (200) <GET https://movie.naver.com/movie/bi/mi/basic.nhn?code=27219> (referer: https://movie.naver.com/movie/running/current.nhn)\n",
      "2020-11-04 11:11:49 [scrapy.core.scraper] DEBUG: Scraped from <200 https://movie.naver.com/movie/bi/mi/basic.nhn?code=167105>\n",
      "{'count': '0명', 'star': '8.58', 'title': '암수살인'}\n",
      "2020-11-04 11:11:49 [scrapy.core.engine] DEBUG: Crawled (200) <GET https://movie.naver.com/movie/bi/mi/basic.nhn?code=186615> (referer: https://movie.naver.com/movie/running/current.nhn)\n",
      "2020-11-04 11:11:49 [scrapy.core.scraper] DEBUG: Scraped from <200 https://movie.naver.com/movie/bi/mi/basic.nhn?code=195450>\n",
      "{'count': '0명', 'star': '9.16', 'title': '아웃포스트'}\n",
      "2020-11-04 11:11:49 [scrapy.core.scraper] DEBUG: Scraped from <200 https://movie.naver.com/movie/bi/mi/basic.nhn?code=189633>\n",
      "{'count': '0명', 'star': '9.14', 'title': '야구소녀'}\n",
      "2020-11-04 11:11:49 [scrapy.core.scraper] DEBUG: Scraped from <200 https://movie.naver.com/movie/bi/mi/basic.nhn?code=176625>\n",
      "{'count': '0명', 'star': '7.88', 'title': '밤의 문이 열린다'}\n",
      "2020-11-04 11:11:49 [scrapy.core.scraper] DEBUG: Scraped from <200 https://movie.naver.com/movie/bi/mi/basic.nhn?code=32588>\n",
      "{'count': '0명', 'star': '8.33', 'title': '아멜리에'}\n",
      "2020-11-04 11:11:49 [scrapy.core.engine] DEBUG: Crawled (200) <GET https://movie.naver.com/movie/bi/mi/basic.nhn?code=185139> (referer: https://movie.naver.com/movie/running/current.nhn)\n",
      "2020-11-04 11:11:49 [scrapy.core.engine] DEBUG: Crawled (200) <GET https://movie.naver.com/movie/bi/mi/basic.nhn?code=152691> (referer: https://movie.naver.com/movie/running/current.nhn)\n",
      "2020-11-04 11:11:49 [scrapy.core.scraper] DEBUG: Scraped from <200 https://movie.naver.com/movie/bi/mi/basic.nhn?code=146560>\n",
      "{'count': '0명', 'star': '9.00', 'title': '싱 스트리트'}\n",
      "2020-11-04 11:11:49 [scrapy.core.scraper] DEBUG: Scraped from <200 https://movie.naver.com/movie/bi/mi/basic.nhn?code=27219>\n",
      "{'count': '0명', 'star': '9.44', 'title': '박하사탕'}\n",
      "2020-11-04 11:11:49 [scrapy.core.engine] DEBUG: Crawled (200) <GET https://movie.naver.com/movie/bi/mi/basic.nhn?code=150198> (referer: https://movie.naver.com/movie/running/current.nhn)\n",
      "2020-11-04 11:11:49 [scrapy.core.engine] DEBUG: Crawled (200) <GET https://movie.naver.com/movie/bi/mi/basic.nhn?code=175481> (referer: https://movie.naver.com/movie/running/current.nhn)\n",
      "2020-11-04 11:11:49 [scrapy.core.scraper] DEBUG: Scraped from <200 https://movie.naver.com/movie/bi/mi/basic.nhn?code=186615>\n",
      "{'count': '0명', 'star': '8.67', 'title': '미드웨이'}\n",
      "2020-11-04 11:11:49 [scrapy.core.engine] DEBUG: Crawled (200) <GET https://movie.naver.com/movie/bi/mi/basic.nhn?code=181114> (referer: https://movie.naver.com/movie/running/current.nhn)\n",
      "2020-11-04 11:11:49 [scrapy.core.engine] DEBUG: Crawled (200) <GET https://movie.naver.com/movie/bi/mi/basic.nhn?code=193330> (referer: https://movie.naver.com/movie/running/current.nhn)\n",
      "2020-11-04 11:11:49 [scrapy.core.scraper] DEBUG: Scraped from <200 https://movie.naver.com/movie/bi/mi/basic.nhn?code=185139>\n",
      "{'count': '0명', 'star': '10.0', 'title': '동아시아반일무장전선'}\n",
      "2020-11-04 11:11:49 [scrapy.core.scraper] DEBUG: Scraped from <200 https://movie.naver.com/movie/bi/mi/basic.nhn?code=152691>\n",
      "{'count': '0명', 'star': '5.81', 'title': '레이니 데이 인 뉴욕'}\n",
      "2020-11-04 11:11:49 [scrapy.core.engine] DEBUG: Crawled (200) <GET https://movie.naver.com/movie/bi/mi/basic.nhn?code=194644> (referer: https://movie.naver.com/movie/running/current.nhn)\n",
      "2020-11-04 11:11:49 [scrapy.core.scraper] DEBUG: Scraped from <200 https://movie.naver.com/movie/bi/mi/basic.nhn?code=150198>\n",
      "{'count': '0명', 'star': '9.02', 'title': '너의 이름은.'}\n",
      "2020-11-04 11:11:49 [scrapy.core.engine] DEBUG: Crawled (200) <GET https://movie.naver.com/movie/bi/mi/basic.nhn?code=175366> (referer: https://movie.naver.com/movie/running/current.nhn)\n",
      "2020-11-04 11:11:49 [scrapy.core.engine] DEBUG: Crawled (200) <GET https://movie.naver.com/movie/bi/mi/basic.nhn?code=183783> (referer: https://movie.naver.com/movie/running/current.nhn)\n",
      "2020-11-04 11:11:49 [scrapy.core.scraper] DEBUG: Scraped from <200 https://movie.naver.com/movie/bi/mi/basic.nhn?code=175481>\n",
      "{'count': '0명', 'star': '8.00', 'title': '너의 새는 노래할 수 있어'}\n",
      "2020-11-04 11:11:49 [scrapy.core.scraper] DEBUG: Scraped from <200 https://movie.naver.com/movie/bi/mi/basic.nhn?code=181114>\n",
      "{'count': '0명', 'star': '8.38', 'title': '날씨의 아이'}\n",
      "2020-11-04 11:11:49 [scrapy.core.engine] DEBUG: Crawled (200) <GET https://movie.naver.com/movie/bi/mi/basic.nhn?code=10922> (referer: https://movie.naver.com/movie/running/current.nhn)\n",
      "2020-11-04 11:11:49 [scrapy.core.scraper] DEBUG: Scraped from <200 https://movie.naver.com/movie/bi/mi/basic.nhn?code=193330>\n",
      "{'count': '0명', 'star': '9.20', 'title': '나를 구하지 마세요'}\n",
      "2020-11-04 11:11:49 [scrapy.core.scraper] DEBUG: Scraped from <200 https://movie.naver.com/movie/bi/mi/basic.nhn?code=194644>\n",
      "{'count': '0명', 'star': '7.92', 'title': '기기괴괴 성형수'}\n",
      "2020-11-04 11:11:49 [scrapy.core.engine] DEBUG: Crawled (200) <GET https://movie.naver.com/movie/bi/mi/basic.nhn?code=182353> (referer: https://movie.naver.com/movie/running/current.nhn)\n",
      "2020-11-04 11:11:49 [scrapy.core.engine] DEBUG: Crawled (200) <GET https://movie.naver.com/movie/bi/mi/basic.nhn?code=143388> (referer: https://movie.naver.com/movie/running/current.nhn)\n",
      "2020-11-04 11:11:49 [scrapy.core.scraper] DEBUG: Scraped from <200 https://movie.naver.com/movie/bi/mi/basic.nhn?code=175366>\n",
      "{'count': '0명', 'star': '9.14', 'title': '나의 특별한 형제'}\n",
      "2020-11-04 11:11:49 [scrapy.core.engine] DEBUG: Crawled (200) <GET https://movie.naver.com/movie/bi/mi/basic.nhn?code=15006> (referer: https://movie.naver.com/movie/running/current.nhn)\n",
      "2020-11-04 11:11:49 [scrapy.core.engine] DEBUG: Crawled (200) <GET https://movie.naver.com/movie/bi/mi/basic.nhn?code=10676> (referer: https://movie.naver.com/movie/running/current.nhn)\n",
      "2020-11-04 11:11:49 [scrapy.core.scraper] DEBUG: Scraped from <200 https://movie.naver.com/movie/bi/mi/basic.nhn?code=183783>\n",
      "{'count': '0명', 'star': '5.71', 'title': '극장판 엉덩이 탐정: 화려한 사건 수첩'}\n",
      "2020-11-04 11:11:49 [scrapy.core.engine] DEBUG: Crawled (200) <GET https://movie.naver.com/movie/bi/mi/basic.nhn?code=185285> (referer: https://movie.naver.com/movie/running/current.nhn)\n",
      "2020-11-04 11:11:49 [scrapy.core.scraper] DEBUG: Scraped from <200 https://movie.naver.com/movie/bi/mi/basic.nhn?code=10922>\n",
      "{'count': '0명', 'star': '9.23', 'title': '고령가 소년 살인사건'}\n",
      "2020-11-04 11:11:49 [scrapy.core.engine] DEBUG: Crawled (200) <GET https://movie.naver.com/movie/bi/mi/basic.nhn?code=188162> (referer: https://movie.naver.com/movie/running/current.nhn)\n",
      "2020-11-04 11:11:49 [scrapy.core.scraper] DEBUG: Scraped from <200 https://movie.naver.com/movie/bi/mi/basic.nhn?code=182353>\n",
      "{'count': '0명', 'star': '8.06', 'title': '후쿠오카'}\n",
      "2020-11-04 11:11:49 [scrapy.core.engine] DEBUG: Crawled (200) <GET https://movie.naver.com/movie/bi/mi/basic.nhn?code=96379> (referer: https://movie.naver.com/movie/running/current.nhn)\n",
      "2020-11-04 11:11:49 [scrapy.core.scraper] DEBUG: Scraped from <200 https://movie.naver.com/movie/bi/mi/basic.nhn?code=143388>\n",
      "{'count': '0명', 'star': '8.38', 'title': '갈매기'}\n",
      "2020-11-04 11:11:49 [scrapy.core.scraper] DEBUG: Scraped from <200 https://movie.naver.com/movie/bi/mi/basic.nhn?code=15006>\n",
      "{'count': '0명', 'star': '8.59', 'title': '하나 그리고 둘'}\n",
      "2020-11-04 11:11:49 [scrapy.core.scraper] DEBUG: Scraped from <200 https://movie.naver.com/movie/bi/mi/basic.nhn?code=10676>\n",
      "{'count': '0명', 'star': '8.38', 'title': '타이페이 스토리'}\n",
      "2020-11-04 11:11:49 [scrapy.core.engine] DEBUG: Crawled (200) <GET https://movie.naver.com/movie/bi/mi/basic.nhn?code=66320> (referer: https://movie.naver.com/movie/running/current.nhn)\n",
      "2020-11-04 11:11:49 [scrapy.core.engine] DEBUG: Crawled (200) <GET https://movie.naver.com/movie/bi/mi/basic.nhn?code=154668> (referer: https://movie.naver.com/movie/running/current.nhn)\n",
      "2020-11-04 11:11:49 [scrapy.core.scraper] DEBUG: Scraped from <200 https://movie.naver.com/movie/bi/mi/basic.nhn?code=185285>\n",
      "{'count': '0명', 'star': '8.81', 'title': '카페 벨에포크'}\n",
      "2020-11-04 11:11:49 [scrapy.core.scraper] DEBUG: Scraped from <200 https://movie.naver.com/movie/bi/mi/basic.nhn?code=188162>\n",
      "{'count': '0명', 'star': '', 'title': '백년의 기억'}\n"
     ]
    },
    {
     "name": "stdout",
     "output_type": "stream",
     "text": [
      "2020-11-04 11:11:49 [scrapy.core.engine] DEBUG: Crawled (200) <GET https://movie.naver.com/movie/bi/mi/basic.nhn?code=189000> (referer: https://movie.naver.com/movie/running/current.nhn)\n",
      "2020-11-04 11:11:49 [scrapy.core.engine] DEBUG: Crawled (200) <GET https://movie.naver.com/movie/bi/mi/basic.nhn?code=98738> (referer: https://movie.naver.com/movie/running/current.nhn)\n",
      "2020-11-04 11:11:49 [scrapy.core.engine] DEBUG: Crawled (200) <GET https://movie.naver.com/movie/bi/mi/basic.nhn?code=178687> (referer: https://movie.naver.com/movie/running/current.nhn)\n",
      "2020-11-04 11:11:49 [scrapy.core.engine] DEBUG: Crawled (200) <GET https://movie.naver.com/movie/bi/mi/basic.nhn?code=167421> (referer: https://movie.naver.com/movie/running/current.nhn)\n",
      "2020-11-04 11:11:49 [scrapy.core.scraper] DEBUG: Scraped from <200 https://movie.naver.com/movie/bi/mi/basic.nhn?code=96379>\n",
      "{'count': '0명', 'star': '9.13', 'title': '비긴 어게인'}\n",
      "2020-11-04 11:11:49 [scrapy.core.scraper] DEBUG: Scraped from <200 https://movie.naver.com/movie/bi/mi/basic.nhn?code=66320>\n",
      "{'count': '0명', 'star': '9.67', 'title': '낙엽귀근'}\n",
      "2020-11-04 11:11:49 [scrapy.core.engine] DEBUG: Crawled (200) <GET https://movie.naver.com/movie/bi/mi/basic.nhn?code=31130> (referer: https://movie.naver.com/movie/running/current.nhn)\n",
      "2020-11-04 11:11:49 [scrapy.core.engine] DEBUG: Crawled (200) <GET https://movie.naver.com/movie/bi/mi/basic.nhn?code=31574> (referer: https://movie.naver.com/movie/running/current.nhn)\n",
      "2020-11-04 11:11:49 [scrapy.core.scraper] DEBUG: Scraped from <200 https://movie.naver.com/movie/bi/mi/basic.nhn?code=154668>\n",
      "{'count': '0명', 'star': '7.67', 'title': '그것'}\n",
      "2020-11-04 11:11:49 [scrapy.core.scraper] DEBUG: Scraped from <200 https://movie.naver.com/movie/bi/mi/basic.nhn?code=189000>\n",
      "{'count': '0명', 'star': '8.92', 'title': '나이브스 아웃'}\n",
      "2020-11-04 11:11:49 [scrapy.core.engine] DEBUG: Crawled (200) <GET https://movie.naver.com/movie/bi/mi/basic.nhn?code=167491> (referer: https://movie.naver.com/movie/running/current.nhn)\n",
      "2020-11-04 11:11:49 [scrapy.core.engine] DEBUG: Crawled (200) <GET https://movie.naver.com/movie/bi/mi/basic.nhn?code=189373> (referer: https://movie.naver.com/movie/running/current.nhn)\n",
      "2020-11-04 11:11:49 [scrapy.core.scraper] DEBUG: Scraped from <200 https://movie.naver.com/movie/bi/mi/basic.nhn?code=98738>\n",
      "{'count': '0명', 'star': '8.24', 'title': '프란시스 하'}\n",
      "2020-11-04 11:11:49 [scrapy.core.scraper] DEBUG: Scraped from <200 https://movie.naver.com/movie/bi/mi/basic.nhn?code=178687>\n",
      "{'count': '0명', 'star': '9.44', 'title': '카일라스 가는 길'}\n",
      "2020-11-04 11:11:49 [scrapy.core.scraper] DEBUG: Scraped from <200 https://movie.naver.com/movie/bi/mi/basic.nhn?code=167421>\n",
      "{'count': '0명', 'star': '9.20', 'title': '돌멩이'}\n",
      "2020-11-04 11:11:49 [scrapy.core.engine] DEBUG: Crawled (200) <GET https://movie.naver.com/movie/bi/mi/basic.nhn?code=182832> (referer: https://movie.naver.com/movie/running/current.nhn)\n",
      "2020-11-04 11:11:49 [scrapy.core.engine] DEBUG: Crawled (200) <GET https://movie.naver.com/movie/bi/mi/basic.nhn?code=180264> (referer: https://movie.naver.com/movie/running/current.nhn)\n",
      "2020-11-04 11:11:49 [scrapy.core.engine] DEBUG: Crawled (200) <GET https://movie.naver.com/movie/bi/mi/basic.nhn?code=195670> (referer: https://movie.naver.com/movie/running/current.nhn)\n",
      "2020-11-04 11:11:49 [scrapy.core.scraper] DEBUG: Scraped from <200 https://movie.naver.com/movie/bi/mi/basic.nhn?code=31130>\n",
      "{'count': '0명', 'star': '8.85', 'title': '공포분자'}\n",
      "2020-11-04 11:11:49 [scrapy.core.scraper] DEBUG: Scraped from <200 https://movie.naver.com/movie/bi/mi/basic.nhn?code=31574>\n",
      "{'count': '0명', 'star': '', 'title': '원더풀 데이즈'}\n",
      "2020-11-04 11:11:49 [scrapy.core.engine] DEBUG: Crawled (200) <GET https://movie.naver.com/movie/bi/mi/basic.nhn?code=177039> (referer: https://movie.naver.com/movie/running/current.nhn)\n",
      "2020-11-04 11:11:50 [scrapy.core.engine] DEBUG: Crawled (200) <GET https://movie.naver.com/movie/bi/mi/basic.nhn?code=195690> (referer: https://movie.naver.com/movie/running/current.nhn)\n",
      "2020-11-04 11:11:50 [scrapy.core.scraper] DEBUG: Scraped from <200 https://movie.naver.com/movie/bi/mi/basic.nhn?code=167491>\n",
      "{'count': '0명', 'star': '8.13', 'title': '뮬란'}\n",
      "2020-11-04 11:11:50 [scrapy.core.scraper] DEBUG: Scraped from <200 https://movie.naver.com/movie/bi/mi/basic.nhn?code=189373>\n",
      "{'count': '0명', 'star': '9.30', 'title': '69세'}\n",
      "2020-11-04 11:11:50 [scrapy.core.scraper] DEBUG: Scraped from <200 https://movie.naver.com/movie/bi/mi/basic.nhn?code=182832>\n",
      "{'count': '0명', 'star': '4.00', 'title': '에브리타임 아이 다이'}\n",
      "2020-11-04 11:11:50 [scrapy.core.scraper] DEBUG: Scraped from <200 https://movie.naver.com/movie/bi/mi/basic.nhn?code=180264>\n",
      "{'count': '0명', 'star': '8.85', 'title': '보테로'}\n",
      "2020-11-04 11:11:50 [scrapy.core.engine] DEBUG: Crawled (200) <GET https://movie.naver.com/movie/bi/mi/basic.nhn?code=185275> (referer: https://movie.naver.com/movie/running/current.nhn)\n",
      "2020-11-04 11:11:50 [scrapy.core.engine] DEBUG: Crawled (200) <GET https://movie.naver.com/movie/bi/mi/basic.nhn?code=195983> (referer: https://movie.naver.com/movie/running/current.nhn)\n",
      "2020-11-04 11:11:50 [scrapy.core.scraper] DEBUG: Scraped from <200 https://movie.naver.com/movie/bi/mi/basic.nhn?code=195670>\n",
      "{'count': '0명', 'star': '10.0', 'title': '황무지 5월의 고해'}\n",
      "2020-11-04 11:11:50 [scrapy.core.engine] DEBUG: Crawled (200) <GET https://movie.naver.com/movie/bi/mi/basic.nhn?code=182013> (referer: https://movie.naver.com/movie/running/current.nhn)\n",
      "2020-11-04 11:11:50 [scrapy.core.scraper] DEBUG: Scraped from <200 https://movie.naver.com/movie/bi/mi/basic.nhn?code=177039>\n",
      "{'count': '0명', 'star': '8.24', 'title': '디바'}\n",
      "2020-11-04 11:11:50 [scrapy.core.engine] DEBUG: Crawled (200) <GET https://movie.naver.com/movie/bi/mi/basic.nhn?code=188992> (referer: https://movie.naver.com/movie/running/current.nhn)\n",
      "2020-11-04 11:11:50 [scrapy.core.engine] DEBUG: Crawled (200) <GET https://movie.naver.com/movie/bi/mi/basic.nhn?code=189138> (referer: https://movie.naver.com/movie/running/current.nhn)\n",
      "2020-11-04 11:11:50 [scrapy.core.scraper] DEBUG: Scraped from <200 https://movie.naver.com/movie/bi/mi/basic.nhn?code=195690>\n",
      "{'count': '0명', 'star': '9.11', 'title': '다시 만난 날들'}\n",
      "2020-11-04 11:11:50 [scrapy.core.engine] DEBUG: Crawled (200) <GET https://movie.naver.com/movie/bi/mi/basic.nhn?code=168050> (referer: https://movie.naver.com/movie/running/current.nhn)\n",
      "2020-11-04 11:11:50 [scrapy.core.engine] DEBUG: Crawled (200) <GET https://movie.naver.com/movie/bi/mi/basic.nhn?code=195430> (referer: https://movie.naver.com/movie/running/current.nhn)\n",
      "2020-11-04 11:11:50 [scrapy.core.scraper] DEBUG: Scraped from <200 https://movie.naver.com/movie/bi/mi/basic.nhn?code=185275>\n",
      "{'count': '0명', 'star': '9.23', 'title': '미안해요, 리키'}\n",
      "2020-11-04 11:11:50 [scrapy.core.scraper] DEBUG: Scraped from <200 https://movie.naver.com/movie/bi/mi/basic.nhn?code=195983>\n",
      "{'count': '0명', 'star': '8.17', 'title': '그린랜드'}\n",
      "2020-11-04 11:11:50 [scrapy.core.engine] DEBUG: Crawled (200) <GET https://movie.naver.com/movie/bi/mi/basic.nhn?code=192624> (referer: https://movie.naver.com/movie/running/current.nhn)\n",
      "2020-11-04 11:11:50 [scrapy.core.scraper] DEBUG: Scraped from <200 https://movie.naver.com/movie/bi/mi/basic.nhn?code=182013>\n",
      "{'count': '0명', 'star': '7.47', 'title': '21 브릿지: 테러 셧다운'}\n",
      "2020-11-04 11:11:50 [scrapy.core.scraper] DEBUG: Scraped from <200 https://movie.naver.com/movie/bi/mi/basic.nhn?code=188992>\n",
      "{'count': '0명', 'star': '9.00', 'title': '그리드'}\n",
      "2020-11-04 11:11:50 [scrapy.core.scraper] DEBUG: Scraped from <200 https://movie.naver.com/movie/bi/mi/basic.nhn?code=189138>\n",
      "{'count': '0명', 'star': '', 'title': '꿀벌과 천둥'}\n",
      "2020-11-04 11:11:50 [scrapy.core.scraper] DEBUG: Scraped from <200 https://movie.naver.com/movie/bi/mi/basic.nhn?code=168050>\n",
      "{'count': '0명', 'star': '9.15', 'title': '스타 이즈 본'}\n",
      "2020-11-04 11:11:50 [scrapy.core.engine] DEBUG: Crawled (200) <GET https://movie.naver.com/movie/bi/mi/basic.nhn?code=133459> (referer: https://movie.naver.com/movie/running/current.nhn)\n",
      "2020-11-04 11:11:50 [scrapy.core.scraper] DEBUG: Scraped from <200 https://movie.naver.com/movie/bi/mi/basic.nhn?code=195430>\n",
      "{'count': '0명', 'star': '7.63', 'title': '언힌지드'}\n",
      "2020-11-04 11:11:50 [scrapy.core.engine] DEBUG: Crawled (200) <GET https://movie.naver.com/movie/bi/mi/basic.nhn?code=181710> (referer: https://movie.naver.com/movie/running/current.nhn)\n",
      "2020-11-04 11:11:50 [scrapy.core.engine] DEBUG: Crawled (200) <GET https://movie.naver.com/movie/bi/mi/basic.nhn?code=177335> (referer: https://movie.naver.com/movie/running/current.nhn)\n",
      "2020-11-04 11:11:50 [scrapy.core.scraper] DEBUG: Scraped from <200 https://movie.naver.com/movie/bi/mi/basic.nhn?code=192624>\n",
      "{'count': '0명', 'star': '8.25', 'title': '트라이얼 오브 더 시카고 7'}\n"
     ]
    },
    {
     "name": "stdout",
     "output_type": "stream",
     "text": [
      "2020-11-04 11:11:50 [scrapy.core.engine] DEBUG: Crawled (200) <GET https://movie.naver.com/movie/bi/mi/basic.nhn?code=181286> (referer: https://movie.naver.com/movie/running/current.nhn)\n",
      "2020-11-04 11:11:50 [scrapy.core.engine] DEBUG: Crawled (200) <GET https://movie.naver.com/movie/bi/mi/basic.nhn?code=168012> (referer: https://movie.naver.com/movie/running/current.nhn)\n",
      "2020-11-04 11:11:50 [scrapy.core.engine] DEBUG: Crawled (200) <GET https://movie.naver.com/movie/bi/mi/basic.nhn?code=192191> (referer: https://movie.naver.com/movie/running/current.nhn)\n",
      "2020-11-04 11:11:50 [scrapy.core.scraper] DEBUG: Scraped from <200 https://movie.naver.com/movie/bi/mi/basic.nhn?code=133459>\n",
      "{'count': '0명', 'star': '8.25', 'title': '호크니'}\n",
      "2020-11-04 11:11:50 [scrapy.core.engine] DEBUG: Crawled (200) <GET https://movie.naver.com/movie/bi/mi/basic.nhn?code=185282> (referer: https://movie.naver.com/movie/running/current.nhn)\n",
      "2020-11-04 11:11:50 [scrapy.core.engine] DEBUG: Crawled (200) <GET https://movie.naver.com/movie/bi/mi/basic.nhn?code=165287> (referer: https://movie.naver.com/movie/running/current.nhn)\n",
      "2020-11-04 11:11:50 [scrapy.core.scraper] DEBUG: Scraped from <200 https://movie.naver.com/movie/bi/mi/basic.nhn?code=181710>\n",
      "{'count': '0명', 'star': '9.31', 'title': '포드 V 페라리'}\n",
      "2020-11-04 11:11:50 [scrapy.core.scraper] DEBUG: Scraped from <200 https://movie.naver.com/movie/bi/mi/basic.nhn?code=177335>\n",
      "{'count': '0명', 'star': '9.16', 'title': '타샤 튜더'}\n",
      "2020-11-04 11:11:50 [scrapy.core.scraper] DEBUG: Scraped from <200 https://movie.naver.com/movie/bi/mi/basic.nhn?code=181286>\n",
      "{'count': '0명', 'star': '9.13', 'title': '바이올렛 에버가든 - 영원과 자동 수기 인형 -'}\n",
      "2020-11-04 11:11:50 [scrapy.core.engine] DEBUG: Crawled (200) <GET https://movie.naver.com/movie/bi/mi/basic.nhn?code=174829> (referer: https://movie.naver.com/movie/running/current.nhn)\n",
      "2020-11-04 11:11:50 [scrapy.core.scraper] DEBUG: Scraped from <200 https://movie.naver.com/movie/bi/mi/basic.nhn?code=168012>\n",
      "{'count': '0명', 'star': '8.92', 'title': '어디갔어, 버나뎃'}\n",
      "2020-11-04 11:11:50 [scrapy.core.scraper] DEBUG: Scraped from <200 https://movie.naver.com/movie/bi/mi/basic.nhn?code=192191>\n",
      "{'count': '0명', 'star': '8.16', 'title': '도망친 여자'}\n",
      "2020-11-04 11:11:50 [scrapy.core.engine] DEBUG: Crawled (200) <GET https://movie.naver.com/movie/bi/mi/basic.nhn?code=189623> (referer: https://movie.naver.com/movie/running/current.nhn)\n",
      "2020-11-04 11:11:50 [scrapy.core.scraper] DEBUG: Scraped from <200 https://movie.naver.com/movie/bi/mi/basic.nhn?code=185282>\n",
      "{'count': '0명', 'star': '9.15', 'title': '타오르는 여인의 초상'}\n",
      "2020-11-04 11:11:50 [scrapy.core.scraper] DEBUG: Scraped from <200 https://movie.naver.com/movie/bi/mi/basic.nhn?code=165287>\n",
      "{'count': '0명', 'star': '8.69', 'title': '검객'}\n",
      "2020-11-04 11:11:50 [scrapy.core.engine] DEBUG: Crawled (200) <GET https://movie.naver.com/movie/bi/mi/basic.nhn?code=189625> (referer: https://movie.naver.com/movie/running/current.nhn)\n",
      "2020-11-04 11:11:50 [scrapy.core.engine] DEBUG: Crawled (200) <GET https://movie.naver.com/movie/bi/mi/basic.nhn?code=36944> (referer: https://movie.naver.com/movie/running/current.nhn)\n",
      "2020-11-04 11:11:50 [scrapy.core.scraper] DEBUG: Scraped from <200 https://movie.naver.com/movie/bi/mi/basic.nhn?code=174829>\n",
      "{'count': '0명', 'star': '10.0', 'title': '태양의 소녀들'}\n",
      "2020-11-04 11:11:50 [scrapy.core.engine] DEBUG: Crawled (200) <GET https://movie.naver.com/movie/bi/mi/basic.nhn?code=134963> (referer: https://movie.naver.com/movie/running/current.nhn)\n",
      "2020-11-04 11:11:50 [scrapy.core.engine] DEBUG: Crawled (200) <GET https://movie.naver.com/movie/bi/mi/basic.nhn?code=32667> (referer: https://movie.naver.com/movie/running/current.nhn)\n",
      "2020-11-04 11:11:50 [scrapy.core.scraper] DEBUG: Scraped from <200 https://movie.naver.com/movie/bi/mi/basic.nhn?code=189623>\n",
      "{'count': '0명', 'star': '9.01', 'title': '남매의 여름밤'}\n",
      "2020-11-04 11:11:50 [scrapy.core.engine] DEBUG: Crawled (200) <GET https://movie.naver.com/movie/bi/mi/basic.nhn?code=187321> (referer: https://movie.naver.com/movie/running/current.nhn)\n",
      "2020-11-04 11:11:50 [scrapy.core.engine] DEBUG: Crawled (200) <GET https://movie.naver.com/movie/bi/mi/basic.nhn?code=196859> (referer: https://movie.naver.com/movie/running/current.nhn)\n",
      "2020-11-04 11:11:50 [scrapy.core.scraper] DEBUG: Scraped from <200 https://movie.naver.com/movie/bi/mi/basic.nhn?code=189625>\n",
      "{'count': '0명', 'star': '9.67', 'title': '종이꽃'}\n",
      "2020-11-04 11:11:50 [scrapy.core.engine] DEBUG: Crawled (200) <GET https://movie.naver.com/movie/bi/mi/basic.nhn?code=192883> (referer: https://movie.naver.com/movie/running/current.nhn)\n",
      "2020-11-04 11:11:50 [scrapy.core.engine] DEBUG: Crawled (200) <GET https://movie.naver.com/movie/bi/mi/basic.nhn?code=10293> (referer: https://movie.naver.com/movie/running/current.nhn)\n",
      "2020-11-04 11:11:50 [scrapy.core.scraper] DEBUG: Scraped from <200 https://movie.naver.com/movie/bi/mi/basic.nhn?code=36944>\n",
      "{'count': '0명', 'star': '10.0', 'title': '올드보이'}\n",
      "2020-11-04 11:11:50 [scrapy.core.scraper] DEBUG: Scraped from <200 https://movie.naver.com/movie/bi/mi/basic.nhn?code=134963>\n",
      "{'count': '0명', 'star': '8.91', 'title': '라라랜드'}\n",
      "2020-11-04 11:11:50 [scrapy.core.scraper] DEBUG: Scraped from <200 https://movie.naver.com/movie/bi/mi/basic.nhn?code=32667>\n",
      "{'count': '0명', 'star': '', 'title': '복수는 나의 것'}\n",
      "2020-11-04 11:11:50 [scrapy.core.scraper] DEBUG: Scraped from <200 https://movie.naver.com/movie/bi/mi/basic.nhn?code=187321>\n",
      "{'count': '0명', 'star': '9.04', 'title': '1917'}\n",
      "2020-11-04 11:11:50 [scrapy.core.scraper] DEBUG: Scraped from <200 https://movie.naver.com/movie/bi/mi/basic.nhn?code=196859>\n",
      "{'count': '0명', 'star': '8.85', 'title': '극장판 엉덩이 탐정: 텐텐마을의 수수께끼'}\n",
      "2020-11-04 11:11:50 [scrapy.core.engine] DEBUG: Crawled (200) <GET https://movie.naver.com/movie/bi/mi/basic.nhn?code=188795> (referer: https://movie.naver.com/movie/running/current.nhn)\n",
      "2020-11-04 11:11:50 [scrapy.core.scraper] DEBUG: Scraped from <200 https://movie.naver.com/movie/bi/mi/basic.nhn?code=192883>\n",
      "{'count': '0명', 'star': '9.07', 'title': '마르지엘라'}\n",
      "2020-11-04 11:11:50 [scrapy.core.engine] DEBUG: Crawled (200) <GET https://movie.naver.com/movie/bi/mi/basic.nhn?code=15899> (referer: https://movie.naver.com/movie/running/current.nhn)\n",
      "2020-11-04 11:11:50 [scrapy.core.scraper] DEBUG: Scraped from <200 https://movie.naver.com/movie/bi/mi/basic.nhn?code=10293>\n",
      "{'count': '0명', 'star': '8.58', 'title': '불의 전차'}\n",
      "2020-11-04 11:11:50 [scrapy.core.engine] DEBUG: Crawled (200) <GET https://movie.naver.com/movie/bi/mi/basic.nhn?code=38766> (referer: https://movie.naver.com/movie/running/current.nhn)\n",
      "2020-11-04 11:11:50 [scrapy.core.engine] DEBUG: Crawled (200) <GET https://movie.naver.com/movie/bi/mi/basic.nhn?code=187305> (referer: https://movie.naver.com/movie/running/current.nhn)\n",
      "2020-11-04 11:11:50 [scrapy.core.engine] DEBUG: Crawled (200) <GET https://movie.naver.com/movie/bi/mi/basic.nhn?code=185287> (referer: https://movie.naver.com/movie/running/current.nhn)\n",
      "2020-11-04 11:11:50 [scrapy.core.engine] DEBUG: Crawled (200) <GET https://movie.naver.com/movie/bi/mi/basic.nhn?code=186114> (referer: https://movie.naver.com/movie/running/current.nhn)\n",
      "2020-11-04 11:11:50 [scrapy.core.engine] DEBUG: Crawled (200) <GET https://movie.naver.com/movie/bi/mi/basic.nhn?code=142265> (referer: https://movie.naver.com/movie/running/current.nhn)\n",
      "2020-11-04 11:11:50 [scrapy.core.scraper] DEBUG: Scraped from <200 https://movie.naver.com/movie/bi/mi/basic.nhn?code=188795>\n",
      "{'count': '0명', 'star': '9.50', 'title': '프록시마 프로젝트'}\n",
      "2020-11-04 11:11:50 [scrapy.core.engine] DEBUG: Crawled (200) <GET https://movie.naver.com/movie/bi/mi/basic.nhn?code=16411> (referer: https://movie.naver.com/movie/running/current.nhn)\n",
      "2020-11-04 11:11:51 [scrapy.core.scraper] DEBUG: Scraped from <200 https://movie.naver.com/movie/bi/mi/basic.nhn?code=15899>\n",
      "{'count': '0명', 'star': '9.80', 'title': '공동경비구역 JSA'}\n",
      "2020-11-04 11:11:51 [scrapy.core.scraper] DEBUG: Scraped from <200 https://movie.naver.com/movie/bi/mi/basic.nhn?code=38766>\n",
      "{'count': '0명', 'star': '', 'title': '친절한 금자씨'}\n",
      "2020-11-04 11:11:51 [scrapy.core.engine] DEBUG: Crawled (200) <GET https://movie.naver.com/movie/bi/mi/basic.nhn?code=188047> (referer: https://movie.naver.com/movie/running/current.nhn)\n",
      "2020-11-04 11:11:51 [scrapy.core.scraper] DEBUG: Scraped from <200 https://movie.naver.com/movie/bi/mi/basic.nhn?code=187305>\n",
      "{'count': '0명', 'star': '8.52', 'title': '극장판 포켓몬스터 뮤츠의 역습 EVOLUTION'}\n"
     ]
    },
    {
     "name": "stdout",
     "output_type": "stream",
     "text": [
      "2020-11-04 11:11:51 [scrapy.core.scraper] DEBUG: Scraped from <200 https://movie.naver.com/movie/bi/mi/basic.nhn?code=185287>\n",
      "{'count': '0명', 'star': '9.57', 'title': '남과 여: 여전히 찬란한'}\n",
      "2020-11-04 11:11:51 [scrapy.core.engine] DEBUG: Crawled (200) <GET https://movie.naver.com/movie/bi/mi/basic.nhn?code=198425> (referer: https://movie.naver.com/movie/running/current.nhn)\n",
      "2020-11-04 11:11:51 [scrapy.core.engine] DEBUG: Crawled (200) <GET https://movie.naver.com/movie/bi/mi/basic.nhn?code=194334> (referer: https://movie.naver.com/movie/running/current.nhn)\n",
      "2020-11-04 11:11:51 [scrapy.core.scraper] DEBUG: Scraped from <200 https://movie.naver.com/movie/bi/mi/basic.nhn?code=186114>\n",
      "{'count': '0명', 'star': '9.83', 'title': '밥정'}\n",
      "2020-11-04 11:11:51 [scrapy.core.scraper] DEBUG: Scraped from <200 https://movie.naver.com/movie/bi/mi/basic.nhn?code=142265>\n",
      "{'count': '0명', 'star': '9.60', 'title': '알피니스트 - 어느 카메라맨의 고백'}\n",
      "2020-11-04 11:11:51 [scrapy.core.engine] DEBUG: Crawled (200) <GET https://movie.naver.com/movie/bi/mi/basic.nhn?code=105289> (referer: https://movie.naver.com/movie/running/current.nhn)\n",
      "2020-11-04 11:11:51 [scrapy.core.scraper] DEBUG: Scraped from <200 https://movie.naver.com/movie/bi/mi/basic.nhn?code=16411>\n",
      "{'count': '0명', 'star': '8.65', 'title': '녹색 광선'}\n",
      "2020-11-04 11:11:51 [scrapy.core.engine] DEBUG: Crawled (200) <GET https://movie.naver.com/movie/bi/mi/basic.nhn?code=78726> (referer: https://movie.naver.com/movie/running/current.nhn)\n",
      "2020-11-04 11:11:51 [scrapy.core.scraper] DEBUG: Scraped from <200 https://movie.naver.com/movie/bi/mi/basic.nhn?code=188047>\n",
      "{'count': '0명', 'star': '7.00', 'title': '베이비티스'}\n",
      "2020-11-04 11:11:51 [scrapy.core.engine] DEBUG: Crawled (200) <GET https://movie.naver.com/movie/bi/mi/basic.nhn?code=151249> (referer: https://movie.naver.com/movie/running/current.nhn)\n",
      "2020-11-04 11:11:51 [scrapy.core.engine] DEBUG: Crawled (200) <GET https://movie.naver.com/movie/bi/mi/basic.nhn?code=191236> (referer: https://movie.naver.com/movie/running/current.nhn)\n",
      "2020-11-04 11:11:51 [scrapy.core.engine] DEBUG: Crawled (200) <GET https://movie.naver.com/movie/bi/mi/basic.nhn?code=187893> (referer: https://movie.naver.com/movie/running/current.nhn)\n",
      "2020-11-04 11:11:51 [scrapy.core.scraper] DEBUG: Scraped from <200 https://movie.naver.com/movie/bi/mi/basic.nhn?code=198425>\n",
      "{'count': '31,500명', 'star': '5.67', 'title': '다만 악에서 구하소서 파이널컷'}\n",
      "2020-11-04 11:11:51 [scrapy.core.scraper] DEBUG: Scraped from <200 https://movie.naver.com/movie/bi/mi/basic.nhn?code=194334>\n",
      "{'count': '0명', 'star': '9.97', 'title': '부활: 그 증거'}\n",
      "2020-11-04 11:11:51 [scrapy.core.engine] DEBUG: Crawled (200) <GET https://movie.naver.com/movie/bi/mi/basic.nhn?code=191919> (referer: https://movie.naver.com/movie/running/current.nhn)\n",
      "2020-11-04 11:11:51 [scrapy.core.engine] DEBUG: Crawled (200) <GET https://movie.naver.com/movie/bi/mi/basic.nhn?code=159286> (referer: https://movie.naver.com/movie/running/current.nhn)\n",
      "2020-11-04 11:11:51 [scrapy.core.engine] DEBUG: Crawled (200) <GET https://movie.naver.com/movie/bi/mi/basic.nhn?code=190010> (referer: https://movie.naver.com/movie/running/current.nhn)\n",
      "2020-11-04 11:11:51 [scrapy.core.scraper] DEBUG: Scraped from <200 https://movie.naver.com/movie/bi/mi/basic.nhn?code=105289>\n",
      "{'count': '0명', 'star': '', 'title': '잉투기'}\n",
      "2020-11-04 11:11:51 [scrapy.core.scraper] DEBUG: Scraped from <200 https://movie.naver.com/movie/bi/mi/basic.nhn?code=78726>\n",
      "{'count': '0명', 'star': '', 'title': '도둑들'}\n",
      "2020-11-04 11:11:51 [scrapy.core.engine] DEBUG: Crawled (200) <GET https://movie.naver.com/movie/bi/mi/basic.nhn?code=119632> (referer: https://movie.naver.com/movie/running/current.nhn)\n",
      "2020-11-04 11:11:51 [scrapy.core.engine] DEBUG: Crawled (200) <GET https://movie.naver.com/movie/bi/mi/basic.nhn?code=195687> (referer: https://movie.naver.com/movie/running/current.nhn)\n",
      "2020-11-04 11:11:51 [scrapy.core.scraper] DEBUG: Scraped from <200 https://movie.naver.com/movie/bi/mi/basic.nhn?code=151249>\n",
      "{'count': '0명', 'star': '8.86', 'title': '고려 아리랑: 천산의 디바'}\n",
      "2020-11-04 11:11:51 [scrapy.core.scraper] DEBUG: Scraped from <200 https://movie.naver.com/movie/bi/mi/basic.nhn?code=191236>\n",
      "{'count': '0명', 'star': '10.0', 'title': '마이 리틀 포니 : 레인보우 로드 트립'}\n",
      "2020-11-04 11:11:51 [scrapy.core.engine] DEBUG: Crawled (200) <GET https://movie.naver.com/movie/bi/mi/basic.nhn?code=197304> (referer: https://movie.naver.com/movie/running/current.nhn)\n",
      "2020-11-04 11:11:51 [scrapy.core.engine] DEBUG: Crawled (200) <GET https://movie.naver.com/movie/bi/mi/basic.nhn?code=183866> (referer: https://movie.naver.com/movie/running/current.nhn)\n",
      "2020-11-04 11:11:51 [scrapy.core.scraper] DEBUG: Scraped from <200 https://movie.naver.com/movie/bi/mi/basic.nhn?code=187893>\n",
      "{'count': '398,087명', 'star': '7.90', 'title': '소리도 없이'}\n",
      "2020-11-04 11:11:51 [scrapy.core.engine] DEBUG: Crawled (200) <GET https://movie.naver.com/movie/bi/mi/basic.nhn?code=38899> (referer: https://movie.naver.com/movie/running/current.nhn)\n",
      "2020-11-04 11:11:51 [scrapy.core.scraper] DEBUG: Scraped from <200 https://movie.naver.com/movie/bi/mi/basic.nhn?code=191919>\n",
      "{'count': '19,797명', 'star': '7.00', 'title': '테슬라'}\n",
      "2020-11-04 11:11:51 [scrapy.core.scraper] DEBUG: Scraped from <200 https://movie.naver.com/movie/bi/mi/basic.nhn?code=159286>\n",
      "{'count': '0명', 'star': '9.29', 'title': '마틴 에덴'}\n",
      "2020-11-04 11:11:51 [scrapy.core.engine] DEBUG: Crawled (200) <GET https://movie.naver.com/movie/bi/mi/basic.nhn?code=189141> (referer: https://movie.naver.com/movie/running/current.nhn)\n",
      "2020-11-04 11:11:51 [scrapy.core.scraper] DEBUG: Scraped from <200 https://movie.naver.com/movie/bi/mi/basic.nhn?code=190010>\n",
      "{'count': '1,968,419명', 'star': '8.76', 'title': '테넷'}\n",
      "2020-11-04 11:11:51 [scrapy.core.scraper] DEBUG: Scraped from <200 https://movie.naver.com/movie/bi/mi/basic.nhn?code=119632>\n",
      "{'count': '1,628,987명', 'star': '8.87', 'title': '위플래쉬'}\n",
      "2020-11-04 11:11:51 [scrapy.core.scraper] DEBUG: Scraped from <200 https://movie.naver.com/movie/bi/mi/basic.nhn?code=195687>\n",
      "{'count': '51,927명', 'star': '9.36', 'title': '페이트 스테이 나이트 헤븐즈필 III.스프링 송'}\n",
      "2020-11-04 11:11:51 [scrapy.core.scraper] DEBUG: Scraped from <200 https://movie.naver.com/movie/bi/mi/basic.nhn?code=197304>\n",
      "{'count': '0명', 'star': '8.95', 'title': '미스터트롯: 더 무비'}\n",
      "2020-11-04 11:11:51 [scrapy.core.scraper] DEBUG: Scraped from <200 https://movie.naver.com/movie/bi/mi/basic.nhn?code=183866>\n",
      "{'count': '1,677,412명', 'star': '9.17', 'title': '담보'}\n",
      "2020-11-04 11:11:51 [scrapy.core.scraper] DEBUG: Scraped from <200 https://movie.naver.com/movie/bi/mi/basic.nhn?code=38899>\n",
      "{'count': '0명', 'star': '9.47', 'title': '노트북'}\n",
      "2020-11-04 11:11:51 [scrapy.core.scraper] DEBUG: Scraped from <200 https://movie.naver.com/movie/bi/mi/basic.nhn?code=189141>\n",
      "{'count': '1,011,155명', 'star': '9.19', 'title': '삼진그룹 영어토익반'}\n",
      "2020-11-04 11:11:51 [scrapy.core.engine] INFO: Closing spider (finished)\n",
      "2020-11-04 11:11:51 [scrapy.extensions.feedexport] INFO: Stored csv feed (129 items) in: naver_movie.csv\n",
      "2020-11-04 11:11:51 [scrapy.statscollectors] INFO: Dumping Scrapy stats:\n",
      "{'downloader/request_bytes': 46386,\n",
      " 'downloader/request_count': 130,\n",
      " 'downloader/request_method_count/GET': 130,\n",
      " 'downloader/response_bytes': 4381439,\n",
      " 'downloader/response_count': 130,\n",
      " 'downloader/response_status_count/200': 130,\n",
      " 'elapsed_time_seconds': 4.28927,\n",
      " 'finish_reason': 'finished',\n",
      " 'finish_time': datetime.datetime(2020, 11, 4, 2, 11, 51, 615483),\n",
      " 'item_scraped_count': 129,\n",
      " 'log_count/DEBUG': 259,\n",
      " 'log_count/INFO': 11,\n",
      " 'memusage/max': 55513088,\n",
      " 'memusage/startup': 55513088,\n",
      " 'request_depth_max': 1,\n",
      " 'response_received_count': 130,\n",
      " 'scheduler/dequeued': 130,\n",
      " 'scheduler/dequeued/memory': 130,\n",
      " 'scheduler/enqueued': 130,\n",
      " 'scheduler/enqueued/memory': 130,\n",
      " 'start_time': datetime.datetime(2020, 11, 4, 2, 11, 47, 326213)}\n",
      "2020-11-04 11:11:51 [scrapy.core.engine] INFO: Spider closed (finished)\n"
     ]
    }
   ],
   "source": [
    "!./run.sh"
   ]
  },
  {
   "cell_type": "code",
   "execution_count": 98,
   "metadata": {},
   "outputs": [],
   "source": [
    "import pandas as pd"
   ]
  },
  {
   "cell_type": "code",
   "execution_count": 100,
   "metadata": {},
   "outputs": [
    {
     "data": {
      "text/html": [
       "<div>\n",
       "<style scoped>\n",
       "    .dataframe tbody tr th:only-of-type {\n",
       "        vertical-align: middle;\n",
       "    }\n",
       "\n",
       "    .dataframe tbody tr th {\n",
       "        vertical-align: top;\n",
       "    }\n",
       "\n",
       "    .dataframe thead th {\n",
       "        text-align: right;\n",
       "    }\n",
       "</style>\n",
       "<table border=\"1\" class=\"dataframe\">\n",
       "  <thead>\n",
       "    <tr style=\"text-align: right;\">\n",
       "      <th></th>\n",
       "      <th>count</th>\n",
       "      <th>star</th>\n",
       "      <th>title</th>\n",
       "    </tr>\n",
       "  </thead>\n",
       "  <tbody>\n",
       "    <tr>\n",
       "      <th>127</th>\n",
       "      <td>0명</td>\n",
       "      <td>9.47</td>\n",
       "      <td>노트북</td>\n",
       "    </tr>\n",
       "    <tr>\n",
       "      <th>128</th>\n",
       "      <td>1,011,155명</td>\n",
       "      <td>9.19</td>\n",
       "      <td>삼진그룹 영어토익반</td>\n",
       "    </tr>\n",
       "  </tbody>\n",
       "</table>\n",
       "</div>"
      ],
      "text/plain": [
       "          count  star       title\n",
       "127          0명  9.47         노트북\n",
       "128  1,011,155명  9.19  삼진그룹 영어토익반"
      ]
     },
     "execution_count": 100,
     "metadata": {},
     "output_type": "execute_result"
    }
   ],
   "source": [
    "df = pd.read_csv(\"naver_movie/naver_movie.csv\")\n",
    "df.tail(2)"
   ]
  },
  {
   "cell_type": "code",
   "execution_count": null,
   "metadata": {},
   "outputs": [],
   "source": []
  }
 ],
 "metadata": {
  "kernelspec": {
   "display_name": "Python 3",
   "language": "python",
   "name": "python3"
  },
  "language_info": {
   "codemirror_mode": {
    "name": "ipython",
    "version": 3
   },
   "file_extension": ".py",
   "mimetype": "text/x-python",
   "name": "python",
   "nbconvert_exporter": "python",
   "pygments_lexer": "ipython3",
   "version": "3.6.9"
  }
 },
 "nbformat": 4,
 "nbformat_minor": 4
}
