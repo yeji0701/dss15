{
 "cells": [
  {
   "cell_type": "code",
   "execution_count": 2,
   "metadata": {},
   "outputs": [],
   "source": [
    "import numpy as np"
   ]
  },
  {
   "cell_type": "code",
   "execution_count": 52,
   "metadata": {
    "scrolled": true
   },
   "outputs": [
    {
     "data": {
      "text/plain": [
       "array([[102, 122, 115, 115, 100, 115, 123, 102],\n",
       "       [110, 115, 117, 126, 129, 124, 105, 119],\n",
       "       [102, 129, 116, 125, 106, 105, 128, 122],\n",
       "       [112, 124, 102, 106, 107, 100, 104, 128],\n",
       "       [128, 112, 112, 104, 128, 101, 121, 114],\n",
       "       [119, 100, 110, 129, 112, 122, 109, 112],\n",
       "       [128, 119, 124, 106, 109, 120, 109, 126],\n",
       "       [101, 110, 111, 122, 111, 113, 127, 112]])"
      ]
     },
     "execution_count": 52,
     "metadata": {},
     "output_type": "execute_result"
    }
   ],
   "source": [
    "data = np.random.randint(100, 130, size=(8, 8))\n",
    "data"
   ]
  },
  {
   "cell_type": "code",
   "execution_count": 53,
   "metadata": {},
   "outputs": [],
   "source": [
    "num_three = data % 3 == 0\n",
    "num_five = data % 5 == 0\n",
    "num_fif = data % 15 == 0"
   ]
  },
  {
   "cell_type": "code",
   "execution_count": 54,
   "metadata": {},
   "outputs": [
    {
     "data": {
      "text/plain": [
       "array([['102', '122', '115', '115', '100', '115', '123', '102'],\n",
       "       ['110', '115', '117', '126', '129', '124', '105', '119'],\n",
       "       ['102', '129', '116', '125', '106', '105', '128', '122'],\n",
       "       ['112', '124', '102', '106', '107', '100', '104', '128'],\n",
       "       ['128', '112', '112', '104', '128', '101', '121', '114'],\n",
       "       ['119', '100', '110', '129', '112', '122', '109', '112'],\n",
       "       ['128', '119', '124', '106', '109', '120', '109', '126'],\n",
       "       ['101', '110', '111', '122', '111', '113', '127', '112']],\n",
       "      dtype='<U11')"
      ]
     },
     "execution_count": 54,
     "metadata": {},
     "output_type": "execute_result"
    }
   ],
   "source": [
    "result = data.astype(\"str\")\n",
    "result"
   ]
  },
  {
   "cell_type": "code",
   "execution_count": 55,
   "metadata": {},
   "outputs": [],
   "source": [
    "result[num_three] = \"fiz\"\n",
    "result[num_five] = \"buz\"\n",
    "result[num_fif] = \"fbz\""
   ]
  },
  {
   "cell_type": "code",
   "execution_count": 56,
   "metadata": {},
   "outputs": [
    {
     "data": {
      "text/plain": [
       "array([['fiz', '122', 'buz', 'buz', 'buz', 'buz', 'fiz', 'fiz'],\n",
       "       ['buz', 'buz', 'fiz', 'fiz', 'fiz', '124', 'fbz', '119'],\n",
       "       ['fiz', 'fiz', '116', 'buz', '106', 'fbz', '128', '122'],\n",
       "       ['112', '124', 'fiz', '106', '107', 'buz', '104', '128'],\n",
       "       ['128', '112', '112', '104', '128', '101', '121', 'fiz'],\n",
       "       ['119', 'buz', 'buz', 'fiz', '112', '122', '109', '112'],\n",
       "       ['128', '119', '124', '106', '109', 'fbz', '109', 'fiz'],\n",
       "       ['101', 'buz', 'fiz', '122', 'fiz', '113', '127', '112']],\n",
       "      dtype='<U11')"
      ]
     },
     "execution_count": 56,
     "metadata": {},
     "output_type": "execute_result"
    }
   ],
   "source": [
    "result"
   ]
  },
  {
   "cell_type": "code",
   "execution_count": 62,
   "metadata": {},
   "outputs": [
    {
     "data": {
      "text/plain": [
       "array([[19, 18,  4,  4,  6],\n",
       "       [ 7, 19,  1, 17,  1],\n",
       "       [ 5,  2,  7,  7,  2],\n",
       "       [17, 18,  7,  5,  1],\n",
       "       [ 8, 11, 15, 17,  5]])"
      ]
     },
     "execution_count": 62,
     "metadata": {},
     "output_type": "execute_result"
    }
   ],
   "source": [
    "data = np.random.randint(1, 20, size=(5, 5))\n",
    "data"
   ]
  },
  {
   "cell_type": "code",
   "execution_count": 63,
   "metadata": {},
   "outputs": [],
   "source": [
    "high = np.max(data)\n",
    "low = np.min(data)"
   ]
  },
  {
   "cell_type": "code",
   "execution_count": 67,
   "metadata": {},
   "outputs": [],
   "source": [
    "max_high = data == high\n",
    "min_low = data == low"
   ]
  },
  {
   "cell_type": "code",
   "execution_count": 68,
   "metadata": {},
   "outputs": [
    {
     "data": {
      "text/plain": [
       "array([['19', '18', '4', '4', '6'],\n",
       "       ['7', '19', '1', '17', '1'],\n",
       "       ['5', '2', '7', '7', '2'],\n",
       "       ['17', '18', '7', '5', '1'],\n",
       "       ['8', '11', '15', '17', '5']], dtype='<U11')"
      ]
     },
     "execution_count": 68,
     "metadata": {},
     "output_type": "execute_result"
    }
   ],
   "source": [
    "result = data.astype(\"str\")\n",
    "result"
   ]
  },
  {
   "cell_type": "code",
   "execution_count": 71,
   "metadata": {},
   "outputs": [
    {
     "data": {
      "text/plain": [
       "array([['MAX', '18', '4', '4', '6'],\n",
       "       ['7', 'MAX', 'MIN', '17', 'MIN'],\n",
       "       ['5', '2', '7', '7', '2'],\n",
       "       ['17', '18', '7', '5', 'MIN'],\n",
       "       ['8', '11', '15', '17', '5']], dtype='<U11')"
      ]
     },
     "execution_count": 71,
     "metadata": {},
     "output_type": "execute_result"
    }
   ],
   "source": [
    "result[max_high] = \"MAX\"\n",
    "result[min_low] = \"MIN\"\n",
    "result"
   ]
  },
  {
   "cell_type": "code",
   "execution_count": 78,
   "metadata": {},
   "outputs": [
    {
     "data": {
      "text/plain": [
       "array([   1000.        ,   31622.77660168, 1000000.        ])"
      ]
     },
     "execution_count": 78,
     "metadata": {},
     "output_type": "execute_result"
    }
   ],
   "source": [
    "np.logspace(3, 6, 3)"
   ]
  },
  {
   "cell_type": "code",
   "execution_count": 4,
   "metadata": {},
   "outputs": [
    {
     "data": {
      "text/html": [
       "<div>\n",
       "<style scoped>\n",
       "    .dataframe tbody tr th:only-of-type {\n",
       "        vertical-align: middle;\n",
       "    }\n",
       "\n",
       "    .dataframe tbody tr th {\n",
       "        vertical-align: top;\n",
       "    }\n",
       "\n",
       "    .dataframe thead th {\n",
       "        text-align: right;\n",
       "    }\n",
       "</style>\n",
       "<table border=\"1\" class=\"dataframe\">\n",
       "  <thead>\n",
       "    <tr style=\"text-align: right;\">\n",
       "      <th></th>\n",
       "      <th>ID</th>\n",
       "      <th>RCTRCK</th>\n",
       "      <th>RACE_DE</th>\n",
       "      <th>RACE_NO</th>\n",
       "      <th>PARTCPT_NO</th>\n",
       "      <th>RANK</th>\n",
       "      <th>RCHOSE_NM</th>\n",
       "      <th>HRSMN</th>\n",
       "      <th>RCORD</th>\n",
       "      <th>ARVL_DFFRNC</th>\n",
       "      <th>EACH_SCTN_PASAGE_RANK</th>\n",
       "      <th>A_WIN_SYTM_EXPECT_ALOT</th>\n",
       "      <th>WIN_STA_EXPECT_ALOT</th>\n",
       "    </tr>\n",
       "  </thead>\n",
       "  <tbody>\n",
       "    <tr>\n",
       "      <th>27216</th>\n",
       "      <td>27217</td>\n",
       "      <td>제주</td>\n",
       "      <td>2014-11-29</td>\n",
       "      <td>9</td>\n",
       "      <td>7</td>\n",
       "      <td>6.0</td>\n",
       "      <td>미주여행</td>\n",
       "      <td>김경휴</td>\n",
       "      <td>0:01:31.1</td>\n",
       "      <td>13</td>\n",
       "      <td>2 -  -  - 2 - 3 - 6</td>\n",
       "      <td>6.2</td>\n",
       "      <td>9.4</td>\n",
       "    </tr>\n",
       "    <tr>\n",
       "      <th>27217</th>\n",
       "      <td>27218</td>\n",
       "      <td>제주</td>\n",
       "      <td>2014-11-29</td>\n",
       "      <td>9</td>\n",
       "      <td>6</td>\n",
       "      <td>1.0</td>\n",
       "      <td>철옹성</td>\n",
       "      <td>장우성</td>\n",
       "      <td>0:01:26.6</td>\n",
       "      <td>NaN</td>\n",
       "      <td>1 -  -  - 1 - 1 - 1</td>\n",
       "      <td>3.9</td>\n",
       "      <td>2.9</td>\n",
       "    </tr>\n",
       "  </tbody>\n",
       "</table>\n",
       "</div>"
      ],
      "text/plain": [
       "          ID RCTRCK     RACE_DE  RACE_NO  PARTCPT_NO  RANK RCHOSE_NM HRSMN  \\\n",
       "27216  27217     제주  2014-11-29        9           7   6.0      미주여행   김경휴   \n",
       "27217  27218     제주  2014-11-29        9           6   1.0       철옹성   장우성   \n",
       "\n",
       "           RCORD ARVL_DFFRNC EACH_SCTN_PASAGE_RANK  A_WIN_SYTM_EXPECT_ALOT  \\\n",
       "27216  0:01:31.1          13   2 -  -  - 2 - 3 - 6                     6.2   \n",
       "27217  0:01:26.6         NaN   1 -  -  - 1 - 1 - 1                     3.9   \n",
       "\n",
       "       WIN_STA_EXPECT_ALOT  \n",
       "27216                  9.4  \n",
       "27217                  2.9  "
      ]
     },
     "execution_count": 4,
     "metadata": {},
     "output_type": "execute_result"
    }
   ],
   "source": [
    "df_race = pd.read_csv(\"datas/2014_p.csv\", encoding=\"euc-kr\")\n",
    "df_race.tail(2)"
   ]
  },
  {
   "cell_type": "code",
   "execution_count": 5,
   "metadata": {},
   "outputs": [
    {
     "data": {
      "text/html": [
       "<div>\n",
       "<style scoped>\n",
       "    .dataframe tbody tr th:only-of-type {\n",
       "        vertical-align: middle;\n",
       "    }\n",
       "\n",
       "    .dataframe tbody tr th {\n",
       "        vertical-align: top;\n",
       "    }\n",
       "\n",
       "    .dataframe thead th {\n",
       "        text-align: right;\n",
       "    }\n",
       "</style>\n",
       "<table border=\"1\" class=\"dataframe\">\n",
       "  <thead>\n",
       "    <tr style=\"text-align: right;\">\n",
       "      <th></th>\n",
       "      <th>ID</th>\n",
       "      <th>RCTRCK</th>\n",
       "      <th>RACE_DE</th>\n",
       "      <th>PRDCTN_NATION_NM</th>\n",
       "      <th>SEX</th>\n",
       "      <th>AGE</th>\n",
       "      <th>BND_WT</th>\n",
       "      <th>TRNER</th>\n",
       "      <th>RCHOSE_OWNR_NM</th>\n",
       "      <th>RCHOSE_BDWGH</th>\n",
       "    </tr>\n",
       "  </thead>\n",
       "  <tbody>\n",
       "    <tr>\n",
       "      <th>27216</th>\n",
       "      <td>27217</td>\n",
       "      <td>제주</td>\n",
       "      <td>2014-11-29</td>\n",
       "      <td>한</td>\n",
       "      <td>거</td>\n",
       "      <td>NaN</td>\n",
       "      <td>53.0</td>\n",
       "      <td>강대은</td>\n",
       "      <td>김기준</td>\n",
       "      <td>281</td>\n",
       "    </tr>\n",
       "    <tr>\n",
       "      <th>27217</th>\n",
       "      <td>27218</td>\n",
       "      <td>제주</td>\n",
       "      <td>2014-11-29</td>\n",
       "      <td>한</td>\n",
       "      <td>거</td>\n",
       "      <td>NaN</td>\n",
       "      <td>57.5</td>\n",
       "      <td>박병진</td>\n",
       "      <td>강상우</td>\n",
       "      <td>314</td>\n",
       "    </tr>\n",
       "  </tbody>\n",
       "</table>\n",
       "</div>"
      ],
      "text/plain": [
       "          ID RCTRCK     RACE_DE PRDCTN_NATION_NM SEX  AGE  BND_WT TRNER  \\\n",
       "27216  27217     제주  2014-11-29                한   거  NaN    53.0   강대은   \n",
       "27217  27218     제주  2014-11-29                한   거  NaN    57.5   박병진   \n",
       "\n",
       "      RCHOSE_OWNR_NM  RCHOSE_BDWGH  \n",
       "27216            김기준           281  \n",
       "27217            강상우           314  "
      ]
     },
     "execution_count": 5,
     "metadata": {},
     "output_type": "execute_result"
    }
   ],
   "source": [
    "df_horse = pd.read_csv(\"datas/2014_s.csv\", encoding=\"euc-kr\")\n",
    "df_horse.tail(2)"
   ]
  },
  {
   "cell_type": "code",
   "execution_count": 6,
   "metadata": {},
   "outputs": [
    {
     "data": {
      "text/html": [
       "<div>\n",
       "<style scoped>\n",
       "    .dataframe tbody tr th:only-of-type {\n",
       "        vertical-align: middle;\n",
       "    }\n",
       "\n",
       "    .dataframe tbody tr th {\n",
       "        vertical-align: top;\n",
       "    }\n",
       "\n",
       "    .dataframe thead th {\n",
       "        text-align: right;\n",
       "    }\n",
       "</style>\n",
       "<table border=\"1\" class=\"dataframe\">\n",
       "  <thead>\n",
       "    <tr style=\"text-align: right;\">\n",
       "      <th></th>\n",
       "      <th>ID</th>\n",
       "      <th>RCTRCK</th>\n",
       "      <th>RACE_DE</th>\n",
       "      <th>RACE_NO</th>\n",
       "      <th>PARTCPT_NO</th>\n",
       "      <th>RANK</th>\n",
       "      <th>RCHOSE_NM</th>\n",
       "      <th>HRSMN</th>\n",
       "      <th>RCORD</th>\n",
       "      <th>ARVL_DFFRNC</th>\n",
       "      <th>EACH_SCTN_PASAGE_RANK</th>\n",
       "      <th>A_WIN_SYTM_EXPECT_ALOT</th>\n",
       "      <th>WIN_STA_EXPECT_ALOT</th>\n",
       "      <th>PRDCTN_NATION_NM</th>\n",
       "      <th>SEX</th>\n",
       "      <th>AGE</th>\n",
       "      <th>BND_WT</th>\n",
       "      <th>TRNER</th>\n",
       "      <th>RCHOSE_OWNR_NM</th>\n",
       "      <th>RCHOSE_BDWGH</th>\n",
       "    </tr>\n",
       "  </thead>\n",
       "  <tbody>\n",
       "    <tr>\n",
       "      <th>27216</th>\n",
       "      <td>27217</td>\n",
       "      <td>제주</td>\n",
       "      <td>2014-11-29</td>\n",
       "      <td>9</td>\n",
       "      <td>7</td>\n",
       "      <td>6.0</td>\n",
       "      <td>미주여행</td>\n",
       "      <td>김경휴</td>\n",
       "      <td>0:01:31.1</td>\n",
       "      <td>13</td>\n",
       "      <td>2 -  -  - 2 - 3 - 6</td>\n",
       "      <td>6.2</td>\n",
       "      <td>9.4</td>\n",
       "      <td>한</td>\n",
       "      <td>거</td>\n",
       "      <td>NaN</td>\n",
       "      <td>53.0</td>\n",
       "      <td>강대은</td>\n",
       "      <td>김기준</td>\n",
       "      <td>281</td>\n",
       "    </tr>\n",
       "    <tr>\n",
       "      <th>27217</th>\n",
       "      <td>27218</td>\n",
       "      <td>제주</td>\n",
       "      <td>2014-11-29</td>\n",
       "      <td>9</td>\n",
       "      <td>6</td>\n",
       "      <td>1.0</td>\n",
       "      <td>철옹성</td>\n",
       "      <td>장우성</td>\n",
       "      <td>0:01:26.6</td>\n",
       "      <td>NaN</td>\n",
       "      <td>1 -  -  - 1 - 1 - 1</td>\n",
       "      <td>3.9</td>\n",
       "      <td>2.9</td>\n",
       "      <td>한</td>\n",
       "      <td>거</td>\n",
       "      <td>NaN</td>\n",
       "      <td>57.5</td>\n",
       "      <td>박병진</td>\n",
       "      <td>강상우</td>\n",
       "      <td>314</td>\n",
       "    </tr>\n",
       "  </tbody>\n",
       "</table>\n",
       "</div>"
      ],
      "text/plain": [
       "          ID RCTRCK     RACE_DE  RACE_NO  PARTCPT_NO  RANK RCHOSE_NM HRSMN  \\\n",
       "27216  27217     제주  2014-11-29        9           7   6.0      미주여행   김경휴   \n",
       "27217  27218     제주  2014-11-29        9           6   1.0       철옹성   장우성   \n",
       "\n",
       "           RCORD ARVL_DFFRNC EACH_SCTN_PASAGE_RANK  A_WIN_SYTM_EXPECT_ALOT  \\\n",
       "27216  0:01:31.1          13   2 -  -  - 2 - 3 - 6                     6.2   \n",
       "27217  0:01:26.6         NaN   1 -  -  - 1 - 1 - 1                     3.9   \n",
       "\n",
       "       WIN_STA_EXPECT_ALOT PRDCTN_NATION_NM SEX  AGE  BND_WT TRNER  \\\n",
       "27216                  9.4                한   거  NaN    53.0   강대은   \n",
       "27217                  2.9                한   거  NaN    57.5   박병진   \n",
       "\n",
       "      RCHOSE_OWNR_NM  RCHOSE_BDWGH  \n",
       "27216            김기준           281  \n",
       "27217            강상우           314  "
      ]
     },
     "execution_count": 6,
     "metadata": {},
     "output_type": "execute_result"
    }
   ],
   "source": [
    "df_merged = pd.merge(df_race, df_horse)\n",
    "df_merged.tail(2)"
   ]
  },
  {
   "cell_type": "code",
   "execution_count": 9,
   "metadata": {},
   "outputs": [
    {
     "data": {
      "text/html": [
       "<div>\n",
       "<style scoped>\n",
       "    .dataframe tbody tr th:only-of-type {\n",
       "        vertical-align: middle;\n",
       "    }\n",
       "\n",
       "    .dataframe tbody tr th {\n",
       "        vertical-align: top;\n",
       "    }\n",
       "\n",
       "    .dataframe thead th {\n",
       "        text-align: right;\n",
       "    }\n",
       "</style>\n",
       "<table border=\"1\" class=\"dataframe\">\n",
       "  <thead>\n",
       "    <tr style=\"text-align: right;\">\n",
       "      <th></th>\n",
       "      <th>ID</th>\n",
       "      <th>RCTRCK</th>\n",
       "      <th>RACE_DE</th>\n",
       "      <th>RACE_NO</th>\n",
       "      <th>PARTCPT_NO</th>\n",
       "      <th>RANK</th>\n",
       "      <th>RCHOSE_NM</th>\n",
       "      <th>HRSMN</th>\n",
       "      <th>RCORD</th>\n",
       "      <th>ARVL_DFFRNC</th>\n",
       "      <th>...</th>\n",
       "      <th>A_WIN_SYTM_EXPECT_ALOT</th>\n",
       "      <th>WIN_STA_EXPECT_ALOT</th>\n",
       "      <th>PRDCTN_NATION_NM</th>\n",
       "      <th>SEX</th>\n",
       "      <th>AGE</th>\n",
       "      <th>BND_WT</th>\n",
       "      <th>TRNER</th>\n",
       "      <th>RCHOSE_OWNR_NM</th>\n",
       "      <th>RCHOSE_BDWGH</th>\n",
       "      <th>COUNT</th>\n",
       "    </tr>\n",
       "  </thead>\n",
       "  <tbody>\n",
       "    <tr>\n",
       "      <th>27216</th>\n",
       "      <td>27217</td>\n",
       "      <td>제주</td>\n",
       "      <td>2014-11-29</td>\n",
       "      <td>9</td>\n",
       "      <td>7</td>\n",
       "      <td>6.0</td>\n",
       "      <td>미주여행</td>\n",
       "      <td>김경휴</td>\n",
       "      <td>0:01:31.1</td>\n",
       "      <td>13</td>\n",
       "      <td>...</td>\n",
       "      <td>6.2</td>\n",
       "      <td>9.4</td>\n",
       "      <td>한</td>\n",
       "      <td>거</td>\n",
       "      <td>NaN</td>\n",
       "      <td>53.0</td>\n",
       "      <td>강대은</td>\n",
       "      <td>김기준</td>\n",
       "      <td>281</td>\n",
       "      <td>1</td>\n",
       "    </tr>\n",
       "    <tr>\n",
       "      <th>27217</th>\n",
       "      <td>27218</td>\n",
       "      <td>제주</td>\n",
       "      <td>2014-11-29</td>\n",
       "      <td>9</td>\n",
       "      <td>6</td>\n",
       "      <td>1.0</td>\n",
       "      <td>철옹성</td>\n",
       "      <td>장우성</td>\n",
       "      <td>0:01:26.6</td>\n",
       "      <td>NaN</td>\n",
       "      <td>...</td>\n",
       "      <td>3.9</td>\n",
       "      <td>2.9</td>\n",
       "      <td>한</td>\n",
       "      <td>거</td>\n",
       "      <td>NaN</td>\n",
       "      <td>57.5</td>\n",
       "      <td>박병진</td>\n",
       "      <td>강상우</td>\n",
       "      <td>314</td>\n",
       "      <td>1</td>\n",
       "    </tr>\n",
       "  </tbody>\n",
       "</table>\n",
       "<p>2 rows × 21 columns</p>\n",
       "</div>"
      ],
      "text/plain": [
       "          ID RCTRCK     RACE_DE  RACE_NO  PARTCPT_NO  RANK RCHOSE_NM HRSMN  \\\n",
       "27216  27217     제주  2014-11-29        9           7   6.0      미주여행   김경휴   \n",
       "27217  27218     제주  2014-11-29        9           6   1.0       철옹성   장우성   \n",
       "\n",
       "           RCORD ARVL_DFFRNC  ... A_WIN_SYTM_EXPECT_ALOT  WIN_STA_EXPECT_ALOT  \\\n",
       "27216  0:01:31.1          13  ...                    6.2                  9.4   \n",
       "27217  0:01:26.6         NaN  ...                    3.9                  2.9   \n",
       "\n",
       "       PRDCTN_NATION_NM SEX AGE  BND_WT  TRNER RCHOSE_OWNR_NM RCHOSE_BDWGH  \\\n",
       "27216                 한   거 NaN    53.0    강대은            김기준          281   \n",
       "27217                 한   거 NaN    57.5    박병진            강상우          314   \n",
       "\n",
       "       COUNT  \n",
       "27216      1  \n",
       "27217      1  \n",
       "\n",
       "[2 rows x 21 columns]"
      ]
     },
     "execution_count": 9,
     "metadata": {},
     "output_type": "execute_result"
    }
   ],
   "source": [
    "df_merged[\"COUNT\"] = 1\n",
    "df_merged.tail(2)"
   ]
  },
  {
   "cell_type": "code",
   "execution_count": 13,
   "metadata": {},
   "outputs": [
    {
     "data": {
      "text/html": [
       "<div>\n",
       "<style scoped>\n",
       "    .dataframe tbody tr th:only-of-type {\n",
       "        vertical-align: middle;\n",
       "    }\n",
       "\n",
       "    .dataframe tbody tr th {\n",
       "        vertical-align: top;\n",
       "    }\n",
       "\n",
       "    .dataframe thead th {\n",
       "        text-align: right;\n",
       "    }\n",
       "</style>\n",
       "<table border=\"1\" class=\"dataframe\">\n",
       "  <thead>\n",
       "    <tr style=\"text-align: right;\">\n",
       "      <th>SEX</th>\n",
       "      <th>거</th>\n",
       "      <th>수</th>\n",
       "      <th>암</th>\n",
       "    </tr>\n",
       "    <tr>\n",
       "      <th>RANK</th>\n",
       "      <th></th>\n",
       "      <th></th>\n",
       "      <th></th>\n",
       "    </tr>\n",
       "  </thead>\n",
       "  <tbody>\n",
       "    <tr>\n",
       "      <th>1.0</th>\n",
       "      <td>528.0</td>\n",
       "      <td>1067.0</td>\n",
       "      <td>964.0</td>\n",
       "    </tr>\n",
       "    <tr>\n",
       "      <th>2.0</th>\n",
       "      <td>488.0</td>\n",
       "      <td>1033.0</td>\n",
       "      <td>1021.0</td>\n",
       "    </tr>\n",
       "    <tr>\n",
       "      <th>3.0</th>\n",
       "      <td>538.0</td>\n",
       "      <td>984.0</td>\n",
       "      <td>1029.0</td>\n",
       "    </tr>\n",
       "    <tr>\n",
       "      <th>4.0</th>\n",
       "      <td>524.0</td>\n",
       "      <td>947.0</td>\n",
       "      <td>1082.0</td>\n",
       "    </tr>\n",
       "    <tr>\n",
       "      <th>5.0</th>\n",
       "      <td>502.0</td>\n",
       "      <td>897.0</td>\n",
       "      <td>1148.0</td>\n",
       "    </tr>\n",
       "  </tbody>\n",
       "</table>\n",
       "</div>"
      ],
      "text/plain": [
       "SEX       거       수       암\n",
       "RANK                       \n",
       "1.0   528.0  1067.0   964.0\n",
       "2.0   488.0  1033.0  1021.0\n",
       "3.0   538.0   984.0  1029.0\n",
       "4.0   524.0   947.0  1082.0\n",
       "5.0   502.0   897.0  1148.0"
      ]
     },
     "execution_count": 13,
     "metadata": {},
     "output_type": "execute_result"
    }
   ],
   "source": [
    "df = df_merged.pivot_table(\"COUNT\", \"RANK\", \"SEX\", aggfunc=np.sum)\n",
    "df.head(5)"
   ]
  },
  {
   "cell_type": "code",
   "execution_count": 15,
   "metadata": {},
   "outputs": [
    {
     "data": {
      "text/plain": [
       "SEX\n",
       "거     5576\n",
       "수     9869\n",
       "암    11773\n",
       "dtype: int64"
      ]
     },
     "execution_count": 15,
     "metadata": {},
     "output_type": "execute_result"
    }
   ],
   "source": [
    "count = df_merged.groupby(\"SEX\").size()\n",
    "count"
   ]
  },
  {
   "cell_type": "code",
   "execution_count": 16,
   "metadata": {},
   "outputs": [
    {
     "data": {
      "text/html": [
       "<div>\n",
       "<style scoped>\n",
       "    .dataframe tbody tr th:only-of-type {\n",
       "        vertical-align: middle;\n",
       "    }\n",
       "\n",
       "    .dataframe tbody tr th {\n",
       "        vertical-align: top;\n",
       "    }\n",
       "\n",
       "    .dataframe thead th {\n",
       "        text-align: right;\n",
       "    }\n",
       "</style>\n",
       "<table border=\"1\" class=\"dataframe\">\n",
       "  <thead>\n",
       "    <tr style=\"text-align: right;\">\n",
       "      <th>SEX</th>\n",
       "      <th>거</th>\n",
       "      <th>수</th>\n",
       "      <th>암</th>\n",
       "    </tr>\n",
       "    <tr>\n",
       "      <th>RANK</th>\n",
       "      <th></th>\n",
       "      <th></th>\n",
       "      <th></th>\n",
       "    </tr>\n",
       "  </thead>\n",
       "  <tbody>\n",
       "    <tr>\n",
       "      <th>1.0</th>\n",
       "      <td>9.469154</td>\n",
       "      <td>10.811632</td>\n",
       "      <td>8.188227</td>\n",
       "    </tr>\n",
       "    <tr>\n",
       "      <th>2.0</th>\n",
       "      <td>8.751793</td>\n",
       "      <td>10.467119</td>\n",
       "      <td>8.672386</td>\n",
       "    </tr>\n",
       "    <tr>\n",
       "      <th>3.0</th>\n",
       "      <td>9.648494</td>\n",
       "      <td>9.970615</td>\n",
       "      <td>8.740338</td>\n",
       "    </tr>\n",
       "    <tr>\n",
       "      <th>4.0</th>\n",
       "      <td>9.397418</td>\n",
       "      <td>9.595704</td>\n",
       "      <td>9.190521</td>\n",
       "    </tr>\n",
       "    <tr>\n",
       "      <th>5.0</th>\n",
       "      <td>9.002869</td>\n",
       "      <td>9.089067</td>\n",
       "      <td>9.751125</td>\n",
       "    </tr>\n",
       "  </tbody>\n",
       "</table>\n",
       "</div>"
      ],
      "text/plain": [
       "SEX          거          수         암\n",
       "RANK                               \n",
       "1.0   9.469154  10.811632  8.188227\n",
       "2.0   8.751793  10.467119  8.672386\n",
       "3.0   9.648494   9.970615  8.740338\n",
       "4.0   9.397418   9.595704  9.190521\n",
       "5.0   9.002869   9.089067  9.751125"
      ]
     },
     "execution_count": 16,
     "metadata": {},
     "output_type": "execute_result"
    }
   ],
   "source": [
    "result = df / count * 100\n",
    "result.head()"
   ]
  },
  {
   "cell_type": "code",
   "execution_count": 18,
   "metadata": {},
   "outputs": [
    {
     "data": {
      "text/html": [
       "<div>\n",
       "<style scoped>\n",
       "    .dataframe tbody tr th:only-of-type {\n",
       "        vertical-align: middle;\n",
       "    }\n",
       "\n",
       "    .dataframe tbody tr th {\n",
       "        vertical-align: top;\n",
       "    }\n",
       "\n",
       "    .dataframe thead th {\n",
       "        text-align: right;\n",
       "    }\n",
       "</style>\n",
       "<table border=\"1\" class=\"dataframe\">\n",
       "  <thead>\n",
       "    <tr style=\"text-align: right;\">\n",
       "      <th>SEX</th>\n",
       "      <th>거</th>\n",
       "      <th>수</th>\n",
       "      <th>암</th>\n",
       "    </tr>\n",
       "    <tr>\n",
       "      <th>RANK</th>\n",
       "      <th></th>\n",
       "      <th></th>\n",
       "      <th></th>\n",
       "    </tr>\n",
       "  </thead>\n",
       "  <tbody>\n",
       "    <tr>\n",
       "      <th>1.0</th>\n",
       "      <td>9.47</td>\n",
       "      <td>10.81</td>\n",
       "      <td>8.19</td>\n",
       "    </tr>\n",
       "    <tr>\n",
       "      <th>2.0</th>\n",
       "      <td>8.75</td>\n",
       "      <td>10.47</td>\n",
       "      <td>8.67</td>\n",
       "    </tr>\n",
       "    <tr>\n",
       "      <th>3.0</th>\n",
       "      <td>9.65</td>\n",
       "      <td>9.97</td>\n",
       "      <td>8.74</td>\n",
       "    </tr>\n",
       "    <tr>\n",
       "      <th>4.0</th>\n",
       "      <td>9.40</td>\n",
       "      <td>9.60</td>\n",
       "      <td>9.19</td>\n",
       "    </tr>\n",
       "    <tr>\n",
       "      <th>5.0</th>\n",
       "      <td>9.00</td>\n",
       "      <td>9.09</td>\n",
       "      <td>9.75</td>\n",
       "    </tr>\n",
       "  </tbody>\n",
       "</table>\n",
       "</div>"
      ],
      "text/plain": [
       "SEX      거      수     암\n",
       "RANK                   \n",
       "1.0   9.47  10.81  8.19\n",
       "2.0   8.75  10.47  8.67\n",
       "3.0   9.65   9.97  8.74\n",
       "4.0   9.40   9.60  9.19\n",
       "5.0   9.00   9.09  9.75"
      ]
     },
     "execution_count": 18,
     "metadata": {},
     "output_type": "execute_result"
    }
   ],
   "source": [
    "result = round(result, 2)\n",
    "result.head()"
   ]
  },
  {
   "cell_type": "code",
   "execution_count": 19,
   "metadata": {},
   "outputs": [],
   "source": [
    "df_merged[\"POINTS\"] = df_merged[\"RANK\"].apply(\n",
    "    lambda rank: 4 - rank if rank <= 3 else 0)"
   ]
  },
  {
   "cell_type": "code",
   "execution_count": 20,
   "metadata": {},
   "outputs": [],
   "source": [
    "df = df_merged.groupby(\"RCHOSE_NM\").agg(\"sum\").reset_index()"
   ]
  },
  {
   "cell_type": "code",
   "execution_count": 22,
   "metadata": {},
   "outputs": [],
   "source": [
    "df = df.sort_values(\"POINTS\", ascending=False)[[\"RCHOSE_NM\", \"POINTS\"]]"
   ]
  },
  {
   "cell_type": "code",
   "execution_count": 24,
   "metadata": {},
   "outputs": [
    {
     "data": {
      "text/html": [
       "<div>\n",
       "<style scoped>\n",
       "    .dataframe tbody tr th:only-of-type {\n",
       "        vertical-align: middle;\n",
       "    }\n",
       "\n",
       "    .dataframe tbody tr th {\n",
       "        vertical-align: top;\n",
       "    }\n",
       "\n",
       "    .dataframe thead th {\n",
       "        text-align: right;\n",
       "    }\n",
       "</style>\n",
       "<table border=\"1\" class=\"dataframe\">\n",
       "  <thead>\n",
       "    <tr style=\"text-align: right;\">\n",
       "      <th></th>\n",
       "      <th>RCHOSE_NM</th>\n",
       "      <th>POINTS</th>\n",
       "    </tr>\n",
       "  </thead>\n",
       "  <tbody>\n",
       "    <tr>\n",
       "      <th>0</th>\n",
       "      <td>신천보스</td>\n",
       "      <td>25.0</td>\n",
       "    </tr>\n",
       "    <tr>\n",
       "      <th>1</th>\n",
       "      <td>금포스카이</td>\n",
       "      <td>24.0</td>\n",
       "    </tr>\n",
       "    <tr>\n",
       "      <th>2</th>\n",
       "      <td>한강의기적</td>\n",
       "      <td>23.0</td>\n",
       "    </tr>\n",
       "    <tr>\n",
       "      <th>3</th>\n",
       "      <td>가리사니</td>\n",
       "      <td>23.0</td>\n",
       "    </tr>\n",
       "    <tr>\n",
       "      <th>4</th>\n",
       "      <td>신천돌채</td>\n",
       "      <td>22.0</td>\n",
       "    </tr>\n",
       "  </tbody>\n",
       "</table>\n",
       "</div>"
      ],
      "text/plain": [
       "  RCHOSE_NM  POINTS\n",
       "0      신천보스    25.0\n",
       "1     금포스카이    24.0\n",
       "2     한강의기적    23.0\n",
       "3      가리사니    23.0\n",
       "4      신천돌채    22.0"
      ]
     },
     "execution_count": 24,
     "metadata": {},
     "output_type": "execute_result"
    }
   ],
   "source": [
    "result = df.reset_index(drop=True)\n",
    "result.head()"
   ]
  },
  {
   "cell_type": "code",
   "execution_count": 25,
   "metadata": {},
   "outputs": [],
   "source": [
    "import makedata"
   ]
  },
  {
   "cell_type": "code",
   "execution_count": 28,
   "metadata": {},
   "outputs": [
    {
     "data": {
      "text/html": [
       "<div>\n",
       "<style scoped>\n",
       "    .dataframe tbody tr th:only-of-type {\n",
       "        vertical-align: middle;\n",
       "    }\n",
       "\n",
       "    .dataframe tbody tr th {\n",
       "        vertical-align: top;\n",
       "    }\n",
       "\n",
       "    .dataframe thead th {\n",
       "        text-align: right;\n",
       "    }\n",
       "</style>\n",
       "<table border=\"1\" class=\"dataframe\">\n",
       "  <thead>\n",
       "    <tr style=\"text-align: right;\">\n",
       "      <th></th>\n",
       "      <th>Users ID</th>\n",
       "      <th>Age</th>\n",
       "      <th>Name</th>\n",
       "    </tr>\n",
       "  </thead>\n",
       "  <tbody>\n",
       "    <tr>\n",
       "      <th>0</th>\n",
       "      <td>1</td>\n",
       "      <td>33</td>\n",
       "      <td>Alvin</td>\n",
       "    </tr>\n",
       "    <tr>\n",
       "      <th>1</th>\n",
       "      <td>2</td>\n",
       "      <td>29</td>\n",
       "      <td>Alex</td>\n",
       "    </tr>\n",
       "    <tr>\n",
       "      <th>2</th>\n",
       "      <td>3</td>\n",
       "      <td>24</td>\n",
       "      <td>Arnold</td>\n",
       "    </tr>\n",
       "    <tr>\n",
       "      <th>3</th>\n",
       "      <td>4</td>\n",
       "      <td>24</td>\n",
       "      <td>Billy</td>\n",
       "    </tr>\n",
       "    <tr>\n",
       "      <th>4</th>\n",
       "      <td>5</td>\n",
       "      <td>21</td>\n",
       "      <td>Andrew</td>\n",
       "    </tr>\n",
       "    <tr>\n",
       "      <th>5</th>\n",
       "      <td>6</td>\n",
       "      <td>25</td>\n",
       "      <td>Anthony</td>\n",
       "    </tr>\n",
       "    <tr>\n",
       "      <th>6</th>\n",
       "      <td>7</td>\n",
       "      <td>33</td>\n",
       "      <td>Jin</td>\n",
       "    </tr>\n",
       "    <tr>\n",
       "      <th>7</th>\n",
       "      <td>8</td>\n",
       "      <td>27</td>\n",
       "      <td>Alan</td>\n",
       "    </tr>\n",
       "  </tbody>\n",
       "</table>\n",
       "</div>"
      ],
      "text/plain": [
       "   Users ID  Age     Name\n",
       "0         1   33    Alvin\n",
       "1         2   29     Alex\n",
       "2         3   24   Arnold\n",
       "3         4   24    Billy\n",
       "4         5   21   Andrew\n",
       "5         6   25  Anthony\n",
       "6         7   33      Jin\n",
       "7         8   27     Alan"
      ]
     },
     "execution_count": 28,
     "metadata": {},
     "output_type": "execute_result"
    }
   ],
   "source": [
    "datas = {}\n",
    "datas[\"Users ID\"] = list(range(1, 9))\n",
    "datas[\"Age\"] = [makedata.get_age() for _ in range(8)]\n",
    "names = []\n",
    "while True:\n",
    "    name = makedata.get_name()\n",
    "    if name not in names:\n",
    "        names.append(name)\n",
    "    if len(names) >= 8:\n",
    "        break\n",
    "datas[\"Name\"] = names\n",
    "\n",
    "user_df = pd.DataFrame(datas)\n",
    "user_df"
   ]
  },
  {
   "cell_type": "code",
   "execution_count": null,
   "metadata": {},
   "outputs": [],
   "source": []
  }
 ],
 "metadata": {
  "kernelspec": {
   "display_name": "Python 3",
   "language": "python",
   "name": "python3"
  },
  "language_info": {
   "codemirror_mode": {
    "name": "ipython",
    "version": 3
   },
   "file_extension": ".py",
   "mimetype": "text/x-python",
   "name": "python",
   "nbconvert_exporter": "python",
   "pygments_lexer": "ipython3",
   "version": "3.8.3"
  }
 },
 "nbformat": 4,
 "nbformat_minor": 4
}
