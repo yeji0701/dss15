{
 "cells": [
  {
   "cell_type": "markdown",
   "metadata": {},
   "source": [
    "#### 행정안전부 보도자료\n",
    "- https://mois.go.kr"
   ]
  },
  {
   "cell_type": "code",
   "execution_count": 1,
   "metadata": {},
   "outputs": [],
   "source": [
    "import requests\n",
    "from bs4 import BeautifulSoup"
   ]
  },
  {
   "cell_type": "code",
   "execution_count": 2,
   "metadata": {},
   "outputs": [],
   "source": [
    "url = 'https://mois.go.kr/frt/bbs/type010/commonSelectBoardList.do?bbsId=BBSMSTR_000000000008'"
   ]
  },
  {
   "cell_type": "code",
   "execution_count": 4,
   "metadata": {},
   "outputs": [
    {
     "data": {
      "text/plain": [
       "{'nttId': 0,\n",
       " 'bbsTyCode': 'BBST03',\n",
       " 'bbsAttrbCode': 'BBSA03',\n",
       " 'authFlag': 'Y',\n",
       " 'pageIndex': 1,\n",
       " 'cal_url': '/sym/cal/EgovNormalCalPopup.do',\n",
       " 'searchCnd': 0}"
      ]
     },
     "execution_count": 4,
     "metadata": {},
     "output_type": "execute_result"
    }
   ],
   "source": [
    "page = 1\n",
    "params = {\n",
    "    'nttId': 0,\n",
    "    'bbsTyCode' : 'BBST03',\n",
    "    'bbsAttrbCode' : 'BBSA03',\n",
    "    'authFlag' : 'Y',\n",
    "    'pageIndex' : page,\n",
    "    'cal_url' : '/sym/cal/EgovNormalCalPopup.do',\n",
    "    'searchCnd' : 0\n",
    "}\n",
    "params"
   ]
  },
  {
   "cell_type": "code",
   "execution_count": 5,
   "metadata": {},
   "outputs": [
    {
     "data": {
      "text/plain": [
       "<Response [200]>"
      ]
     },
     "execution_count": 5,
     "metadata": {},
     "output_type": "execute_result"
    }
   ],
   "source": [
    "response= requests.post(url, params)\n",
    "response"
   ]
  },
  {
   "cell_type": "code",
   "execution_count": 6,
   "metadata": {},
   "outputs": [],
   "source": [
    "dom = BeautifulSoup(response.content, 'html.parser')"
   ]
  },
  {
   "cell_type": "code",
   "execution_count": 7,
   "metadata": {},
   "outputs": [
    {
     "data": {
      "text/plain": [
       "10"
      ]
     },
     "execution_count": 7,
     "metadata": {},
     "output_type": "execute_result"
    }
   ],
   "source": [
    "elements = dom.select('.table_style1 > tbody > tr')\n",
    "len(elements)"
   ]
  },
  {
   "cell_type": "code",
   "execution_count": 8,
   "metadata": {},
   "outputs": [
    {
     "data": {
      "text/html": [
       "<div>\n",
       "<style scoped>\n",
       "    .dataframe tbody tr th:only-of-type {\n",
       "        vertical-align: middle;\n",
       "    }\n",
       "\n",
       "    .dataframe tbody tr th {\n",
       "        vertical-align: top;\n",
       "    }\n",
       "\n",
       "    .dataframe thead th {\n",
       "        text-align: right;\n",
       "    }\n",
       "</style>\n",
       "<table border=\"1\" class=\"dataframe\">\n",
       "  <thead>\n",
       "    <tr style=\"text-align: right;\">\n",
       "      <th></th>\n",
       "      <th>no</th>\n",
       "      <th>title</th>\n",
       "      <th>writer</th>\n",
       "      <th>date</th>\n",
       "      <th>pv</th>\n",
       "    </tr>\n",
       "  </thead>\n",
       "  <tbody>\n",
       "    <tr>\n",
       "      <th>5</th>\n",
       "      <td>11395</td>\n",
       "      <td>행안부, 지자체에 정보보호 신기술 및 발전 방향 공유한다</td>\n",
       "      <td>디지털안전정책과</td>\n",
       "      <td>2020.10.27.</td>\n",
       "      <td>218</td>\n",
       "    </tr>\n",
       "    <tr>\n",
       "      <th>6</th>\n",
       "      <td>11394</td>\n",
       "      <td>지역 활력을 위한 청년들의 활동 성과 공유한다</td>\n",
       "      <td>지역공동체과</td>\n",
       "      <td>2020.10.27.</td>\n",
       "      <td>189</td>\n",
       "    </tr>\n",
       "    <tr>\n",
       "      <th>7</th>\n",
       "      <td>11393</td>\n",
       "      <td>우리동네 혁신 사례 60초 영상 공모전 우수작 발표</td>\n",
       "      <td>지역사회혁신정책과</td>\n",
       "      <td>2020.10.27.</td>\n",
       "      <td>200</td>\n",
       "    </tr>\n",
       "    <tr>\n",
       "      <th>8</th>\n",
       "      <td>11392</td>\n",
       "      <td>2020 자치분권위원회-OECD 컨퍼런스 온라인 개최</td>\n",
       "      <td>홍보담당관</td>\n",
       "      <td>2020.10.26.</td>\n",
       "      <td>282</td>\n",
       "    </tr>\n",
       "    <tr>\n",
       "      <th>9</th>\n",
       "      <td>11391</td>\n",
       "      <td>10개국 공무원 교육훈련기관장이 모여 공무원 교육 방향 논의한다</td>\n",
       "      <td>국제교육협력과</td>\n",
       "      <td>2020.10.26.</td>\n",
       "      <td>280</td>\n",
       "    </tr>\n",
       "  </tbody>\n",
       "</table>\n",
       "</div>"
      ],
      "text/plain": [
       "      no                                title     writer         date   pv\n",
       "5  11395      행안부, 지자체에 정보보호 신기술 및 발전 방향 공유한다   디지털안전정책과  2020.10.27.  218\n",
       "6  11394            지역 활력을 위한 청년들의 활동 성과 공유한다     지역공동체과  2020.10.27.  189\n",
       "7  11393         우리동네 혁신 사례 60초 영상 공모전 우수작 발표  지역사회혁신정책과  2020.10.27.  200\n",
       "8  11392        2020 자치분권위원회-OECD 컨퍼런스 온라인 개최      홍보담당관  2020.10.26.  282\n",
       "9  11391  10개국 공무원 교육훈련기관장이 모여 공무원 교육 방향 논의한다    국제교육협력과  2020.10.26.  280"
      ]
     },
     "execution_count": 8,
     "metadata": {},
     "output_type": "execute_result"
    }
   ],
   "source": [
    "datas = []\n",
    "for element in elements:\n",
    "    datas.append({\n",
    "        'no' : element.select_one('td:nth-child(1)').text.strip(),\n",
    "        'title' : element.select_one('td:nth-child(2)').text.strip(),\n",
    "        'writer' : element.select_one('td:nth-child(4)').text.strip(),\n",
    "        'date' : element.select_one('td:nth-child(5)').text.strip(),\n",
    "        'pv' : element.select_one('td:nth-child(6)').text.strip(),\n",
    "#         'link' : element.select_one('td:nth-child(2) a').get('href')\n",
    "    })\n",
    "mois_df = pd.DataFrame(datas)\n",
    "mois_df.tail()"
   ]
  },
  {
   "cell_type": "code",
   "execution_count": null,
   "metadata": {},
   "outputs": [],
   "source": []
  }
 ],
 "metadata": {
  "kernelspec": {
   "display_name": "Python 3",
   "language": "python",
   "name": "python3"
  },
  "language_info": {
   "codemirror_mode": {
    "name": "ipython",
    "version": 3
   },
   "file_extension": ".py",
   "mimetype": "text/x-python",
   "name": "python",
   "nbconvert_exporter": "python",
   "pygments_lexer": "ipython3",
   "version": "3.8.3"
  }
 },
 "nbformat": 4,
 "nbformat_minor": 4
}
