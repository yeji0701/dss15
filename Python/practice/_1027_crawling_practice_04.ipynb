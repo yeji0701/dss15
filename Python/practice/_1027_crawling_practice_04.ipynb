{
 "cells": [
  {
   "cell_type": "markdown",
   "metadata": {},
   "source": [
    "### HTML 데이터 파싱을 이용한 크롤링\n",
    "네이버 연관 검색어\n",
    "- 1. 웹 페이지 분석 : URL 찾기\n",
    "- 2. 요청 -> 응답 : HTML(str)\n",
    "- 3. HTML(str) -> BeautifulSoup obj (css selector) -> DF"
   ]
  },
  {
   "cell_type": "code",
   "execution_count": 21,
   "metadata": {},
   "outputs": [],
   "source": [
    "import requests\n",
    "from bs4 import BeautifulSoup"
   ]
  },
  {
   "cell_type": "code",
   "execution_count": 22,
   "metadata": {},
   "outputs": [
    {
     "name": "stdout",
     "output_type": "stream",
     "text": [
      "https://search.naver.com/search.naver?sm=top_hty&fbm=0&ie=utf8&query=삼성전자\n"
     ]
    }
   ],
   "source": [
    "#1. 웹 페이지 분석 : URL\n",
    "query = '삼성전자'\n",
    "url = 'https://search.naver.com/search.naver?\\\n",
    "sm=top_hty&fbm=0&ie=utf8&query={}'.format(query)\n",
    "print(url)"
   ]
  },
  {
   "cell_type": "code",
   "execution_count": 23,
   "metadata": {},
   "outputs": [
    {
     "data": {
      "text/plain": [
       "<Response [200]>"
      ]
     },
     "execution_count": 23,
     "metadata": {},
     "output_type": "execute_result"
    }
   ],
   "source": [
    "#2. request -> response : HTML(str)\n",
    "response = requests.get(url)\n",
    "response"
   ]
  },
  {
   "cell_type": "code",
   "execution_count": 24,
   "metadata": {},
   "outputs": [
    {
     "data": {
      "text/plain": [
       "bs4.BeautifulSoup"
      ]
     },
     "execution_count": 24,
     "metadata": {},
     "output_type": "execute_result"
    }
   ],
   "source": [
    "#3. HTML(str) -> BeaBeautifulSoup Ibj (css selector) -> DF\n",
    "dom = BeautifulSoup(response.content, 'html.parser')\n",
    "type(dom)"
   ]
  },
  {
   "cell_type": "code",
   "execution_count": 25,
   "metadata": {},
   "outputs": [],
   "source": [
    "# dom\n",
    "# select : 여려 개의 element 객체를 리스트로 가져옴\n",
    "# select_one : 하나의 element 객체를 가져옴"
   ]
  },
  {
   "cell_type": "code",
   "execution_count": 26,
   "metadata": {},
   "outputs": [
    {
     "data": {
      "text/plain": [
       "10"
      ]
     },
     "execution_count": 26,
     "metadata": {},
     "output_type": "execute_result"
    }
   ],
   "source": [
    "elements = dom.select('._related_keyword_ul > li')\n",
    "len(elements)"
   ]
  },
  {
   "cell_type": "code",
   "execution_count": 27,
   "metadata": {},
   "outputs": [
    {
     "name": "stdout",
     "output_type": "stream",
     "text": [
      "['삼성', '삼성물산', '삼성전자우', '삼성주식', '삼성생명', '카카오', '이건희', '빅히트', '삼성 주가', '현대자동차']\n"
     ]
    }
   ],
   "source": [
    "keywords = [element.text.strip() for element in elements]\n",
    "print(keywords)"
   ]
  },
  {
   "cell_type": "code",
   "execution_count": 14,
   "metadata": {},
   "outputs": [
    {
     "data": {
      "text/plain": [
       "bs4.element.Tag"
      ]
     },
     "execution_count": 14,
     "metadata": {},
     "output_type": "execute_result"
    }
   ],
   "source": [
    "type(elements[0])"
   ]
  },
  {
   "cell_type": "code",
   "execution_count": 29,
   "metadata": {},
   "outputs": [],
   "source": [
    "# 함수로 만들기\n",
    "def naver_relational_keywords(query):\n",
    "    url = 'https://search.naver.com/search.naver?\\\n",
    "sm=top_hty&fbm=0&ie=utf8&query={}'.format(query)\n",
    "    response = requests.get(url)\n",
    "    dom = BeautifulSoup(response.content, 'html.parser')\n",
    "    elements = dom.select('._related_keyword_ul > li')\n",
    "    return [element.text.strip() for element in elements]"
   ]
  },
  {
   "cell_type": "code",
   "execution_count": 30,
   "metadata": {},
   "outputs": [
    {
     "name": "stdout",
     "output_type": "stream",
     "text": [
      "['코로나 2.5단계 연장', '코로나 라이브', '코로나 백신', '코로나 확진자', '코로나 1단계', '코로나 2단계', '코로나 부산', '부산 코로나', '독감주사 사망', '코로나 증상']\n"
     ]
    }
   ],
   "source": [
    "query = '코로나'\n",
    "result = naver_relational_keywords(query)\n",
    "print(result)"
   ]
  },
  {
   "cell_type": "code",
   "execution_count": null,
   "metadata": {},
   "outputs": [],
   "source": []
  },
  {
   "cell_type": "markdown",
   "metadata": {},
   "source": [
    "#### 다음 뉴스 데이터\n",
    "- 다음 뉴스의 메인 페이지 15개 기사의 제목, 링크, 내용 수집"
   ]
  },
  {
   "cell_type": "code",
   "execution_count": 80,
   "metadata": {},
   "outputs": [],
   "source": [
    "#1. URL\n",
    "url = 'https://news.daum.net/'"
   ]
  },
  {
   "cell_type": "code",
   "execution_count": 81,
   "metadata": {},
   "outputs": [
    {
     "data": {
      "text/plain": [
       "<Response [200]>"
      ]
     },
     "execution_count": 81,
     "metadata": {},
     "output_type": "execute_result"
    }
   ],
   "source": [
    "#2. HTML(str)\n",
    "response = requests.get(url)\n",
    "response"
   ]
  },
  {
   "cell_type": "code",
   "execution_count": 82,
   "metadata": {},
   "outputs": [],
   "source": [
    "#3. BeautiBeautifulSoup\n",
    "dom = BeautifulSoup(response.content, 'html.parser')"
   ]
  },
  {
   "cell_type": "code",
   "execution_count": 83,
   "metadata": {},
   "outputs": [
    {
     "data": {
      "text/plain": [
       "15"
      ]
     },
     "execution_count": 83,
     "metadata": {},
     "output_type": "execute_result"
    }
   ],
   "source": [
    "elements = dom.select('.list_headline > li')\n",
    "len(elements)"
   ]
  },
  {
   "cell_type": "code",
   "execution_count": 84,
   "metadata": {},
   "outputs": [
    {
     "data": {
      "text/plain": [
       "<li class=\"item_main\">\n",
       "<a class=\"link_cont\" data-tiara-custom=\"contentUniqueKey=hamny-20201027133917659\" data-tiara-id=\"20201027133917659\" data-tiara-layer=\"photo\" data-tiara-ordnum=\"1\" data-tiara-type=\"harmony\" href=\"https://news.v.daum.net/v/20201027133917659\">\n",
       "<span class=\"wrap_thumb\">\n",
       "<img alt=\"금감원 고질병?..비위 직원 잇단 '솜방망이' 처벌 논란\" class=\"thumb_g\" src=\"https://img1.daumcdn.net/thumb/S189x104ht.u/?fname=https%3A%2F%2Ft1.daumcdn.net%2Fnews%2F202010%2F27%2FNEWS1%2F20201027133923004zqmr.jpg&amp;scode=media\"/>\n",
       "</span>\n",
       "<strong class=\"tit_g\">금감원 고질병?..비위 직원 잇단 '솜방망이' 처벌 논란</strong>\n",
       "</a>\n",
       "</li>"
      ]
     },
     "execution_count": 84,
     "metadata": {},
     "output_type": "execute_result"
    }
   ],
   "source": [
    "elements[0]"
   ]
  },
  {
   "cell_type": "code",
   "execution_count": 85,
   "metadata": {},
   "outputs": [
    {
     "data": {
      "text/html": [
       "<div>\n",
       "<style scoped>\n",
       "    .dataframe tbody tr th:only-of-type {\n",
       "        vertical-align: middle;\n",
       "    }\n",
       "\n",
       "    .dataframe tbody tr th {\n",
       "        vertical-align: top;\n",
       "    }\n",
       "\n",
       "    .dataframe thead th {\n",
       "        text-align: right;\n",
       "    }\n",
       "</style>\n",
       "<table border=\"1\" class=\"dataframe\">\n",
       "  <thead>\n",
       "    <tr style=\"text-align: right;\">\n",
       "      <th></th>\n",
       "      <th>title</th>\n",
       "      <th>link</th>\n",
       "    </tr>\n",
       "  </thead>\n",
       "  <tbody>\n",
       "    <tr>\n",
       "      <th>10</th>\n",
       "      <td>백신 속 백색입자, 원성분 단백질 불과..\"효과·안전성 문제없다\"</td>\n",
       "      <td>https://news.v.daum.net/v/20201027133640580</td>\n",
       "    </tr>\n",
       "    <tr>\n",
       "      <th>11</th>\n",
       "      <td>LG-SK  배터리 영업비밀 소송 최종 결정 또 연기한겨레</td>\n",
       "      <td>https://news.v.daum.net/v/20201027131605875</td>\n",
       "    </tr>\n",
       "    <tr>\n",
       "      <th>12</th>\n",
       "      <td>\"이혼소송 중에도 폭력을 휘두르는  남편에게서 어떻게 벗어날까요?\"YTN</td>\n",
       "      <td>https://news.v.daum.net/v/20201027131527864</td>\n",
       "    </tr>\n",
       "    <tr>\n",
       "      <th>13</th>\n",
       "      <td>김근식 \"영락없는 코미디..무개념 김김 헛소리에 조국 잽싸게 화답\"중앙일보</td>\n",
       "      <td>https://news.v.daum.net/v/20201027131011734</td>\n",
       "    </tr>\n",
       "    <tr>\n",
       "      <th>14</th>\n",
       "      <td>존재감 키운 윤석열, '대망론'에 쏟아진 말말말시사저널</td>\n",
       "      <td>https://news.v.daum.net/v/20201027130203526</td>\n",
       "    </tr>\n",
       "  </tbody>\n",
       "</table>\n",
       "</div>"
      ],
      "text/plain": [
       "                                        title  \\\n",
       "10       백신 속 백색입자, 원성분 단백질 불과..\"효과·안전성 문제없다\"   \n",
       "11           LG-SK  배터리 영업비밀 소송 최종 결정 또 연기한겨레   \n",
       "12   \"이혼소송 중에도 폭력을 휘두르는  남편에게서 어떻게 벗어날까요?\"YTN   \n",
       "13  김근식 \"영락없는 코미디..무개념 김김 헛소리에 조국 잽싸게 화답\"중앙일보   \n",
       "14             존재감 키운 윤석열, '대망론'에 쏟아진 말말말시사저널   \n",
       "\n",
       "                                           link  \n",
       "10  https://news.v.daum.net/v/20201027133640580  \n",
       "11  https://news.v.daum.net/v/20201027131605875  \n",
       "12  https://news.v.daum.net/v/20201027131527864  \n",
       "13  https://news.v.daum.net/v/20201027131011734  \n",
       "14  https://news.v.daum.net/v/20201027130203526  "
      ]
     },
     "execution_count": 85,
     "metadata": {},
     "output_type": "execute_result"
    }
   ],
   "source": [
    "datas = []\n",
    "\n",
    "for element in elements:\n",
    "    datas.append({\n",
    "        'title' : element.select_one('.tit_g').text.strip().replace('\\n', ''),\n",
    "        'link' : element.select_one('a').get('href'),\n",
    "    })\n",
    "    \n",
    "articles_df = pd.DataFrame(datas)\n",
    "articles_df.tail()"
   ]
  },
  {
   "cell_type": "code",
   "execution_count": 86,
   "metadata": {},
   "outputs": [],
   "source": [
    "# contect data 추가"
   ]
  },
  {
   "cell_type": "code",
   "execution_count": 87,
   "metadata": {},
   "outputs": [
    {
     "name": "stdout",
     "output_type": "stream",
     "text": [
      "https://news.v.daum.net/v/20201027133917659\n"
     ]
    }
   ],
   "source": [
    "link = articles_df.loc[0, 'link']\n",
    "print(link)"
   ]
  },
  {
   "cell_type": "code",
   "execution_count": 90,
   "metadata": {},
   "outputs": [],
   "source": [
    "response = requests.get(link)\n",
    "dom = BeautifulSoup(response.content, 'html.parser')"
   ]
  },
  {
   "cell_type": "code",
   "execution_count": 93,
   "metadata": {},
   "outputs": [
    {
     "data": {
      "text/plain": [
       "\"(서울=뉴스1) 박응진 기자 = 금융감독원이 비위를 일으킨 내부 직원들을 잇달아 '솜방망이' 처벌하는 등 내부통제에 실패한 결과에 대해 스스로 너무 관대한 것 아니냐는 지적이 제기\""
      ]
     },
     "execution_count": 93,
     "metadata": {},
     "output_type": "execute_result"
    }
   ],
   "source": [
    "content = dom.select_one('#harmonyContainer').text.strip().replace('\\n', '')\n",
    "content [:100]"
   ]
  },
  {
   "cell_type": "code",
   "execution_count": 94,
   "metadata": {},
   "outputs": [
    {
     "data": {
      "text/plain": [
       "'유흥업소서 라임정보 건넸는데 포상전력 있다고 감봉으로 낮춰윤석헌 \"직접 연루 없다\"..권은희 \"금감원, 형사 책임 당사자\"'"
      ]
     },
     "execution_count": 94,
     "metadata": {},
     "output_type": "execute_result"
    }
   ],
   "source": [
    "content = dom.select_one('.summary_view').text.strip().replace('\\n', '')\n",
    "content [:100]"
   ]
  },
  {
   "cell_type": "code",
   "execution_count": 99,
   "metadata": {},
   "outputs": [],
   "source": [
    "# 함수로 만들기\n",
    "def get_content(link):\n",
    "    response = requests.get(link)\n",
    "    dom = BeautifulSoup(response.content, 'html.parser')\n",
    "    return dom.select_one('#harmonyContainer').text.strip().replace('\\n', '')"
   ]
  },
  {
   "cell_type": "code",
   "execution_count": 101,
   "metadata": {},
   "outputs": [
    {
     "data": {
      "text/html": [
       "<div>\n",
       "<style scoped>\n",
       "    .dataframe tbody tr th:only-of-type {\n",
       "        vertical-align: middle;\n",
       "    }\n",
       "\n",
       "    .dataframe tbody tr th {\n",
       "        vertical-align: top;\n",
       "    }\n",
       "\n",
       "    .dataframe thead th {\n",
       "        text-align: right;\n",
       "    }\n",
       "</style>\n",
       "<table border=\"1\" class=\"dataframe\">\n",
       "  <thead>\n",
       "    <tr style=\"text-align: right;\">\n",
       "      <th></th>\n",
       "      <th>title</th>\n",
       "      <th>link</th>\n",
       "      <th>contents</th>\n",
       "    </tr>\n",
       "  </thead>\n",
       "  <tbody>\n",
       "    <tr>\n",
       "      <th>10</th>\n",
       "      <td>백신 속 백색입자, 원성분 단백질 불과..\"효과·안전성 문제없다\"</td>\n",
       "      <td>https://news.v.daum.net/v/20201027133640580</td>\n",
       "      <td>정부가 만 62~69세를 대상으로 인플루엔자(독감) 백신 무료접종을 시작한 26일 ...</td>\n",
       "    </tr>\n",
       "    <tr>\n",
       "      <th>11</th>\n",
       "      <td>LG-SK  배터리 영업비밀 소송 최종 결정 또 연기한겨레</td>\n",
       "      <td>https://news.v.daum.net/v/20201027131605875</td>\n",
       "      <td>엘지(LG)화학과 에스케이(SK)이노베이션 간 배터리 영업비밀 침해 소송의 최종결정...</td>\n",
       "    </tr>\n",
       "    <tr>\n",
       "      <th>12</th>\n",
       "      <td>\"이혼소송 중에도 폭력을 휘두르는  남편에게서 어떻게 벗어날까요?\"YTN</td>\n",
       "      <td>https://news.v.daum.net/v/20201027131527864</td>\n",
       "      <td>YTN라디오(FM 94.5) [양소영 변호사의 상담소] □ 방송일시 : 2020년 ...</td>\n",
       "    </tr>\n",
       "    <tr>\n",
       "      <th>13</th>\n",
       "      <td>김근식 \"영락없는 코미디..무개념 김김 헛소리에 조국 잽싸게 화답\"중앙일보</td>\n",
       "      <td>https://news.v.daum.net/v/20201027131011734</td>\n",
       "      <td>국민의힘 서울 송파병 당협위원장인 김근식 경남대 교수가 27일 김용민 더불어민주당 ...</td>\n",
       "    </tr>\n",
       "    <tr>\n",
       "      <th>14</th>\n",
       "      <td>존재감 키운 윤석열, '대망론'에 쏟아진 말말말시사저널</td>\n",
       "      <td>https://news.v.daum.net/v/20201027130203526</td>\n",
       "      <td>(시사저널=이혜영 기자)            윤석열 검찰총장이 22일 서울 여의도 ...</td>\n",
       "    </tr>\n",
       "  </tbody>\n",
       "</table>\n",
       "</div>"
      ],
      "text/plain": [
       "                                        title  \\\n",
       "10       백신 속 백색입자, 원성분 단백질 불과..\"효과·안전성 문제없다\"   \n",
       "11           LG-SK  배터리 영업비밀 소송 최종 결정 또 연기한겨레   \n",
       "12   \"이혼소송 중에도 폭력을 휘두르는  남편에게서 어떻게 벗어날까요?\"YTN   \n",
       "13  김근식 \"영락없는 코미디..무개념 김김 헛소리에 조국 잽싸게 화답\"중앙일보   \n",
       "14             존재감 키운 윤석열, '대망론'에 쏟아진 말말말시사저널   \n",
       "\n",
       "                                           link  \\\n",
       "10  https://news.v.daum.net/v/20201027133640580   \n",
       "11  https://news.v.daum.net/v/20201027131605875   \n",
       "12  https://news.v.daum.net/v/20201027131527864   \n",
       "13  https://news.v.daum.net/v/20201027131011734   \n",
       "14  https://news.v.daum.net/v/20201027130203526   \n",
       "\n",
       "                                             contents  \n",
       "10  정부가 만 62~69세를 대상으로 인플루엔자(독감) 백신 무료접종을 시작한 26일 ...  \n",
       "11  엘지(LG)화학과 에스케이(SK)이노베이션 간 배터리 영업비밀 침해 소송의 최종결정...  \n",
       "12  YTN라디오(FM 94.5) [양소영 변호사의 상담소] □ 방송일시 : 2020년 ...  \n",
       "13  국민의힘 서울 송파병 당협위원장인 김근식 경남대 교수가 27일 김용민 더불어민주당 ...  \n",
       "14  (시사저널=이혜영 기자)            윤석열 검찰총장이 22일 서울 여의도 ...  "
      ]
     },
     "execution_count": 101,
     "metadata": {},
     "output_type": "execute_result"
    }
   ],
   "source": [
    "articles_df[\"contents\"] = articles_df['link'].apply(get_content)\n",
    "articles_df.tail()"
   ]
  },
  {
   "cell_type": "code",
   "execution_count": null,
   "metadata": {},
   "outputs": [],
   "source": []
  }
 ],
 "metadata": {
  "kernelspec": {
   "display_name": "Python 3",
   "language": "python",
   "name": "python3"
  },
  "language_info": {
   "codemirror_mode": {
    "name": "ipython",
    "version": 3
   },
   "file_extension": ".py",
   "mimetype": "text/x-python",
   "name": "python",
   "nbconvert_exporter": "python",
   "pygments_lexer": "ipython3",
   "version": "3.8.3"
  }
 },
 "nbformat": 4,
 "nbformat_minor": 4
}
