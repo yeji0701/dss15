{
 "cells": [
  {
   "cell_type": "code",
   "execution_count": 2,
   "metadata": {},
   "outputs": [
    {
     "name": "stdout",
     "output_type": "stream",
     "text": [
      "Overwriting zigbang.py\n"
     ]
    }
   ],
   "source": [
    "%%writefile zigbang.py\n",
    "import pandas as pd\n",
    "import requests\n",
    "import geohash2\n",
    "\n",
    "def crawling_apt(addr):\n",
    "    # 동이름 -> 위도,경도\n",
    "    url = \"https://apis.zigbang.com/search?q={}\".format(addr)\n",
    "    response = requests.get(url)\n",
    "    data = response.json()[\"items\"][0]\n",
    "    lat, lng = data[\"lat\"], data[\"lng\"]\n",
    "    \n",
    "    # 위도,경도 -> geohash\n",
    "    geohash = geohash2.encode(lat, lng, precision=5)\n",
    "    \n",
    "    # geohash -> ids\n",
    "    url = \"https://apis.zigbang.com/property/apartments/items?\\\n",
    "domain=zigbang&geohash={}\\\n",
    "&q=type=sales%7Cprice=0~-1%7CfloorArea=0~-1\".format(geohash)\n",
    "    response = requests.get(url)\n",
    "    datas = response.json()[\"items\"]\n",
    "    ids = [data[\"itemId\"] for data in datas]\n",
    "    \n",
    "    # ids -> items : 200개씩\n",
    "    dfs = [] \n",
    "    for idx in range(0, len(ids), 200):\n",
    "        start, end = idx, idx + 200\n",
    "        ids_str = str(ids[start:end]).replace(\" \", \"\")\n",
    "        url = \"https://apis.zigbang.com/property/apartments/items?\\\n",
    "        vritemIds={ids}&itemIds={ids}&citemIds={ids}\".format(ids=ids_str)\n",
    "        response = requests.get(url)\n",
    "        datas = response.json()[\"items\"]\n",
    "        item_df = pd.DataFrame(datas)\n",
    "        columns = [ \"itemId\", \"buildingFloor\", \"groupedItemFloor\", \"grossArea\", \"lat\", \"lng\", \"sales\", \"itemTitle\" ]\n",
    "        item_df = item_df[columns]\n",
    "        item_df[\"m2\"] = item_df[\"grossArea\"].apply(lambda data: data[\"m2\"])\n",
    "        item_df[\"p\"] = item_df[\"grossArea\"].apply(lambda data: data[\"p\"])\n",
    "        item_df.drop(columns=[\"grossArea\"], inplace=True)\n",
    "        dfs.append(item_df)\n",
    "    result_df = pd.concat(dfs)\n",
    "    result_df.reset_index(drop=True, inplace=True)\n",
    "    return result_df"
   ]
  },
  {
   "cell_type": "code",
   "execution_count": null,
   "metadata": {},
   "outputs": [],
   "source": []
  },
  {
   "cell_type": "code",
   "execution_count": null,
   "metadata": {},
   "outputs": [],
   "source": []
  },
  {
   "cell_type": "code",
   "execution_count": 4,
   "metadata": {},
   "outputs": [
    {
     "name": "stdout",
     "output_type": "stream",
     "text": [
      "Collecting fake_useragent\n",
      "  Downloading fake-useragent-0.1.11.tar.gz (13 kB)\n",
      "Building wheels for collected packages: fake-useragent\n",
      "  Building wheel for fake-useragent (setup.py): started\n",
      "  Building wheel for fake-useragent (setup.py): finished with status 'done'\n",
      "  Created wheel for fake-useragent: filename=fake_useragent-0.1.11-py3-none-any.whl size=13489 sha256=4030c2d6681500262d88369286ae100406d9871cdc375aefaa8c36402db3802f\n",
      "  Stored in directory: c:\\users\\luvu1\\appdata\\local\\pip\\cache\\wheels\\a0\\b8\\b7\\8c942b2c5be5158b874a88195116b05ad124bac795f6665e65\n",
      "Successfully built fake-useragent\n",
      "Installing collected packages: fake-useragent\n",
      "Successfully installed fake-useragent-0.1.11\n"
     ]
    }
   ],
   "source": [
    "!pip install fake_useragent"
   ]
  },
  {
   "cell_type": "code",
   "execution_count": 5,
   "metadata": {},
   "outputs": [],
   "source": [
    "from fake_useragent import UserAgent"
   ]
  },
  {
   "cell_type": "code",
   "execution_count": 6,
   "metadata": {},
   "outputs": [
    {
     "data": {
      "text/plain": [
       "'Mozilla/5.0 (Macintosh; Intel Mac OS X 10_8_4) AppleWebKit/537.36 (KHTML, like Gecko) Chrome/49.0.2656.18 Safari/537.36'"
      ]
     },
     "execution_count": 6,
     "metadata": {},
     "output_type": "execute_result"
    }
   ],
   "source": [
    "UserAgent().chrome"
   ]
  },
  {
   "cell_type": "code",
   "execution_count": 8,
   "metadata": {},
   "outputs": [
    {
     "data": {
      "text/plain": [
       "<Response [200]>"
      ]
     },
     "execution_count": 8,
     "metadata": {},
     "output_type": "execute_result"
    }
   ],
   "source": [
    "url = \"https://finance.daum.net/api/exchanges/summaries\"\n",
    "headers = {\n",
    "    \"user-agent\" : UserAgent().chrome,\n",
    "    \"referer\": \"https://finance.daum.net/exchanges\",\n",
    "}\n",
    "response = requests.get(url, headers=headers)\n",
    "response"
   ]
  },
  {
   "cell_type": "code",
   "execution_count": 14,
   "metadata": {},
   "outputs": [
    {
     "data": {
      "text/html": [
       "<div>\n",
       "<style scoped>\n",
       "    .dataframe tbody tr th:only-of-type {\n",
       "        vertical-align: middle;\n",
       "    }\n",
       "\n",
       "    .dataframe tbody tr th {\n",
       "        vertical-align: top;\n",
       "    }\n",
       "\n",
       "    .dataframe thead th {\n",
       "        text-align: right;\n",
       "    }\n",
       "</style>\n",
       "<table border=\"1\" class=\"dataframe\">\n",
       "  <thead>\n",
       "    <tr style=\"text-align: right;\">\n",
       "      <th></th>\n",
       "      <th>symbolCode</th>\n",
       "      <th>date</th>\n",
       "      <th>currencyCode</th>\n",
       "      <th>currencyName</th>\n",
       "      <th>currencyUnit</th>\n",
       "      <th>country</th>\n",
       "      <th>region</th>\n",
       "      <th>name</th>\n",
       "      <th>recurrenceCount</th>\n",
       "      <th>basePrice</th>\n",
       "      <th>...</th>\n",
       "      <th>changeRate</th>\n",
       "      <th>cashBuyingPrice</th>\n",
       "      <th>cashSellingPrice</th>\n",
       "      <th>ttBuyingPrice</th>\n",
       "      <th>ttSellingPrice</th>\n",
       "      <th>tcBuyingPrice</th>\n",
       "      <th>fcSellingPrice</th>\n",
       "      <th>exchangeCommission</th>\n",
       "      <th>usDollarRate</th>\n",
       "      <th>chartImageUrl</th>\n",
       "    </tr>\n",
       "  </thead>\n",
       "  <tbody>\n",
       "    <tr>\n",
       "      <th>0</th>\n",
       "      <td>FRX.KRWUSD</td>\n",
       "      <td>2020-10-22 12:04:03</td>\n",
       "      <td>USD</td>\n",
       "      <td>달러</td>\n",
       "      <td>1</td>\n",
       "      <td>미국</td>\n",
       "      <td>{'korName': '아메리카', 'engName': 'America'}</td>\n",
       "      <td>미국 (KRW/USD)</td>\n",
       "      <td>162</td>\n",
       "      <td>1135.10</td>\n",
       "      <td>...</td>\n",
       "      <td>0.001412</td>\n",
       "      <td>1154.96</td>\n",
       "      <td>1115.24</td>\n",
       "      <td>1124.00</td>\n",
       "      <td>1146.20</td>\n",
       "      <td>None</td>\n",
       "      <td>None</td>\n",
       "      <td>1.9979</td>\n",
       "      <td>1.0000</td>\n",
       "      <td>{'day': 'https://t1.daumcdn.net/finance/chart/...</td>\n",
       "    </tr>\n",
       "    <tr>\n",
       "      <th>1</th>\n",
       "      <td>FRX.KRWJPY</td>\n",
       "      <td>2020-10-22 12:04:02</td>\n",
       "      <td>JPY</td>\n",
       "      <td>엔</td>\n",
       "      <td>100</td>\n",
       "      <td>일본</td>\n",
       "      <td>{'korName': '아시아', 'engName': 'Asia'}</td>\n",
       "      <td>일본 (KRW/JPY100)</td>\n",
       "      <td>162</td>\n",
       "      <td>1083.89</td>\n",
       "      <td>...</td>\n",
       "      <td>0.002757</td>\n",
       "      <td>1102.85</td>\n",
       "      <td>1064.93</td>\n",
       "      <td>1073.27</td>\n",
       "      <td>1094.51</td>\n",
       "      <td>None</td>\n",
       "      <td>None</td>\n",
       "      <td>1.8938</td>\n",
       "      <td>0.9549</td>\n",
       "      <td>{'day': 'https://t1.daumcdn.net/finance/chart/...</td>\n",
       "    </tr>\n",
       "    <tr>\n",
       "      <th>2</th>\n",
       "      <td>FRX.KRWCNY</td>\n",
       "      <td>2020-10-22 12:04:02</td>\n",
       "      <td>CNY</td>\n",
       "      <td>위안</td>\n",
       "      <td>1</td>\n",
       "      <td>중국</td>\n",
       "      <td>{'korName': '아시아', 'engName': 'Asia'}</td>\n",
       "      <td>중국 (KRW/CNY)</td>\n",
       "      <td>162</td>\n",
       "      <td>170.52</td>\n",
       "      <td>...</td>\n",
       "      <td>0.001347</td>\n",
       "      <td>179.04</td>\n",
       "      <td>162.00</td>\n",
       "      <td>168.82</td>\n",
       "      <td>172.22</td>\n",
       "      <td>None</td>\n",
       "      <td>None</td>\n",
       "      <td>5.0010</td>\n",
       "      <td>0.1502</td>\n",
       "      <td>{'day': 'https://t1.daumcdn.net/finance/chart/...</td>\n",
       "    </tr>\n",
       "    <tr>\n",
       "      <th>3</th>\n",
       "      <td>FRX.KRWEUR</td>\n",
       "      <td>2020-10-22 12:04:02</td>\n",
       "      <td>EUR</td>\n",
       "      <td>유로</td>\n",
       "      <td>1</td>\n",
       "      <td>유로</td>\n",
       "      <td>{'korName': '유럽', 'engName': 'Europe'}</td>\n",
       "      <td>유로 (KRW/EUR)</td>\n",
       "      <td>162</td>\n",
       "      <td>1344.30</td>\n",
       "      <td>...</td>\n",
       "      <td>0.000275</td>\n",
       "      <td>1371.05</td>\n",
       "      <td>1317.55</td>\n",
       "      <td>1330.86</td>\n",
       "      <td>1357.74</td>\n",
       "      <td>None</td>\n",
       "      <td>None</td>\n",
       "      <td>1.4106</td>\n",
       "      <td>1.1843</td>\n",
       "      <td>{'day': 'https://t1.daumcdn.net/finance/chart/...</td>\n",
       "    </tr>\n",
       "    <tr>\n",
       "      <th>4</th>\n",
       "      <td>FRX.KRWGBP</td>\n",
       "      <td>2020-10-22 12:04:02</td>\n",
       "      <td>GBP</td>\n",
       "      <td>파운드</td>\n",
       "      <td>1</td>\n",
       "      <td>영국</td>\n",
       "      <td>{'korName': '유럽', 'engName': 'Europe'}</td>\n",
       "      <td>영국 (KRW/GBP)</td>\n",
       "      <td>162</td>\n",
       "      <td>1490.10</td>\n",
       "      <td>...</td>\n",
       "      <td>0.006702</td>\n",
       "      <td>1519.45</td>\n",
       "      <td>1460.75</td>\n",
       "      <td>1475.20</td>\n",
       "      <td>1505.00</td>\n",
       "      <td>None</td>\n",
       "      <td>None</td>\n",
       "      <td>2.0206</td>\n",
       "      <td>1.3127</td>\n",
       "      <td>{'day': 'https://t1.daumcdn.net/finance/chart/...</td>\n",
       "    </tr>\n",
       "  </tbody>\n",
       "</table>\n",
       "<p>5 rows × 22 columns</p>\n",
       "</div>"
      ],
      "text/plain": [
       "   symbolCode                 date currencyCode currencyName  currencyUnit  \\\n",
       "0  FRX.KRWUSD  2020-10-22 12:04:03          USD           달러             1   \n",
       "1  FRX.KRWJPY  2020-10-22 12:04:02          JPY            엔           100   \n",
       "2  FRX.KRWCNY  2020-10-22 12:04:02          CNY           위안             1   \n",
       "3  FRX.KRWEUR  2020-10-22 12:04:02          EUR           유로             1   \n",
       "4  FRX.KRWGBP  2020-10-22 12:04:02          GBP          파운드             1   \n",
       "\n",
       "  country                                     region             name  \\\n",
       "0      미국  {'korName': '아메리카', 'engName': 'America'}     미국 (KRW/USD)   \n",
       "1      일본      {'korName': '아시아', 'engName': 'Asia'}  일본 (KRW/JPY100)   \n",
       "2      중국      {'korName': '아시아', 'engName': 'Asia'}     중국 (KRW/CNY)   \n",
       "3      유로     {'korName': '유럽', 'engName': 'Europe'}     유로 (KRW/EUR)   \n",
       "4      영국     {'korName': '유럽', 'engName': 'Europe'}     영국 (KRW/GBP)   \n",
       "\n",
       "   recurrenceCount  basePrice  ... changeRate  cashBuyingPrice  \\\n",
       "0              162    1135.10  ...   0.001412          1154.96   \n",
       "1              162    1083.89  ...   0.002757          1102.85   \n",
       "2              162     170.52  ...   0.001347           179.04   \n",
       "3              162    1344.30  ...   0.000275          1371.05   \n",
       "4              162    1490.10  ...   0.006702          1519.45   \n",
       "\n",
       "   cashSellingPrice  ttBuyingPrice  ttSellingPrice  tcBuyingPrice  \\\n",
       "0           1115.24        1124.00         1146.20           None   \n",
       "1           1064.93        1073.27         1094.51           None   \n",
       "2            162.00         168.82          172.22           None   \n",
       "3           1317.55        1330.86         1357.74           None   \n",
       "4           1460.75        1475.20         1505.00           None   \n",
       "\n",
       "   fcSellingPrice exchangeCommission usDollarRate  \\\n",
       "0            None             1.9979       1.0000   \n",
       "1            None             1.8938       0.9549   \n",
       "2            None             5.0010       0.1502   \n",
       "3            None             1.4106       1.1843   \n",
       "4            None             2.0206       1.3127   \n",
       "\n",
       "                                       chartImageUrl  \n",
       "0  {'day': 'https://t1.daumcdn.net/finance/chart/...  \n",
       "1  {'day': 'https://t1.daumcdn.net/finance/chart/...  \n",
       "2  {'day': 'https://t1.daumcdn.net/finance/chart/...  \n",
       "3  {'day': 'https://t1.daumcdn.net/finance/chart/...  \n",
       "4  {'day': 'https://t1.daumcdn.net/finance/chart/...  \n",
       "\n",
       "[5 rows x 22 columns]"
      ]
     },
     "execution_count": 14,
     "metadata": {},
     "output_type": "execute_result"
    }
   ],
   "source": [
    "data =  response.json()[\"data\"]\n",
    "result_df = pd.DataFrame(data)\n",
    "result_df.head()"
   ]
  },
  {
   "cell_type": "code",
   "execution_count": null,
   "metadata": {},
   "outputs": [],
   "source": []
  },
  {
   "cell_type": "code",
   "execution_count": null,
   "metadata": {},
   "outputs": [],
   "source": []
  },
  {
   "cell_type": "code",
   "execution_count": null,
   "metadata": {},
   "outputs": [],
   "source": [
    "# session - 연결 정보 (ram에 저장됨)\n",
    "# cookie - file (하드디스크에 저장됨)"
   ]
  }
 ],
 "metadata": {
  "kernelspec": {
   "display_name": "Python 3",
   "language": "python",
   "name": "python3"
  },
  "language_info": {
   "codemirror_mode": {
    "name": "ipython",
    "version": 3
   },
   "file_extension": ".py",
   "mimetype": "text/x-python",
   "name": "python",
   "nbconvert_exporter": "python",
   "pygments_lexer": "ipython3",
   "version": "3.8.3"
  }
 },
 "nbformat": 4,
 "nbformat_minor": 4
}
