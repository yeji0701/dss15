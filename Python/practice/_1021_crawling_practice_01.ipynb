{
 "cells": [
  {
   "cell_type": "code",
   "execution_count": 1,
   "metadata": {},
   "outputs": [],
   "source": [
    "import requests"
   ]
  },
  {
   "cell_type": "code",
   "execution_count": 64,
   "metadata": {},
   "outputs": [
    {
     "name": "stdout",
     "output_type": "stream",
     "text": [
      "https://m.stock.naver.com/api/json/sise/dailySiseIndexListJson.nhn?code=KOSPI&pageSize=20&page=1\n"
     ]
    }
   ],
   "source": [
    "code, page_size, page = \"KOSPI\", 20, 1\n",
    "url = \"https://m.stock.naver.com/api/json/sise/dailySiseIndexListJson.nhn?\\\n",
    "code={}&pageSize={}&page={}\".format(code, page_size, page)\n",
    "\n",
    "print(url)"
   ]
  },
  {
   "cell_type": "code",
   "execution_count": 65,
   "metadata": {},
   "outputs": [
    {
     "data": {
      "text/plain": [
       "<Response [200]>"
      ]
     },
     "execution_count": 65,
     "metadata": {},
     "output_type": "execute_result"
    }
   ],
   "source": [
    "response = requests.get(url)\n",
    "response"
   ]
  },
  {
   "cell_type": "code",
   "execution_count": 66,
   "metadata": {},
   "outputs": [
    {
     "data": {
      "text/html": [
       "<div>\n",
       "<style scoped>\n",
       "    .dataframe tbody tr th:only-of-type {\n",
       "        vertical-align: middle;\n",
       "    }\n",
       "\n",
       "    .dataframe tbody tr th {\n",
       "        vertical-align: top;\n",
       "    }\n",
       "\n",
       "    .dataframe thead th {\n",
       "        text-align: right;\n",
       "    }\n",
       "</style>\n",
       "<table border=\"1\" class=\"dataframe\">\n",
       "  <thead>\n",
       "    <tr style=\"text-align: right;\">\n",
       "      <th></th>\n",
       "      <th>cd</th>\n",
       "      <th>dt</th>\n",
       "      <th>ncv</th>\n",
       "      <th>cv</th>\n",
       "      <th>cr</th>\n",
       "      <th>ov</th>\n",
       "      <th>hv</th>\n",
       "      <th>lv</th>\n",
       "    </tr>\n",
       "  </thead>\n",
       "  <tbody>\n",
       "    <tr>\n",
       "      <th>15</th>\n",
       "      <td>KOSPI</td>\n",
       "      <td>20200924</td>\n",
       "      <td>2272.70</td>\n",
       "      <td>-60.54</td>\n",
       "      <td>-2.59</td>\n",
       "      <td>2295.62</td>\n",
       "      <td>2309.74</td>\n",
       "      <td>2268.88</td>\n",
       "    </tr>\n",
       "    <tr>\n",
       "      <th>16</th>\n",
       "      <td>KOSPI</td>\n",
       "      <td>20200923</td>\n",
       "      <td>2333.24</td>\n",
       "      <td>0.65</td>\n",
       "      <td>0.03</td>\n",
       "      <td>2352.56</td>\n",
       "      <td>2354.46</td>\n",
       "      <td>2287.44</td>\n",
       "    </tr>\n",
       "    <tr>\n",
       "      <th>17</th>\n",
       "      <td>KOSPI</td>\n",
       "      <td>20200922</td>\n",
       "      <td>2332.59</td>\n",
       "      <td>-56.80</td>\n",
       "      <td>-2.38</td>\n",
       "      <td>2388.14</td>\n",
       "      <td>2388.49</td>\n",
       "      <td>2323.58</td>\n",
       "    </tr>\n",
       "    <tr>\n",
       "      <th>18</th>\n",
       "      <td>KOSPI</td>\n",
       "      <td>20200921</td>\n",
       "      <td>2389.39</td>\n",
       "      <td>-23.01</td>\n",
       "      <td>-0.95</td>\n",
       "      <td>2412.44</td>\n",
       "      <td>2427.17</td>\n",
       "      <td>2379.38</td>\n",
       "    </tr>\n",
       "    <tr>\n",
       "      <th>19</th>\n",
       "      <td>KOSPI</td>\n",
       "      <td>20200918</td>\n",
       "      <td>2412.40</td>\n",
       "      <td>6.23</td>\n",
       "      <td>0.26</td>\n",
       "      <td>2413.53</td>\n",
       "      <td>2417.81</td>\n",
       "      <td>2396.33</td>\n",
       "    </tr>\n",
       "  </tbody>\n",
       "</table>\n",
       "</div>"
      ],
      "text/plain": [
       "       cd        dt      ncv     cv    cr       ov       hv       lv\n",
       "15  KOSPI  20200924  2272.70 -60.54 -2.59  2295.62  2309.74  2268.88\n",
       "16  KOSPI  20200923  2333.24   0.65  0.03  2352.56  2354.46  2287.44\n",
       "17  KOSPI  20200922  2332.59 -56.80 -2.38  2388.14  2388.49  2323.58\n",
       "18  KOSPI  20200921  2389.39 -23.01 -0.95  2412.44  2427.17  2379.38\n",
       "19  KOSPI  20200918  2412.40   6.23  0.26  2413.53  2417.81  2396.33"
      ]
     },
     "execution_count": 66,
     "metadata": {},
     "output_type": "execute_result"
    }
   ],
   "source": [
    "datas = response.json()[\"result\"][\"siseList\"]\n",
    "kospi_df = pd.DataFrame(datas)\n",
    "kospi_df.tail()"
   ]
  },
  {
   "cell_type": "code",
   "execution_count": 67,
   "metadata": {},
   "outputs": [],
   "source": [
    "def get_stock_data(code, page_size=20, page=1):\n",
    "    url = \"https://m.stock.naver.com/api/json/sise/dailySiseIndexListJson.nhn?\\\n",
    "code={}&pageSize={}&page={}\".format(code, page_size, page)\n",
    "    response = requests.get(url)\n",
    "    datas = response.json()[\"result\"][\"siseList\"]\n",
    "    return pd.DataFrame(datas)"
   ]
  },
  {
   "cell_type": "code",
   "execution_count": 69,
   "metadata": {},
   "outputs": [
    {
     "data": {
      "text/html": [
       "<div>\n",
       "<style scoped>\n",
       "    .dataframe tbody tr th:only-of-type {\n",
       "        vertical-align: middle;\n",
       "    }\n",
       "\n",
       "    .dataframe tbody tr th {\n",
       "        vertical-align: top;\n",
       "    }\n",
       "\n",
       "    .dataframe thead th {\n",
       "        text-align: right;\n",
       "    }\n",
       "</style>\n",
       "<table border=\"1\" class=\"dataframe\">\n",
       "  <thead>\n",
       "    <tr style=\"text-align: right;\">\n",
       "      <th></th>\n",
       "      <th>cd</th>\n",
       "      <th>dt</th>\n",
       "      <th>ncv</th>\n",
       "      <th>cv</th>\n",
       "      <th>cr</th>\n",
       "      <th>ov</th>\n",
       "      <th>hv</th>\n",
       "      <th>lv</th>\n",
       "    </tr>\n",
       "  </thead>\n",
       "  <tbody>\n",
       "    <tr>\n",
       "      <th>95</th>\n",
       "      <td>KOSDAQ</td>\n",
       "      <td>20200603</td>\n",
       "      <td>737.66</td>\n",
       "      <td>-5.92</td>\n",
       "      <td>-0.80</td>\n",
       "      <td>749.49</td>\n",
       "      <td>750.14</td>\n",
       "      <td>734.63</td>\n",
       "    </tr>\n",
       "    <tr>\n",
       "      <th>96</th>\n",
       "      <td>KOSDAQ</td>\n",
       "      <td>20200602</td>\n",
       "      <td>743.58</td>\n",
       "      <td>7.86</td>\n",
       "      <td>1.07</td>\n",
       "      <td>737.67</td>\n",
       "      <td>743.70</td>\n",
       "      <td>735.06</td>\n",
       "    </tr>\n",
       "    <tr>\n",
       "      <th>97</th>\n",
       "      <td>KOSDAQ</td>\n",
       "      <td>20200601</td>\n",
       "      <td>735.72</td>\n",
       "      <td>22.04</td>\n",
       "      <td>3.09</td>\n",
       "      <td>716.96</td>\n",
       "      <td>735.72</td>\n",
       "      <td>716.83</td>\n",
       "    </tr>\n",
       "    <tr>\n",
       "      <th>98</th>\n",
       "      <td>KOSDAQ</td>\n",
       "      <td>20200529</td>\n",
       "      <td>713.68</td>\n",
       "      <td>4.93</td>\n",
       "      <td>0.70</td>\n",
       "      <td>706.16</td>\n",
       "      <td>714.51</td>\n",
       "      <td>700.84</td>\n",
       "    </tr>\n",
       "    <tr>\n",
       "      <th>99</th>\n",
       "      <td>KOSDAQ</td>\n",
       "      <td>20200528</td>\n",
       "      <td>708.75</td>\n",
       "      <td>-15.84</td>\n",
       "      <td>-2.19</td>\n",
       "      <td>728.76</td>\n",
       "      <td>728.80</td>\n",
       "      <td>695.30</td>\n",
       "    </tr>\n",
       "  </tbody>\n",
       "</table>\n",
       "</div>"
      ],
      "text/plain": [
       "        cd        dt     ncv     cv    cr      ov      hv      lv\n",
       "95  KOSDAQ  20200603  737.66  -5.92 -0.80  749.49  750.14  734.63\n",
       "96  KOSDAQ  20200602  743.58   7.86  1.07  737.67  743.70  735.06\n",
       "97  KOSDAQ  20200601  735.72  22.04  3.09  716.96  735.72  716.83\n",
       "98  KOSDAQ  20200529  713.68   4.93  0.70  706.16  714.51  700.84\n",
       "99  KOSDAQ  20200528  708.75 -15.84 -2.19  728.76  728.80  695.30"
      ]
     },
     "execution_count": 69,
     "metadata": {},
     "output_type": "execute_result"
    }
   ],
   "source": [
    "kosdaq_df = get_stock_data(\"KOSDAQ\", 100)\n",
    "kosdaq_df.tail()"
   ]
  },
  {
   "cell_type": "code",
   "execution_count": 61,
   "metadata": {},
   "outputs": [
    {
     "data": {
      "text/html": [
       "<div>\n",
       "<style scoped>\n",
       "    .dataframe tbody tr th:only-of-type {\n",
       "        vertical-align: middle;\n",
       "    }\n",
       "\n",
       "    .dataframe tbody tr th {\n",
       "        vertical-align: top;\n",
       "    }\n",
       "\n",
       "    .dataframe thead th {\n",
       "        text-align: right;\n",
       "    }\n",
       "</style>\n",
       "<table border=\"1\" class=\"dataframe\">\n",
       "  <thead>\n",
       "    <tr style=\"text-align: right;\">\n",
       "      <th></th>\n",
       "      <th>cd</th>\n",
       "      <th>dt</th>\n",
       "      <th>ncv</th>\n",
       "      <th>cv</th>\n",
       "      <th>cr</th>\n",
       "      <th>ov</th>\n",
       "      <th>hv</th>\n",
       "      <th>lv</th>\n",
       "    </tr>\n",
       "  </thead>\n",
       "  <tbody>\n",
       "    <tr>\n",
       "      <th>95</th>\n",
       "      <td>KOSPI</td>\n",
       "      <td>20200603</td>\n",
       "      <td>2147.00</td>\n",
       "      <td>59.81</td>\n",
       "      <td>2.87</td>\n",
       "      <td>2108.55</td>\n",
       "      <td>2156.55</td>\n",
       "      <td>2107.69</td>\n",
       "    </tr>\n",
       "    <tr>\n",
       "      <th>96</th>\n",
       "      <td>KOSPI</td>\n",
       "      <td>20200602</td>\n",
       "      <td>2087.19</td>\n",
       "      <td>22.11</td>\n",
       "      <td>1.07</td>\n",
       "      <td>2061.45</td>\n",
       "      <td>2089.43</td>\n",
       "      <td>2059.14</td>\n",
       "    </tr>\n",
       "    <tr>\n",
       "      <th>97</th>\n",
       "      <td>KOSPI</td>\n",
       "      <td>20200601</td>\n",
       "      <td>2065.08</td>\n",
       "      <td>35.48</td>\n",
       "      <td>1.75</td>\n",
       "      <td>2037.04</td>\n",
       "      <td>2065.38</td>\n",
       "      <td>2035.63</td>\n",
       "    </tr>\n",
       "    <tr>\n",
       "      <th>98</th>\n",
       "      <td>KOSPI</td>\n",
       "      <td>20200529</td>\n",
       "      <td>2029.60</td>\n",
       "      <td>1.06</td>\n",
       "      <td>0.05</td>\n",
       "      <td>2018.37</td>\n",
       "      <td>2038.89</td>\n",
       "      <td>2006.62</td>\n",
       "    </tr>\n",
       "    <tr>\n",
       "      <th>99</th>\n",
       "      <td>KOSPI</td>\n",
       "      <td>20200528</td>\n",
       "      <td>2028.54</td>\n",
       "      <td>-2.66</td>\n",
       "      <td>-0.13</td>\n",
       "      <td>2047.08</td>\n",
       "      <td>2054.52</td>\n",
       "      <td>2003.75</td>\n",
       "    </tr>\n",
       "  </tbody>\n",
       "</table>\n",
       "</div>"
      ],
      "text/plain": [
       "       cd        dt      ncv     cv    cr       ov       hv       lv\n",
       "95  KOSPI  20200603  2147.00  59.81  2.87  2108.55  2156.55  2107.69\n",
       "96  KOSPI  20200602  2087.19  22.11  1.07  2061.45  2089.43  2059.14\n",
       "97  KOSPI  20200601  2065.08  35.48  1.75  2037.04  2065.38  2035.63\n",
       "98  KOSPI  20200529  2029.60   1.06  0.05  2018.37  2038.89  2006.62\n",
       "99  KOSPI  20200528  2028.54  -2.66 -0.13  2047.08  2054.52  2003.75"
      ]
     },
     "execution_count": 61,
     "metadata": {},
     "output_type": "execute_result"
    }
   ],
   "source": [
    "kospi_df = get_stock_data(\"KOSPI\", 100)\n",
    "kospi_df.tail()"
   ]
  },
  {
   "cell_type": "code",
   "execution_count": 55,
   "metadata": {},
   "outputs": [
    {
     "name": "stdout",
     "output_type": "stream",
     "text": [
      "https://m.stock.naver.com/api/json/marketindex/marketIndexDay.nhn?marketIndexCd=FX_USDKRW&pageSize=100&page=1\n"
     ]
    }
   ],
   "source": [
    "code, page_size, page = 'FX_USDKRW', 100, 1\n",
    "url = \"https://m.stock.naver.com/api/json/marketindex/marketIndexDay.nhn?\\\n",
    "marketIndexCd={}&pageSize={}&page={}\".format(code, page_size, page)\n",
    "print(url)"
   ]
  },
  {
   "cell_type": "code",
   "execution_count": 56,
   "metadata": {},
   "outputs": [
    {
     "data": {
      "text/plain": [
       "<Response [200]>"
      ]
     },
     "execution_count": 56,
     "metadata": {},
     "output_type": "execute_result"
    }
   ],
   "source": [
    "params = {\n",
    "    \"cookie\" : \"NNB=YSH46P4QGFHV6; NRTK=ag#all_gr#1_ma#-2_si#0_en#0_sp#0; _ga=GA1.2.899405456.1599025618; NID_AUT=tMhtTzU70U0efIsuL3IwkyWTXteBY7BLpuujW6H5ThY09kGdF77TEN2wbE9XnHSp; NID_JKL=7k02H9VgseAo+S6pMx4aX7ivSFSbRRUpV77pMtFUNRM=; NaverSuggestUse=use%26unuse; _fbp=fb.1.1600776580387.1901428210; nx_ssl=2; NID_SES=AAABrktGSY3KnxhiLsmTpYLuo4AoG/eGEPW9BhyhZh+2+zjH3up1lJmbCwYOC8dD5O8Yzu02w7u9VR3s55O4OhdQQmspk15/GqW4imCKEp8H0lWn2U0EsQx/6847nuAgt4T1ytYBaSZJAS58iKUyov8VtWNmWqO5fCmEK7mKTG1M3T5A6a4z3ktrp++lpvPnKvkAKZU83cV1F0bbteOwrQWmgEbjGTB8FcmiX45LzwlyC1r57bHbZ0r9x/Uqdp6jaF4MjyUW87r3Uf8Eg9D9MzLwlCzJD5KXThoKe2UYI9CezDD7syqLiE+kqO824SQjhWksngWVdLzL+J3xB9mDaKso2scNdHEFsRoZm9PFctLUmpl/xitsAb3YagRcdjBG79/G5RgLuYZxS7DFVlHUOLNQPPVT0UL+uEWgLEYw/BzyvsjsvbfBa53PzYjm1N5vKJktpdh9awBu10VwbgoH7nd0gyJbgmpVqbKWlEf37Mns9O3mhFSFv59eSoZOE0PVAZjJpT9HiK3IAjmAq9GgOH05cJscuSevpqxLsJje22Mv/Ac76sjsbtMFpQxt5x3wUy7YEA==; JSESSIONID=19B1F9D2180A4A3C6F7C90A057348796; BMR=; XSRF-TOKEN=7ee91fb8-9104-4e70-81e5-a9ccaa79d589\"\n",
    "}\n",
    "\n",
    "response = requests.get(url, headers=params)\n",
    "response"
   ]
  },
  {
   "cell_type": "code",
   "execution_count": 57,
   "metadata": {},
   "outputs": [
    {
     "data": {
      "text/plain": [
       "'{\"result\":{\"marketIndexDay\":[{\"dt\":\"20201021\",\"nv\":1133.8,\"cv\":-5.2,\"cr\":-0.46,\"cbv\":1153.64,\"csv\":1113.96,\"sv\":1144.9,\"rv\":1122.7},{\"dt\":\"20201020\",\"nv\":1139.0,\"cv\":-1.0,\"cr\":-0.09,\"cbv\":1158.93,\"csv\":1119.07,\"sv\":1150.1,\"rv\":1127.9},{\"dt\":\"20201019\",\"nv\":1140.0,\"cv\":-6.0,\"cr\":-0.52,\"cbv\":1159.95,\"csv\":1120.05,\"sv\":1151.1,\"rv\":1128.9},{\"dt\":\"20201016\",\"nv\":1146.0,\"cv\":-1.5,\"cr\":-0.13,\"cbv\":1166.05,\"csv\":1125.95,\"sv\":1157.2,\"rv\":1134.8},{\"dt\":\"20201015\",\"nv\":1147.5,\"cv\":1.0,\"cr\":0.09,\"cbv\":1167.58,\"csv\":1127.42,\"sv\":1158.7,\"rv\":1136.3},{\"dt\":\"20201014\",\"nv\":1146.5,\"cv\":0.5,\"cr\":0.04,\"cbv\":1166.56,\"csv\":1126.44,\"sv\":1157.7,\"rv\":1135.3},{\"dt\":\"20201013\",\"nv\":1146.0,\"cv\":-4.0,\"cr\":-0.35,\"cbv\":1166.05,\"csv\":1125.95,\"sv\":1157.2,\"rv\":1134.8},{\"dt\":\"20201012\",\"nv\":1150.0,\"cv\":-2.5,\"cr\":-0.22,\"cbv\":1170.12,\"csv\":1129.88,\"sv\":1161.2,\"rv\":1138.8},{\"dt\":\"20201008\",\"nv\":1152.5,\"cv\":-6.0,\"cr\":-0.52,\"cbv\":1172.66,\"csv\":1132.34,\"sv\":1163.7,\"rv\":1141.3},{\"dt\":\"20201007\",\"nv\":1158.5,\"cv\":-3.0,\"cr\":-0.26,\"cbv\":1178.77,\"csv\":1138.23,\"sv\":1169.8,\"rv\":1147.2},{\"dt\":\"20201006\",\"nv\":1161.5,\"cv\":1.0,\"cr\":0.09,\"cbv\":1181.82,\"csv\":1141.18,\"sv\":1172.8,\"rv\":1150.2},{\"dt\":\"20201005\",\"nv\":1160.5,\"cv\":-8.5,\"cr\":-0.73,\"cbv\":1180.8,\"csv\":1140.2,\"sv\":1171.8,\"rv\":1149.2},{\"dt\":\"20200929\",\"nv\":1169.0,\"cv\":-1.0,\"cr\":-0.09,\"cbv\":1189.45,\"csv\":1148.55,\"sv\":1180.4,\"rv\":1157.6},{\"dt\":\"20200928\",\"nv\":1170.0,\"cv\":-5.0,\"cr\":-0.43,\"cbv\":1190.47,\"csv\":1149.53,\"sv\":1181.4,\"rv\":1158.6},{\"dt\":\"20200925\",\"nv\":1175.0,\"cv\":2.5,\"cr\":0.21,\"cbv\":1195.56,\"csv\":1154.44,\"sv\":1186.5,\"rv\":1163.5},{\"dt\":\"20200924\",\"nv\":1172.5,\"cv\":9.5,\"cr\":0.82,\"cbv\":1193.01,\"csv\":1151.99,\"sv\":1183.9,\"rv\":1161.1},{\"dt\":\"20200923\",\"nv\":1163.0,\"cv\":3.0,\"cr\":0.26,\"cbv\":1183.35,\"csv\":1142.65,\"sv\":1174.3,\"rv\":1151.7},{\"dt\":\"20200922\",\"nv\":1160.0,\"cv\":-3.5,\"cr\":-0.3,\"cbv\":1180.3,\"csv\":1139.7,\"sv\":1171.3,\"rv\":1148.7},{\"dt\":\"20200921\",\"nv\":1163.5,\"cv\":0.0,\"cr\":0.0,\"cbv\":1183.86,\"csv\":1143.14,\"sv\":1174.9,\"rv\":1152.1},{\"dt\":\"20200918\",\"nv\":1163.5,\"cv\":-9.5,\"cr\":-0.81,\"cbv\":1183.86,\"csv\":1143.14,\"sv\":1174.9,\"rv\":1152.1},{\"dt\":\"20200917\",\"nv\":1173.0,\"cv\":-0.5,\"cr\":-0.04,\"cbv\":1193.52,\"csv\":1152.48,\"sv\":1184.4,\"rv\":1161.6},{\"dt\":\"20200916\",\"nv\":1173.5,\"cv\":-6.5,\"cr\":-0.55,\"cbv\":1194.03,\"csv\":1152.97,\"sv\":1185.0,\"rv\":1162.0},{\"dt\":\"20200915\",\"nv\":1180.0,\"cv\":-3.0,\"cr\":-0.25,\"cbv\":1200.65,\"csv\":1159.35,\"sv\":1191.5,\"rv\":1168.5},{\"dt\":\"20200914\",\"nv\":1183.0,\"cv\":-4.0,\"cr\":-0.34,\"cbv\":1203.7,\"csv\":1162.3,\"sv\":1194.5,\"rv\":1171.5},{\"dt\":\"20200911\",\"nv\":1187.0,\"cv\":0.1,\"cr\":0.01,\"cbv\":1207.77,\"csv\":1166.23,\"sv\":1198.6,\"rv\":1175.4},{\"dt\":\"20200910\",\"nv\":1186.9,\"cv\":-0.6,\"cr\":-0.05,\"cbv\":1207.67,\"csv\":1166.13,\"sv\":1198.5,\"rv\":1175.3},{\"dt\":\"20200909\",\"nv\":1187.5,\"cv\":-1.5,\"cr\":-0.13,\"cbv\":1208.28,\"csv\":1166.72,\"sv\":1199.1,\"rv\":1175.9},{\"dt\":\"20200908\",\"nv\":1189.0,\"cv\":1.0,\"cr\":0.08,\"cbv\":1209.8,\"csv\":1168.2,\"sv\":1200.6,\"rv\":1177.4},{\"dt\":\"20200907\",\"nv\":1188.0,\"cv\":-1.5,\"cr\":-0.13,\"cbv\":1208.79,\"csv\":1167.21,\"sv\":1199.6,\"rv\":1176.4},{\"dt\":\"20200904\",\"nv\":1189.5,\"cv\":-0.5,\"cr\":-0.04,\"cbv\":1210.31,\"csv\":1168.69,\"sv\":1201.1,\"rv\":1177.9},{\"dt\":\"20200903\",\"nv\":1190.0,\"cv\":3.0,\"cr\":0.25,\"cbv\":1210.82,\"csv\":1169.18,\"sv\":1201.6,\"rv\":1178.4},{\"dt\":\"20200902\",\"nv\":1187.0,\"cv\":2.3,\"cr\":0.19,\"cbv\":1207.77,\"csv\":1166.23,\"sv\":1198.6,\"rv\":1175.4},{\"dt\":\"20200901\",\"nv\":1184.7,\"cv\":-2.3,\"cr\":-0.19,\"cbv\":1205.43,\"csv\":1163.97,\"sv\":1196.3,\"rv\":1173.1},{\"dt\":\"20200831\",\"nv\":1187.0,\"cv\":4.0,\"cr\":0.34,\"cbv\":1207.77,\"csv\":1166.23,\"sv\":1198.6,\"rv\":1175.4},{\"dt\":\"20200828\",\"nv\":1183.0,\"cv\":-2.8,\"cr\":-0.24,\"cbv\":1203.7,\"csv\":1162.3,\"sv\":1194.5,\"rv\":1171.5},{\"dt\":\"20200827\",\"nv\":1185.8,\"cv\":-1.2,\"cr\":-0.1,\"cbv\":1206.55,\"csv\":1165.05,\"sv\":1197.4,\"rv\":1174.2},{\"dt\":\"20200826\",\"nv\":1187.0,\"cv\":0.0,\"cr\":0.0,\"cbv\":1207.77,\"csv\":1166.23,\"sv\":1198.6,\"rv\":1175.4},{\"dt\":\"20200825\",\"nv\":1187.0,\"cv\":-1.0,\"cr\":-0.08,\"cbv\":1207.77,\"csv\":1166.23,\"sv\":1198.6,\"rv\":1175.4},{\"dt\":\"20200824\",\"nv\":1188.0,\"cv\":-1.5,\"cr\":-0.13,\"cbv\":1208.79,\"csv\":1167.21,\"sv\":1199.6,\"rv\":1176.4},{\"dt\":\"20200821\",\"nv\":1189.5,\"cv\":1.0,\"cr\":0.08,\"cbv\":1210.31,\"csv\":1168.69,\"sv\":1201.1,\"rv\":1177.9},{\"dt\":\"20200820\",\"nv\":1188.5,\"cv\":10.5,\"cr\":0.89,\"cbv\":1209.29,\"csv\":1167.71,\"sv\":1200.1,\"rv\":1176.9},{\"dt\":\"20200819\",\"nv\":1178.0,\"cv\":-6.5,\"cr\":-0.55,\"cbv\":1198.61,\"csv\":1157.39,\"sv\":1189.5,\"rv\":1166.5},{\"dt\":\"20200818\",\"nv\":1184.5,\"cv\":-3.0,\"cr\":-0.25,\"cbv\":1205.22,\"csv\":1163.78,\"sv\":1196.1,\"rv\":1172.9},{\"dt\":\"20200814\",\"nv\":1187.5,\"cv\":3.0,\"cr\":0.25,\"cbv\":1208.28,\"csv\":1166.72,\"sv\":1199.1,\"rv\":1175.9},{\"dt\":\"20200813\",\"nv\":1184.5,\"cv\":0.0,\"cr\":0.0,\"cbv\":1205.22,\"csv\":1163.78,\"sv\":1196.1,\"rv\":1172.9},{\"dt\":\"20200812\",\"nv\":1184.5,\"cv\":0.0,\"cr\":0.0,\"cbv\":1205.22,\"csv\":1163.78,\"sv\":1196.1,\"rv\":1172.9},{\"dt\":\"20200811\",\"nv\":1184.5,\"cv\":-3.0,\"cr\":-0.25,\"cbv\":1205.22,\"csv\":1163.78,\"sv\":1196.1,\"rv\":1172.9},{\"dt\":\"20200810\",\"nv\":1187.5,\"cv\":-1.0,\"cr\":-0.08,\"cbv\":1208.28,\"csv\":1166.72,\"sv\":1199.1,\"rv\":1175.9},{\"dt\":\"20200807\",\"nv\":1188.5,\"cv\":3.0,\"cr\":0.25,\"cbv\":1209.29,\"csv\":1167.71,\"sv\":1200.1,\"rv\":1176.9},{\"dt\":\"20200806\",\"nv\":1185.5,\"cv\":-2.5,\"cr\":-0.21,\"cbv\":1206.24,\"csv\":1164.76,\"sv\":1197.1,\"rv\":1173.9},{\"dt\":\"20200805\",\"nv\":1188.0,\"cv\":-6.5,\"cr\":-0.54,\"cbv\":1208.79,\"csv\":1167.21,\"sv\":1199.6,\"rv\":1176.4},{\"dt\":\"20200804\",\"nv\":1194.5,\"cv\":-1.2,\"cr\":-0.1,\"cbv\":1215.4,\"csv\":1173.6,\"sv\":1206.2,\"rv\":1182.8},{\"dt\":\"20200803\",\"nv\":1195.7,\"cv\":4.7,\"cr\":0.39,\"cbv\":1216.62,\"csv\":1174.78,\"sv\":1207.4,\"rv\":1184.0},{\"dt\":\"20200731\",\"nv\":1191.0,\"cv\":-5.0,\"cr\":-0.42,\"cbv\":1211.84,\"csv\":1170.16,\"sv\":1202.6,\"rv\":1179.4},{\"dt\":\"20200730\",\"nv\":1196.0,\"cv\":2.0,\"cr\":0.17,\"cbv\":1216.93,\"csv\":1175.07,\"sv\":1207.7,\"rv\":1184.3},{\"dt\":\"20200729\",\"nv\":1194.0,\"cv\":-5.5,\"cr\":-0.46,\"cbv\":1214.89,\"csv\":1173.11,\"sv\":1205.7,\"rv\":1182.3},{\"dt\":\"20200728\",\"nv\":1199.5,\"cv\":2.5,\"cr\":0.21,\"cbv\":1220.49,\"csv\":1178.51,\"sv\":1211.2,\"rv\":1187.8},{\"dt\":\"20200727\",\"nv\":1197.0,\"cv\":-7.0,\"cr\":-0.58,\"cbv\":1217.94,\"csv\":1176.06,\"sv\":1208.7,\"rv\":1185.3},{\"dt\":\"20200724\",\"nv\":1204.0,\"cv\":5.5,\"cr\":0.46,\"cbv\":1225.07,\"csv\":1182.93,\"sv\":1215.7,\"rv\":1192.3},{\"dt\":\"20200723\",\"nv\":1198.5,\"cv\":1.5,\"cr\":0.13,\"cbv\":1219.47,\"csv\":1177.53,\"sv\":1210.2,\"rv\":1186.8},{\"dt\":\"20200722\",\"nv\":1197.0,\"cv\":1.0,\"cr\":0.08,\"cbv\":1217.94,\"csv\":1176.06,\"sv\":1208.7,\"rv\":1185.3},{\"dt\":\"20200721\",\"nv\":1196.0,\"cv\":-7.0,\"cr\":-0.58,\"cbv\":1216.93,\"csv\":1175.07,\"sv\":1207.7,\"rv\":1184.3},{\"dt\":\"20200720\",\"nv\":1203.0,\"cv\":-2.0,\"cr\":-0.17,\"cbv\":1224.05,\"csv\":1181.95,\"sv\":1214.7,\"rv\":1191.3},{\"dt\":\"20200717\",\"nv\":1205.0,\"cv\":0.0,\"cr\":0.0,\"cbv\":1226.08,\"csv\":1183.92,\"sv\":1216.8,\"rv\":1193.2},{\"dt\":\"20200716\",\"nv\":1205.0,\"cv\":4.0,\"cr\":0.33,\"cbv\":1226.08,\"csv\":1183.92,\"sv\":1216.8,\"rv\":1193.2},{\"dt\":\"20200715\",\"nv\":1201.0,\"cv\":-5.5,\"cr\":-0.46,\"cbv\":1222.01,\"csv\":1179.99,\"sv\":1212.7,\"rv\":1189.3},{\"dt\":\"20200714\",\"nv\":1206.5,\"cv\":3.5,\"cr\":0.29,\"cbv\":1227.61,\"csv\":1185.39,\"sv\":1218.3,\"rv\":1194.7},{\"dt\":\"20200713\",\"nv\":1203.0,\"cv\":2.0,\"cr\":0.17,\"cbv\":1224.05,\"csv\":1181.95,\"sv\":1214.7,\"rv\":1191.3},{\"dt\":\"20200710\",\"nv\":1201.0,\"cv\":6.0,\"cr\":0.5,\"cbv\":1222.01,\"csv\":1179.99,\"sv\":1212.7,\"rv\":1189.3},{\"dt\":\"20200709\",\"nv\":1195.0,\"cv\":0.0,\"cr\":0.0,\"cbv\":1215.91,\"csv\":1174.09,\"sv\":1206.7,\"rv\":1183.3},{\"dt\":\"20200708\",\"nv\":1195.0,\"cv\":-2.0,\"cr\":-0.17,\"cbv\":1215.91,\"csv\":1174.09,\"sv\":1206.7,\"rv\":1183.3},{\"dt\":\"20200707\",\"nv\":1197.0,\"cv\":3.0,\"cr\":0.25,\"cbv\":1217.94,\"csv\":1176.06,\"sv\":1208.7,\"rv\":1185.3},{\"dt\":\"20200706\",\"nv\":1194.0,\"cv\":-5.5,\"cr\":-0.46,\"cbv\":1214.89,\"csv\":1173.11,\"sv\":1205.7,\"rv\":1182.3},{\"dt\":\"20200703\",\"nv\":1199.5,\"cv\":0.5,\"cr\":0.04,\"cbv\":1220.49,\"csv\":1178.51,\"sv\":1211.2,\"rv\":1187.8},{\"dt\":\"20200702\",\"nv\":1199.0,\"cv\":-4.5,\"cr\":-0.37,\"cbv\":1219.98,\"csv\":1178.02,\"sv\":1210.7,\"rv\":1187.3},{\"dt\":\"20200701\",\"nv\":1203.5,\"cv\":0.5,\"cr\":0.04,\"cbv\":1224.56,\"csv\":1182.44,\"sv\":1215.2,\"rv\":1191.8},{\"dt\":\"20200630\",\"nv\":1203.0,\"cv\":2.5,\"cr\":0.21,\"cbv\":1224.05,\"csv\":1181.95,\"sv\":1214.7,\"rv\":1191.3},{\"dt\":\"20200629\",\"nv\":1200.5,\"cv\":-3.5,\"cr\":-0.29,\"cbv\":1221.5,\"csv\":1179.5,\"sv\":1212.2,\"rv\":1188.8},{\"dt\":\"20200626\",\"nv\":1204.0,\"cv\":0.5,\"cr\":0.04,\"cbv\":1225.07,\"csv\":1182.93,\"sv\":1215.7,\"rv\":1192.3},{\"dt\":\"20200625\",\"nv\":1203.5,\"cv\":1.0,\"cr\":0.08,\"cbv\":1224.56,\"csv\":1182.44,\"sv\":1215.2,\"rv\":1191.8},{\"dt\":\"20200624\",\"nv\":1202.5,\"cv\":-6.5,\"cr\":-0.54,\"cbv\":1223.54,\"csv\":1181.46,\"sv\":1214.2,\"rv\":1190.8},{\"dt\":\"20200623\",\"nv\":1209.0,\"cv\":-5.0,\"cr\":-0.41,\"cbv\":1230.15,\"csv\":1187.85,\"sv\":1220.8,\"rv\":1197.2},{\"dt\":\"20200622\",\"nv\":1214.0,\"cv\":4.5,\"cr\":0.37,\"cbv\":1235.24,\"csv\":1192.76,\"sv\":1225.8,\"rv\":1202.2},{\"dt\":\"20200619\",\"nv\":1209.5,\"cv\":0.0,\"cr\":0.0,\"cbv\":1230.66,\"csv\":1188.34,\"sv\":1221.3,\"rv\":1197.7},{\"dt\":\"20200618\",\"nv\":1209.5,\"cv\":-4.0,\"cr\":-0.33,\"cbv\":1230.66,\"csv\":1188.34,\"sv\":1221.3,\"rv\":1197.7},{\"dt\":\"20200617\",\"nv\":1213.5,\"cv\":1.5,\"cr\":0.12,\"cbv\":1234.73,\"csv\":1192.27,\"sv\":1225.3,\"rv\":1201.7},{\"dt\":\"20200616\",\"nv\":1212.0,\"cv\":-3.5,\"cr\":-0.29,\"cbv\":1233.21,\"csv\":1190.79,\"sv\":1223.8,\"rv\":1200.2},{\"dt\":\"20200615\",\"nv\":1215.5,\"cv\":12.5,\"cr\":1.04,\"cbv\":1236.77,\"csv\":1194.23,\"sv\":1227.4,\"rv\":1203.6},{\"dt\":\"20200612\",\"nv\":1203.0,\"cv\":7.5,\"cr\":0.63,\"cbv\":1224.05,\"csv\":1181.95,\"sv\":1214.7,\"rv\":1191.3},{\"dt\":\"20200611\",\"nv\":1195.5,\"cv\":4.5,\"cr\":0.38,\"cbv\":1216.42,\"csv\":1174.58,\"sv\":1207.2,\"rv\":1183.8},{\"dt\":\"20200610\",\"nv\":1191.0,\"cv\":-10.0,\"cr\":-0.83,\"cbv\":1211.84,\"csv\":1170.16,\"sv\":1202.6,\"rv\":1179.4},{\"dt\":\"20200609\",\"nv\":1201.0,\"cv\":0.0,\"cr\":0.0,\"cbv\":1222.01,\"csv\":1179.99,\"sv\":1212.7,\"rv\":1189.3},{\"dt\":\"20200608\",\"nv\":1201.0,\"cv\":-8.0,\"cr\":-0.66,\"cbv\":1222.01,\"csv\":1179.99,\"sv\":1212.7,\"rv\":1189.3},{\"dt\":\"20200605\",\"nv\":1209.0,\"cv\":-10.5,\"cr\":-0.86,\"cbv\":1230.15,\"csv\":1187.85,\"sv\":1220.8,\"rv\":1197.2},{\"dt\":\"20200604\",\"nv\":1219.5,\"cv\":2.5,\"cr\":0.21,\"cbv\":1240.84,\"csv\":1198.16,\"sv\":1231.4,\"rv\":1207.6},{\"dt\":\"20200603\",\"nv\":1217.0,\"cv\":-5.5,\"cr\":-0.45,\"cbv\":1238.29,\"csv\":1195.71,\"sv\":1228.9,\"rv\":1205.1},{\"dt\":\"20200602\",\"nv\":1222.5,\"cv\":-5.5,\"cr\":-0.45,\"cbv\":1243.89,\"csv\":1201.11,\"sv\":1234.4,\"rv\":1210.6},{\"dt\":\"20200601\",\"nv\":1228.0,\"cv\":-10.0,\"cr\":-0.81,\"cbv\":1249.49,\"csv\":1206.51,\"sv\":1240.0,\"rv\":1216.0},{\"dt\":\"20200529\",\"nv\":1238.0,\"cv\":-2.0,\"cr\":-0.16,\"cbv\":1259.66,\"csv\":1216.34,\"sv\":1250.1,\"rv\":1225.9},{\"dt\":\"20200528\",\"nv\":1240.0,\"cv\":5.5,\"cr\":0.45,\"cbv\":1261.7,\"csv\":1218.3,\"sv\":1252.1,\"rv\":1227.9}]},\"resultCode\":\"success\"}'"
      ]
     },
     "execution_count": 57,
     "metadata": {},
     "output_type": "execute_result"
    }
   ],
   "source": [
    "response.text"
   ]
  },
  {
   "cell_type": "code",
   "execution_count": 58,
   "metadata": {},
   "outputs": [
    {
     "data": {
      "text/html": [
       "<div>\n",
       "<style scoped>\n",
       "    .dataframe tbody tr th:only-of-type {\n",
       "        vertical-align: middle;\n",
       "    }\n",
       "\n",
       "    .dataframe tbody tr th {\n",
       "        vertical-align: top;\n",
       "    }\n",
       "\n",
       "    .dataframe thead th {\n",
       "        text-align: right;\n",
       "    }\n",
       "</style>\n",
       "<table border=\"1\" class=\"dataframe\">\n",
       "  <thead>\n",
       "    <tr style=\"text-align: right;\">\n",
       "      <th></th>\n",
       "      <th>dt</th>\n",
       "      <th>nv</th>\n",
       "      <th>cv</th>\n",
       "      <th>cr</th>\n",
       "      <th>cbv</th>\n",
       "      <th>csv</th>\n",
       "      <th>sv</th>\n",
       "      <th>rv</th>\n",
       "    </tr>\n",
       "  </thead>\n",
       "  <tbody>\n",
       "    <tr>\n",
       "      <th>95</th>\n",
       "      <td>20200603</td>\n",
       "      <td>1217.0</td>\n",
       "      <td>-5.5</td>\n",
       "      <td>-0.45</td>\n",
       "      <td>1238.29</td>\n",
       "      <td>1195.71</td>\n",
       "      <td>1228.9</td>\n",
       "      <td>1205.1</td>\n",
       "    </tr>\n",
       "    <tr>\n",
       "      <th>96</th>\n",
       "      <td>20200602</td>\n",
       "      <td>1222.5</td>\n",
       "      <td>-5.5</td>\n",
       "      <td>-0.45</td>\n",
       "      <td>1243.89</td>\n",
       "      <td>1201.11</td>\n",
       "      <td>1234.4</td>\n",
       "      <td>1210.6</td>\n",
       "    </tr>\n",
       "    <tr>\n",
       "      <th>97</th>\n",
       "      <td>20200601</td>\n",
       "      <td>1228.0</td>\n",
       "      <td>-10.0</td>\n",
       "      <td>-0.81</td>\n",
       "      <td>1249.49</td>\n",
       "      <td>1206.51</td>\n",
       "      <td>1240.0</td>\n",
       "      <td>1216.0</td>\n",
       "    </tr>\n",
       "    <tr>\n",
       "      <th>98</th>\n",
       "      <td>20200529</td>\n",
       "      <td>1238.0</td>\n",
       "      <td>-2.0</td>\n",
       "      <td>-0.16</td>\n",
       "      <td>1259.66</td>\n",
       "      <td>1216.34</td>\n",
       "      <td>1250.1</td>\n",
       "      <td>1225.9</td>\n",
       "    </tr>\n",
       "    <tr>\n",
       "      <th>99</th>\n",
       "      <td>20200528</td>\n",
       "      <td>1240.0</td>\n",
       "      <td>5.5</td>\n",
       "      <td>0.45</td>\n",
       "      <td>1261.70</td>\n",
       "      <td>1218.30</td>\n",
       "      <td>1252.1</td>\n",
       "      <td>1227.9</td>\n",
       "    </tr>\n",
       "  </tbody>\n",
       "</table>\n",
       "</div>"
      ],
      "text/plain": [
       "          dt      nv    cv    cr      cbv      csv      sv      rv\n",
       "95  20200603  1217.0  -5.5 -0.45  1238.29  1195.71  1228.9  1205.1\n",
       "96  20200602  1222.5  -5.5 -0.45  1243.89  1201.11  1234.4  1210.6\n",
       "97  20200601  1228.0 -10.0 -0.81  1249.49  1206.51  1240.0  1216.0\n",
       "98  20200529  1238.0  -2.0 -0.16  1259.66  1216.34  1250.1  1225.9\n",
       "99  20200528  1240.0   5.5  0.45  1261.70  1218.30  1252.1  1227.9"
      ]
     },
     "execution_count": 58,
     "metadata": {},
     "output_type": "execute_result"
    }
   ],
   "source": [
    "datas = response.json()[\"result\"][\"marketIndexDay\"]\n",
    "usd_df = pd.DataFrame(datas)\n",
    "usd_df.tail()"
   ]
  },
  {
   "cell_type": "code",
   "execution_count": 59,
   "metadata": {},
   "outputs": [
    {
     "name": "stdout",
     "output_type": "stream",
     "text": [
      "['20201021' '20201020' '20201019' '20201016' '20201015' '20201014'\n",
      " '20201013' '20201012' '20201008' '20201007' '20201006' '20201005'\n",
      " '20200929' '20200928' '20200925' '20200924' '20200923' '20200922'\n",
      " '20200921' '20200918' '20200917' '20200916' '20200915' '20200914'\n",
      " '20200911' '20200910' '20200909' '20200908' '20200907' '20200904'\n",
      " '20200903' '20200902' '20200901' '20200831' '20200828' '20200827'\n",
      " '20200826' '20200825' '20200824' '20200821' '20200820' '20200819'\n",
      " '20200818' '20200814' '20200813' '20200812' '20200811' '20200810'\n",
      " '20200807' '20200806' '20200805' '20200804' '20200803' '20200731'\n",
      " '20200730' '20200729' '20200728' '20200727' '20200724' '20200723'\n",
      " '20200722' '20200721' '20200720' '20200717' '20200716' '20200715'\n",
      " '20200714' '20200713' '20200710' '20200709' '20200708' '20200707'\n",
      " '20200706' '20200703' '20200702' '20200701' '20200630' '20200629'\n",
      " '20200626' '20200625' '20200624' '20200623' '20200622' '20200619'\n",
      " '20200618' '20200617' '20200616' '20200615' '20200612' '20200611'\n",
      " '20200610' '20200609' '20200608' '20200605' '20200604' '20200603'\n",
      " '20200602' '20200601' '20200529' '20200528']\n"
     ]
    }
   ],
   "source": [
    "print(usd_df[\"dt\"].values)"
   ]
  },
  {
   "cell_type": "code",
   "execution_count": 62,
   "metadata": {},
   "outputs": [
    {
     "name": "stdout",
     "output_type": "stream",
     "text": [
      "['20201021' '20201020' '20201019' '20201016' '20201015' '20201014'\n",
      " '20201013' '20201012' '20201008' '20201007' '20201006' '20201005'\n",
      " '20200929' '20200928' '20200925' '20200924' '20200923' '20200922'\n",
      " '20200921' '20200918' '20200917' '20200916' '20200915' '20200914'\n",
      " '20200911' '20200910' '20200909' '20200908' '20200907' '20200904'\n",
      " '20200903' '20200902' '20200901' '20200831' '20200828' '20200827'\n",
      " '20200826' '20200825' '20200824' '20200821' '20200820' '20200819'\n",
      " '20200818' '20200814' '20200813' '20200812' '20200811' '20200810'\n",
      " '20200807' '20200806' '20200805' '20200804' '20200803' '20200731'\n",
      " '20200730' '20200729' '20200728' '20200727' '20200724' '20200723'\n",
      " '20200722' '20200721' '20200720' '20200717' '20200716' '20200715'\n",
      " '20200714' '20200713' '20200710' '20200709' '20200708' '20200707'\n",
      " '20200706' '20200703' '20200702' '20200701' '20200630' '20200629'\n",
      " '20200626' '20200625' '20200624' '20200623' '20200622' '20200619'\n",
      " '20200618' '20200617' '20200616' '20200615' '20200612' '20200611'\n",
      " '20200610' '20200609' '20200608' '20200605' '20200604' '20200603'\n",
      " '20200602' '20200601' '20200529' '20200528']\n"
     ]
    }
   ],
   "source": [
    "print(kospi_df[\"dt\"].values)"
   ]
  },
  {
   "cell_type": "code",
   "execution_count": 71,
   "metadata": {},
   "outputs": [
    {
     "data": {
      "text/html": [
       "<div>\n",
       "<style scoped>\n",
       "    .dataframe tbody tr th:only-of-type {\n",
       "        vertical-align: middle;\n",
       "    }\n",
       "\n",
       "    .dataframe tbody tr th {\n",
       "        vertical-align: top;\n",
       "    }\n",
       "\n",
       "    .dataframe thead th {\n",
       "        text-align: right;\n",
       "    }\n",
       "</style>\n",
       "<table border=\"1\" class=\"dataframe\">\n",
       "  <thead>\n",
       "    <tr style=\"text-align: right;\">\n",
       "      <th></th>\n",
       "      <th>dt</th>\n",
       "      <th>ncv_kospi</th>\n",
       "      <th>ncv_kosdaq</th>\n",
       "    </tr>\n",
       "  </thead>\n",
       "  <tbody>\n",
       "    <tr>\n",
       "      <th>15</th>\n",
       "      <td>20200924</td>\n",
       "      <td>2272.70</td>\n",
       "      <td>806.95</td>\n",
       "    </tr>\n",
       "    <tr>\n",
       "      <th>16</th>\n",
       "      <td>20200923</td>\n",
       "      <td>2333.24</td>\n",
       "      <td>843.45</td>\n",
       "    </tr>\n",
       "    <tr>\n",
       "      <th>17</th>\n",
       "      <td>20200922</td>\n",
       "      <td>2332.59</td>\n",
       "      <td>842.72</td>\n",
       "    </tr>\n",
       "    <tr>\n",
       "      <th>18</th>\n",
       "      <td>20200921</td>\n",
       "      <td>2389.39</td>\n",
       "      <td>866.99</td>\n",
       "    </tr>\n",
       "    <tr>\n",
       "      <th>19</th>\n",
       "      <td>20200918</td>\n",
       "      <td>2412.40</td>\n",
       "      <td>888.88</td>\n",
       "    </tr>\n",
       "  </tbody>\n",
       "</table>\n",
       "</div>"
      ],
      "text/plain": [
       "          dt  ncv_kospi  ncv_kosdaq\n",
       "15  20200924    2272.70      806.95\n",
       "16  20200923    2333.24      843.45\n",
       "17  20200922    2332.59      842.72\n",
       "18  20200921    2389.39      866.99\n",
       "19  20200918    2412.40      888.88"
      ]
     },
     "execution_count": 71,
     "metadata": {},
     "output_type": "execute_result"
    }
   ],
   "source": [
    "merge_df_1 = pd.merge(kospi_df, kosdaq_df, left_on=\"dt\", right_on=\"dt\")\n",
    "merge_df_1 = merge_df_1.rename(columns={\"ncv_x\":\"ncv_kospi\", \"ncv_y\":\"ncv_kosdaq\"})\n",
    "merge_df_1 = merge_df_1[[\"dt\", \"ncv_kospi\", \"ncv_kosdaq\"]]\n",
    "merge_df_1.tail()"
   ]
  },
  {
   "cell_type": "code",
   "execution_count": 72,
   "metadata": {},
   "outputs": [
    {
     "data": {
      "text/html": [
       "<div>\n",
       "<style scoped>\n",
       "    .dataframe tbody tr th:only-of-type {\n",
       "        vertical-align: middle;\n",
       "    }\n",
       "\n",
       "    .dataframe tbody tr th {\n",
       "        vertical-align: top;\n",
       "    }\n",
       "\n",
       "    .dataframe thead th {\n",
       "        text-align: right;\n",
       "    }\n",
       "</style>\n",
       "<table border=\"1\" class=\"dataframe\">\n",
       "  <thead>\n",
       "    <tr style=\"text-align: right;\">\n",
       "      <th></th>\n",
       "      <th>dt</th>\n",
       "      <th>ncv_kospi</th>\n",
       "      <th>ncv_kosdaq</th>\n",
       "      <th>nv</th>\n",
       "    </tr>\n",
       "  </thead>\n",
       "  <tbody>\n",
       "    <tr>\n",
       "      <th>15</th>\n",
       "      <td>20200924</td>\n",
       "      <td>2272.70</td>\n",
       "      <td>806.95</td>\n",
       "      <td>1172.5</td>\n",
       "    </tr>\n",
       "    <tr>\n",
       "      <th>16</th>\n",
       "      <td>20200923</td>\n",
       "      <td>2333.24</td>\n",
       "      <td>843.45</td>\n",
       "      <td>1163.0</td>\n",
       "    </tr>\n",
       "    <tr>\n",
       "      <th>17</th>\n",
       "      <td>20200922</td>\n",
       "      <td>2332.59</td>\n",
       "      <td>842.72</td>\n",
       "      <td>1160.0</td>\n",
       "    </tr>\n",
       "    <tr>\n",
       "      <th>18</th>\n",
       "      <td>20200921</td>\n",
       "      <td>2389.39</td>\n",
       "      <td>866.99</td>\n",
       "      <td>1163.5</td>\n",
       "    </tr>\n",
       "    <tr>\n",
       "      <th>19</th>\n",
       "      <td>20200918</td>\n",
       "      <td>2412.40</td>\n",
       "      <td>888.88</td>\n",
       "      <td>1163.5</td>\n",
       "    </tr>\n",
       "  </tbody>\n",
       "</table>\n",
       "</div>"
      ],
      "text/plain": [
       "          dt  ncv_kospi  ncv_kosdaq      nv\n",
       "15  20200924    2272.70      806.95  1172.5\n",
       "16  20200923    2333.24      843.45  1163.0\n",
       "17  20200922    2332.59      842.72  1160.0\n",
       "18  20200921    2389.39      866.99  1163.5\n",
       "19  20200918    2412.40      888.88  1163.5"
      ]
     },
     "execution_count": 72,
     "metadata": {},
     "output_type": "execute_result"
    }
   ],
   "source": [
    "merge_df = pd.merge(merge_df_1, usd_df)[[\"dt\", \"ncv_kospi\", \"ncv_kosdaq\", \"nv\"]]\n",
    "merge_df.tail()"
   ]
  },
  {
   "cell_type": "code",
   "execution_count": 73,
   "metadata": {},
   "outputs": [],
   "source": [
    "%matplotlib inline"
   ]
  },
  {
   "cell_type": "code",
   "execution_count": 1,
   "metadata": {},
   "outputs": [],
   "source": [
    "import matplotlib as mpl\n",
    "import matplotlib.pyplot as plt\n",
    "import seaborn as sns\n",
    "sns.set()"
   ]
  },
  {
   "cell_type": "code",
   "execution_count": 79,
   "metadata": {},
   "outputs": [
    {
     "data": {
      "image/png": "[encoded data removed]",
      "text/plain": [
       "<Figure size 1440x360 with 1 Axes>"
      ]
     },
     "metadata": {},
     "output_type": "display_data"
    }
   ],
   "source": [
    "plt.figure(fig size=(20, 5))\n",
    "plt.plot(merge_df[\"dt\"], merge_df[\"ncv_kospi\"], \"r*:\", label=\"kospi\")\n",
    "plt.plot(merge_df[\"dt\"], merge_df[\"ncv_kosdaq\"], \"bo--\", label=\"kosdaq\")\n",
    "plt.plot(merge_df[\"dt\"], merge_df[\"nv\"], \"g^-\", label=\"usd\")\n",
    "\n",
    "step = len(merge_df) // 10\n",
    "plt.xticks(merge_df[::step][\"dt\"])\n",
    "\n",
    "plt.show()"
   ]
  },
  {
   "cell_type": "code",
   "execution_count": 80,
   "metadata": {},
   "outputs": [],
   "source": [
    "from sklearn import preprocessing"
   ]
  },
  {
   "cell_type": "code",
   "execution_count": 83,
   "metadata": {},
   "outputs": [
    {
     "data": {
      "text/plain": [
       "array([0.68045812, 0.61352899, 0.52999284, 0.49269864, 0.63357194,\n",
       "       0.77151038, 0.93378669, 0.93793844, 0.85368647, 0.81775233])"
      ]
     },
     "execution_count": 83,
     "metadata": {},
     "output_type": "execute_result"
    }
   ],
   "source": [
    "preprocessing.minmax_scale(merge_df[\"ncv_kospi\"])[:10]"
   ]
  },
  {
   "cell_type": "code",
   "execution_count": 85,
   "metadata": {},
   "outputs": [
    {
     "data": {
      "image/png": "[encoded data removed]",
      "text/plain": [
       "<Figure size 1440x360 with 1 Axes>"
      ]
     },
     "metadata": {},
     "output_type": "display_data"
    }
   ],
   "source": [
    "plt.figure(figsize=(20, 5))\n",
    "plt.plot(merge_df[\"dt\"], preprocessing.minmax_scale(merge_df[\"ncv_kospi\"]), \"r*:\", label=\"kospi\")\n",
    "plt.plot(merge_df[\"dt\"], preprocessing.minmax_scale(merge_df[\"ncv_kosdaq\"]), \"bo--\", label=\"kosdaq\")\n",
    "plt.plot(merge_df[\"dt\"], preprocessing.minmax_scale(merge_df[\"nv\"]), \"g^-\", label=\"usd\")\n",
    "\n",
    "\n",
    "plt.legend(loc=0\n",
    "          )\n",
    "step = len(merge_df) // 10\n",
    "plt.xticks(merge_df[::step][\"dt\"])\n",
    "\n",
    "plt.show()"
   ]
  },
  {
   "cell_type": "code",
   "execution_count": 86,
   "metadata": {},
   "outputs": [
    {
     "data": {
      "text/plain": [
       "0.854898919381372"
      ]
     },
     "execution_count": 86,
     "metadata": {},
     "output_type": "execute_result"
    }
   ],
   "source": [
    "np.corrcoef(merge_df[\"ncv_kospi\"], merge_df[\"ncv_kosdaq\"])[0, 1]"
   ]
  },
  {
   "cell_type": "code",
   "execution_count": 87,
   "metadata": {},
   "outputs": [
    {
     "data": {
      "text/plain": [
       "-0.5064493843247488"
      ]
     },
     "execution_count": 87,
     "metadata": {},
     "output_type": "execute_result"
    }
   ],
   "source": [
    "np.corrcoef(merge_df[\"ncv_kospi\"], merge_df[\"nv\"])[0, 1]"
   ]
  },
  {
   "cell_type": "code",
   "execution_count": 88,
   "metadata": {},
   "outputs": [
    {
     "data": {
      "text/plain": [
       "-0.03331069503572646"
      ]
     },
     "execution_count": 88,
     "metadata": {},
     "output_type": "execute_result"
    }
   ],
   "source": [
    "np.corrcoef(merge_df[\"ncv_kosdaq\"], merge_df[\"nv\"])[0, 1]"
   ]
  },
  {
   "cell_type": "code",
   "execution_count": null,
   "metadata": {},
   "outputs": [],
   "source": []
  }
 ],
 "metadata": {
  "kernelspec": {
   "display_name": "Python 3",
   "language": "python",
   "name": "python3"
  },
  "language_info": {
   "codemirror_mode": {
    "name": "ipython",
    "version": 3
   },
   "file_extension": ".py",
   "mimetype": "text/x-python",
   "name": "python",
   "nbconvert_exporter": "python",
   "pygments_lexer": "ipython3",
   "version": "3.8.3"
  }
 },
 "nbformat": 4,
 "nbformat_minor": 4
}
