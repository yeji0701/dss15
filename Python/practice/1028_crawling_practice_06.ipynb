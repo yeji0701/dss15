{
 "cells": [
  {
   "cell_type": "markdown",
   "metadata": {},
   "source": [
    "#### msit: 과학기술 정보통신부\n",
    "- https://msit.go.kr"
   ]
  },
  {
   "cell_type": "code",
   "execution_count": 1,
   "metadata": {},
   "outputs": [],
   "source": [
    "import requests\n",
    "from bs4 import BeautifulSoup"
   ]
  },
  {
   "cell_type": "code",
   "execution_count": 14,
   "metadata": {},
   "outputs": [],
   "source": [
    "page = 2\n",
    "url = 'https://www.msit.go.kr/dynamic/article/_policycom2?\\\n",
    "&sort=operday=desc&below=false&pageout=true&aradon.result.format=json\\\n",
    "&aradon.page.pageNo={}&aradon.page.listNum=10&aradon.page.screenCount=5\\\n",
    "&aradon.referrer.href=https://msit.go.kr/web/msipContents/contents.do?mId=MTAxOA='.format(page)"
   ]
  },
  {
   "cell_type": "code",
   "execution_count": 15,
   "metadata": {},
   "outputs": [
    {
     "data": {
      "text/plain": [
       "<Response [200]>"
      ]
     },
     "execution_count": 15,
     "metadata": {},
     "output_type": "execute_result"
    }
   ],
   "source": [
    "response = requests.get(url)\n",
    "response"
   ]
  },
  {
   "cell_type": "code",
   "execution_count": 23,
   "metadata": {},
   "outputs": [
    {
     "data": {
      "text/html": [
       "<div>\n",
       "<style scoped>\n",
       "    .dataframe tbody tr th:only-of-type {\n",
       "        vertical-align: middle;\n",
       "    }\n",
       "\n",
       "    .dataframe tbody tr th {\n",
       "        vertical-align: top;\n",
       "    }\n",
       "\n",
       "    .dataframe thead th {\n",
       "        text-align: right;\n",
       "    }\n",
       "</style>\n",
       "<table border=\"1\" class=\"dataframe\">\n",
       "  <thead>\n",
       "    <tr style=\"text-align: right;\">\n",
       "      <th></th>\n",
       "      <th>action</th>\n",
       "      <th>admin_p</th>\n",
       "      <th>artid</th>\n",
       "      <th>artsubject</th>\n",
       "      <th>artcont</th>\n",
       "    </tr>\n",
       "  </thead>\n",
       "  <tbody>\n",
       "    <tr>\n",
       "      <th>5</th>\n",
       "      <td>INS</td>\n",
       "      <td>디지털신산업제도과</td>\n",
       "      <td>3144550</td>\n",
       "      <td>과기정통부, 신규 공인전자문서중계자 지정</td>\n",
       "      <td></td>\n",
       "    </tr>\n",
       "    <tr>\n",
       "      <th>6</th>\n",
       "      <td>INS</td>\n",
       "      <td>국립중앙과학관 전시총괄과</td>\n",
       "      <td>3141744</td>\n",
       "      <td>국립중앙과학관, 슬기로운 과학생활(생명과학편) 온라인 개최</td>\n",
       "      <td></td>\n",
       "    </tr>\n",
       "    <tr>\n",
       "      <th>7</th>\n",
       "      <td>MOD</td>\n",
       "      <td>소프트웨어정책과</td>\n",
       "      <td>3141743</td>\n",
       "      <td>2020 온라인 코딩파티 시즌2 개최(10.19.~11.1.)</td>\n",
       "      <td></td>\n",
       "    </tr>\n",
       "    <tr>\n",
       "      <th>8</th>\n",
       "      <td>MOD</td>\n",
       "      <td>우주전파센터 기획협력팀</td>\n",
       "      <td>3141741</td>\n",
       "      <td>'제10회 우주전파환경 콘퍼런스' 온라인 개최</td>\n",
       "      <td></td>\n",
       "    </tr>\n",
       "    <tr>\n",
       "      <th>9</th>\n",
       "      <td>INS</td>\n",
       "      <td>구주아프리카협력담당관</td>\n",
       "      <td>3141742</td>\n",
       "      <td>한러 수교 30주년 기념, 제9차 열린혁신 대중토론회(포럼) 주빈국 참여</td>\n",
       "      <td></td>\n",
       "    </tr>\n",
       "  </tbody>\n",
       "</table>\n",
       "</div>"
      ],
      "text/plain": [
       "  action        admin_p    artid                                artsubject  \\\n",
       "5    INS      디지털신산업제도과  3144550                    과기정통부, 신규 공인전자문서중계자 지정   \n",
       "6    INS  국립중앙과학관 전시총괄과  3141744          국립중앙과학관, 슬기로운 과학생활(생명과학편) 온라인 개최   \n",
       "7    MOD       소프트웨어정책과  3141743        2020 온라인 코딩파티 시즌2 개최(10.19.~11.1.)   \n",
       "8    MOD   우주전파센터 기획협력팀  3141741                '제10회 우주전파환경 콘퍼런스' 온라인 개최    \n",
       "9    INS    구주아프리카협력담당관  3141742  한러 수교 30주년 기념, 제9차 열린혁신 대중토론회(포럼) 주빈국 참여   \n",
       "\n",
       "  artcont  \n",
       "5          \n",
       "6          \n",
       "7          \n",
       "8          \n",
       "9          "
      ]
     },
     "execution_count": 23,
     "metadata": {},
     "output_type": "execute_result"
    }
   ],
   "source": [
    "datas = response.json()[\"result\"][\"nodes\"]\n",
    "columns = [\"action\", \"admin_p\", \"artid\", \"artsubject\", \"artcont\"]\n",
    "msit_df = pd.DataFrame(datas)[columns]\n",
    "# pd.set_option('display.max_columns', None)\n",
    "msit_df.tail()"
   ]
  },
  {
   "cell_type": "code",
   "execution_count": 17,
   "metadata": {},
   "outputs": [],
   "source": [
    "def html_to_text(html):\n",
    "    remove_words = ['\\n', '\\xa0', 'ㅁ', '\\r']\n",
    "    content = BeautifulSoup(html, 'html.parser').text\n",
    "    for remove_word in remove_words:\n",
    "        content = content.replace(remove_word, \"\")\n",
    "    return content"
   ]
  },
  {
   "cell_type": "code",
   "execution_count": 18,
   "metadata": {},
   "outputs": [
    {
     "data": {
      "text/plain": [
       "''"
      ]
     },
     "execution_count": 18,
     "metadata": {},
     "output_type": "execute_result"
    }
   ],
   "source": [
    "content = html_to_text(msit_df[\"artcont\"][1])\n",
    "content[:100]"
   ]
  },
  {
   "cell_type": "code",
   "execution_count": 19,
   "metadata": {},
   "outputs": [
    {
     "data": {
      "text/html": [
       "<div>\n",
       "<style scoped>\n",
       "    .dataframe tbody tr th:only-of-type {\n",
       "        vertical-align: middle;\n",
       "    }\n",
       "\n",
       "    .dataframe tbody tr th {\n",
       "        vertical-align: top;\n",
       "    }\n",
       "\n",
       "    .dataframe thead th {\n",
       "        text-align: right;\n",
       "    }\n",
       "</style>\n",
       "<table border=\"1\" class=\"dataframe\">\n",
       "  <thead>\n",
       "    <tr style=\"text-align: right;\">\n",
       "      <th></th>\n",
       "      <th>action</th>\n",
       "      <th>admin_p</th>\n",
       "      <th>artid</th>\n",
       "      <th>artsubject</th>\n",
       "      <th>artcont</th>\n",
       "    </tr>\n",
       "  </thead>\n",
       "  <tbody>\n",
       "    <tr>\n",
       "      <th>8</th>\n",
       "      <td>MOD</td>\n",
       "      <td>우주전파센터 기획협력팀</td>\n",
       "      <td>3141741</td>\n",
       "      <td>'제10회 우주전파환경 콘퍼런스' 온라인 개최</td>\n",
       "      <td></td>\n",
       "    </tr>\n",
       "    <tr>\n",
       "      <th>9</th>\n",
       "      <td>INS</td>\n",
       "      <td>구주아프리카협력담당관</td>\n",
       "      <td>3141742</td>\n",
       "      <td>한러 수교 30주년 기념, 제9차 열린혁신 대중토론회(포럼) 주빈국 참여</td>\n",
       "      <td></td>\n",
       "    </tr>\n",
       "  </tbody>\n",
       "</table>\n",
       "</div>"
      ],
      "text/plain": [
       "  action       admin_p    artid                                artsubject  \\\n",
       "8    MOD  우주전파센터 기획협력팀  3141741                '제10회 우주전파환경 콘퍼런스' 온라인 개최    \n",
       "9    INS   구주아프리카협력담당관  3141742  한러 수교 30주년 기념, 제9차 열린혁신 대중토론회(포럼) 주빈국 참여   \n",
       "\n",
       "  artcont  \n",
       "8          \n",
       "9          "
      ]
     },
     "execution_count": 19,
     "metadata": {},
     "output_type": "execute_result"
    }
   ],
   "source": [
    "msit_df[\"artcont\"] = msit_df[\"artcont\"].apply(html_to_text)\n",
    "msit_df.tail(2)"
   ]
  },
  {
   "cell_type": "code",
   "execution_count": null,
   "metadata": {},
   "outputs": [],
   "source": []
  }
 ],
 "metadata": {
  "kernelspec": {
   "display_name": "Python 3",
   "language": "python",
   "name": "python3"
  },
  "language_info": {
   "codemirror_mode": {
    "name": "ipython",
    "version": 3
   },
   "file_extension": ".py",
   "mimetype": "text/x-python",
   "name": "python",
   "nbconvert_exporter": "python",
   "pygments_lexer": "ipython3",
   "version": "3.8.3"
  }
 },
 "nbformat": 4,
 "nbformat_minor": 4
}
